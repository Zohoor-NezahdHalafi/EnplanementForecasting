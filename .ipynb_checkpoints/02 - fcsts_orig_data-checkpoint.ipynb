{
 "cells": [
  {
   "cell_type": "markdown",
   "id": "ae3f6f1f",
   "metadata": {},
   "source": [
    "# Forecasts on un-Adjusted Data\n",
    "\n",
    "The purpose of this notebook is to establish a modeling process using two linear, two non-linear, and one ensemble model that combines all approahces with a weighted average. The series used will be un-adjusted in any way and no considerations for mitigating the COVID effects in 2020-2021 months will be taken. The results obtained here will serve as a baseline to compare subsequent modeling approaches, where the effects from COVID are directly addressed."
   ]
  },
  {
   "cell_type": "code",
   "execution_count": 1,
   "id": "e0268ee1",
   "metadata": {},
   "outputs": [],
   "source": [
    "import pandas as pd\n",
    "import numpy as np\n",
    "from scalecast.Forecaster import Forecaster\n",
    "from scalecast.notebook import results_vis\n",
    "import seaborn as sns\n",
    "import matplotlib.pyplot as plt\n",
    "import pickle\n",
    "import os\n",
    "from tqdm.notebook import tqdm as log_progress\n",
    "from config import train_prop, metric, fcst_length\n",
    "\n",
    "sns.set(rc={'figure.figsize':(14,7)})\n",
    "series_map = pickle.load(open('pickled/series_map.pckl','rb'))\n",
    "test_prop = 1 - train_prop\n",
    "f_dict = {} # this is where the forecasts will be loaded"
   ]
  },
  {
   "cell_type": "markdown",
   "id": "65f61eea",
   "metadata": {},
   "source": [
    "Create some helper objects for the Recurrent Neural Net models."
   ]
  },
  {
   "cell_type": "code",
   "execution_count": 2,
   "id": "7a354aa2",
   "metadata": {},
   "outputs": [],
   "source": [
    "def create_rnn_args(epochs,lags,rnn_type,dropout=0):\n",
    "    return dict(\n",
    "        lags=lags,\n",
    "        epochs=epochs,\n",
    "        validation_split=.2,\n",
    "        shuffle=True,\n",
    "        hidden_layers_struct = {\n",
    "            rnn_type:{'units':72,'dropout':dropout},\n",
    "            rnn_type:{'units':72,'dropout':dropout},\n",
    "            rnn_type:{'units':72,'dropout':dropout},\n",
    "            rnn_type:{'units':72,'dropout':dropout},\n",
    "        },\n",
    "        verbose=0,\n",
    "        plot_loss=True,\n",
    "        random_seed=1 # this may help control some randomness\n",
    "    )"
   ]
  },
  {
   "cell_type": "code",
   "execution_count": 3,
   "id": "f23a70c4",
   "metadata": {},
   "outputs": [],
   "source": [
    "rnn_map = {\n",
    "    'IAH-Dom':{'lags':36,'epochs':50},\n",
    "    'IAH-Int':{'lags':36,'epochs':15},\n",
    "    'HOU-Dom':{'lags':36,'epochs':50},\n",
    "    'HOU-Int':{'lags':12,'epochs':150},\n",
    "}"
   ]
  },
  {
   "cell_type": "markdown",
   "id": "11016502",
   "metadata": {},
   "source": [
    "Create the forecast function using scalecast lib."
   ]
  },
  {
   "cell_type": "code",
   "execution_count": 4,
   "id": "c81d8681",
   "metadata": {},
   "outputs": [],
   "source": [
    "def forecast(series,orders):\n",
    "    df = pd.read_csv(os.path.join('data',series+'.csv'))\n",
    "    f = Forecaster(df['PASSENGERS'],current_dates=df['Date'])\n",
    "    f.set_test_length(test_prop)\n",
    "    f.generate_future_dates(fcst_length)\n",
    "    f.set_estimator('rnn')\n",
    "    f.manual_forecast(**create_rnn_args(epochs=rnn_map[series]['epochs'],\n",
    "                                        lags=rnn_map[series]['lags'],\n",
    "                                        rnn_type='lstm',dropout=.2),\n",
    "                      call_me='lstm_reg')\n",
    "    f.manual_forecast(**create_rnn_args(epochs=rnn_map[series]['epochs'],\n",
    "                                        lags=rnn_map[series]['lags'],\n",
    "                                        rnn_type='lstm'),\n",
    "                      call_me='lstm')\n",
    "    f.set_estimator('arima')\n",
    "    f.manual_forecast(order=orders['order'],seasonal_order=orders['seasonal_order'],trend=orders['trend'])\n",
    "    f.set_estimator('prophet')\n",
    "    f.manual_forecast()\n",
    "    f.set_estimator('combo')\n",
    "    f.manual_forecast(how='weighted',determine_best_by='TestSet'+metric,call_me='weighted_ensemble')\n",
    "    results = f.export(determine_best_by='TestSet'+metric,to_excel=True,out_path='fcst_results',excel_name=f'orig_series_{series}_results.xlsx')\n",
    "    results['model_summaries'][['ModelNickname','TestSet'+metric,'InSample'+metric]].set_index('ModelNickname').plot.bar()\n",
    "    plt.xticks(rotation = 0) # Rotates X-Axis Ticks by 45-degrees\n",
    "    plt.title(f'{series} all models train and test {metric}s',size=16)\n",
    "    plt.show()\n",
    "    print('='*120)\n",
    "    return f"
   ]
  },
  {
   "cell_type": "code",
   "execution_count": null,
   "id": "142cdd1f",
   "metadata": {},
   "outputs": [
    {
     "data": {
      "application/vnd.jupyter.widget-view+json": {
       "model_id": "42b7b86fca574fe6bde7a08ec6e6ee20",
       "version_major": 2,
       "version_minor": 0
      },
      "text/plain": [
       "  0%|          | 0/4 [00:00<?, ?it/s]"
      ]
     },
     "metadata": {},
     "output_type": "display_data"
    }
   ],
   "source": [
    "for series, orders in log_progress(series_map.items()):\n",
    "    f_dict[series] = forecast(series,orders)"
   ]
  },
  {
   "cell_type": "markdown",
   "id": "a1ad7bf4",
   "metadata": {},
   "source": [
    "Visualize results on test set."
   ]
  },
  {
   "cell_type": "code",
   "execution_count": null,
   "id": "2e95d9e2",
   "metadata": {},
   "outputs": [],
   "source": [
    "results_vis(f_dict,'test')"
   ]
  },
  {
   "cell_type": "markdown",
   "id": "d71f0638",
   "metadata": {},
   "source": [
    "Visualize proposed forecasts to future."
   ]
  },
  {
   "cell_type": "code",
   "execution_count": null,
   "id": "01e48525",
   "metadata": {},
   "outputs": [],
   "source": [
    "results_vis(f_dict,'forecast',print_attr=['TestSet'+metric,'InSample'+metric])"
   ]
  },
  {
   "cell_type": "code",
   "execution_count": null,
   "id": "8218dc54",
   "metadata": {},
   "outputs": [],
   "source": []
  }
 ],
 "metadata": {
  "kernelspec": {
   "display_name": "Python 3",
   "language": "python",
   "name": "python3"
  },
  "language_info": {
   "codemirror_mode": {
    "name": "ipython",
    "version": 3
   },
   "file_extension": ".py",
   "mimetype": "text/x-python",
   "name": "python",
   "nbconvert_exporter": "python",
   "pygments_lexer": "ipython3",
   "version": "3.8.8"
  },
  "widgets": {
   "application/vnd.jupyter.widget-state+json": {
    "state": {
     "03e5678505df42a0aae51f2b3d888e5d": {
      "model_module": "@jupyter-widgets/controls",
      "model_module_version": "1.5.0",
      "model_name": "HTMLModel",
      "state": {
       "layout": "IPY_MODEL_aa12e769228044af939251aa8cce71ee",
       "style": "IPY_MODEL_a826aec21c4e47d1ad5f50ad10867720",
       "value": " 0/4 [00:00&lt;?, ?it/s]"
      }
     },
     "06d21fe2fbf44e959bc6d064140c09d0": {
      "model_module": "@jupyter-widgets/base",
      "model_module_version": "1.2.0",
      "model_name": "LayoutModel",
      "state": {}
     },
     "141547782edf45629df55d616c03001f": {
      "model_module": "@jupyter-widgets/base",
      "model_module_version": "1.2.0",
      "model_name": "LayoutModel",
      "state": {}
     },
     "40ea6efe750649eea0aef2f4dcf63289": {
      "model_module": "@jupyter-widgets/controls",
      "model_module_version": "1.5.0",
      "model_name": "HTMLModel",
      "state": {
       "layout": "IPY_MODEL_640e8e2de2bb4b569d115e3f4a1d245d",
       "style": "IPY_MODEL_a62ecce7937f470b8ad0c4a099507add",
       "value": "  0%"
      }
     },
     "42b7b86fca574fe6bde7a08ec6e6ee20": {
      "model_module": "@jupyter-widgets/controls",
      "model_module_version": "1.5.0",
      "model_name": "HBoxModel",
      "state": {
       "children": [
        "IPY_MODEL_40ea6efe750649eea0aef2f4dcf63289",
        "IPY_MODEL_a2b374e90a6f4418bc1fd25013d5ec87",
        "IPY_MODEL_03e5678505df42a0aae51f2b3d888e5d"
       ],
       "layout": "IPY_MODEL_06d21fe2fbf44e959bc6d064140c09d0"
      }
     },
     "5c55412af14c4d6ab9b4581092c27b85": {
      "model_module": "@jupyter-widgets/controls",
      "model_module_version": "1.5.0",
      "model_name": "ProgressStyleModel",
      "state": {
       "description_width": ""
      }
     },
     "640e8e2de2bb4b569d115e3f4a1d245d": {
      "model_module": "@jupyter-widgets/base",
      "model_module_version": "1.2.0",
      "model_name": "LayoutModel",
      "state": {}
     },
     "a2b374e90a6f4418bc1fd25013d5ec87": {
      "model_module": "@jupyter-widgets/controls",
      "model_module_version": "1.5.0",
      "model_name": "FloatProgressModel",
      "state": {
       "layout": "IPY_MODEL_141547782edf45629df55d616c03001f",
       "max": 4,
       "style": "IPY_MODEL_5c55412af14c4d6ab9b4581092c27b85"
      }
     },
     "a62ecce7937f470b8ad0c4a099507add": {
      "model_module": "@jupyter-widgets/controls",
      "model_module_version": "1.5.0",
      "model_name": "DescriptionStyleModel",
      "state": {
       "description_width": ""
      }
     },
     "a826aec21c4e47d1ad5f50ad10867720": {
      "model_module": "@jupyter-widgets/controls",
      "model_module_version": "1.5.0",
      "model_name": "DescriptionStyleModel",
      "state": {
       "description_width": ""
      }
     },
     "aa12e769228044af939251aa8cce71ee": {
      "model_module": "@jupyter-widgets/base",
      "model_module_version": "1.2.0",
      "model_name": "LayoutModel",
      "state": {}
     }
    },
    "version_major": 2,
    "version_minor": 0
   }
  }
 },
 "nbformat": 4,
 "nbformat_minor": 5
}
