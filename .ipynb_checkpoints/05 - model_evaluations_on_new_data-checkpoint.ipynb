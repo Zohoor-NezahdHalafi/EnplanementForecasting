{
 "cells": [
  {
   "cell_type": "markdown",
   "id": "b96a9eed",
   "metadata": {},
   "source": [
    "# Model Evaluations\n",
    "The purpose of this notebook is too..."
   ]
  },
  {
   "cell_type": "code",
   "execution_count": 1,
   "id": "5de2f0a8",
   "metadata": {},
   "outputs": [],
   "source": [
    "import pandas as pd\n",
    "import numpy as np\n",
    "import seaborn as sns\n",
    "import matplotlib.pyplot as plt\n",
    "import pickle\n",
    "import os\n",
    "\n",
    "sns.set(rc={'figure.figsize':(14,7)})\n",
    "series_map = pickle.load(open('pickled/series_map.pckl','rb'))\n",
    "approach_map = {\n",
    "    'Unadjusted':'orig',\n",
    "    'IgnoreCOVID':'no_covid',\n",
    "    'OutlierDetect':'with_outlier_detection'\n",
    "}\n",
    "\n",
    "pd.options.display.float_format = '{:.2%}'.format"
   ]
  },
  {
   "cell_type": "code",
   "execution_count": 2,
   "id": "cf3269a3",
   "metadata": {},
   "outputs": [
    {
     "data": {
      "text/html": [
       "<div>\n",
       "<style scoped>\n",
       "    .dataframe tbody tr th:only-of-type {\n",
       "        vertical-align: middle;\n",
       "    }\n",
       "\n",
       "    .dataframe tbody tr th {\n",
       "        vertical-align: top;\n",
       "    }\n",
       "\n",
       "    .dataframe thead th {\n",
       "        text-align: right;\n",
       "    }\n",
       "</style>\n",
       "<table border=\"1\" class=\"dataframe\">\n",
       "  <thead>\n",
       "    <tr style=\"text-align: right;\">\n",
       "      <th></th>\n",
       "      <th>DATE</th>\n",
       "      <th>HOU-Int</th>\n",
       "      <th>HOU-Dom</th>\n",
       "      <th>IAH-Dom</th>\n",
       "      <th>IAH-Int</th>\n",
       "    </tr>\n",
       "  </thead>\n",
       "  <tbody>\n",
       "    <tr>\n",
       "      <th>0</th>\n",
       "      <td>2021-10-01</td>\n",
       "      <td>27153</td>\n",
       "      <td>498237</td>\n",
       "      <td>1375815</td>\n",
       "      <td>285498</td>\n",
       "    </tr>\n",
       "    <tr>\n",
       "      <th>1</th>\n",
       "      <td>2021-11-01</td>\n",
       "      <td>34242</td>\n",
       "      <td>495800</td>\n",
       "      <td>1356136</td>\n",
       "      <td>336156</td>\n",
       "    </tr>\n",
       "    <tr>\n",
       "      <th>2</th>\n",
       "      <td>2021-12-01</td>\n",
       "      <td>39101</td>\n",
       "      <td>477752</td>\n",
       "      <td>1331893</td>\n",
       "      <td>417561</td>\n",
       "    </tr>\n",
       "    <tr>\n",
       "      <th>3</th>\n",
       "      <td>2022-01-01</td>\n",
       "      <td>29084</td>\n",
       "      <td>387446</td>\n",
       "      <td>1036051</td>\n",
       "      <td>287998</td>\n",
       "    </tr>\n",
       "  </tbody>\n",
       "</table>\n",
       "</div>"
      ],
      "text/plain": [
       "        DATE  HOU-Int  HOU-Dom  IAH-Dom  IAH-Int\n",
       "0 2021-10-01    27153   498237  1375815   285498\n",
       "1 2021-11-01    34242   495800  1356136   336156\n",
       "2 2021-12-01    39101   477752  1331893   417561\n",
       "3 2022-01-01    29084   387446  1036051   287998"
      ]
     },
     "execution_count": 2,
     "metadata": {},
     "output_type": "execute_result"
    }
   ],
   "source": [
    "future_actuals = pd.read_csv('data/Future Passengers.csv',parse_dates=['DATE'])\n",
    "future_actuals"
   ]
  },
  {
   "cell_type": "code",
   "execution_count": 3,
   "id": "9e7e21ea",
   "metadata": {},
   "outputs": [],
   "source": [
    "def compare_all_best_models_total_accr(series_map):\n",
    "    \"\"\"\n",
    "    \"\"\"\n",
    "    all_results = pd.DataFrame(columns=approach_map.keys(),index=series_map.keys())\n",
    "    all_best_models = all_results.copy()\n",
    "    for series in series_map.keys():\n",
    "        for apprt, appr in approach_map.items():\n",
    "            results = pd.read_excel(os.path.join('fcst_results',\n",
    "                                       '{}_series_{}_results.xlsx'.format(appr,series)),\n",
    "                                       sheet_name=['lvl_fcsts','model_summaries'])\n",
    "            best_model = results['model_summaries'].iloc[0,0]\n",
    "            results_lvl = results['lvl_fcsts']\n",
    "            results_lvl['DATE'] = pd.to_datetime(results_lvl['DATE'])\n",
    "            results_lvl = results_lvl.loc[results_lvl['DATE'].isin(future_actuals['DATE'])].reset_index(drop=True)\n",
    "            all_results.loc[series,apprt] = 1 - np.abs((future_actuals[series].sum() - results_lvl[best_model].sum()) / future_actuals[series].sum())\n",
    "            all_best_models.loc[series,apprt] = best_model\n",
    "    all_results.loc['Grand Mean'] = all_results.mean()\n",
    "    return all_results, all_best_models\n",
    "        \n",
    "def compare_all_best_models_mean_accr(series_map):\n",
    "    \"\"\"\n",
    "    \"\"\"\n",
    "    all_results = pd.DataFrame(columns=approach_map.keys(),index=series_map.keys())\n",
    "    for series in series_map.keys():\n",
    "        for apprt, appr in approach_map.items():\n",
    "            results = pd.read_excel(os.path.join('fcst_results',\n",
    "                                       '{}_series_{}_results.xlsx'.format(appr,series)),\n",
    "                                       sheet_name=['lvl_fcsts','model_summaries'])\n",
    "            best_model = results['model_summaries'].iloc[0,0]\n",
    "            results_lvl = results['lvl_fcsts']\n",
    "            results_lvl['DATE'] = pd.to_datetime(results_lvl['DATE'])\n",
    "            results_lvl = results_lvl.loc[results_lvl['DATE'].isin(future_actuals['DATE'])].reset_index(drop=True)\n",
    "            all_results.loc[series,apprt] = 1 - np.mean(np.abs((future_actuals[series] - results_lvl[best_model]) / future_actuals[series]))\n",
    "    all_results.loc['Grand Mean'] = all_results.mean()\n",
    "    return all_results\n",
    "\n",
    "def compare_all_models_total_accr(series_map,model_type):\n",
    "    \"\"\"\n",
    "    \"\"\"\n",
    "    best_model = model_type\n",
    "    all_results = pd.DataFrame(columns=approach_map.keys(),index=series_map.keys())\n",
    "    for series in series_map.keys():\n",
    "        for apprt, appr in approach_map.items():\n",
    "            results_lvl = pd.read_excel(os.path.join('fcst_results',\n",
    "                                       '{}_series_{}_results.xlsx'.format(appr,series)),\n",
    "                                       sheet_name='lvl_fcsts',parse_dates=['DATE'])\n",
    "            results_lvl = results_lvl.loc[results_lvl['DATE'].isin(future_actuals['DATE'])]\n",
    "            try:\n",
    "                all_results.loc[series,apprt] = 1 - np.abs((future_actuals[series].sum() - results_lvl[best_model].sum()) / future_actuals[series].sum())\n",
    "            except KeyError:\n",
    "                pass\n",
    "    all_results = all_results.dropna(axis=1)\n",
    "    all_results.loc['Grand Mean'] = all_results.mean()\n",
    "    return all_results"
   ]
  },
  {
   "cell_type": "markdown",
   "id": "765c0c8d",
   "metadata": {},
   "source": [
    "## Compare all best models"
   ]
  },
  {
   "cell_type": "markdown",
   "id": "52d7b48b",
   "metadata": {},
   "source": [
    "### total accuracy"
   ]
  },
  {
   "cell_type": "code",
   "execution_count": 4,
   "id": "1a189894",
   "metadata": {},
   "outputs": [
    {
     "data": {
      "text/html": [
       "<div>\n",
       "<style scoped>\n",
       "    .dataframe tbody tr th:only-of-type {\n",
       "        vertical-align: middle;\n",
       "    }\n",
       "\n",
       "    .dataframe tbody tr th {\n",
       "        vertical-align: top;\n",
       "    }\n",
       "\n",
       "    .dataframe thead th {\n",
       "        text-align: right;\n",
       "    }\n",
       "</style>\n",
       "<table border=\"1\" class=\"dataframe\">\n",
       "  <thead>\n",
       "    <tr style=\"text-align: right;\">\n",
       "      <th></th>\n",
       "      <th>Unadjusted</th>\n",
       "      <th>IgnoreCOVID</th>\n",
       "      <th>OutlierDetect</th>\n",
       "    </tr>\n",
       "  </thead>\n",
       "  <tbody>\n",
       "    <tr>\n",
       "      <th>IAH-Dom</th>\n",
       "      <td>95.88%</td>\n",
       "      <td>87.52%</td>\n",
       "      <td>80.68%</td>\n",
       "    </tr>\n",
       "    <tr>\n",
       "      <th>IAH-Int</th>\n",
       "      <td>96.63%</td>\n",
       "      <td>54.88%</td>\n",
       "      <td>76.83%</td>\n",
       "    </tr>\n",
       "    <tr>\n",
       "      <th>HOU-Dom</th>\n",
       "      <td>97.00%</td>\n",
       "      <td>72.98%</td>\n",
       "      <td>97.80%</td>\n",
       "    </tr>\n",
       "    <tr>\n",
       "      <th>HOU-Int</th>\n",
       "      <td>99.42%</td>\n",
       "      <td>72.94%</td>\n",
       "      <td>99.95%</td>\n",
       "    </tr>\n",
       "    <tr>\n",
       "      <th>Grand Mean</th>\n",
       "      <td>97.23%</td>\n",
       "      <td>72.08%</td>\n",
       "      <td>88.81%</td>\n",
       "    </tr>\n",
       "  </tbody>\n",
       "</table>\n",
       "</div>"
      ],
      "text/plain": [
       "           Unadjusted IgnoreCOVID OutlierDetect\n",
       "IAH-Dom        95.88%      87.52%        80.68%\n",
       "IAH-Int        96.63%      54.88%        76.83%\n",
       "HOU-Dom        97.00%      72.98%        97.80%\n",
       "HOU-Int        99.42%      72.94%        99.95%\n",
       "Grand Mean     97.23%      72.08%        88.81%"
      ]
     },
     "execution_count": 4,
     "metadata": {},
     "output_type": "execute_result"
    }
   ],
   "source": [
    "best_models_results = compare_all_best_models_total_accr(series_map)\n",
    "best_models_results[0]"
   ]
  },
  {
   "cell_type": "markdown",
   "id": "66a99087",
   "metadata": {},
   "source": [
    "### mean accuracy (1-mape)"
   ]
  },
  {
   "cell_type": "code",
   "execution_count": 5,
   "id": "2f3679b4",
   "metadata": {},
   "outputs": [
    {
     "data": {
      "text/html": [
       "<div>\n",
       "<style scoped>\n",
       "    .dataframe tbody tr th:only-of-type {\n",
       "        vertical-align: middle;\n",
       "    }\n",
       "\n",
       "    .dataframe tbody tr th {\n",
       "        vertical-align: top;\n",
       "    }\n",
       "\n",
       "    .dataframe thead th {\n",
       "        text-align: right;\n",
       "    }\n",
       "</style>\n",
       "<table border=\"1\" class=\"dataframe\">\n",
       "  <thead>\n",
       "    <tr style=\"text-align: right;\">\n",
       "      <th></th>\n",
       "      <th>Unadjusted</th>\n",
       "      <th>IgnoreCOVID</th>\n",
       "      <th>OutlierDetect</th>\n",
       "    </tr>\n",
       "  </thead>\n",
       "  <tbody>\n",
       "    <tr>\n",
       "      <th>IAH-Dom</th>\n",
       "      <td>89.15%</td>\n",
       "      <td>86.26%</td>\n",
       "      <td>81.38%</td>\n",
       "    </tr>\n",
       "    <tr>\n",
       "      <th>IAH-Int</th>\n",
       "      <td>84.90%</td>\n",
       "      <td>52.53%</td>\n",
       "      <td>77.16%</td>\n",
       "    </tr>\n",
       "    <tr>\n",
       "      <th>HOU-Dom</th>\n",
       "      <td>93.47%</td>\n",
       "      <td>71.98%</td>\n",
       "      <td>93.92%</td>\n",
       "    </tr>\n",
       "    <tr>\n",
       "      <th>HOU-Int</th>\n",
       "      <td>92.74%</td>\n",
       "      <td>69.85%</td>\n",
       "      <td>93.37%</td>\n",
       "    </tr>\n",
       "    <tr>\n",
       "      <th>Grand Mean</th>\n",
       "      <td>90.06%</td>\n",
       "      <td>70.15%</td>\n",
       "      <td>86.46%</td>\n",
       "    </tr>\n",
       "  </tbody>\n",
       "</table>\n",
       "</div>"
      ],
      "text/plain": [
       "           Unadjusted IgnoreCOVID OutlierDetect\n",
       "IAH-Dom        89.15%      86.26%        81.38%\n",
       "IAH-Int        84.90%      52.53%        77.16%\n",
       "HOU-Dom        93.47%      71.98%        93.92%\n",
       "HOU-Int        92.74%      69.85%        93.37%\n",
       "Grand Mean     90.06%      70.15%        86.46%"
      ]
     },
     "execution_count": 5,
     "metadata": {},
     "output_type": "execute_result"
    }
   ],
   "source": [
    "compare_all_best_models_mean_accr(series_map)"
   ]
  },
  {
   "cell_type": "markdown",
   "id": "975e6c6a",
   "metadata": {},
   "source": [
    "### selected best models"
   ]
  },
  {
   "cell_type": "code",
   "execution_count": 6,
   "id": "a2329bf0",
   "metadata": {},
   "outputs": [
    {
     "data": {
      "text/html": [
       "<div>\n",
       "<style scoped>\n",
       "    .dataframe tbody tr th:only-of-type {\n",
       "        vertical-align: middle;\n",
       "    }\n",
       "\n",
       "    .dataframe tbody tr th {\n",
       "        vertical-align: top;\n",
       "    }\n",
       "\n",
       "    .dataframe thead th {\n",
       "        text-align: right;\n",
       "    }\n",
       "</style>\n",
       "<table border=\"1\" class=\"dataframe\">\n",
       "  <thead>\n",
       "    <tr style=\"text-align: right;\">\n",
       "      <th></th>\n",
       "      <th>Unadjusted</th>\n",
       "      <th>IgnoreCOVID</th>\n",
       "      <th>OutlierDetect</th>\n",
       "    </tr>\n",
       "  </thead>\n",
       "  <tbody>\n",
       "    <tr>\n",
       "      <th>IAH-Dom</th>\n",
       "      <td>weighted_ensemble</td>\n",
       "      <td>arima</td>\n",
       "      <td>prophet</td>\n",
       "    </tr>\n",
       "    <tr>\n",
       "      <th>IAH-Int</th>\n",
       "      <td>lstm</td>\n",
       "      <td>prophet</td>\n",
       "      <td>arima</td>\n",
       "    </tr>\n",
       "    <tr>\n",
       "      <th>HOU-Dom</th>\n",
       "      <td>arima</td>\n",
       "      <td>weighted_ensemble</td>\n",
       "      <td>arima</td>\n",
       "    </tr>\n",
       "    <tr>\n",
       "      <th>HOU-Int</th>\n",
       "      <td>arima</td>\n",
       "      <td>lstm_reg</td>\n",
       "      <td>arima</td>\n",
       "    </tr>\n",
       "  </tbody>\n",
       "</table>\n",
       "</div>"
      ],
      "text/plain": [
       "                Unadjusted        IgnoreCOVID OutlierDetect\n",
       "IAH-Dom  weighted_ensemble              arima       prophet\n",
       "IAH-Int               lstm            prophet         arima\n",
       "HOU-Dom              arima  weighted_ensemble         arima\n",
       "HOU-Int              arima           lstm_reg         arima"
      ]
     },
     "execution_count": 6,
     "metadata": {},
     "output_type": "execute_result"
    }
   ],
   "source": [
    "best_models_results[1]"
   ]
  },
  {
   "cell_type": "markdown",
   "id": "a9e02b59",
   "metadata": {},
   "source": [
    "## Compare all ARIMA models"
   ]
  },
  {
   "cell_type": "code",
   "execution_count": 7,
   "id": "b80a9594",
   "metadata": {},
   "outputs": [
    {
     "data": {
      "text/html": [
       "<div>\n",
       "<style scoped>\n",
       "    .dataframe tbody tr th:only-of-type {\n",
       "        vertical-align: middle;\n",
       "    }\n",
       "\n",
       "    .dataframe tbody tr th {\n",
       "        vertical-align: top;\n",
       "    }\n",
       "\n",
       "    .dataframe thead th {\n",
       "        text-align: right;\n",
       "    }\n",
       "</style>\n",
       "<table border=\"1\" class=\"dataframe\">\n",
       "  <thead>\n",
       "    <tr style=\"text-align: right;\">\n",
       "      <th></th>\n",
       "      <th>Unadjusted</th>\n",
       "      <th>IgnoreCOVID</th>\n",
       "      <th>OutlierDetect</th>\n",
       "    </tr>\n",
       "  </thead>\n",
       "  <tbody>\n",
       "    <tr>\n",
       "      <th>IAH-Dom</th>\n",
       "      <td>97.08%</td>\n",
       "      <td>87.52%</td>\n",
       "      <td>97.73%</td>\n",
       "    </tr>\n",
       "    <tr>\n",
       "      <th>IAH-Int</th>\n",
       "      <td>95.14%</td>\n",
       "      <td>58.56%</td>\n",
       "      <td>76.83%</td>\n",
       "    </tr>\n",
       "    <tr>\n",
       "      <th>HOU-Dom</th>\n",
       "      <td>97.00%</td>\n",
       "      <td>73.51%</td>\n",
       "      <td>97.80%</td>\n",
       "    </tr>\n",
       "    <tr>\n",
       "      <th>HOU-Int</th>\n",
       "      <td>99.42%</td>\n",
       "      <td>99.00%</td>\n",
       "      <td>99.95%</td>\n",
       "    </tr>\n",
       "    <tr>\n",
       "      <th>Grand Mean</th>\n",
       "      <td>97.16%</td>\n",
       "      <td>79.65%</td>\n",
       "      <td>93.08%</td>\n",
       "    </tr>\n",
       "  </tbody>\n",
       "</table>\n",
       "</div>"
      ],
      "text/plain": [
       "           Unadjusted IgnoreCOVID OutlierDetect\n",
       "IAH-Dom        97.08%      87.52%        97.73%\n",
       "IAH-Int        95.14%      58.56%        76.83%\n",
       "HOU-Dom        97.00%      73.51%        97.80%\n",
       "HOU-Int        99.42%      99.00%        99.95%\n",
       "Grand Mean     97.16%      79.65%        93.08%"
      ]
     },
     "execution_count": 7,
     "metadata": {},
     "output_type": "execute_result"
    }
   ],
   "source": [
    "compare_all_models_total_accr(series_map,'arima')"
   ]
  },
  {
   "cell_type": "markdown",
   "id": "30511bf3",
   "metadata": {},
   "source": [
    "## Compare all Prophet models"
   ]
  },
  {
   "cell_type": "code",
   "execution_count": 8,
   "id": "f9d915b7",
   "metadata": {},
   "outputs": [
    {
     "data": {
      "text/html": [
       "<div>\n",
       "<style scoped>\n",
       "    .dataframe tbody tr th:only-of-type {\n",
       "        vertical-align: middle;\n",
       "    }\n",
       "\n",
       "    .dataframe tbody tr th {\n",
       "        vertical-align: top;\n",
       "    }\n",
       "\n",
       "    .dataframe thead th {\n",
       "        text-align: right;\n",
       "    }\n",
       "</style>\n",
       "<table border=\"1\" class=\"dataframe\">\n",
       "  <thead>\n",
       "    <tr style=\"text-align: right;\">\n",
       "      <th></th>\n",
       "      <th>Unadjusted</th>\n",
       "      <th>IgnoreCOVID</th>\n",
       "      <th>OutlierDetect</th>\n",
       "    </tr>\n",
       "  </thead>\n",
       "  <tbody>\n",
       "    <tr>\n",
       "      <th>IAH-Dom</th>\n",
       "      <td>80.52%</td>\n",
       "      <td>87.66%</td>\n",
       "      <td>80.68%</td>\n",
       "    </tr>\n",
       "    <tr>\n",
       "      <th>IAH-Int</th>\n",
       "      <td>81.41%</td>\n",
       "      <td>54.88%</td>\n",
       "      <td>81.51%</td>\n",
       "    </tr>\n",
       "    <tr>\n",
       "      <th>HOU-Dom</th>\n",
       "      <td>93.32%</td>\n",
       "      <td>70.56%</td>\n",
       "      <td>93.40%</td>\n",
       "    </tr>\n",
       "    <tr>\n",
       "      <th>HOU-Int</th>\n",
       "      <td>70.00%</td>\n",
       "      <td>69.69%</td>\n",
       "      <td>70.00%</td>\n",
       "    </tr>\n",
       "    <tr>\n",
       "      <th>Grand Mean</th>\n",
       "      <td>81.31%</td>\n",
       "      <td>70.70%</td>\n",
       "      <td>81.40%</td>\n",
       "    </tr>\n",
       "  </tbody>\n",
       "</table>\n",
       "</div>"
      ],
      "text/plain": [
       "           Unadjusted IgnoreCOVID OutlierDetect\n",
       "IAH-Dom        80.52%      87.66%        80.68%\n",
       "IAH-Int        81.41%      54.88%        81.51%\n",
       "HOU-Dom        93.32%      70.56%        93.40%\n",
       "HOU-Int        70.00%      69.69%        70.00%\n",
       "Grand Mean     81.31%      70.70%        81.40%"
      ]
     },
     "execution_count": 8,
     "metadata": {},
     "output_type": "execute_result"
    }
   ],
   "source": [
    "compare_all_models_total_accr(series_map,'prophet')"
   ]
  },
  {
   "cell_type": "markdown",
   "id": "9c1dcea4",
   "metadata": {},
   "source": [
    "## Compare all LSTM models"
   ]
  },
  {
   "cell_type": "code",
   "execution_count": 9,
   "id": "7b41302d",
   "metadata": {},
   "outputs": [
    {
     "data": {
      "text/html": [
       "<div>\n",
       "<style scoped>\n",
       "    .dataframe tbody tr th:only-of-type {\n",
       "        vertical-align: middle;\n",
       "    }\n",
       "\n",
       "    .dataframe tbody tr th {\n",
       "        vertical-align: top;\n",
       "    }\n",
       "\n",
       "    .dataframe thead th {\n",
       "        text-align: right;\n",
       "    }\n",
       "</style>\n",
       "<table border=\"1\" class=\"dataframe\">\n",
       "  <thead>\n",
       "    <tr style=\"text-align: right;\">\n",
       "      <th></th>\n",
       "      <th>Unadjusted</th>\n",
       "      <th>IgnoreCOVID</th>\n",
       "    </tr>\n",
       "  </thead>\n",
       "  <tbody>\n",
       "    <tr>\n",
       "      <th>IAH-Dom</th>\n",
       "      <td>94.59%</td>\n",
       "      <td>95.39%</td>\n",
       "    </tr>\n",
       "    <tr>\n",
       "      <th>IAH-Int</th>\n",
       "      <td>96.63%</td>\n",
       "      <td>75.01%</td>\n",
       "    </tr>\n",
       "    <tr>\n",
       "      <th>HOU-Dom</th>\n",
       "      <td>92.59%</td>\n",
       "      <td>76.48%</td>\n",
       "    </tr>\n",
       "    <tr>\n",
       "      <th>HOU-Int</th>\n",
       "      <td>98.00%</td>\n",
       "      <td>75.49%</td>\n",
       "    </tr>\n",
       "    <tr>\n",
       "      <th>Grand Mean</th>\n",
       "      <td>95.45%</td>\n",
       "      <td>80.59%</td>\n",
       "    </tr>\n",
       "  </tbody>\n",
       "</table>\n",
       "</div>"
      ],
      "text/plain": [
       "           Unadjusted IgnoreCOVID\n",
       "IAH-Dom        94.59%      95.39%\n",
       "IAH-Int        96.63%      75.01%\n",
       "HOU-Dom        92.59%      76.48%\n",
       "HOU-Int        98.00%      75.49%\n",
       "Grand Mean     95.45%      80.59%"
      ]
     },
     "execution_count": 9,
     "metadata": {},
     "output_type": "execute_result"
    }
   ],
   "source": [
    "compare_all_models_total_accr(series_map,'lstm')"
   ]
  },
  {
   "cell_type": "markdown",
   "id": "b1234faa",
   "metadata": {},
   "source": [
    "## Compare all regularized LSTM models"
   ]
  },
  {
   "cell_type": "code",
   "execution_count": 10,
   "id": "9b6b2ea5",
   "metadata": {},
   "outputs": [
    {
     "data": {
      "text/html": [
       "<div>\n",
       "<style scoped>\n",
       "    .dataframe tbody tr th:only-of-type {\n",
       "        vertical-align: middle;\n",
       "    }\n",
       "\n",
       "    .dataframe tbody tr th {\n",
       "        vertical-align: top;\n",
       "    }\n",
       "\n",
       "    .dataframe thead th {\n",
       "        text-align: right;\n",
       "    }\n",
       "</style>\n",
       "<table border=\"1\" class=\"dataframe\">\n",
       "  <thead>\n",
       "    <tr style=\"text-align: right;\">\n",
       "      <th></th>\n",
       "      <th>Unadjusted</th>\n",
       "      <th>IgnoreCOVID</th>\n",
       "    </tr>\n",
       "  </thead>\n",
       "  <tbody>\n",
       "    <tr>\n",
       "      <th>IAH-Dom</th>\n",
       "      <td>95.70%</td>\n",
       "      <td>94.86%</td>\n",
       "    </tr>\n",
       "    <tr>\n",
       "      <th>IAH-Int</th>\n",
       "      <td>94.78%</td>\n",
       "      <td>65.67%</td>\n",
       "    </tr>\n",
       "    <tr>\n",
       "      <th>HOU-Dom</th>\n",
       "      <td>98.76%</td>\n",
       "      <td>76.98%</td>\n",
       "    </tr>\n",
       "    <tr>\n",
       "      <th>HOU-Int</th>\n",
       "      <td>86.03%</td>\n",
       "      <td>72.94%</td>\n",
       "    </tr>\n",
       "    <tr>\n",
       "      <th>Grand Mean</th>\n",
       "      <td>93.82%</td>\n",
       "      <td>77.61%</td>\n",
       "    </tr>\n",
       "  </tbody>\n",
       "</table>\n",
       "</div>"
      ],
      "text/plain": [
       "           Unadjusted IgnoreCOVID\n",
       "IAH-Dom        95.70%      94.86%\n",
       "IAH-Int        94.78%      65.67%\n",
       "HOU-Dom        98.76%      76.98%\n",
       "HOU-Int        86.03%      72.94%\n",
       "Grand Mean     93.82%      77.61%"
      ]
     },
     "execution_count": 10,
     "metadata": {},
     "output_type": "execute_result"
    }
   ],
   "source": [
    "compare_all_models_total_accr(series_map,'lstm_reg')"
   ]
  },
  {
   "cell_type": "markdown",
   "id": "888758cb",
   "metadata": {},
   "source": [
    "## Compare all Ensemble models"
   ]
  },
  {
   "cell_type": "code",
   "execution_count": 11,
   "id": "b6ca6355",
   "metadata": {},
   "outputs": [
    {
     "data": {
      "text/html": [
       "<div>\n",
       "<style scoped>\n",
       "    .dataframe tbody tr th:only-of-type {\n",
       "        vertical-align: middle;\n",
       "    }\n",
       "\n",
       "    .dataframe tbody tr th {\n",
       "        vertical-align: top;\n",
       "    }\n",
       "\n",
       "    .dataframe thead th {\n",
       "        text-align: right;\n",
       "    }\n",
       "</style>\n",
       "<table border=\"1\" class=\"dataframe\">\n",
       "  <thead>\n",
       "    <tr style=\"text-align: right;\">\n",
       "      <th></th>\n",
       "      <th>Unadjusted</th>\n",
       "      <th>IgnoreCOVID</th>\n",
       "      <th>OutlierDetect</th>\n",
       "    </tr>\n",
       "  </thead>\n",
       "  <tbody>\n",
       "    <tr>\n",
       "      <th>IAH-Dom</th>\n",
       "      <td>95.88%</td>\n",
       "      <td>90.82%</td>\n",
       "      <td>82.48%</td>\n",
       "    </tr>\n",
       "    <tr>\n",
       "      <th>IAH-Int</th>\n",
       "      <td>98.28%</td>\n",
       "      <td>58.13%</td>\n",
       "      <td>77.22%</td>\n",
       "    </tr>\n",
       "    <tr>\n",
       "      <th>HOU-Dom</th>\n",
       "      <td>99.05%</td>\n",
       "      <td>72.98%</td>\n",
       "      <td>98.53%</td>\n",
       "    </tr>\n",
       "    <tr>\n",
       "      <th>HOU-Int</th>\n",
       "      <td>90.51%</td>\n",
       "      <td>82.36%</td>\n",
       "      <td>97.45%</td>\n",
       "    </tr>\n",
       "    <tr>\n",
       "      <th>Grand Mean</th>\n",
       "      <td>95.93%</td>\n",
       "      <td>76.07%</td>\n",
       "      <td>88.92%</td>\n",
       "    </tr>\n",
       "  </tbody>\n",
       "</table>\n",
       "</div>"
      ],
      "text/plain": [
       "           Unadjusted IgnoreCOVID OutlierDetect\n",
       "IAH-Dom        95.88%      90.82%        82.48%\n",
       "IAH-Int        98.28%      58.13%        77.22%\n",
       "HOU-Dom        99.05%      72.98%        98.53%\n",
       "HOU-Int        90.51%      82.36%        97.45%\n",
       "Grand Mean     95.93%      76.07%        88.92%"
      ]
     },
     "execution_count": 11,
     "metadata": {},
     "output_type": "execute_result"
    }
   ],
   "source": [
    "compare_all_models_total_accr(series_map,'weighted_ensemble')"
   ]
  },
  {
   "cell_type": "code",
   "execution_count": null,
   "id": "1cc020f8",
   "metadata": {},
   "outputs": [],
   "source": []
  }
 ],
 "metadata": {
  "kernelspec": {
   "display_name": "Python 3",
   "language": "python",
   "name": "python3"
  },
  "language_info": {
   "codemirror_mode": {
    "name": "ipython",
    "version": 3
   },
   "file_extension": ".py",
   "mimetype": "text/x-python",
   "name": "python",
   "nbconvert_exporter": "python",
   "pygments_lexer": "ipython3",
   "version": "3.8.8"
  },
  "widgets": {
   "application/vnd.jupyter.widget-state+json": {
    "state": {},
    "version_major": 2,
    "version_minor": 0
   }
  }
 },
 "nbformat": 4,
 "nbformat_minor": 5
}
