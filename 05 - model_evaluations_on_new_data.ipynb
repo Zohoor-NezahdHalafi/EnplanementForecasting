{
 "cells": [
  {
   "cell_type": "markdown",
   "id": "3e654ce3-83e9-4dff-9550-0e48adf4a224",
   "metadata": {},
   "source": [
    "# Model Evaluations"
   ]
  },
  {
   "cell_type": "code",
   "execution_count": 1,
   "id": "d40e6104-a968-47d6-aa2b-08ffe079625d",
   "metadata": {},
   "outputs": [],
   "source": [
    "import pandas as pd\n",
    "import numpy as np\n",
    "import seaborn as sns\n",
    "import matplotlib.pyplot as plt\n",
    "import pickle\n",
    "import os\n",
    "\n",
    "sns.set(rc={'figure.figsize':(14,7)})\n",
    "series_map = pickle.load(open('pickled/series_map.pckl','rb'))\n",
    "approach_map = {\n",
    "    'Unadjusted':'orig',\n",
    "    'IgnoreCOVID':'no_covid',\n",
    "    'OutlierDetect':'with_outlier_detection'\n",
    "}\n",
    "\n",
    "pd.options.display.float_format = '{:.2%}'.format"
   ]
  },
  {
   "cell_type": "code",
   "execution_count": 2,
   "id": "31895f95-2a7f-4f7c-9f45-0ae3e9fdff45",
   "metadata": {},
   "outputs": [
    {
     "data": {
      "text/html": [
       "<div>\n",
       "<style scoped>\n",
       "    .dataframe tbody tr th:only-of-type {\n",
       "        vertical-align: middle;\n",
       "    }\n",
       "\n",
       "    .dataframe tbody tr th {\n",
       "        vertical-align: top;\n",
       "    }\n",
       "\n",
       "    .dataframe thead th {\n",
       "        text-align: right;\n",
       "    }\n",
       "</style>\n",
       "<table border=\"1\" class=\"dataframe\">\n",
       "  <thead>\n",
       "    <tr style=\"text-align: right;\">\n",
       "      <th></th>\n",
       "      <th>DATE</th>\n",
       "      <th>HOU-Int</th>\n",
       "      <th>HOU-Dom</th>\n",
       "      <th>IAH-Dom</th>\n",
       "      <th>IAH-Int</th>\n",
       "    </tr>\n",
       "  </thead>\n",
       "  <tbody>\n",
       "    <tr>\n",
       "      <th>0</th>\n",
       "      <td>2021-10-01</td>\n",
       "      <td>27153</td>\n",
       "      <td>498237</td>\n",
       "      <td>1375815</td>\n",
       "      <td>285498</td>\n",
       "    </tr>\n",
       "    <tr>\n",
       "      <th>1</th>\n",
       "      <td>2021-11-01</td>\n",
       "      <td>34242</td>\n",
       "      <td>495800</td>\n",
       "      <td>1356136</td>\n",
       "      <td>336156</td>\n",
       "    </tr>\n",
       "    <tr>\n",
       "      <th>2</th>\n",
       "      <td>2021-12-01</td>\n",
       "      <td>39101</td>\n",
       "      <td>477752</td>\n",
       "      <td>1331893</td>\n",
       "      <td>417561</td>\n",
       "    </tr>\n",
       "    <tr>\n",
       "      <th>3</th>\n",
       "      <td>2022-01-01</td>\n",
       "      <td>29084</td>\n",
       "      <td>387446</td>\n",
       "      <td>1036051</td>\n",
       "      <td>287998</td>\n",
       "    </tr>\n",
       "  </tbody>\n",
       "</table>\n",
       "</div>"
      ],
      "text/plain": [
       "        DATE  HOU-Int  HOU-Dom  IAH-Dom  IAH-Int\n",
       "0 2021-10-01    27153   498237  1375815   285498\n",
       "1 2021-11-01    34242   495800  1356136   336156\n",
       "2 2021-12-01    39101   477752  1331893   417561\n",
       "3 2022-01-01    29084   387446  1036051   287998"
      ]
     },
     "execution_count": 2,
     "metadata": {},
     "output_type": "execute_result"
    }
   ],
   "source": [
    "future_actuals = pd.read_csv('data/Future Passengers.csv',parse_dates=['DATE'])\n",
    "future_actuals"
   ]
  },
  {
   "cell_type": "code",
   "execution_count": 3,
   "id": "4077c979-1ab2-4e3e-a135-4e3884c1b215",
   "metadata": {},
   "outputs": [],
   "source": [
    "def compare_all_best_models_total_accr(series_map):\n",
    "    \"\"\"\n",
    "    \"\"\"\n",
    "    all_results = pd.DataFrame(columns=approach_map.keys(),index=series_map.keys())\n",
    "    all_best_models = all_results.copy()\n",
    "    for series in series_map.keys():\n",
    "        for apprt, appr in approach_map.items():\n",
    "            results = pd.read_excel(os.path.join('fcst_results',\n",
    "                                       '{}_series_{}_results.xlsx'.format(appr,series)),\n",
    "                                       sheet_name=['lvl_fcsts','model_summaries'])\n",
    "            best_model = results['model_summaries'].iloc[0,0]\n",
    "            results_lvl = results['lvl_fcsts']\n",
    "            results_lvl['DATE'] = pd.to_datetime(results_lvl['DATE'])\n",
    "            results_lvl = results_lvl.loc[results_lvl['DATE'].isin(future_actuals['DATE'])].reset_index(drop=True)\n",
    "            all_results.loc[series,apprt] = 1 - np.abs((future_actuals[series].sum() - results_lvl[best_model].sum()) / future_actuals[series].sum())\n",
    "            all_best_models.loc[series,apprt] = best_model\n",
    "    return all_results, all_best_models\n",
    "        \n",
    "def compare_all_best_models_mean_accr(series_map):\n",
    "    \"\"\"\n",
    "    \"\"\"\n",
    "    all_results = pd.DataFrame(columns=approach_map.keys(),index=series_map.keys())\n",
    "    all_best_models = all_results.copy()\n",
    "    for series in series_map.keys():\n",
    "        for apprt, appr in approach_map.items():\n",
    "            results = pd.read_excel(os.path.join('fcst_results',\n",
    "                                       '{}_series_{}_results.xlsx'.format(appr,series)),\n",
    "                                       sheet_name=['lvl_fcsts','model_summaries'])\n",
    "            best_model = results['model_summaries'].iloc[0,0]\n",
    "            results_lvl = results['lvl_fcsts']\n",
    "            results_lvl['DATE'] = pd.to_datetime(results_lvl['DATE'])\n",
    "            results_lvl = results_lvl.loc[results_lvl['DATE'].isin(future_actuals['DATE'])].reset_index(drop=True)\n",
    "            all_results.loc[series,apprt] = 1 - np.mean(np.abs((future_actuals[series] - results_lvl[best_model]) / future_actuals[series]))\n",
    "            all_best_models.loc[series,apprt] = best_model\n",
    "    return all_results, all_best_models\n",
    "\n",
    "def compare_all_models_total_accr(series_map,model_type):\n",
    "    \"\"\"\n",
    "    \"\"\"\n",
    "    best_model = model_type\n",
    "    all_results = pd.DataFrame(columns=approach_map.keys(),index=series_map.keys())\n",
    "    for series in series_map.keys():\n",
    "        for apprt, appr in approach_map.items():\n",
    "            results_lvl = pd.read_excel(os.path.join('fcst_results',\n",
    "                                       '{}_series_{}_results.xlsx'.format(appr,series)),\n",
    "                                       sheet_name='lvl_fcsts',parse_dates=['DATE'])\n",
    "            results_lvl = results_lvl.loc[results_lvl['DATE'].isin(future_actuals['DATE'])]\n",
    "            try:\n",
    "                all_results.loc[series,apprt] = 1 - np.abs((future_actuals[series].sum() - results_lvl[best_model].sum()) / future_actuals[series].sum())\n",
    "            except KeyError:\n",
    "                pass\n",
    "    return all_results.dropna(axis=1)"
   ]
  },
  {
   "cell_type": "markdown",
   "id": "b930c444-f253-447a-aeaa-73fb0b4378b9",
   "metadata": {},
   "source": [
    "## Compare all best models - total accuracy"
   ]
  },
  {
   "cell_type": "code",
   "execution_count": 4,
   "id": "33cc5b68-b9e0-4a7e-97c0-9cce3b817609",
   "metadata": {},
   "outputs": [
    {
     "data": {
      "text/html": [
       "<div>\n",
       "<style scoped>\n",
       "    .dataframe tbody tr th:only-of-type {\n",
       "        vertical-align: middle;\n",
       "    }\n",
       "\n",
       "    .dataframe tbody tr th {\n",
       "        vertical-align: top;\n",
       "    }\n",
       "\n",
       "    .dataframe thead th {\n",
       "        text-align: right;\n",
       "    }\n",
       "</style>\n",
       "<table border=\"1\" class=\"dataframe\">\n",
       "  <thead>\n",
       "    <tr style=\"text-align: right;\">\n",
       "      <th></th>\n",
       "      <th>Unadjusted</th>\n",
       "      <th>IgnoreCOVID</th>\n",
       "      <th>OutlierDetect</th>\n",
       "    </tr>\n",
       "  </thead>\n",
       "  <tbody>\n",
       "    <tr>\n",
       "      <th>IAH-Dom</th>\n",
       "      <td>90.42%</td>\n",
       "      <td>87.52%</td>\n",
       "      <td>80.68%</td>\n",
       "    </tr>\n",
       "    <tr>\n",
       "      <th>IAH-Int</th>\n",
       "      <td>95.14%</td>\n",
       "      <td>54.88%</td>\n",
       "      <td>91.00%</td>\n",
       "    </tr>\n",
       "    <tr>\n",
       "      <th>HOU-Dom</th>\n",
       "      <td>97.00%</td>\n",
       "      <td>72.47%</td>\n",
       "      <td>99.19%</td>\n",
       "    </tr>\n",
       "    <tr>\n",
       "      <th>HOU-Int</th>\n",
       "      <td>99.42%</td>\n",
       "      <td>77.30%</td>\n",
       "      <td>90.24%</td>\n",
       "    </tr>\n",
       "  </tbody>\n",
       "</table>\n",
       "</div>"
      ],
      "text/plain": [
       "        Unadjusted IgnoreCOVID OutlierDetect\n",
       "IAH-Dom     90.42%      87.52%        80.68%\n",
       "IAH-Int     95.14%      54.88%        91.00%\n",
       "HOU-Dom     97.00%      72.47%        99.19%\n",
       "HOU-Int     99.42%      77.30%        90.24%"
      ]
     },
     "execution_count": 4,
     "metadata": {},
     "output_type": "execute_result"
    }
   ],
   "source": [
    "best_models_results = compare_all_best_models_total_accr(series_map)\n",
    "best_models_results[0]"
   ]
  },
  {
   "cell_type": "code",
   "execution_count": 5,
   "id": "85bfb0a0-fc38-4e31-b97e-6c31fffa2b9f",
   "metadata": {},
   "outputs": [
    {
     "data": {
      "text/html": [
       "<div>\n",
       "<style scoped>\n",
       "    .dataframe tbody tr th:only-of-type {\n",
       "        vertical-align: middle;\n",
       "    }\n",
       "\n",
       "    .dataframe tbody tr th {\n",
       "        vertical-align: top;\n",
       "    }\n",
       "\n",
       "    .dataframe thead th {\n",
       "        text-align: right;\n",
       "    }\n",
       "</style>\n",
       "<table border=\"1\" class=\"dataframe\">\n",
       "  <thead>\n",
       "    <tr style=\"text-align: right;\">\n",
       "      <th></th>\n",
       "      <th>Unadjusted</th>\n",
       "      <th>IgnoreCOVID</th>\n",
       "      <th>OutlierDetect</th>\n",
       "    </tr>\n",
       "  </thead>\n",
       "  <tbody>\n",
       "    <tr>\n",
       "      <th>IAH-Dom</th>\n",
       "      <td>weighted_ensemble</td>\n",
       "      <td>arima</td>\n",
       "      <td>prophet</td>\n",
       "    </tr>\n",
       "    <tr>\n",
       "      <th>IAH-Int</th>\n",
       "      <td>arima</td>\n",
       "      <td>prophet</td>\n",
       "      <td>arima</td>\n",
       "    </tr>\n",
       "    <tr>\n",
       "      <th>HOU-Dom</th>\n",
       "      <td>arima</td>\n",
       "      <td>weighted_ensemble</td>\n",
       "      <td>arima</td>\n",
       "    </tr>\n",
       "    <tr>\n",
       "      <th>HOU-Int</th>\n",
       "      <td>arima</td>\n",
       "      <td>lstm</td>\n",
       "      <td>arima</td>\n",
       "    </tr>\n",
       "  </tbody>\n",
       "</table>\n",
       "</div>"
      ],
      "text/plain": [
       "                Unadjusted        IgnoreCOVID OutlierDetect\n",
       "IAH-Dom  weighted_ensemble              arima       prophet\n",
       "IAH-Int              arima            prophet         arima\n",
       "HOU-Dom              arima  weighted_ensemble         arima\n",
       "HOU-Int              arima               lstm         arima"
      ]
     },
     "execution_count": 5,
     "metadata": {},
     "output_type": "execute_result"
    }
   ],
   "source": [
    "best_models_results[1]"
   ]
  },
  {
   "cell_type": "markdown",
   "id": "f8b112ba-1b5f-44aa-8fa5-5dff046fcf6f",
   "metadata": {},
   "source": [
    "## Compare all best models - mean accuracy per month"
   ]
  },
  {
   "cell_type": "code",
   "execution_count": 6,
   "id": "0c80d5ae-7353-4a15-98ff-2d0789c73f6c",
   "metadata": {},
   "outputs": [
    {
     "data": {
      "text/html": [
       "<div>\n",
       "<style scoped>\n",
       "    .dataframe tbody tr th:only-of-type {\n",
       "        vertical-align: middle;\n",
       "    }\n",
       "\n",
       "    .dataframe tbody tr th {\n",
       "        vertical-align: top;\n",
       "    }\n",
       "\n",
       "    .dataframe thead th {\n",
       "        text-align: right;\n",
       "    }\n",
       "</style>\n",
       "<table border=\"1\" class=\"dataframe\">\n",
       "  <thead>\n",
       "    <tr style=\"text-align: right;\">\n",
       "      <th></th>\n",
       "      <th>Unadjusted</th>\n",
       "      <th>IgnoreCOVID</th>\n",
       "      <th>OutlierDetect</th>\n",
       "    </tr>\n",
       "  </thead>\n",
       "  <tbody>\n",
       "    <tr>\n",
       "      <th>IAH-Dom</th>\n",
       "      <td>87.27%</td>\n",
       "      <td>86.26%</td>\n",
       "      <td>81.38%</td>\n",
       "    </tr>\n",
       "    <tr>\n",
       "      <th>IAH-Int</th>\n",
       "      <td>93.52%</td>\n",
       "      <td>52.53%</td>\n",
       "      <td>91.50%</td>\n",
       "    </tr>\n",
       "    <tr>\n",
       "      <th>HOU-Dom</th>\n",
       "      <td>93.47%</td>\n",
       "      <td>71.52%</td>\n",
       "      <td>94.29%</td>\n",
       "    </tr>\n",
       "    <tr>\n",
       "      <th>HOU-Int</th>\n",
       "      <td>92.74%</td>\n",
       "      <td>74.48%</td>\n",
       "      <td>90.53%</td>\n",
       "    </tr>\n",
       "  </tbody>\n",
       "</table>\n",
       "</div>"
      ],
      "text/plain": [
       "        Unadjusted IgnoreCOVID OutlierDetect\n",
       "IAH-Dom     87.27%      86.26%        81.38%\n",
       "IAH-Int     93.52%      52.53%        91.50%\n",
       "HOU-Dom     93.47%      71.52%        94.29%\n",
       "HOU-Int     92.74%      74.48%        90.53%"
      ]
     },
     "execution_count": 6,
     "metadata": {},
     "output_type": "execute_result"
    }
   ],
   "source": [
    "best_models_mean_results = compare_all_best_models_mean_accr(series_map)\n",
    "best_models_mean_results[0]"
   ]
  },
  {
   "cell_type": "code",
   "execution_count": 7,
   "id": "210cd36b-dcde-4e9b-829c-c39050b96e02",
   "metadata": {},
   "outputs": [
    {
     "data": {
      "text/html": [
       "<div>\n",
       "<style scoped>\n",
       "    .dataframe tbody tr th:only-of-type {\n",
       "        vertical-align: middle;\n",
       "    }\n",
       "\n",
       "    .dataframe tbody tr th {\n",
       "        vertical-align: top;\n",
       "    }\n",
       "\n",
       "    .dataframe thead th {\n",
       "        text-align: right;\n",
       "    }\n",
       "</style>\n",
       "<table border=\"1\" class=\"dataframe\">\n",
       "  <thead>\n",
       "    <tr style=\"text-align: right;\">\n",
       "      <th></th>\n",
       "      <th>Unadjusted</th>\n",
       "      <th>IgnoreCOVID</th>\n",
       "      <th>OutlierDetect</th>\n",
       "    </tr>\n",
       "  </thead>\n",
       "  <tbody>\n",
       "    <tr>\n",
       "      <th>IAH-Dom</th>\n",
       "      <td>weighted_ensemble</td>\n",
       "      <td>arima</td>\n",
       "      <td>prophet</td>\n",
       "    </tr>\n",
       "    <tr>\n",
       "      <th>IAH-Int</th>\n",
       "      <td>arima</td>\n",
       "      <td>prophet</td>\n",
       "      <td>arima</td>\n",
       "    </tr>\n",
       "    <tr>\n",
       "      <th>HOU-Dom</th>\n",
       "      <td>arima</td>\n",
       "      <td>weighted_ensemble</td>\n",
       "      <td>arima</td>\n",
       "    </tr>\n",
       "    <tr>\n",
       "      <th>HOU-Int</th>\n",
       "      <td>arima</td>\n",
       "      <td>lstm</td>\n",
       "      <td>arima</td>\n",
       "    </tr>\n",
       "  </tbody>\n",
       "</table>\n",
       "</div>"
      ],
      "text/plain": [
       "                Unadjusted        IgnoreCOVID OutlierDetect\n",
       "IAH-Dom  weighted_ensemble              arima       prophet\n",
       "IAH-Int              arima            prophet         arima\n",
       "HOU-Dom              arima  weighted_ensemble         arima\n",
       "HOU-Int              arima               lstm         arima"
      ]
     },
     "execution_count": 7,
     "metadata": {},
     "output_type": "execute_result"
    }
   ],
   "source": [
    "best_models_mean_results[1]"
   ]
  },
  {
   "cell_type": "markdown",
   "id": "5f4a2c98-3d0b-4de0-9789-5357cc538a56",
   "metadata": {},
   "source": [
    "## Compare all ARIMA models"
   ]
  },
  {
   "cell_type": "code",
   "execution_count": 8,
   "id": "392045a4-cc33-47ae-8dae-174120176588",
   "metadata": {},
   "outputs": [
    {
     "data": {
      "text/html": [
       "<div>\n",
       "<style scoped>\n",
       "    .dataframe tbody tr th:only-of-type {\n",
       "        vertical-align: middle;\n",
       "    }\n",
       "\n",
       "    .dataframe tbody tr th {\n",
       "        vertical-align: top;\n",
       "    }\n",
       "\n",
       "    .dataframe thead th {\n",
       "        text-align: right;\n",
       "    }\n",
       "</style>\n",
       "<table border=\"1\" class=\"dataframe\">\n",
       "  <thead>\n",
       "    <tr style=\"text-align: right;\">\n",
       "      <th></th>\n",
       "      <th>Unadjusted</th>\n",
       "      <th>IgnoreCOVID</th>\n",
       "      <th>OutlierDetect</th>\n",
       "    </tr>\n",
       "  </thead>\n",
       "  <tbody>\n",
       "    <tr>\n",
       "      <th>IAH-Dom</th>\n",
       "      <td>97.08%</td>\n",
       "      <td>87.52%</td>\n",
       "      <td>96.45%</td>\n",
       "    </tr>\n",
       "    <tr>\n",
       "      <th>IAH-Int</th>\n",
       "      <td>95.14%</td>\n",
       "      <td>58.56%</td>\n",
       "      <td>91.00%</td>\n",
       "    </tr>\n",
       "    <tr>\n",
       "      <th>HOU-Dom</th>\n",
       "      <td>97.00%</td>\n",
       "      <td>73.51%</td>\n",
       "      <td>99.19%</td>\n",
       "    </tr>\n",
       "    <tr>\n",
       "      <th>HOU-Int</th>\n",
       "      <td>99.42%</td>\n",
       "      <td>99.00%</td>\n",
       "      <td>90.24%</td>\n",
       "    </tr>\n",
       "  </tbody>\n",
       "</table>\n",
       "</div>"
      ],
      "text/plain": [
       "        Unadjusted IgnoreCOVID OutlierDetect\n",
       "IAH-Dom     97.08%      87.52%        96.45%\n",
       "IAH-Int     95.14%      58.56%        91.00%\n",
       "HOU-Dom     97.00%      73.51%        99.19%\n",
       "HOU-Int     99.42%      99.00%        90.24%"
      ]
     },
     "execution_count": 8,
     "metadata": {},
     "output_type": "execute_result"
    }
   ],
   "source": [
    "compare_all_models_total_accr(series_map,'arima')"
   ]
  },
  {
   "cell_type": "markdown",
   "id": "e4cd7ef8-3318-4529-a6f5-05fb141afe38",
   "metadata": {},
   "source": [
    "## Compare all Prophet models"
   ]
  },
  {
   "cell_type": "code",
   "execution_count": 9,
   "id": "70222726-b734-4288-b03a-c92b4f46d6e7",
   "metadata": {},
   "outputs": [
    {
     "data": {
      "text/html": [
       "<div>\n",
       "<style scoped>\n",
       "    .dataframe tbody tr th:only-of-type {\n",
       "        vertical-align: middle;\n",
       "    }\n",
       "\n",
       "    .dataframe tbody tr th {\n",
       "        vertical-align: top;\n",
       "    }\n",
       "\n",
       "    .dataframe thead th {\n",
       "        text-align: right;\n",
       "    }\n",
       "</style>\n",
       "<table border=\"1\" class=\"dataframe\">\n",
       "  <thead>\n",
       "    <tr style=\"text-align: right;\">\n",
       "      <th></th>\n",
       "      <th>Unadjusted</th>\n",
       "      <th>IgnoreCOVID</th>\n",
       "      <th>OutlierDetect</th>\n",
       "    </tr>\n",
       "  </thead>\n",
       "  <tbody>\n",
       "    <tr>\n",
       "      <th>IAH-Dom</th>\n",
       "      <td>80.52%</td>\n",
       "      <td>87.66%</td>\n",
       "      <td>80.68%</td>\n",
       "    </tr>\n",
       "    <tr>\n",
       "      <th>IAH-Int</th>\n",
       "      <td>81.41%</td>\n",
       "      <td>54.88%</td>\n",
       "      <td>81.51%</td>\n",
       "    </tr>\n",
       "    <tr>\n",
       "      <th>HOU-Dom</th>\n",
       "      <td>93.32%</td>\n",
       "      <td>70.56%</td>\n",
       "      <td>93.40%</td>\n",
       "    </tr>\n",
       "    <tr>\n",
       "      <th>HOU-Int</th>\n",
       "      <td>70.00%</td>\n",
       "      <td>69.69%</td>\n",
       "      <td>70.00%</td>\n",
       "    </tr>\n",
       "  </tbody>\n",
       "</table>\n",
       "</div>"
      ],
      "text/plain": [
       "        Unadjusted IgnoreCOVID OutlierDetect\n",
       "IAH-Dom     80.52%      87.66%        80.68%\n",
       "IAH-Int     81.41%      54.88%        81.51%\n",
       "HOU-Dom     93.32%      70.56%        93.40%\n",
       "HOU-Int     70.00%      69.69%        70.00%"
      ]
     },
     "execution_count": 9,
     "metadata": {},
     "output_type": "execute_result"
    }
   ],
   "source": [
    "compare_all_models_total_accr(series_map,'prophet')"
   ]
  },
  {
   "cell_type": "markdown",
   "id": "c9b45d4c-b738-4646-9185-14d209a92dfb",
   "metadata": {},
   "source": [
    "## Compare all LSTM models"
   ]
  },
  {
   "cell_type": "code",
   "execution_count": 10,
   "id": "948ce9c1-14bd-42de-802b-562aaf29f61c",
   "metadata": {},
   "outputs": [
    {
     "data": {
      "text/html": [
       "<div>\n",
       "<style scoped>\n",
       "    .dataframe tbody tr th:only-of-type {\n",
       "        vertical-align: middle;\n",
       "    }\n",
       "\n",
       "    .dataframe tbody tr th {\n",
       "        vertical-align: top;\n",
       "    }\n",
       "\n",
       "    .dataframe thead th {\n",
       "        text-align: right;\n",
       "    }\n",
       "</style>\n",
       "<table border=\"1\" class=\"dataframe\">\n",
       "  <thead>\n",
       "    <tr style=\"text-align: right;\">\n",
       "      <th></th>\n",
       "      <th>Unadjusted</th>\n",
       "      <th>IgnoreCOVID</th>\n",
       "    </tr>\n",
       "  </thead>\n",
       "  <tbody>\n",
       "    <tr>\n",
       "      <th>IAH-Dom</th>\n",
       "      <td>97.53%</td>\n",
       "      <td>94.62%</td>\n",
       "    </tr>\n",
       "    <tr>\n",
       "      <th>IAH-Int</th>\n",
       "      <td>92.04%</td>\n",
       "      <td>72.78%</td>\n",
       "    </tr>\n",
       "    <tr>\n",
       "      <th>HOU-Dom</th>\n",
       "      <td>87.45%</td>\n",
       "      <td>76.93%</td>\n",
       "    </tr>\n",
       "    <tr>\n",
       "      <th>HOU-Int</th>\n",
       "      <td>97.85%</td>\n",
       "      <td>77.30%</td>\n",
       "    </tr>\n",
       "  </tbody>\n",
       "</table>\n",
       "</div>"
      ],
      "text/plain": [
       "        Unadjusted IgnoreCOVID\n",
       "IAH-Dom     97.53%      94.62%\n",
       "IAH-Int     92.04%      72.78%\n",
       "HOU-Dom     87.45%      76.93%\n",
       "HOU-Int     97.85%      77.30%"
      ]
     },
     "execution_count": 10,
     "metadata": {},
     "output_type": "execute_result"
    }
   ],
   "source": [
    "compare_all_models_total_accr(series_map,'lstm')"
   ]
  },
  {
   "cell_type": "markdown",
   "id": "552ae82a-18fd-4fda-b4c0-14ca0f682034",
   "metadata": {},
   "source": [
    "## Compare all Ensemble models"
   ]
  },
  {
   "cell_type": "code",
   "execution_count": 11,
   "id": "85122093-8075-4580-b557-36f26c8dc7fe",
   "metadata": {},
   "outputs": [
    {
     "data": {
      "text/html": [
       "<div>\n",
       "<style scoped>\n",
       "    .dataframe tbody tr th:only-of-type {\n",
       "        vertical-align: middle;\n",
       "    }\n",
       "\n",
       "    .dataframe tbody tr th {\n",
       "        vertical-align: top;\n",
       "    }\n",
       "\n",
       "    .dataframe thead th {\n",
       "        text-align: right;\n",
       "    }\n",
       "</style>\n",
       "<table border=\"1\" class=\"dataframe\">\n",
       "  <thead>\n",
       "    <tr style=\"text-align: right;\">\n",
       "      <th></th>\n",
       "      <th>Unadjusted</th>\n",
       "      <th>IgnoreCOVID</th>\n",
       "      <th>OutlierDetect</th>\n",
       "    </tr>\n",
       "  </thead>\n",
       "  <tbody>\n",
       "    <tr>\n",
       "      <th>IAH-Dom</th>\n",
       "      <td>90.42%</td>\n",
       "      <td>89.50%</td>\n",
       "      <td>82.59%</td>\n",
       "    </tr>\n",
       "    <tr>\n",
       "      <th>IAH-Int</th>\n",
       "      <td>95.20%</td>\n",
       "      <td>57.38%</td>\n",
       "      <td>90.21%</td>\n",
       "    </tr>\n",
       "    <tr>\n",
       "      <th>HOU-Dom</th>\n",
       "      <td>96.59%</td>\n",
       "      <td>72.47%</td>\n",
       "      <td>99.80%</td>\n",
       "    </tr>\n",
       "    <tr>\n",
       "      <th>HOU-Int</th>\n",
       "      <td>89.59%</td>\n",
       "      <td>88.90%</td>\n",
       "      <td>88.56%</td>\n",
       "    </tr>\n",
       "  </tbody>\n",
       "</table>\n",
       "</div>"
      ],
      "text/plain": [
       "        Unadjusted IgnoreCOVID OutlierDetect\n",
       "IAH-Dom     90.42%      89.50%        82.59%\n",
       "IAH-Int     95.20%      57.38%        90.21%\n",
       "HOU-Dom     96.59%      72.47%        99.80%\n",
       "HOU-Int     89.59%      88.90%        88.56%"
      ]
     },
     "execution_count": 11,
     "metadata": {},
     "output_type": "execute_result"
    }
   ],
   "source": [
    "compare_all_models_total_accr(series_map,'weighted_ensemble')"
   ]
  },
  {
   "cell_type": "code",
   "execution_count": null,
   "id": "35060411-1c33-4359-a83e-f719c93fd3dc",
   "metadata": {},
   "outputs": [],
   "source": []
  }
 ],
 "metadata": {
  "kernelspec": {
   "display_name": "Python 3",
   "language": "python",
   "name": "python3"
  },
  "language_info": {
   "codemirror_mode": {
    "name": "ipython",
    "version": 3
   },
   "file_extension": ".py",
   "mimetype": "text/x-python",
   "name": "python",
   "nbconvert_exporter": "python",
   "pygments_lexer": "ipython3",
   "version": "3.8.8"
  },
  "widgets": {
   "application/vnd.jupyter.widget-state+json": {
    "state": {},
    "version_major": 2,
    "version_minor": 0
   }
  }
 },
 "nbformat": 4,
 "nbformat_minor": 5
}
