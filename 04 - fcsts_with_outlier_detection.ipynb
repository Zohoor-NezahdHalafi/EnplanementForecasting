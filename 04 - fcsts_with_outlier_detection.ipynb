{
 "cells": [
  {
   "cell_type": "markdown",
   "id": "684ffc0e-760c-43f0-a195-452eff41c0b8",
   "metadata": {},
   "source": [
    "# Forecasts on data before COVID periods only\n",
    "\n",
    "The purpose of this notebook is to compare the approach offered in the previous notebooks to an approach that keeps the data un-adjusted, but that adds detected outliers and level shifts in each period to the models before forecasting. We use the X13 process maintained by the US Census Bureau. It detects two types of outliers: additvite outliers which are added as a matrix of 0s with a single 1 during the identified outlier period, and level shifts, which are a matrix of 0s before the shift and 1s after. Scalecast does not offer a way to add such outlier consideration to the neural network models, but does allow such consideration with the Prophet and ARIMA models. We expect similar test-set performance to the forecasts that did not address outliers, due to the COVID periods all occuring during the test-set periods, but forecasts into the future may be fairer. Indeed, one of our insights is that even with a test-set heavily influenced by COVID, taking actions to perform better on the test-set translates to better forecasts generally.\n",
    "\n",
    "Comparing test-set errors when adding outliers, it was found that the error rate increased from the unadjusted approach when adding level shifts, but decreased slightly when adding only additive outliers. For this reason, level shifts were ignored. But all of these decisions, including the sensitivity to apply when detecting outliers, are configurable in the functions designed in this notebook.\n",
    "\n",
    "See outlier_detector_x13.py to see how R and Python were integrated together to identify outliers in the data."
   ]
  },
  {
   "cell_type": "code",
   "execution_count": 1,
   "id": "310c5e87-1cdc-40ae-ba88-7d134d08ede0",
   "metadata": {},
   "outputs": [],
   "source": [
    "import pandas as pd\n",
    "import numpy as np\n",
    "from scalecast.Forecaster import Forecaster\n",
    "from scalecast.notebook import results_vis\n",
    "import seaborn as sns\n",
    "import matplotlib.pyplot as plt\n",
    "import pickle\n",
    "import os\n",
    "from tqdm.notebook import tqdm as log_progress\n",
    "from config import train_prop, metric, fcst_length\n",
    "from outlier_detector_x13 import runr\n",
    "from IPython.display import display, HTML\n",
    "\n",
    "sns.set(rc={'figure.figsize':(14,7)})\n",
    "series_map = pickle.load(open('pickled/series_map.pckl','rb'))\n",
    "test_prop = 1 - train_prop\n",
    "f_dict = {} # this is where the forecasts will be loaded"
   ]
  },
  {
   "cell_type": "markdown",
   "id": "9e1a7680-f69f-43e5-8c1b-c54a90198584",
   "metadata": {},
   "source": [
    "Create outlier helper function and forecast function."
   ]
  },
  {
   "cell_type": "code",
   "execution_count": 2,
   "id": "ef978068-66a1-4b8e-bd31-1e3d8a043346",
   "metadata": {},
   "outputs": [],
   "source": [
    "def add_outliers_to_scalecast(outliers_df,f,add_ao=True,add_ls=True):\n",
    "    \"\"\" adds all level shifts and additive outliers discovered from the X13 code to a Forecaster object\n",
    "    \n",
    "    Args:\n",
    "        outliers_df (DataFrame): the dataframe produced from running X13.runr\n",
    "        f (Forecaster): the Forecaster object to add the outliers to as regressors\n",
    "        add_ao (bool): default True. whether to add additive outliers detected from X13\n",
    "        add_ls (bool): default True. whether to add level shifts detected from X13\n",
    "        \n",
    "    Returns:\n",
    "        None\n",
    "    \"\"\"\n",
    "    for i, v in outliers_df.iterrows():\n",
    "        if v['term'].startswith('AO') and add_ao:\n",
    "            f.add_other_regressor(called=v['term'].replace('.',''),\n",
    "                                  start=pd.Timestamp(v['term'][2:].replace('.','-')),\n",
    "                                  end=pd.Timestamp(v['term'][2:].replace('.','-')))\n",
    "        elif v['term'].startswith('LS') and add_ls:\n",
    "            f.add_other_regressor(called=v['term'].replace('.',''),\n",
    "                                  start=pd.Timestamp(v['term'][2:].replace('.','-')),\n",
    "                                  end='2999-12-31')\n",
    "\n",
    "def forecast(series,orders):\n",
    "    #print(f'now forecasting {series}')\n",
    "    df = pd.read_csv(os.path.join('data',series+'.csv'),parse_dates=['Date'])\n",
    "    outliers = runr(csv_name = series,order = orders['order'],seasonal_order = orders['seasonal_order'])\n",
    "    print(f'{series} identified outliers:')\n",
    "    display(HTML(outliers.to_html()))\n",
    "    f = Forecaster(df['PASSENGERS'],current_dates=df['Date'])\n",
    "    f.set_test_length(test_prop)\n",
    "    f.generate_future_dates(fcst_length)\n",
    "    add_outliers_to_scalecast(outliers,f,add_ls=False)\n",
    "    f.set_estimator('arima')\n",
    "    f.manual_forecast(order=orders['order'],seasonal_order=orders['seasonal_order'],trend=orders['trend'],Xvars='all')\n",
    "    f.save_summary_stats()\n",
    "    f.set_estimator('prophet')\n",
    "    f.manual_forecast(Xvars='all')\n",
    "    f.set_estimator('combo')\n",
    "    f.manual_forecast(how='weighted',determine_best_by='TestSet'+metric,call_me='weighted_ensemble')\n",
    "    results = f.export(determine_best_by='TestSet'+metric,to_excel=True,out_path='fcst_results',excel_name=f'with_outlier_detection_series_{series}_results.xlsx')\n",
    "    f.all_feature_info_to_excel(out_path='fcst_results',excel_name=f'arima_with_outliers_summary_stats_{series}.xlsx')\n",
    "    results['model_summaries'][['ModelNickname','TestSet'+metric,'InSample'+metric]].set_index('ModelNickname').plot.bar()\n",
    "    plt.xticks(rotation = 0) # Rotates X-Axis Ticks by 45-degrees\n",
    "    plt.title(f'{series} all models train and test {metric}s',size=16)\n",
    "    plt.show()\n",
    "    print('='*120)\n",
    "    return f"
   ]
  },
  {
   "cell_type": "code",
   "execution_count": 3,
   "id": "bbe0180e-2fcd-4923-8b7e-31fbbc7cc235",
   "metadata": {},
   "outputs": [
    {
     "data": {
      "application/vnd.jupyter.widget-view+json": {
       "model_id": "21bd84f58dd443cfaaf0ddf10d92fe47",
       "version_major": 2,
       "version_minor": 0
      },
      "text/plain": [
       "  0%|          | 0/4 [00:00<?, ?it/s]"
      ]
     },
     "metadata": {},
     "output_type": "display_data"
    },
    {
     "name": "stdout",
     "output_type": "stream",
     "text": [
      "IAH-Dom identified outliers:\n"
     ]
    },
    {
     "data": {
      "text/html": [
       "<table border=\"1\" class=\"dataframe\">\n",
       "  <thead>\n",
       "    <tr style=\"text-align: right;\">\n",
       "      <th></th>\n",
       "      <th>term</th>\n",
       "      <th>estimate</th>\n",
       "      <th>std.error</th>\n",
       "      <th>statistic</th>\n",
       "      <th>p.value</th>\n",
       "    </tr>\n",
       "  </thead>\n",
       "  <tbody>\n",
       "    <tr>\n",
       "      <th>1</th>\n",
       "      <td>AO2001.Sep</td>\n",
       "      <td>-1.773632e+05</td>\n",
       "      <td>38525.854340</td>\n",
       "      <td>-4.603745</td>\n",
       "      <td>4.149613e-06</td>\n",
       "    </tr>\n",
       "    <tr>\n",
       "      <th>2</th>\n",
       "      <td>LS2001.Sep</td>\n",
       "      <td>-2.111562e+05</td>\n",
       "      <td>50851.277124</td>\n",
       "      <td>-4.152427</td>\n",
       "      <td>3.289684e-05</td>\n",
       "    </tr>\n",
       "    <tr>\n",
       "      <th>3</th>\n",
       "      <td>AO2008.Sep</td>\n",
       "      <td>-1.844069e+05</td>\n",
       "      <td>25908.694101</td>\n",
       "      <td>-7.117566</td>\n",
       "      <td>1.098493e-12</td>\n",
       "    </tr>\n",
       "    <tr>\n",
       "      <th>4</th>\n",
       "      <td>LS2017.Aug</td>\n",
       "      <td>-2.019666e+05</td>\n",
       "      <td>34540.194299</td>\n",
       "      <td>-5.847292</td>\n",
       "      <td>4.996400e-09</td>\n",
       "    </tr>\n",
       "    <tr>\n",
       "      <th>5</th>\n",
       "      <td>LS2017.Oct</td>\n",
       "      <td>1.555987e+05</td>\n",
       "      <td>34454.718118</td>\n",
       "      <td>4.516035</td>\n",
       "      <td>6.300838e-06</td>\n",
       "    </tr>\n",
       "    <tr>\n",
       "      <th>6</th>\n",
       "      <td>AO2020.Mar</td>\n",
       "      <td>6.905476e+05</td>\n",
       "      <td>35202.124048</td>\n",
       "      <td>19.616646</td>\n",
       "      <td>1.114684e-85</td>\n",
       "    </tr>\n",
       "    <tr>\n",
       "      <th>7</th>\n",
       "      <td>LS2020.Mar</td>\n",
       "      <td>-1.393906e+06</td>\n",
       "      <td>48884.268126</td>\n",
       "      <td>-28.514414</td>\n",
       "      <td>7.763231e-179</td>\n",
       "    </tr>\n",
       "    <tr>\n",
       "      <th>8</th>\n",
       "      <td>LS2020.Aug</td>\n",
       "      <td>2.011510e+05</td>\n",
       "      <td>35893.976511</td>\n",
       "      <td>5.604032</td>\n",
       "      <td>2.094225e-08</td>\n",
       "    </tr>\n",
       "    <tr>\n",
       "      <th>9</th>\n",
       "      <td>LS2021.Mar</td>\n",
       "      <td>2.097053e+05</td>\n",
       "      <td>42049.151322</td>\n",
       "      <td>4.987147</td>\n",
       "      <td>6.127746e-07</td>\n",
       "    </tr>\n",
       "    <tr>\n",
       "      <th>10</th>\n",
       "      <td>AO2021.Jul</td>\n",
       "      <td>1.553088e+05</td>\n",
       "      <td>30692.570145</td>\n",
       "      <td>5.060142</td>\n",
       "      <td>4.189449e-07</td>\n",
       "    </tr>\n",
       "    <tr>\n",
       "      <th>11</th>\n",
       "      <td>AR-Nonseasonal-01</td>\n",
       "      <td>-1.848164e+00</td>\n",
       "      <td>0.034005</td>\n",
       "      <td>-54.349401</td>\n",
       "      <td>0.000000e+00</td>\n",
       "    </tr>\n",
       "    <tr>\n",
       "      <th>12</th>\n",
       "      <td>AR-Nonseasonal-02</td>\n",
       "      <td>-9.446294e-01</td>\n",
       "      <td>0.033233</td>\n",
       "      <td>-28.424690</td>\n",
       "      <td>1.001787e-177</td>\n",
       "    </tr>\n",
       "    <tr>\n",
       "      <th>13</th>\n",
       "      <td>AR-Seasonal-12</td>\n",
       "      <td>9.962155e-01</td>\n",
       "      <td>0.002623</td>\n",
       "      <td>379.754898</td>\n",
       "      <td>0.000000e+00</td>\n",
       "    </tr>\n",
       "    <tr>\n",
       "      <th>14</th>\n",
       "      <td>MA-Nonseasonal-01</td>\n",
       "      <td>-1.664358e+00</td>\n",
       "      <td>0.063893</td>\n",
       "      <td>-26.048958</td>\n",
       "      <td>1.382415e-149</td>\n",
       "    </tr>\n",
       "    <tr>\n",
       "      <th>15</th>\n",
       "      <td>MA-Nonseasonal-02</td>\n",
       "      <td>-7.416220e-01</td>\n",
       "      <td>0.063031</td>\n",
       "      <td>-11.765976</td>\n",
       "      <td>5.844640e-32</td>\n",
       "    </tr>\n",
       "    <tr>\n",
       "      <th>16</th>\n",
       "      <td>MA-Seasonal-12</td>\n",
       "      <td>5.234411e-01</td>\n",
       "      <td>0.063682</td>\n",
       "      <td>8.219623</td>\n",
       "      <td>2.041440e-16</td>\n",
       "    </tr>\n",
       "    <tr>\n",
       "      <th>17</th>\n",
       "      <td>MA-Seasonal-24</td>\n",
       "      <td>2.395042e-01</td>\n",
       "      <td>0.065214</td>\n",
       "      <td>3.672616</td>\n",
       "      <td>2.400801e-04</td>\n",
       "    </tr>\n",
       "  </tbody>\n",
       "</table>"
      ],
      "text/plain": [
       "<IPython.core.display.HTML object>"
      ]
     },
     "metadata": {},
     "output_type": "display_data"
    },
    {
     "data": {
      "image/png": "[encoded data removed]",
      "text/plain": [
       "<Figure size 1008x504 with 1 Axes>"
      ]
     },
     "metadata": {},
     "output_type": "display_data"
    },
    {
     "name": "stdout",
     "output_type": "stream",
     "text": [
      "========================================================================================================================\n",
      "IAH-Int identified outliers:\n"
     ]
    },
    {
     "data": {
      "text/html": [
       "<table border=\"1\" class=\"dataframe\">\n",
       "  <thead>\n",
       "    <tr style=\"text-align: right;\">\n",
       "      <th></th>\n",
       "      <th>term</th>\n",
       "      <th>coef</th>\n",
       "    </tr>\n",
       "  </thead>\n",
       "  <tbody>\n",
       "    <tr>\n",
       "      <th>0</th>\n",
       "      <td>LS2001.Sep</td>\n",
       "      <td>-46902.640919</td>\n",
       "    </tr>\n",
       "    <tr>\n",
       "      <th>1</th>\n",
       "      <td>AO2008.Sep</td>\n",
       "      <td>-48241.274173</td>\n",
       "    </tr>\n",
       "    <tr>\n",
       "      <th>2</th>\n",
       "      <td>AO2009.May</td>\n",
       "      <td>-48303.822068</td>\n",
       "    </tr>\n",
       "    <tr>\n",
       "      <th>3</th>\n",
       "      <td>AO2017.Aug</td>\n",
       "      <td>-68160.707247</td>\n",
       "    </tr>\n",
       "    <tr>\n",
       "      <th>4</th>\n",
       "      <td>LS2020.Mar</td>\n",
       "      <td>-271379.392903</td>\n",
       "    </tr>\n",
       "    <tr>\n",
       "      <th>5</th>\n",
       "      <td>AO2020.Apr</td>\n",
       "      <td>103012.699114</td>\n",
       "    </tr>\n",
       "    <tr>\n",
       "      <th>6</th>\n",
       "      <td>LS2020.Apr</td>\n",
       "      <td>-264364.518996</td>\n",
       "    </tr>\n",
       "    <tr>\n",
       "      <th>7</th>\n",
       "      <td>AO2020.May</td>\n",
       "      <td>46103.922187</td>\n",
       "    </tr>\n",
       "    <tr>\n",
       "      <th>8</th>\n",
       "      <td>AO2020.Aug</td>\n",
       "      <td>-88321.494924</td>\n",
       "    </tr>\n",
       "    <tr>\n",
       "      <th>9</th>\n",
       "      <td>LS2020.Aug</td>\n",
       "      <td>191603.716110</td>\n",
       "    </tr>\n",
       "    <tr>\n",
       "      <th>10</th>\n",
       "      <td>LS2021.Apr</td>\n",
       "      <td>101417.052359</td>\n",
       "    </tr>\n",
       "    <tr>\n",
       "      <th>11</th>\n",
       "      <td>AR-Nonseasonal-01</td>\n",
       "      <td>1.606716</td>\n",
       "    </tr>\n",
       "    <tr>\n",
       "      <th>12</th>\n",
       "      <td>AR-Nonseasonal-02</td>\n",
       "      <td>-1.262076</td>\n",
       "    </tr>\n",
       "    <tr>\n",
       "      <th>13</th>\n",
       "      <td>AR-Nonseasonal-03</td>\n",
       "      <td>0.332940</td>\n",
       "    </tr>\n",
       "    <tr>\n",
       "      <th>14</th>\n",
       "      <td>AR-Nonseasonal-04</td>\n",
       "      <td>0.298284</td>\n",
       "    </tr>\n",
       "    <tr>\n",
       "      <th>15</th>\n",
       "      <td>MA-Nonseasonal-01</td>\n",
       "      <td>0.946225</td>\n",
       "    </tr>\n",
       "    <tr>\n",
       "      <th>16</th>\n",
       "      <td>MA-Nonseasonal-02</td>\n",
       "      <td>-0.883874</td>\n",
       "    </tr>\n",
       "    <tr>\n",
       "      <th>17</th>\n",
       "      <td>MA-Seasonal-12</td>\n",
       "      <td>0.542769</td>\n",
       "    </tr>\n",
       "    <tr>\n",
       "      <th>18</th>\n",
       "      <td>MA-Seasonal-24</td>\n",
       "      <td>0.024688</td>\n",
       "    </tr>\n",
       "  </tbody>\n",
       "</table>"
      ],
      "text/plain": [
       "<IPython.core.display.HTML object>"
      ]
     },
     "metadata": {},
     "output_type": "display_data"
    },
    {
     "data": {
      "image/png": "[encoded data removed]",
      "text/plain": [
       "<Figure size 1008x504 with 1 Axes>"
      ]
     },
     "metadata": {},
     "output_type": "display_data"
    },
    {
     "name": "stdout",
     "output_type": "stream",
     "text": [
      "========================================================================================================================\n",
      "HOU-Dom identified outliers:\n"
     ]
    },
    {
     "data": {
      "text/html": [
       "<table border=\"1\" class=\"dataframe\">\n",
       "  <thead>\n",
       "    <tr style=\"text-align: right;\">\n",
       "      <th></th>\n",
       "      <th>term</th>\n",
       "      <th>estimate</th>\n",
       "      <th>std.error</th>\n",
       "      <th>statistic</th>\n",
       "      <th>p.value</th>\n",
       "    </tr>\n",
       "  </thead>\n",
       "  <tbody>\n",
       "    <tr>\n",
       "      <th>1</th>\n",
       "      <td>LS2001.Sep</td>\n",
       "      <td>-85632.602251</td>\n",
       "      <td>12495.925484</td>\n",
       "      <td>-6.852842</td>\n",
       "      <td>7.239707e-12</td>\n",
       "    </tr>\n",
       "    <tr>\n",
       "      <th>2</th>\n",
       "      <td>AO2008.Sep</td>\n",
       "      <td>-88744.787527</td>\n",
       "      <td>12464.479412</td>\n",
       "      <td>-7.119815</td>\n",
       "      <td>1.080720e-12</td>\n",
       "    </tr>\n",
       "    <tr>\n",
       "      <th>3</th>\n",
       "      <td>LS2017.Aug</td>\n",
       "      <td>-90553.817152</td>\n",
       "      <td>12640.223191</td>\n",
       "      <td>-7.163941</td>\n",
       "      <td>7.838997e-13</td>\n",
       "    </tr>\n",
       "    <tr>\n",
       "      <th>4</th>\n",
       "      <td>LS2017.Oct</td>\n",
       "      <td>105731.426410</td>\n",
       "      <td>12643.174897</td>\n",
       "      <td>8.362728</td>\n",
       "      <td>6.128465e-17</td>\n",
       "    </tr>\n",
       "    <tr>\n",
       "      <th>5</th>\n",
       "      <td>AO2020.Mar</td>\n",
       "      <td>236306.038298</td>\n",
       "      <td>15201.748061</td>\n",
       "      <td>15.544662</td>\n",
       "      <td>1.729321e-54</td>\n",
       "    </tr>\n",
       "    <tr>\n",
       "      <th>6</th>\n",
       "      <td>LS2020.Mar</td>\n",
       "      <td>-526348.953668</td>\n",
       "      <td>14836.264180</td>\n",
       "      <td>-35.477189</td>\n",
       "      <td>1.105109e-275</td>\n",
       "    </tr>\n",
       "    <tr>\n",
       "      <th>7</th>\n",
       "      <td>LS2020.Jun</td>\n",
       "      <td>95512.900371</td>\n",
       "      <td>13654.959261</td>\n",
       "      <td>6.994741</td>\n",
       "      <td>2.657498e-12</td>\n",
       "    </tr>\n",
       "    <tr>\n",
       "      <th>8</th>\n",
       "      <td>LS2020.Aug</td>\n",
       "      <td>100406.534071</td>\n",
       "      <td>13257.143650</td>\n",
       "      <td>7.573768</td>\n",
       "      <td>3.625509e-14</td>\n",
       "    </tr>\n",
       "    <tr>\n",
       "      <th>9</th>\n",
       "      <td>LS2020.Dec</td>\n",
       "      <td>58262.435001</td>\n",
       "      <td>13138.234676</td>\n",
       "      <td>4.434571</td>\n",
       "      <td>9.225580e-06</td>\n",
       "    </tr>\n",
       "    <tr>\n",
       "      <th>10</th>\n",
       "      <td>LS2021.Mar</td>\n",
       "      <td>127349.967351</td>\n",
       "      <td>13257.697291</td>\n",
       "      <td>9.605738</td>\n",
       "      <td>7.561425e-22</td>\n",
       "    </tr>\n",
       "    <tr>\n",
       "      <th>11</th>\n",
       "      <td>AR-Nonseasonal-01</td>\n",
       "      <td>0.928489</td>\n",
       "      <td>0.036229</td>\n",
       "      <td>25.628421</td>\n",
       "      <td>7.358402e-145</td>\n",
       "    </tr>\n",
       "    <tr>\n",
       "      <th>12</th>\n",
       "      <td>AR-Seasonal-12</td>\n",
       "      <td>0.993793</td>\n",
       "      <td>0.004480</td>\n",
       "      <td>221.815101</td>\n",
       "      <td>0.000000e+00</td>\n",
       "    </tr>\n",
       "    <tr>\n",
       "      <th>13</th>\n",
       "      <td>MA-Nonseasonal-01</td>\n",
       "      <td>1.460525</td>\n",
       "      <td>0.069873</td>\n",
       "      <td>20.902718</td>\n",
       "      <td>5.058164e-97</td>\n",
       "    </tr>\n",
       "    <tr>\n",
       "      <th>14</th>\n",
       "      <td>MA-Nonseasonal-02</td>\n",
       "      <td>-0.468047</td>\n",
       "      <td>0.067217</td>\n",
       "      <td>-6.963267</td>\n",
       "      <td>3.324719e-12</td>\n",
       "    </tr>\n",
       "    <tr>\n",
       "      <th>15</th>\n",
       "      <td>MA-Seasonal-12</td>\n",
       "      <td>0.712880</td>\n",
       "      <td>0.049198</td>\n",
       "      <td>14.489957</td>\n",
       "      <td>1.402312e-47</td>\n",
       "    </tr>\n",
       "  </tbody>\n",
       "</table>"
      ],
      "text/plain": [
       "<IPython.core.display.HTML object>"
      ]
     },
     "metadata": {},
     "output_type": "display_data"
    },
    {
     "data": {
      "image/png": "[encoded data removed]",
      "text/plain": [
       "<Figure size 1008x504 with 1 Axes>"
      ]
     },
     "metadata": {},
     "output_type": "display_data"
    },
    {
     "name": "stdout",
     "output_type": "stream",
     "text": [
      "========================================================================================================================\n",
      "HOU-Int identified outliers:\n"
     ]
    },
    {
     "data": {
      "text/html": [
       "<table border=\"1\" class=\"dataframe\">\n",
       "  <thead>\n",
       "    <tr style=\"text-align: right;\">\n",
       "      <th></th>\n",
       "      <th>term</th>\n",
       "      <th>estimate</th>\n",
       "      <th>std.error</th>\n",
       "      <th>statistic</th>\n",
       "      <th>p.value</th>\n",
       "    </tr>\n",
       "  </thead>\n",
       "  <tbody>\n",
       "    <tr>\n",
       "      <th>1</th>\n",
       "      <td>AO2020.Mar</td>\n",
       "      <td>17024.000969</td>\n",
       "      <td>3545.330962</td>\n",
       "      <td>4.801809</td>\n",
       "      <td>1.572389e-06</td>\n",
       "    </tr>\n",
       "    <tr>\n",
       "      <th>2</th>\n",
       "      <td>LS2020.Mar</td>\n",
       "      <td>-37452.804786</td>\n",
       "      <td>5013.855130</td>\n",
       "      <td>-7.469862</td>\n",
       "      <td>8.027910e-14</td>\n",
       "    </tr>\n",
       "    <tr>\n",
       "      <th>3</th>\n",
       "      <td>MA-Seasonal-12</td>\n",
       "      <td>0.999268</td>\n",
       "      <td>0.135137</td>\n",
       "      <td>7.394503</td>\n",
       "      <td>1.419376e-13</td>\n",
       "    </tr>\n",
       "  </tbody>\n",
       "</table>"
      ],
      "text/plain": [
       "<IPython.core.display.HTML object>"
      ]
     },
     "metadata": {},
     "output_type": "display_data"
    },
    {
     "data": {
      "image/png": "[encoded data removed]",
      "text/plain": [
       "<Figure size 1008x504 with 1 Axes>"
      ]
     },
     "metadata": {},
     "output_type": "display_data"
    },
    {
     "name": "stdout",
     "output_type": "stream",
     "text": [
      "========================================================================================================================\n"
     ]
    }
   ],
   "source": [
    "for series, orders in log_progress(series_map.items()):\n",
    "    f_dict[series] = forecast(series,orders)"
   ]
  },
  {
   "cell_type": "markdown",
   "id": "32fbf701-33a0-49dd-ad9e-358e853a612b",
   "metadata": {},
   "source": [
    "Visualize results on test set."
   ]
  },
  {
   "cell_type": "code",
   "execution_count": 4,
   "id": "ec30b458-0d8d-492e-bbe0-d111c9aaf5ee",
   "metadata": {},
   "outputs": [
    {
     "data": {
      "application/vnd.jupyter.widget-view+json": {
       "model_id": "4f51af1944d94b36846f0578d46f7e6f",
       "version_major": 2,
       "version_minor": 0
      },
      "text/plain": [
       "Dropdown(description='Time Series:', options=('IAH-Dom', 'IAH-Int', 'HOU-Dom', 'HOU-Int'), value='IAH-Dom')"
      ]
     },
     "metadata": {},
     "output_type": "display_data"
    },
    {
     "data": {
      "application/vnd.jupyter.widget-view+json": {
       "model_id": "b2b85b7df1e746f19085d769430cd4fa",
       "version_major": 2,
       "version_minor": 0
      },
      "text/plain": [
       "Dropdown(description='No. Models', options=(1, 2, 3), value=1)"
      ]
     },
     "metadata": {},
     "output_type": "display_data"
    },
    {
     "data": {
      "application/vnd.jupyter.widget-view+json": {
       "model_id": "179bfe0cbf3f4c1393800ad36940c5e1",
       "version_major": 2,
       "version_minor": 0
      },
      "text/plain": [
       "Dropdown(description='View Level', options=(True, False), value=True)"
      ]
     },
     "metadata": {},
     "output_type": "display_data"
    },
    {
     "data": {
      "application/vnd.jupyter.widget-view+json": {
       "model_id": "92a9d0be1e344b2597398d4d07b835fe",
       "version_major": 2,
       "version_minor": 0
      },
      "text/plain": [
       "Dropdown(description='View Confidence Intervals', options=(True, False), value=True)"
      ]
     },
     "metadata": {},
     "output_type": "display_data"
    },
    {
     "data": {
      "application/vnd.jupyter.widget-view+json": {
       "model_id": "7407cc58e8d74964b8f64cf48bca7844",
       "version_major": 2,
       "version_minor": 0
      },
      "text/plain": [
       "Dropdown(description='Order By', options=('InSampleMAE', 'InSampleMAPE', 'InSampleR2', 'InSampleRMSE', 'LevelT…"
      ]
     },
     "metadata": {},
     "output_type": "display_data"
    },
    {
     "data": {
      "application/vnd.jupyter.widget-view+json": {
       "model_id": "7525227202ba47ea9f4e98aceac4b7d8",
       "version_major": 2,
       "version_minor": 0
      },
      "text/plain": [
       "Button(description='Select Time Series', style=ButtonStyle())"
      ]
     },
     "metadata": {},
     "output_type": "display_data"
    },
    {
     "data": {
      "application/vnd.jupyter.widget-view+json": {
       "model_id": "50ad607fe94f4daeb4f32bfd25b56da1",
       "version_major": 2,
       "version_minor": 0
      },
      "text/plain": [
       "Output()"
      ]
     },
     "metadata": {},
     "output_type": "display_data"
    }
   ],
   "source": [
    "results_vis(f_dict,'test')"
   ]
  },
  {
   "cell_type": "markdown",
   "id": "56f1a328-0b13-4ab2-a1c1-7e474729e328",
   "metadata": {},
   "source": [
    "Visualize proposed forecasts to future."
   ]
  },
  {
   "cell_type": "code",
   "execution_count": 5,
   "id": "0cd52ad6-6dec-424d-b314-5118d7870590",
   "metadata": {},
   "outputs": [
    {
     "data": {
      "application/vnd.jupyter.widget-view+json": {
       "model_id": "3ae642abaee347a184bcabf35dcde080",
       "version_major": 2,
       "version_minor": 0
      },
      "text/plain": [
       "Dropdown(description='Time Series:', options=('IAH-Dom', 'IAH-Int', 'HOU-Dom', 'HOU-Int'), value='IAH-Dom')"
      ]
     },
     "metadata": {},
     "output_type": "display_data"
    },
    {
     "data": {
      "application/vnd.jupyter.widget-view+json": {
       "model_id": "3570bd6a21fb425fbaacbd13449f93c2",
       "version_major": 2,
       "version_minor": 0
      },
      "text/plain": [
       "Dropdown(description='No. Models', options=(1, 2, 3), value=1)"
      ]
     },
     "metadata": {},
     "output_type": "display_data"
    },
    {
     "data": {
      "application/vnd.jupyter.widget-view+json": {
       "model_id": "9f158b4d8717478b9ed04dfe24923dd1",
       "version_major": 2,
       "version_minor": 0
      },
      "text/plain": [
       "Dropdown(description='View Level', options=(True, False), value=True)"
      ]
     },
     "metadata": {},
     "output_type": "display_data"
    },
    {
     "data": {
      "application/vnd.jupyter.widget-view+json": {
       "model_id": "a4aa82381c7d45789253d1b8ea898afa",
       "version_major": 2,
       "version_minor": 0
      },
      "text/plain": [
       "Dropdown(description='View Confidence Intervals', options=(True, False), value=True)"
      ]
     },
     "metadata": {},
     "output_type": "display_data"
    },
    {
     "data": {
      "application/vnd.jupyter.widget-view+json": {
       "model_id": "858e8e8fdc6b4ed085637589e48ef4ba",
       "version_major": 2,
       "version_minor": 0
      },
      "text/plain": [
       "Dropdown(description='Order By', options=('InSampleMAE', 'InSampleMAPE', 'InSampleR2', 'InSampleRMSE', 'LevelT…"
      ]
     },
     "metadata": {},
     "output_type": "display_data"
    },
    {
     "data": {
      "application/vnd.jupyter.widget-view+json": {
       "model_id": "d7db8db0da6540b5ad523f2ef7b2a939",
       "version_major": 2,
       "version_minor": 0
      },
      "text/plain": [
       "Button(description='Select Time Series', style=ButtonStyle())"
      ]
     },
     "metadata": {},
     "output_type": "display_data"
    },
    {
     "data": {
      "application/vnd.jupyter.widget-view+json": {
       "model_id": "0c8d7c84f5454feba7f0891dd31e6355",
       "version_major": 2,
       "version_minor": 0
      },
      "text/plain": [
       "Output()"
      ]
     },
     "metadata": {},
     "output_type": "display_data"
    }
   ],
   "source": [
    "results_vis(f_dict,'forecast',print_attr=['TestSet'+metric,'InSample'+metric])"
   ]
  },
  {
   "cell_type": "code",
   "execution_count": null,
   "id": "815159f7-7451-452d-b985-1e4efcd5d7d8",
   "metadata": {},
   "outputs": [],
   "source": []
  }
 ],
 "metadata": {
  "kernelspec": {
   "display_name": "Python 3",
   "language": "python",
   "name": "python3"
  },
  "language_info": {
   "codemirror_mode": {
    "name": "ipython",
    "version": 3
   },
   "file_extension": ".py",
   "mimetype": "text/x-python",
   "name": "python",
   "nbconvert_exporter": "python",
   "pygments_lexer": "ipython3",
   "version": "3.8.8"
  },
  "widgets": {
   "application/vnd.jupyter.widget-state+json": {
    "state": {
     "05ae7923149f4356b0f10e8e177d35d4": {
      "model_module": "@jupyter-widgets/controls",
      "model_module_version": "1.5.0",
      "model_name": "ButtonStyleModel",
      "state": {}
     },
     "08746b229d63491fa953403d8d7feaf4": {
      "model_module": "@jupyter-widgets/base",
      "model_module_version": "1.2.0",
      "model_name": "LayoutModel",
      "state": {}
     },
     "0c8d7c84f5454feba7f0891dd31e6355": {
      "model_module": "@jupyter-widgets/output",
      "model_module_version": "1.0.0",
      "model_name": "OutputModel",
      "state": {
       "layout": "IPY_MODEL_dad8128795a346a881976855249a6b8c"
      }
     },
     "152fd3aefb5b433a9ce08a156d72ef7e": {
      "model_module": "@jupyter-widgets/base",
      "model_module_version": "1.2.0",
      "model_name": "LayoutModel",
      "state": {}
     },
     "179bfe0cbf3f4c1393800ad36940c5e1": {
      "model_module": "@jupyter-widgets/controls",
      "model_module_version": "1.5.0",
      "model_name": "DropdownModel",
      "state": {
       "_options_labels": [
        "True",
        "False"
       ],
       "description": "View Level",
       "index": 1,
       "layout": "IPY_MODEL_ee0c2920c7664017b564a0f0a73c6983",
       "style": "IPY_MODEL_207736f7a377499bac8d418c158eecc5"
      }
     },
     "207736f7a377499bac8d418c158eecc5": {
      "model_module": "@jupyter-widgets/controls",
      "model_module_version": "1.5.0",
      "model_name": "DescriptionStyleModel",
      "state": {
       "description_width": ""
      }
     },
     "21bd84f58dd443cfaaf0ddf10d92fe47": {
      "model_module": "@jupyter-widgets/controls",
      "model_module_version": "1.5.0",
      "model_name": "HBoxModel",
      "state": {
       "children": [
        "IPY_MODEL_bf37ed0aafba49b392de1a108ce1a800",
        "IPY_MODEL_8e67d745eec34a5ca3edf0ed85561ae5",
        "IPY_MODEL_4c8ee0b33e944ed49da949829c0e6622"
       ],
       "layout": "IPY_MODEL_3c705ad06a72445d9f875d3973796927"
      }
     },
     "3570bd6a21fb425fbaacbd13449f93c2": {
      "model_module": "@jupyter-widgets/controls",
      "model_module_version": "1.5.0",
      "model_name": "DropdownModel",
      "state": {
       "_options_labels": [
        "1",
        "2",
        "3"
       ],
       "description": "No. Models",
       "index": 0,
       "layout": "IPY_MODEL_08746b229d63491fa953403d8d7feaf4",
       "style": "IPY_MODEL_cdc6d56dd1ff4d2ab95c0ece2b661ca6"
      }
     },
     "3ae642abaee347a184bcabf35dcde080": {
      "model_module": "@jupyter-widgets/controls",
      "model_module_version": "1.5.0",
      "model_name": "DropdownModel",
      "state": {
       "_options_labels": [
        "IAH-Dom",
        "IAH-Int",
        "HOU-Dom",
        "HOU-Int"
       ],
       "description": "Time Series:",
       "index": 0,
       "layout": "IPY_MODEL_6bb34691d9e5451e8a9bf06e095e81f9",
       "style": "IPY_MODEL_aad79522e7c443498eda7cae2df2a9ca"
      }
     },
     "3c705ad06a72445d9f875d3973796927": {
      "model_module": "@jupyter-widgets/base",
      "model_module_version": "1.2.0",
      "model_name": "LayoutModel",
      "state": {}
     },
     "440c03ff4d594a6b86add22847e1df81": {
      "model_module": "@jupyter-widgets/base",
      "model_module_version": "1.2.0",
      "model_name": "LayoutModel",
      "state": {}
     },
     "4847b9e77c394cee8dd9266ef07057af": {
      "model_module": "@jupyter-widgets/base",
      "model_module_version": "1.2.0",
      "model_name": "LayoutModel",
      "state": {}
     },
     "4c8ee0b33e944ed49da949829c0e6622": {
      "model_module": "@jupyter-widgets/controls",
      "model_module_version": "1.5.0",
      "model_name": "HTMLModel",
      "state": {
       "layout": "IPY_MODEL_7c85f6ab65d34e0ba68a5a53a236e05b",
       "style": "IPY_MODEL_f02276e21ae0405798f09a51bb03e50f",
       "value": " 4/4 [02:12&lt;00:00, 29.49s/it]"
      }
     },
     "4f51af1944d94b36846f0578d46f7e6f": {
      "model_module": "@jupyter-widgets/controls",
      "model_module_version": "1.5.0",
      "model_name": "DropdownModel",
      "state": {
       "_options_labels": [
        "IAH-Dom",
        "IAH-Int",
        "HOU-Dom",
        "HOU-Int"
       ],
       "description": "Time Series:",
       "index": 0,
       "layout": "IPY_MODEL_8893d6f1dbc941dd9c0818265105cc93",
       "style": "IPY_MODEL_d226bfba2ba04415b0037f314d82e9dc"
      }
     },
     "50ad607fe94f4daeb4f32bfd25b56da1": {
      "model_module": "@jupyter-widgets/output",
      "model_module_version": "1.0.0",
      "model_name": "OutputModel",
      "state": {
       "layout": "IPY_MODEL_440c03ff4d594a6b86add22847e1df81",
       "outputs": [
        {
         "data": {
          "image/png": "iVBORw0KGgoAAAANSUhEUgAAA0gAAAG+CAYAAACpsyT2AAAAOXRFWHRTb2Z0d2FyZQBNYXRwbG90bGliIHZlcnNpb24zLjQuMywgaHR0cHM6Ly9tYXRwbG90bGliLm9yZy/MnkTPAAAACXBIWXMAAAsTAAALEwEAmpwYAAEAAElEQVR4nOz9d5gkV3X/j79uVXXuyTObV9pVQGmFJLQChEEIgRBgsGww0WAckDFYFthGH/IPjI0BW4SvkUTOYGMhQCKKJAzIEooo7Gpz3smpc3Wle39/VHXP9M7MTs9uz8yuuK/n2WdnOtXpqpru+65zzvsIpZRCo9FoNBqNRqPRaDQYyx2ARqPRaDQajUaj0ZwoaIGk0Wg0Go1Go9FoNBFaIGk0Go1Go9FoNBpNhBZIGo1Go9FoNBqNRhOhBZJGo9FoNBqNRqPRRGiBpNFoNBrNEvJEMY99orwPjUajORItkDQajWYJ+eQnP8lFF100631f+cpXOOuss3j/+98/6/2ve93reOMb3zjrfffeey9nnXUWjz322FG3f8UVV3DWWWfV/5133nn8wR/8AX//93/P1q1bF/ReWsk73vGOhriO/Oc4zrLF1kpuueUWPvGJTxz1MUceo7POOotNmzbxzGc+k7e97W0MDw8vTbBHxPSBD3yg/vuNN97If/3Xfy15HBqNRrMUWMsdgEaj0WhCbr/9ds4880x+8IMf8I53vINkMrko27nqqqv4q7/6KwBc12VwcJAvfelLvPKVr+RLX/oSl1xyyaJsdz7Wr1/PDTfcMOt98Xh8iaNZHD796U9z+eWXz/u46ccIwLZtHnnkEW6++Wb279/PrbfeuohRzs8nP/lJ/t//+3/LGoNGo9EsFlogaTQazQnArl272Lp1K1/60pe45ppruOOOO/jjP/7jRdlWb28vF154YcNtV155JS972ct45zvfyR133IFlLf3XQzKZnBHX7yuzHaNLL70U27b59Kc/ze7duznjjDOWJziNRqN5gqNL7DQajeYE4LbbbqOvr49LL72USy+9lG9961tLuv10Os1f//Vfc+jQIX7729/Wb9++fTtveMMbeOpTn8pTn/pUrr/+esbGxur3v+Md7+C6667jC1/4ApdddhkXXngh1113HaVSiRtvvJFnPOMZPO1pT+Nf//VfkVIed5wTExO85z3v4bLLLuOCCy7gz//8zxvKCr/zne/wtKc9jc9//vM87WlP49nPfjaVSgWAr371qzz/+c9n06ZN/OEf/iE/+tGPGl67Wq3ykY98hMsuu4yLLrqIV73qVTzwwAP1+0dGRnjnO9/JM5/5TM477zye+cxn8sEPfhDXdeuP+dWvfsVLX/pSLrjgAi699FLe+c53ksvlgLBMrb+/n2984xucddZZx/T+M5nMjNu2bNnC61//ei644AKe/vSn8y//8i/Ytl2/f3R0lLe85S087WlP44ILLuA1r3kN9913X/3+2Uo3v/zlL88ZY+32f//3f+eKK65oahsajUZzMqEFkkaj0SwzUkq+//3v85KXvAQhBFdffTUPPPAA+/btm/FYpRS+78/41wrxcemllwLwu9/9DoBt27bxyle+Es/z+PCHP8y73vUuHnjgAV772tfWRQfAXXfdxc9+9jP+5V/+heuvv56f/exnvOxlL+ORRx7hIx/5CK94xSv42te+NkOQzMZs761GuVzm1a9+NXfffTf/9E//xMc//nGUUrz2ta9lx44d9ccVi0W+//3vc8MNN/DOd76TdDrNjTfeyEc+8hFe9KIX8elPf5pnPOMZ/OM//iM//vGP689761vfyi233MIb3vAGbrrpJnp6erjmmms4cOAAUkre8IY38Pjjj/O+972Pz3/+81x99dV89atf5X/+538AOHDgANdeey1PecpT+OxnP8vb3/52fvnLX9Z7d2688Ub6+vq46qqr6s+ZiyOPc7FY5Je//CVf/OIX2bRpE6eddhoAu3fv5rWvfS1CCD7xiU/wtre9jR/96Ee89a1vrb/W9ddfz8GDB/nQhz7EzTffTCqV4o1vfGNduC2UWuyve93ruPHGGxdlGxqNRrOc6BI7jUajWWbuuecehoeHufrqq4Gw3C2TyfCtb31rRp/Hr371K84777xFiaOnpwegniG6+eab6e7u5nOf+1y9B2jTpk285CUv4dvf/jave93rAKhUKvznf/4nK1asAOB73/seu3fv5tvf/jbZbJZnPetZfO973+ORRx7hxS9+8Zzb37Vr16zv7dZbb+X888/nO9/5DgcPHuT73/9+vbzsmc98JldddRU33ngjn/zkJwEIgoBrr72WZz3rWQAUCgU++9nP8oY3vKEuHJ75zGdSLpf56Ec/ygtf+EK2b9/OL3/5Sz7ykY/USxs3b97Mn/zJn/DQQw8Rj8fp6Ojg3e9+N2effTYQCsrf/OY33H///bzuda9jy5YtuK7L3/zN39T3RSaTob+/H4Bzzz2XeDw+a/nckfzXf/3XDBOETCbDFVdcwTve8Q4Mw6gfo97eXj772c/Wj9GGDRv4sz/7M+6//34uueQSHnzwQa699tp6tufMM8/kS1/6ErZt09nZedQ4ZqMW++rVqzn33HMBWr4NjUajWU60QNJoNJpl5rbbbuP0009nzZo1FAoFAJ7znOdw++238w//8A/EYrH6Yy+++GLe+c53zniNrVu38r73va/++/TMC4BpmgghFhTX/fffz4tf/OIGg4QzzjiDs846qy4KIFwo1wQBhEIrCAKy2Wz9ts7OTorF4lG3d8opp/Cxj31sxu01MXT//fdzxhlnNPTexONxrrzySm6//faG52zcuLH+88MPP4zjOFx++eUN++Wyyy7j29/+NocOHeKhhx4CqC/wa6/9wx/+sP771772NaSU7N+/n/3797N9+3bGx8dZs2YNAE9+8pOJx+O8/OUv50UvehGXX345V1xxBaZpHvV9z8YLX/hC/vqv/xqlFA8//DA33HADL3vZy3jXu97VcBzvvfdenvvc52IYRv29XXjhhWSzWe655x4uueQSNm/ezH/+53+yY8cOnv3sZ/PsZz+bt7/97QuO6WgsxTY0Go1mqXjCCqRSqcSrXvUqPv3pT7Nu3bo5H7d3717e9773kc/n6evr42Mf+xgdHR1LGKlGo/l9plwu8/Of/5xKpTKre9wvf/lLnv/859d/b2tr4/zzz5/xuOklb8CMTMyHPvQhXvrSlx41lpp99MqVK4Ew81LLKk2np6eHUqlU/322vphUKnXUbc1GIpGY9b3VKBQK9Pb2zri9t7eXcrnccFt3d3f951qZ16te9apZX3d0dJR8Pk8sFqO9vX3O7X/rW9/iE5/4BGNjY/T19XHBBReQSCTq84DWr1/Pl7/8ZT772c/y9a9/nS9+8Yv09vZy/fXXL9hwo7u7u74vnvzkJ5PNZnnnO99JNpvlLW95S8N7+5//+Z9ZS/ZGR0cB+PjHP85NN93Ej3/8Y374wx8Si8V40YtexAc+8IGWOSUuxTY0Go1mqXhCCqRHHnmE97znPezfv/+oj1NK8aY3vYl3v/vdXHbZZdxwww189rOf5frrr1+aQDUaze89P/3pT6lUKnzyk5+ccXHm//2//8e3vvWtBoHULEfaQB/tQlGNe++9FwizVAAdHR2Mj4/PeNzY2Binn376gmM6Xjo6Oti7d++M20dHR49axtXW1gbATTfdVBd/09m4cSOPP/44nudRLBbrj4ewH6u9vZ3x8XHe+9738uY3v5nXvva1dQH2p3/6pw2vdfHFF/OZz3wG27a55557+PznP8+73vUuLr300lm33SwvfelL+cEPfsBnPvMZrrzyynppWzab5bnPfS6vfvWrZzynq6sLCLN37373u3n3u9/Ntm3b+N73vseXvvQlzjjjDP7mb/4GYEYP25GCez6a2YZGo9GcLDwhTRpuueUW3ve+9zWUfNx22238yZ/8CVdffTXvete7cByHrVu3kk6nueyyywD427/9W/7sz/5sucLWaDS/h9x2222cd955PP/5z+dpT3taw78XvehF3HXXXQwNDS34dc8///yGf7XF8lw4jsOXv/xlNmzYUM9kXXzxxfziF79ocGnbs2cPO3fu5ClPecqCYzpeLr74Ynbv3s2ePXvqt7muy89//vOjxnPBBRcQi8UYHx9v2Ce7du3ipptuAqgP7/3lL3/Z8Npvfetbuf3223n44YcRQvCmN72pLo6Gh4fZuXNnPYP0rW99iyuuuALP80ilUlxxxRW89a1vJQiCenau1jt0LLz73e9GCMG//du/NeyTvXv3smnTpvr7Wr16NR/96EfZtWsXExMTXH755fz0pz8F4JxzzuHtb387a9asYXBwEAhF1sjISMO2HnzwwaPGMv19NLMNjUajOZl4QmaQPvjBDzb8vmvXLm655Ra++c1vkkgk+OhHP8oXvvAFNmzYQG9vL29/+9t5/PHHedKTnsR73/veZYpao9H8vjE4OMh9993HP/zDP8x6/x/90R/xxS9+kVtvvZVrr722ZdsdGxvj4YcfBsDzPA4fPszXvvY1+vv7+cIXvlBf/P7t3/4tr3rVq7jmmmv4i7/4C4rFIp/4xCdYu3btos1oOhovfelL+cpXvsI111zDW9/6Vtra2vjyl7/M2NgYf/u3fzvn87q7u3nd617Hhz/8YfL5PE9+8pPZvn07H//4x3nuc59LNpvlvPPO4znPeQ7/8i//QqlU4tRTT+Wb3/wmtm3zyle+koMHDyKl5N/+7d94wQtewODgIJ/61KdwXbduqb1582bGxsZ4y1vewmte8xo8z+NTn/oU69at45xzzgGgvb2drVu3ct9993HJJZcsqC/s9NNP5+Uvfzn//d//zR133MELXvAC3vzmN/OqV72Kt7zlLbzsZS/DdV1uvvlmBgcHOffcc+nu7ubUU0/lgx/8IJVKhdWrV/O///u/DAwMcOWVVwJhL9b73/9+PvnJT3LJJZfwk5/8hC1bthw1lvb2dh588EE2b97MBRdcMO82NBqN5mTiCZlBOpJ7772XAwcO8IpXvIKrr76aX/ziF+zduxff97nvvvt47Wtfy/e//33Wr1/Phz/84eUOV6PR/J7wve99DyklL3zhC2e9/5xzzuGMM87gO9/5Tj1L0Qp+8pOf8MpXvpJXvvKVvP71r+ejH/0op556KrfccgubN2+uP27Tpk185Stfwfd93vKWt/DBD36QzZs389///d8NBgxLRTab5Rvf+AYXXHABH/jAB/jHf/xHDMPgG9/4Rr3kbC6uv/563vzmN/Otb32LN7zhDXz1q1/l9a9/fcNn/sc//nGuvvpqbrrpJq699lpyuRxf/vKXWbt2bX2m0a9+9SuuueYabr75Zl7wghfwd3/3d2zbtg3Xddm4cSOf/vSnmZiY4LrrruOf/umf6Onp4Utf+lLdaOONb3wjBw4c4JprrqlnlRbCddddRzab5T/+4z9wXbd+jCYnJ7nuuut497vfzcqVK/na175WL+n72Mc+xtOf/nRuuOEG/vqv/5q77rqLG264gWc84xkAvPzlL+f1r389X//613nTm95EqVTiXe9611HjuPbaa7n33nu55ppr8H1/3m1oNBrNyYRQrfzWPcG44oor+OpXv8ovfvELDh06xHve8x4gbIoOgoCtW7fyoQ99iO9973tAOE/iuuuua2pWh0aj0Wg0Go1Go3ni8XuRQXra057Gz372M8bHx1FK8f73v5+vfOUrXHTRRUxMTLB9+3YA7rzzzkWbL6LRaDQajUaj0WhOfJ6QPUhHcvbZZ3Pttdfy+te/Hikl55xzDn/zN39DIpHgpptu4j3veQ+2bbNq1Sr+/d//fbnD1Wg0Go1Go9FoNMvEopbY3Xjjjfz4xz8G4NnPfvaMifDbtm3jPe95D6VSic2bN/PP//zPWJbFwMAA119/PePj42zcuJEbbrhh1jkbGo1Go9FoNBqNRtNKFq3E7u677+auu+7iu9/9Lrfddhtbt27lZz/7WcNjrr/+et773vfyk5/8BKUUt9xyCwD//M//zGte8xruuOMONm3axM0337xYYWo0Go1Go9FoNBpNnUUTSH19fbzjHe8gHo8Ti8U4/fTTGRgYqN/f399PtVrlwgsvBEL71jvuuAPP87j//vu56qqrGm7XaDQajUaj0Wg0msVm0XqQzjzzzPrP+/fv50c/+hHf/OY367eNjIzQ19dX/72vr4/h4WEmJyfJZrNYltVwu0aj0Wg0Go1Go9EsNotu0rBr1y7e+MY38va3v50NGzbUb5+t9UkIMeftC2V8vLTg52h+v+jpyerzRHNU9DmiaQZ9nmjmQ58jmmbQ58nSYRiCrq65/Q0WVSA9+OCDXHfddbzrXe/iD//wDxvuW7lyJWNjY/XfR0dHWbFiBd3d3ZRKJYIgwDTN+u0LRcon7HgnTQvR54lmPvQ5omkGfZ5o5kOfI5pm0OfJicGi9SANDg7yd3/3d9xwww0zxBHA2rVrSSQSPPjggwDcdtttXHbZZcRiMTZv3lwf1lq7XaPRaDQajUaj0WgWm0XLIH3hC1/AcRw+/OEP12971atexZ133sl1113H+eefzw033MB73vMeyuUy5557Ln/+538OwPve9z7e8Y538KlPfYrVq1fzsY99bLHC1Gg0Go1Go9FoNJo6izoHaTkZHS0udwiaE5y+vjZ9nmiOij5HNM2gzxPNfOhzRNMM+jxZOgxD0NOTnfv+JYxFo9FoNBqNRqPRaE5otEDSaDQajUaj0Wg0mggtkDQajUaj0Wg0Go0mQgskjUaj0Wg0Go1Go4nQAkmj0Wg0Go1Go9FoIrRA0mg0Go1Go9FoNJoILZA0Go1Go9FoNBqNJkILJI1Go9FoNBqNRqOJ0AJJo9FoNBqNRqPRaCK0QNJoNBqNRqPRaDSaCC2QNBqNRqPRaDQajSZCCySNRqPRaDQajeZYCaqg5HJHceKgFGZpB6hguSM5ZrRA0mg0Go1Go9FojhGzvBPh55c7jBMHWUFU+xFBZbkjOWa0QNJoNBqNRqPRaI4FFWA4wwjpLHckIUotdwQYXh7Dn4TAXu5QjhktkDQajUaj0Wg0JxdKIdzR5Y4CEZQR0ga/tNyhILwcZnnHcoeB4QyDmUJ4E8sdyjGjBZJGo9FoNBqN5uQiKGOWdy57n4vwi4DA8AvLGgeAcEcwqv3L2w+lAoQ3gbS6MLzJ5YvjONECSaPRaDQajUZzUmH4RYSXA1ld1jiEO4ay2iAoL2scKIXhDCKki1jGWIRfCMv8jAQiKC27gD1WtEDSaDQajUaj0TSF8AsI5wQobfNGEdJHBMsokJRCeOMoK4uQVZD+soUighIicFBGDLGM5X7CnQTDACGiuJZZOB4jWiBpNBqNRqPRaJpCOEOYzuHlDUKpKHOTWt4FuKwgVADCBAWo5TNqEN4ECANlJBDuyLLFYTiDKDMd/qI4aY0atEDSaDQajUaj0TSF4QyDl1tet7SgjJABykgtq7228KeJMyGWNZtlVPtRVjYyRxhfnuMTVBGyDEYi/N2MI07SPiQtkDQajUaj0WhOcIzy7uXvcwkqCGkjpLesvT+GXwxLuIwEwltGgeSOgxGf+n25rL4DOyyrMxIgTIT0l+VcEUFoWFFDGQmMk9TJTgskjUaj0Wg0mhMZ6WNW9mEsoxgAou0LEMayDgEV7gjKSIARCy22l6n3x/DGUEYq+iUGy+RkZ3g5pguT0FWvuPRxOMNT2SOIjBrKy9qbdaxogaTRaDQajUZzAiP8PEJWlrW3BEC4wygjGZWTLZMRgJIY3jiYkTBRLE82K6iG4syIhWGI+LJZfRvOAMpK139XZhLhLbGRhgownJGp/qM6AiGXT0wfK1ogaTQajUaj0ZzACGcEZbWH5UrLNeNGBRjuOJhplJEMf14G6hkJYUY3EDrILUccalrWxogtTwmk9BDuBNQyWRD2IbljS9qHJPx8aOldOy41lAJfCySNRqPRaDQaTatQEsMdChvwZbBsrm3CL4biTBhhGZWfWxYjAOEXwxjqN5jLYmstnOF69qgeh/JBuksbRy1rJaaJtWXoQxLuKBjWzDtOUqMGLZA0Go1Go9FoTlCEXwgX3sIKS9uWacaN8HLhfBuIxECwLKVtRq3ML0KJOMLPLW0Q0sGs9ocDYo9gqY0aQmESm+2epTtXlMSoDoYiPkJOlFBKhdnGk9CoQQskjUaj0Wg0mhMU4U7Uy5aWc8ZNON8mM3WDYumNGqQXOseZ08rJjESYVVpCjOpgmLGJMln+gVFUORJGSymQlAoF4/TjUsOML5kFuvCLCOWFIh5Qro+/fxQcD4x42Ku1nLbwx4AWSBqNRqPRaDQnIkphOP1TC+DlmnEjndDCucGhzFxyYSLcifC9Ty+xM6xw/pD0liYIFWDY+1BWR/irlMiRAqrqLb27X1BGBM6spW0KE6GWptxPuGMNvUeqVIXJEsqOjolSYX/SSYQWSBqNRqPRaDQnIkE5ckqLZu0s04wb4eZotJFenhk3pnOo7tamlELmIzEiCPfTEiCcsfAY1ERJ1YNyFWk7IGKwhKLR8PMNYlGVq/iHIvMMYYTiabFRKnTRM6eX1xVRpoEsRcdEAOrksvrWAkmj0Wg0Go3mBGTmfBtYjhk3pjswNe+nhpFcWqOGwEZ4E1Czka56BPuGUTJy9VuK0jalMO19KGuqpE2WHZRSUKqijDhGsIQCyRlCTSs3DMaLyMGJMB5hwhJkkERQQgTT7M6lRE6UMDrSqFwkYBWAziBpNBqNRqPRaI6TsO+nca7Mks+4kV5YQnXkfBthREYNS5O5MdxRpi9bZamKKlTBCQ0shLf4wkT4+dA1bpooUZNlRDYZ9iCJOMIvL41olH4oGCPhqpRCDhfADcB2w8ySWvyyQ+FNHJHFcsBXkIyhSlVUIAlnIekMkkaj0Wg0Go3meJBeaI98ZOZmiWfchPNtqNtIy1yZYDCybVYizB4sNkph2AcbXNLURAnlByjHCzM3S+Bkd6TFuFIKmSshMgmU60ViQLY2cxNUZz3WIjjC3rvigB+AaSBLVcBESK9154l0YJb+KsMZbhDxMl8BUyCECJOfVU+X2Gk0Go1Go9Fojh/hFyKntCNK7OrzdpbGYttwhsCcMmeQYwXkRGQfLZbGyU4ExXA7kUmEkhKZKyPS8ShzE5t18d5y/NJUPxiEmZpAIQwDEOBGIqCFhhFmZc+sNubCHa+7xgEEk2UwBCIZQ02UovOmdeYIwstjVPY33qiC8Dydbrs+VkSkon2kCHuzUMAyDTg+RrRA0mg0Go1GoznBEN5YuPCPkPkKyq8tdkUokhYbFWA4I3UXPSUlcryEKlbD3h9hLslg1HAo6zSnNtsFKRGJGKpoL1m/jREUUdMEkqzUFv8hyvVp9bERfiEyyTgiFmdo6rgohRrJI9IJSMSQucpUb1aLen+E8jHckYaMVCiOVV3Eq6qHsl1EPDxWIm6i8jZhid0SuQy2CC2QNBqNRqPRaE4klJqxAPb3DqOKtayRWBLb5HCOTlAvK1OVMGOCUlHp1NIIpLCMa5pLWsEOF+VxC1msTvVDqUXOUgSlBtGqcmVEPPpdCFTVpZVZm3AjHoY7dEQcNXfDaNu2i6p6iJiJMES4H+zouLRKrCkPEZQae8788nR9GLnWTbshEUPlK+H5swTnSSvRAkmj0Wg0Go3mRCIoI+S0+TYVh2G3gJ0vTD1mKQRSdXiGIMAIS7eU7aGEiVCL7B4nfYSsTIkBQE6UEKk4wjTAD1BeJAIWM6sm3VCE1cSiUsiJCiTDuETMRJWclschpBf2Pk0TGIY7SYNhRa4SHZfak0TUhyTCmFuB9BDSQfilqc14Ew3ll2q0iEhOZdiEZaKqbrg7lnKAbgvQAkmj0Wg0Go3mBMLw80xfotm5Ilv6FKOVSCAptfhN70piuEONltZjRUQ6DjELWaxEc5kWOTMgq6CmFv/KD1CFCsSnSu6UUxNIiycaxZEL/KoHfhCKNICYiSpH2axW7RMVEPbuiIahvOHcoWnGCLXyulqsyThqvEiYaWzReSI9MJKhQUgtDm8cFfUfKc9H5sp1wTgVjEDawZINrW0VWiBpNBqNRqPRzEetIb2VzGF9HJaUTbnXDRYn8bIxDsfCUipEi3s6ZjE4EEE57KWJjACU46Fsh1JaMJ4lLJ2ixaVTgT0j0yBktWEUVGjKELqk+SIs5wpL21rY+6Nk6CA4Hek2CDVZrkJt+6hQIFVclBSty5bUBJ9hIbxoAKx0EF6uboygqi6q4tT7fiQKEhYyb6MCv2Vlh0K5KCuL4Y2GAl06DWV+shCW3omoH8mL9g0ClO0vzdDaFrLoAqlUKvHiF7+Yw4cPN9y+bds2rr766vq/Zz3rWbz4xS8G4LbbbuOZz3xm/b6Pf/zjix2mRqPRaDQazZyIoIxRHWzdCwZlzNL2mbcfMd/Gtx32x2xWBAlKMUm5Wml5749Z2gFBufHGGf0lVRSwPeuwu0siK9Vw/d7CzIDhDM/Yx8Ivhe+3FkfRBkNQtAIe6LTx4kbrS9uCCkZ5d2Mcgd0g1ORgDpFKIFE83FFlMh4JEV+1UCCF70eZGQxnOIzDLxDaB0a268Vq/eeBhMcjHZGgVApV8VomGoX0UCIWZtKkjQjKTN8haqSAiLJHJVPy264KRSsIjTQKzpKYaLQSa/6HHDuPPPII73nPe9i/f/+M+8455xxuv/12AGzb5uUvfznvf//7AXjsscd4xzveURdMGo1Go9FoNMtOC/sohPRCpzrpNfTXhPNtppzBRuw8nimIKYFhmoyXC7RlO6GFvT/CLyC8Yt0UAggzKNP7S8ZLTGQFuZhEAEULup0AIy7DLIVowTV35WJ4eWR6w7TY8igx1deixoqQjLEr4zIW9xnPxlhdsGFNunWW1soPS9qCKpiRhXUwZfEtizaqYGP0ZBlIuAwmfQIUTxEgXYWh3JaYWof9QwKMWJg1CmwMZ/CIvp88IhmjbEq2tzn4hmIyJuk0DGTZbWG5nxcdYxFmF4PKVD9WVF4nOtN4QvFou03VUOxOu1zgxkNzkSUYWttKFjWDdMstt/C+972PFStWHPVxn/nMZ7jkkkvYvHkzEAqk2267jT/6oz/ibW97G/l8fjHD1Gg0Go1Go5mfVjaaqwDDL8wo25s+30ah2FueIGOGAiptWBx2Cyha2eeiwub7WglXhOGNTfWXBBJ/osjuXmjzDOKBYCjto+wWu7bVhuNOe71wzk40/6jsoCoO41kYjwescCz2d0TZLNnCOFSAEZSiLEmI4RdQkWGFHJhEJCxsQ7KjzWVl1SIXl+StAOXK5s8TJY+eCZz+foTA8HIYztiUu6EfIPMVZNJiW7ZKXAraXZM9GQdiBlSDpjON03ucZo/FB0ww4ghnDMOd6j8Ky+sUCNiRdXANxQrXYjwRMJFQodO47y7ZcONWsKgC6YMf/GBd9MxFoVDglltu4dprr63f1tfXx9///d9z++23s3r1aj7wgQ8sZpgajUaj0Wg08yKU07pFngpC6+TpvS5KRQ34oaV1zrUpBlXSZpi5SIkYReFT9rwWGwEoDHd06r0d0V+iyg5jcY9yTJGSBlnfYKADvEIkIFpUxmUoNxRrNWEiPURQrbv5BWMF/JhgR9alwzNISINKTJGPSfBka/eJchHetAv0QRmMGMp2keNFyCTYnXExlcBSgmQgONClULbfvCjxJjEq++aJI/rZSGBUD4a31TI3kVPdobRPLh7Q5pukpEE+JhlPhvukKbGmJGZpW9gDNhcyzCApI43hjYbDa2sCeqSASMbpT3gMJn26vPB4tXkGO7MOgVDgB0vivNgqFrXErhm+//3v87znPY+enp76bTfddFP95ze84Q0873nPW/Dr9vW1tSQ+zRMbfZ5o5kOfI5pm0OfJEx/fCyibFn296cahpU0y4xwpF4BuiBehdp9XBM+EVAcA2/LjdMWTZDJTJVVlw8VLCbraYlPPOx4CB4JoxlC3BVYaHA/8NKTCTIU9UeTwWovV8RSJWLg4tw2BM+6yuqMDelIQa0EsIg7xDLQryLSBV4AgBckMKpDY5SoTp2SwMh7dfiSaTIvxXoczkknMTgvam4gjcMNjOFdZYLkAqgtSNvS2heLAi0OyHXfPMH5nmvGeGMWsx1ovAXFIoxiJV1FlQVe7Bb3ZepnknBQGwfXCbUQ0nCd2BUT4/pEJcMbAbA/3EeCMF5joS9LfF7Dey2Ba4fYMI8bgKp9TJ00ynTHonmefeMUww9Mdh/gsj1UKvAQko/uqDhD+rlyfih8wsTrFwXab9V4aK4ojA4zGfEq9klXZJEZvaqpk8QRn2QXSz3/+c974xjfWfy8Wi3z729/mL/7iL4DQZ96yFh7m6Og8qULN7z19fW36PNEcFX2OaJpBnye/H5SCSQYrE5wpJxe8yJvtHDEqE5i2AjWKJ0fBTGLYBzHLVVS1zKThcWBklF4HykxlAQxH8vjoKJ0e+KIF511QIZYPXex8OYhKrMCwBzArDqpaRknJnsHD5PoEsZJHLVdkmJJtToGO0SQBOVRs7k00izWRQyiBdPcTtHcg3DGsgo2yy8jJMoVSmYdXCDrzJmXCbISBYh9VThnJk4pPIJ3594lZehwZX4mK98x6f3hsgNIgnsxBYBPLVZBGHm/nAE5ngvtEnnTeoDzNJc43A7aWxonnLDwjN6+QtiYPgHLwVRjzkeeJUc1hlsL3DyAcGxVLgREel+K+YR5YHxAvmFRlY9fTiOWwz1asHZ/ED46+T4zqINbkEJ4cRyXMmQ+QPrFcBZWI4nDDTJOyywTjRXJOmQctm7a8iaMk03NWMaF4xKjQPRFHZXIwrc9tOTEMQU9Pdu77lzCWGSil2Lp1KxdddFH9tnQ6zec//3keeeQRAL7+9a9z5ZVXLleIGo1Go9FoNACUhAe0qs/FBQxQAhGEwzeN6gDKzKBQ7DSKpPIuJBoX2UkrRqFqY7eo3K8+SNRI1GfcTO8vqZQr7E479YxNjXRgMJmUlD2n+dKpoHr0+5WHMjNhP5RSCK9Y78cKhibZ2aeISYE5zT1NILBMg0G/itGMU5pSCGf46OV4yo22q0JDAhlai8t8Bakk29s9hIK4aswQdQQWQwkf2/fmLzuUPiIohnHMtf+k25DlUokVddHlVxweb7dBGKTkzOV8WlkMx5rrQRLeGJiJ0HhhVgIUChWdb8rqRFmdAFQm8jyyMiDtGzP2B0BMCXxDUUYh5rC1PxFZcoF0zTXX8NhjjwEwMTFBLBYjkZhKHZumySc+8Qne//7388IXvpCtW7dy/fXXL3WYGo1Go9FoNA04+MhW9blIFyVMMOMIZxSCauhgZyYZN1xynk3aFwgaF53CNCGQOJ7Xmp4OFYASKCMVzbiRDf0lO6vjWMJqECX1WBRMeNXmepCkh1V8dO65PEqFs52MWGhNLSsYfg5lxFGOR3+1wFiboN2fmeFoUzEOiWpzvT+yEgrSI23NGx7joogc2/xyfUisqjgc7oDxREDHLHEIBChBxfeZT0g32GTPFbd08IdL4eyrI9jtjJOLM2scAKnAYCIhkV6jKBXOSKMhg1IIdxxltSP8OUzRVIDK2wQDUb+cYYFhoZRiOzmIW7OKtOmUaEI0nkAsSYndnXfeWf/5c5/7XP3nnp4e/u///m/G4zdv3sx3v/vdpQhNo9FoNBqNpilcEeDgkpr/oVEz/eyLVwAjyg4okcTwRlBeFxAO+twVs8mMu2DO8XwBjpJklc+8Szklw1iMOWrgVBCu0w0L4bvhDKbICGCMKoN2gRXW7CWFCWWSw2et9JgvlyWCEvjFUAzMVqJYi6P2eL8MfgGsDKVcnh1dHj3e7OVZMcMg70s8WZ1Fxh0ZRwWhZIND3ZHUjg1GHOGNh+51RoyiM8muroAeJzH3cwXk8emQPmra4RN+AWW1T/u9JlIEQroNg4Hrj1EucsJGJmzM5NTxK4uAA26eHmPuOEwEvhBUlUd8mg274QyCMAjazg8fKCsI5aHM9nDm1CwIFVANAqqTObrWdk/F4VQZtwJ6g6OXnCYDwbjhsbIl5udLw7KW2Gk0Go1Go9GcLPj4uE0OvDSL246epVBeKKAMCyFdjOoBlJFm3HApGR6JcRuRmF38WFJQVM2V+wlvHKOy9yiPkEyfCGu4I4AiQLFN5mirKoQx+3IxIQRF5rGqrsXhF0Lr7Dld1aa9FyOB4QwilAfCYpc9hpWIY81SwgUghAESbDlPCR+hjboy00cpJyMqsTNRRircf34RJWIckhUSwpw1m1Yj4cOk4TdmS6SLWdzS4BInvFoZo5pzRpCQHuP4OBONVvAjfhnh+BhN9OhXaIxFBBWM6kC93FH45TAGEQudC2cr21QBY7g8HC/gu1OxDgWlWp7tqDEkpcGI8Fo63Hix0QJJo9FoNBqNpgl8oXCbGdAqfYQ3dhQxQLRYnEoxGH4ezBQjpkfCluAHYTndLMQDKIigqZ4O4Yxh+Lm5HzC95M2Ih31IIk7R8KmUyiTF3IvwmDIoC4lsQpgYzigKEfVezRZHNBQVImEyAQgc6TNClXZ1dDGghMCmsZ9H+AVEdagxDncMZbWFAmmOHi5fugyZfl28EhTwpWAo7pKVR48jEUBO+KgjBJLwxjFqsSgV9lmZScLBq3OcJ8plZ9rloJtHBeFxkigOeAXa3PlyZaGQzuFP7ROlItEuIiEcCkZpJNgZL+Mxhy24CsgbAeOGx4AXZr58JAe8/LzHBcAyDHwpqaij2IifYGiBpNFoNBqNRtMEEqioo2QeIkRQxvALoT30nC/mISMbaGWmw0SCEIxZLqmid1SL6JgUlEXQVE+H4Y0dNZMlpEfekGETvpHG8CZRZooxHIzJCiI1tz2dME2kDw5HLHyl1yg+VBD2NZlpxByzdoQKGDc9Jg036kMKX6PgO4DAmGfJGpeCwpHZEr+EWdkxJQKlG813SgByzsxNhSrb41WqIpxDJFRAXgUEgqNmjwBMYRJIiaOmRGNo8hDDrO4D6YO0ESqgaCgGLQly9uMT+A5lU3Eg61G1w/1WMHyqxRLxWPyocUBY2jYmvLCnC0B57IxX2J9KYNj7QUkMb4yBmMH2WIWcEcwh6iUFfHp9i13+JC6ScdPDqzhYVhP2hYaBCKDI7CV8JyJaIGk0Go1Go9HMg7IdgkmbMs0IpFI4bHWuwZtKUhEuW+PRa5lpVKIPW0h8JGKygkjOvfC0MKiqAJ95BFJQRUSL8TnLm5THNssmb4QZExXrAiPOUFAh7TJneV34RoFA4arGDJJZ3hFlgKKHBVEZlxEHfw6xpgLGpctuY9r9ZoIhWSbehBdFPBDkjxBIBCUMbwLhjkdxlADBmOFQnas0UAU4ymfcq9BvVsEwQQYMqApxOX/WBlOEM5umCelAOTyecPGlj3DHEEEZhWJHrMyupF93MTwSN7ABAwyDw9XQQKFflYkVZ7obzrpPJJREgB8JQV9WOWz57Ei45FUZwxnEVRV2JFzapcmg5c6e4VM+FXzSVpygZHPAstlPiUw5QFhz99nVMQQxVzEh5v/bOVHQAkmj0Wg0Go1mPqTEqgZURKMYGBZlRkXjol+4Y2xJW1RkY+9IHRXguB6DY8PYYmr1XzR8pC9RFQcRO8oC2BAoP2gs91MSozrYGEdQxlOCspBzlvsF0mFyNEd/ZBqgrDYqIqDsO/MLAsNA+YoKRzileZOY9v6p3/0SEjgUCzDmmsmjAgqFMsOlHEXho+J9+FaWEWmTDuZfrsYlFIRsyNqVZZ6heALT3hfFVcAT8GiixJgVIGYVAwG265AdKnMgVsU1M3hWmmFlk/XnF0hCCEwPCmrqnMjJPLsSPntSJqa9F+FNMGEZTJgejiEozyaQlMRRPgjoFAn2ueF+GfRKZN35+34gfIySkko0mShPESmgTZo8kg7wqvvYYzkIoF1ajMYkgT/z+FRVlUAqjJhFR0mxX5XIeVWSzQjGcKeQcmBChMLwZEALJI1Go9FoNJomiHmhGJi+yBsWefaJ8akHKUXFH+NwwqKq5hJIPq7vk6tWGJ+WfRkzPOKVqV6cuRAGEIAzradDyiqD7mMN5XTCm+BQPGB3bG4LbBcHVfEZDCphDwpQMDwoOYjY0ZeJQgjiAeSn95YoyYBRwPZGIXJFE94YEzGT7QkXW84tkCrKxSpUGTSdKA4f33awjiYWIwwEgQywxdT7HBQ5Hs4Iqv5EaBLhjtAfN7BFwLDlzT4LSQUUhE+85CFdn+GYJB9P4Dsu5lyugtMxDWIu5KZlwkbEJJ0yzv6EJCcnoTrAjmRAmzQRWORFeWY/lPKxox4zy7JQjscOUcAvVTDjTZpQGwLlScpRCWS/mCQlIaVMpJlkizHE4XhApzTD/ScsCmpyxss4uIgAEAIDSNoBmcqUM978+0RgegIPD3u+rOcJghZIGo1Go9FoNE1g+KCUXxcSAAX/MHnvAKXawlzajBkVyjGDgpqj50IFOEhSZZ/DkYhQqLD/aLKCiM+zPBMG+BJnWuamrEpsN8YougenNuMMsz8JE1YAc7i2+dJB+JKgZDNhhtmXYdMlWXCgCWESlyYl3Hqfj5QOO+MOuxNeaCkdzdnZl4CqARXcsA9nxj7xqSpJ54THQTMUa6OGi1XxwGpuuSoCRTXKliglGTJKGFjsSgQY9iF8P8+ehGSFHydnKvxZbK2F8ikjiVU82mzF3liFw5ZDsuJDM+VkQpBwIS9sFAofyYgokCVBuzR5LK0YEBOUTIOkL0hVFUOWM7OfTAUU8YlFzn0djsGgVwrt3xNN9P0AGIKkp5gQZRx8xsiTUWHvUqeMkUtkyBodCMIhuAllMcRMgWQrGyUVCBCWSTrnksxVEU0KtZrLoJQeZXGUvrwTCC2QNBqNRqPRaJpASlCBixuVxVXx8aRNyhlhSOXCBwVlDsV8eoIkecOZdTCqUD4VGZAuB+SdChURYAuJpwJErjr/Atg0sDwoTOuHKlCmYpnsl7sjIwCXcfIEhoU0LOxg9iGgXlAFDJI5h0OmTYBiTFZJVuWcLnrTiUsoKq/u2mZTxhcwmIxTcvYi/AIF4TBpStqkxYTlwyxOgK6qopTAdCXK8RkxXQaETdpuLg4MAX5Qd0orE4qsHhljIGGR8w8yaDkooYhhIIVJWc2yT1RAWQRYrsQqubhCMWq6pEpBc0LNFBg+SOVRxScvqgTSxhAxksrEM5M8nk3TEViokkN8pEBOBLhHOLwJ5VMUAfEgFEhWzGRVv03SU6HgaAIhBCkXJqgwbtgYsgpi6tzqUWlSykQFEjmUI+NYjIgiwREDiAvCxvIAw4C4hSxUUBUXYk0cl6loSHg+E0308J0IaIGk0Wg0Go1G0wwKhAxwot6VivBAVmn3AwbUIQIkxWAUxxRkpEneCFBz2CZXRIAViyHyNpOGF/YfVT2QTSyABcQ9QXlaBmmcHL1BkjHhUvQGEX6RA3GfjDRQWFRrAu4InKAKhkHahUnfYdh0ka6H0USPSxiKQElFNRI9eVXGQJGRMXbGbUT1AAdiLgklSEmDUXN2pzRXOeArMAXZcsCemI0beHPOPpoRhyGIe4JctADPqQKGCOPrUDEejzvsjnuhMKm6GIHB5CwCyVUuQSAxk3FU0aY9MLE8idHMcSHKlgRhtsQWPiMUSEpFrWyyS1q0qQRxDFTRBttHGWKmw5sKKBoBsZpWScSg7Mw9PHg2TAPDF7iiyn4jR8b3wJiZ9VFVD1VxEb5EIsnTWAZZUDYJXyCECMVqIMPM4FGcFmfZMSSDsA/pZEALJI1Go9FoNJpmkEAgcaMyrpJwMQMHw+ogcAaYpMKwHMQSSUwEUjAjM1B7oar0sWIWqVLAQVUK+4+KLphNLDoNA8tVlCLDiADJhCqSJEbSSHPA30nRHyNvSlLKxDJiTM7RD2XjYkkBKFTV4ZBlY1TcMCPTLErV98koOdLSJKNMJmJxDgcHGI6FxgBxDKpGgDPL3CRXueGsn2SMeN7BFj5mtXGI7Xz7JOlCnnABPiTypGUoJpLKpBrPomJtWBjIoTypCowYM0vsXLxQAMRMVNUjFkCHa8zXFtaIEJhBQI4yw0aOjJpabgsEKRXGpUo2yvFJSBhVjaLEUx5eoDAjESIMA4RAJJvsP4riUL7CkD4V4ZEOwsG7MyhXUY4Hnk8cg5FpfUgKRRmH2LT3sKB9MT2cICw6PBnQAkmj0Wg0Go2mCZSUWAGUoszNhCiRlgEYSTK+zyF5gAGRJ6uS4eOVoqpmigEhPaoqwEKQlIKi5zBiuaTGbEQT/SVCCEwM/MDDJaAsPISsIESMNtKMGpPsU3uJiTCOpLKYFM6sc5lsFWZpRMyiLe8xbLqk8l7T/SUASLBx8JFMUiBJ+B7aSbIz4WEaiXqfixQmZTlL5gYbJUEkYshSlR4/RkfJbz5jYggMLxRqJVwKlElOyz71BDG6gxhKKmShQsKDsvBwZKOA9ZSD8hUiEoiq6qG8oGmdViPlC4aMAlK5mLMst5XnozwfpCTtG4wYeeS03jYHF4KgwQjBaE83V25YwxSoAFKBJCEVIMPtBo1ln7JgI9JxlO2SlYJho4AfxeIQIH2vYQ6VyCQR2WTzcQAIou024dl+AqAFkkaj0Wg0Gk0zKIgF1J3scpRJRIvwlEiR8/YhUfVhokIIKswsKQqkgy8VpjBCp7iijeu5GK7f3FyZ8NURgYcrAorCQSgnnNkDJFWcQZGnjRQAcSUomhL/CDGAklSUh0XYW2LlHFa6MWKlhfWXxHwoYIdGFbJaz1IklUnS6KBDJlCujxzOYfom+Vmc0mxpE/OiTIlSmE4AFRfRbBxCgK8Q0mfELEeufbOUkzkeuD6q6qKA4hHHx8EOm82ijA22C87RB/fOvk8URWETCxSzqSvl+OHNQmAGBr60KTLlqufgoAKJWEibzxGE5X6KtC/piHqZ5GgRNTn1nlUgUbaDSMVRVQ8TEymr9BthRssRPko2vn8hxMLK6yB8r0ohZunJOxHRAkmj0Wg0Go2mGQJJzIeSqGLjI6Vbv7IuzBQZz6EjKp+SeZu4b5KfpbTNo4oKADMUJu3jDtmizwLruCDwqSqHUVEkFUgg3Hab0c5KOjEQKMdHFaqAwFZHiLVaL1QQCZNAEis6oVtZs7EYgrgTUBA2k8LGDNyGMq6sssI4oj6XdGAyxswMUlE5WHJKDSjbQdluc85xEGZLfFDKZURUSPkOarZyMttFiTCeOAYTR8RSUhVingBDIOIWqlhBVV1Ek0569XACiElFNpAoCcHBsdAJrvb+StV6dkwGBlbgMDZNrFWUjenTvJX2nAgIPFAeIMKBx8P5eiyqGt6OZaBsDyVidHo+e81JHHxs4YWmH032gs2NgkChM0gajUaj0Wg0TySUwgwCHOVREm7k3Da16E2bHcTMdhQgR3JYrqKgZs798aSL8FXYU2KamJ4iMVJeWFkbgIQSNhMUG8rJQGAaYfZIFW3URAkEVI6wHQ+UR6AUdQkiFDJXXlA5mTAEMU9SosqQKJKVjQKphirZKN8n5pmUsHGPsLW2lYNV67eJmcjxUmRY0aRJQ2QlbQWSvKiSCTyUBOU2bkcVbIx0HFyfTCAYFaWGuVZl4YSObUJAzESW3dCxrenMXoRU9Mo4ZuBAYCAnS6EpQy2Ooo1IRPspgA4/YA+TeJGAKIgKMVctrBdsNoSBCLx6eaWq+ig/CAUaQLkanofCAClRShCTNgLFIaNAUVXDLNhCM0azxKF8f1ZXxxMRLZA0Go1Go9FomsVTCBUwZlSIySOyPiIGmGEJV9kh7ptUqOAfcdU8wAmv4NcWv4IwW5JYmECKBzAqSgjpYcxxhV8WKqiqR1LFGFcTDfe5eFEmoSZMQuvp+QbENiAERhDaWlewiavZn6sKNsKywA8ARXlatkQRuuDFZPQeElaU2Vhg448wyHgBlhIY0kWVfeThqSG+SilkqQrJOMoLMJWJo8IjVKOMjeVKMGtlZArlNj+Lqb6tIAAlMWQF6QsIFHKkEFaaBRJV9cJySsMAV2IpF6Ukg5FxRAl7SqgdL4GEoIwKBEiJkYwhR8PMmSxME2oC8AQisGmXCQ6aeSaMMolW+CqYArwApM4gaTQajUaj0Tyx8EOThUlhkwzmyJZUvbDXxQchHewjnLs85YQX0iOBJJKx8Cr+gkrsFPEgNEdQyp+1Ok8FElVxUJ5PQsbI0Vju5+MhAjm1CE9YqHK1qQGxdUwDFe0ToULBGIwWIoETxVEzJIiHwsdCNGTWPOURKImolStG2YxjsUuL+ZLewESoAOUGyMkyqhr19jj+NHtqhZICK6gyHPXbBEiqysUKjClL76iFaEHHxhDgyWgeVRVkrYTNQZWdcN/UtLEpwnMF6JQW+8xJXAKqOFieas7VcB6UVBhBCSWj/ZuIocoOslRF2S6idrwVqCA0czClj4FBTtjEW6BphBBhdZ3Sg2I1Go1Go9FonlgECoWLIwJSgYuapYtelWywzKgRX2IfYY5Q9auY0qgvukXMwmhLLTiU0AigSjoIUAhkpXG+kHK8ehLGDAw8ZVOdJtZcXGQwlckSwsDoyS7MKS2ykk5JSTaIhMdkGTkxVc6nqqFwEqYBVY+UEoyKKYHk4iKOqLwSMRORijcfx/Tn1mzEHQ8MgRwrRnG40x+F8gUdfsABM49HgEOACBqzgiJuhRmYhWzfFOAD0kEoD5wATCPsaRothGVttW3UzhMElgzwURw08kjlIaRoeijsUZESgqjvrYZlIodzNGTphAj3GSCUQ6dKkJZGVA56nDFEQloLJI1Go9FoNJonEMIwkF7YhxQgEYGDksYM22RVrCKiPpcYgpxs7EOqyCrmAqvHZgkG/ICsNEn5DvgG8tB4mKmpb8itZ4eUD0ifyrS5TJ7yEX7Q4AOwIHEEdSvprJQkgwClQmEmJ4ooP1yRh4YERphFqXoklUlBlagQLpZd5UUZo2lxpBILcPSbQvkBBGFfjap6iGwSOVEKs1gFe5ornoJAYAZVJDBqVPBEAP4Rjm2JGEZnZmFBRO5xIgiH1irXD8VhMoYsVAhylamyNlNMOdpJjw6V4JBRiPp1WrRMDxSCAPxQwAKha10xHBJcDzsyagiNHZxwyK6MBOJx9yCFQlrMYjV/IqIFkkaj0Wg0Gk0zmGEvSTYISKsYQjmoySpydKp0TflBuCCOW6iqT1wZ5OQ0cwQlw+Gsx7v4NUNb6y5pYcoq0heoUhWVnxJAslBbiCvwfCxFg2tbpVbGdRxZipqVtAo8UDZEdtIoVY9FFSqIuIUwzVCoYGLKKsNRv42HG/XuH69qBGSY/VBShRm0qM9HTpaRRXuqz0sY4EmECmgPTPYak1Rxox6Z4xQDZiikhbQhcvDDMsOMoWlAxanbqIf7LwhFtnSJYSKFwvC94zdoCDcQ9ZlF+8OsbVcgUvFQyNewzDDLJmLg10S9DAXS8cZiClSgBZJGo/k9Y2iiwttu/j8Oj8ycTK7RaDRPCKKr4HEZkJVROZnjIUfz9SxSvffGNFCeT1xCTk5zSlMBDhLzOG2ThRDgy9CdLKhCAMo0wliUCgVCbSFumqiqR1aZDIhJZBRLRTiYfgsWvwgIXIzARgVRn0sqEcbi+iincb6T8gUdnsdBo0CAxMbB8mQLLK0Jne8CGyRh75AQiFQMOVIIMynRNoRlRGIA4kpSFT6DIofRCpM1QXhsVGhIoRy/3ksk0glEMtbY0yQEKBO8ULz2yiTd3pR5xvHFIqCWVaxGmazaXYlYYwmfGWb4pIhh+JHoV6FAWvDcoxlhGOE5qtz5H3wCoAWSRqNpCT974BATBYedh3PLHYpGo9EsDrXkSODWr4Qrx0P5EpUPy6moOOEMnejBRgBB4Ew5pakAmwDreJMlhoHyFcgqAj9017NMlBdERgBu3VxAWCZUXSwEvnLIi7BHp4pDLKAlFs4i8CGwQ6c0CGNx/brF+HRUILBkFU8ETIoqRapYfguspA0R2npLJxRqdSMEE6QCMW2nW2ZdzAq/QlrFmBCVaLDrcWIakTaS0TGSU8JMCETyiN4qATKIgzMaDrhVMhR4LUCYRGItMoMw5176CyFAhaWHQlVDgadk+HyjBZJBAYF2sdNoNL8n2I7P3VuGABiesOd5tEaj0ZzMRHNllBcuOqs+RjZZt3CWRXvaPKOpxWbeCEWJr0JjhLlsuZsPI3QFE5EBRGgbLaaMAKb1H2FGZV7CIubbDIkw019RDobL8ScqBGHmRrngTTX0i0SMYLJ0xOJagS8QyiMdKA6bBWzhEvMUs/hdLCwMQ4TlYMpHSdHoP9CWRGSnGWFEvT9KJBDeOBnieMojOa1P55jjQISDVf3IwW4+VG2IqkC4E2HDmGyBUINw/pC0kCIelRw2sfQPZCRmHFBR+V9Lyv04WebEaoGk0WiOn7u3DOG4AamEyfBkZbnD0Wg0msVDhH1IYbZEgQzC+UGuhyrY4VDRuhGAQAaCtOfV+2185bVm8WvUmt4dQKAcF0wTkYwjS1XkZKku1Gq9P1JZdHg2Q2aJKj6B8jAlLckOhPbQasqQgFAg4XhThgRE23JCVZYNfMZEhYpwsbzg+EvsjMgcQYYW69MRQjSUiU0NRo1h+HlQAatlErMVhgThBhC+iwyaeC3DCMvgrAyGMxjapUvZkgo7TAMlTSDMWjVjV67cAASh4FV+mM1qRSwww4zjREULJI1Gc1wopfjFg4fZuLqdczd0MzyhBZJGo3kCE/X3iKAclUFFJWVxCzmUmzkzxxekA5dJUcUjwMeNFr8tKCeTKiyBQoVW2rXsgBCosgPx6SkZAb4RGjooyahRAeWipDju/pIwdRatoqcZAQAYndmG/iNhGtHcHwP8EiYCT7mIgOPPUhginMmkPFRkrT0vAaCC0HFOyXB+USsEEkQDWuePQZhRP5QRCwWvn6/3UB03gvA9+U2mbgwBVRcwIaiE2bhpVvDHi2pVZmyR0QJJo9EcF48fmGRoosIVT1nLqu40Y/kq/gJnRmg0Gs1JRSSQZCCmysmS8dAUYfo60jRQrgwX7EpSEA6u8JFBcNyL8FoZl/K9sO9HBlN9Lpk4ImnNyBaEttvhzKJ+o4Dwg9ZlBgIVDhqtekcfbhr1/igjgeHn6FBJ4jIqMWuFaPQVCglVr8GQYC6U50eOdmEWCT8IS/VaQBBfgXKb6N+pi0bAiGO4YygvaI0oMYzQWdFr7nu5JmCVERk1SB9a0R9WQ2eQNBrN7wN3PniYbCrGU89ZwYquFIFUjOeryx2WRqPRLB5Rn0uYfZi6Ii4yiQbbZGEa4IS1XnEZMCoq+MoPXcGOs98m3ICB8KtRX0dj+ZhIJmY+3vNBCTJBQFl44eK3Fc5xQoSLcKVQXnD0WUpWtAAXMURQxlSKLl+0JkthCFRgomLdoVlDUxkkiTJTGO5YuD9aIdSmvTaOFw6OPRqmEQ2LBWWmw74y32+JQKobLzhuc+/LMsNZSEYMgjIEDgqjqdK8eVEseOjucqEFkkajOWaGJyo8vHuMyy5YQ8wyWdWdDm/XfUgajeaJihComoWzR+OgzZjVKA5MA+WG5WRZJ8+wUaaiylgerREmCITvIGUTassywjI8IRBBFaEIzSZasRQ0BEpaKDWLKJsZ8bSFsopi8cJBtscpCKb6iqzmDAmMKHMjYghVRQSl0H2uGWHVDIGqz0A6atxGNAupXn5mQWAcf+ljfQOgyi7CakYgRQJWGQjlhQK8VVlGI7KmPwnQAkmj0Rwz3797PzHT4MrN6wBY2RUJpGV2sjs8UmKy6CxrDBD2Z5WrJ8dQPI1G0ySGCMuwlAzn+xxtMV3LDFhZ4s4wPh7joozp0bKeDiniMwwJZkNYJsp2UCKO8Iv0kI5m7Rw/whAgrcgMoEn8IBJKNvihaUNLshQIcH1Azft6wjJg2me0CCqtKycTAnw/moHUzHJboPwoi2RlUSRaY60NoEDaTkNv2NxRRO/djQbmSqdFYp7w4oLOIGk0micyw5MVfrt1mMsvWktHNrxq2JaOkUpYDC1jBmlkssK/fvUB/vWrDyy7SLr9rn38043/R6FycgzG02g081O3ko6GxDYzVya0nA4wvSJVqpg+LSvjUkZn6DrWTJ9LNSydEkE5spY+/l4oINy2H4AXNJQcHjVuT4IRh1qfS6sW4RCVqzXxvqb1/iiRAGkj/RYZEhiRtbpSTWeClBdM+7lF1to1fNmcxTeEvWSeHx5LX9IquSBMEZ4jJwFaIGk0mmPiB3fvxzQFL3zaKfXbhBCs7EoxskROdj974BD/9rUHyZVCIaSU4ss/3o5hCCqOz//3rUewnSYurS4C+4cK/ODuA7i+5PF9E8sSg0ajWQQMA3zCDNJ057i5UCrszzGTtDljFEQVw1NHNzJYCFKB7YXZkKMgIhGjpAid0qQT2Y23SAz4MszcNJP1EAJcD2XEQ4tt6bUmjhpuk5n7miEBgJlE+JEzYSt6fwwROtMtADW9/CxooYEGgJoaVjsvpggHHgsrnIXUqjiEoXuQNBrNE5eRyQr3bBnm8gunskc1VnanGVqiErt7tgyxuz/Pf/z378iXXX7z6CDbD+Z4xRVn8OY/3sTh0TKfvn0rwRK75viB5Is/3EZbJkYmabH1BBBI+wYLeM3avGo0mrkxBDJIEBgdDc5xcxIZGGAkSXoVkl4VK6D5xep8BEHY59RMGZeIruALgZDVFg4jJRRfVXdeoQYgLBEaAQgLoRyE7yw4k/XQ7iQ7DsdnvS/sK2oibCFCQeSH5WTKaAPMBZX6VRzB7oHYzDsMY2H9NiKySI9QfpM25c1voPlHxixUxUEZcYRXpWVywaReRniiowWSRqNZMD+4+0CYPXr6KTPuW9mVYqJQXfTFeNX1OThcYtNp3YwXqvz7fz3E/9y5m7NP6eSyC9Zw/mk9vPaqJ/HY3nF+/sDhRY3lSH5w934Oj5Z5/VVnc97Gbrbsn0A1WXayGEwUqvzrVx7gN48OLlsMGs0TBkOEV/enzUCaj3rplLDocyRCtWj5ZYSCpylDgloskdU3QQXVymGkfjBvyeHU481wsC0Atb6U5gNxPLj78RSP7J3dFEI1afEdbb4+I0gZqQULtd9sSfPD+9qwnSOeZ4hw/zY5zEgkY/ijRRTRrKAj52kdFwv8/okZyLKLEjGUkWxRDER9Wa17ucVECySN5iRnLG/z6J6xJdteICX3bhvmGZtW0Zmd+eW0sjuNAkZyi2v1vW+ggFSKKzev561/egHj+SpBIHn9C8/GiL7gwgxXnMHx8qLG0hDXYIEf3nOAS89byYVn9nLexm7yJZf+0aWLYWZM4Zdu/9jyxaDRPGEwIktrr8kSKGMqM6CsNMK3W9Z8LwwRipJmF9OCyMDAQvjFMMPRgh6k0JlOoewmSg4hctSLStsIZzgthP3DcQIpmCias7Y8KV82ZUhQ27yKyrQJFiYkbEewqz/MYo0Xj9heJF6bjUNYZljuV3FaPitIxKwFZaNqboD4QZRVOzmGu7YSLZA0mpOc7/56Lzd+57ElKyMbzVXxfMnpazpmvb9u9b3IfUi7DucRwOlrOjj71C7e9bqL+adXXVh30quRTcYo20tzyapc9fjUbVvoyMZ59fOeBMB5G7oB2LKMZXYHhosAjEwur7ugRvNEoCYGcL2mDAmEaSDrpVMGMraSljV1CFGfn9PUwy0jKp2KTTm2tcwIQDRXcki0AA8UOD7KSEDgspBFeE2UOJ6B7c7M3OAHTfd4iUQMmYsuHqmFfY9uPZAgkOF2xguNQkgYBnhB85ksIpE0Xmxd6WPtdZNxjPT8FuyNqND8I5AtNdA4Wfj9e8cazRMIpRSP75/EDxQThaVxbBuIshBr+zKz3r+yKwW0dhaSH0h2HJxsKFPb1Z9nbV+WdNIC4JSVbZy5rnPGczNJa0mstpVSfPGH25gsOrzp6k1kU2FNend7krW9GbbuG1/0GObiYCSQFlu0ajS/P4jQoKGZTFCDQGLBi/D5XlstpM/FslAVN3SPU144sLZls3bEwrJRIuoVMhIos4tmRaPnw4GRGF3ZMOs0WTxSmAjw/KMPq53++Fi4T5QfhPuyybcgFTy2P8HaHo+4JZk4MoNELZO1AIGUjiNzlQWJ3kUj6olSQYvd9E4StEDSaE5iBsYr5MthHfdobmmyA7UyrdU96VnvTydjZFOxli7GH941xkf+63c8tjfMwkip2NOf58z1s2exppNJxShXW/dlMzxRmVVw/eS+Q/xu1xiveM4ZnL62Ma7zNnaz41AeZ5nsTQ8MhQJpvFDFP0kchBabkZzNN3+xC9niK7Wa3x9UpdpcdsA0YNpn0IIEzXwIEZZCNbl+FZaJcj1UoBDIKDvQosXvAvsshWWgStH3ViCaXoTvH47hB4LNTwqfO1k6srTNmDZwtdlgVCgco96fZuMoVEwuOK1Kd5uckUECMHqziHmGxDaEEYlMNVlq+jmLhbBMVLkazvz6PVQLv4dvWaN54rBt/1TZ1sgiCKTfPDLA9+7a13Db4FiZnvYkybg15/NWdadbOiy2JgJ/ev9BAA6Plqi6AWeunV8gpVucQbrhm7/jW7/c3XDbeL7Krf+7h4vP6uN50dDc6Wza2I0fSHYdyrUsjmaZLDrkyy4bVrWh1NIJ6ROdux4d5Kf3H2JQZ9U0x4jymnMZm7LXjlberdTkRjgUdSFlXEB9Fk3orrdM2YGYhSpUFxzH7oE4qbjkrHUulqmYKB7x3uMmRmZ2d7u5EDELlS8vqPfn0X0JMknJ6auqrO+YnDWD1GwWq+E5qRiycAJ8TsdMVNk9phK7HvtRVlbuXaTAlgYtkDSak5jH90/S25HEMgWji9Bfcv/2EX5878GGrEP/WJk1vbOX19VY2ZVqaYldJRI4j++f5OBwkV2H8wCzltQdSaaFPUhSKSaKDjsP5Rtu33k4h1SKP/qDjbOWq5y5vhPLNJalD6nWf/TUc1YCMKz7kADYP1gAtGDUHAcLGLypAGVHrm1B5CLXAmriq2lDgigYFRk1oMzWZZAMAxFbQLbEMlGeH4ojP2iq1M8PYN9wnNPXuJgGdGWDGRkkIQxEcoH9NokYMm9HxhtHj6NQMXhod5IDwzE2bahy6sDPeE3/Z/C8gMqRTnbHgDDNSKgtb3ZbmOHxwfEXJqKVYu3YL1lV/u2Cs4onEosukEqlEi9+8Ys5fHimze6NN97Ic57zHK6++mquvvpqvvGNbwCwbds2Xvayl3HVVVfx7ne/G/8k8UzXaJaSQEp2HJrk3A3d9HakFiWDZLs+jhdwaCRM90upGByvsHY+gdSdJldyqbqt+dstV30sUxCPGfzs/kPsOpyjqy1BT8f89qOZVAzHC1pSWlap+igFQ0eU2e0dKJCImXPul0TM5Kz1HcsikA4OFRHA5rP6AJZsiO+JjFKKfVogaeZBKcV//Pfv+NXD/XM8oPnBm8IyUZPhxYrQOa51yy+lVNNCDQj7lioOysqiVKxlGSQjk0AkF5a5AYWqeuE+aaKf68BIDM8XnLEmFJtd2WDWzM1CEVGpoirac5o72K7gm//bzpd+2slvtqRZ0Rnw5I0Oqf85gHGvRaeXZ2KWMrtjiieTQCzYVGFxkJ6/IBGdcMaxv5LEu98iLguLGNnisqgC6ZFHHuHVr341+/fvn/X+LVu28LGPfYzbb7+d22+/nT/7sz8D4Prrr+e9730vP/nJT1BKccsttyxmmBrNScn+oSK2E3Duhi76OlOLkkGynbAMo5axGc3Z+IFkde/s/Uc1VkZOdq1yTas4Pm3pOM86fw2/fXyYx/dPcua6+cvrIDRpAFrSh1S2p0TRvoGpD/69AwU2rGrDOMpCY+OaDgbGysglvqJ2YLjIqp40PR1J0gmL4WUWBJ4vl70PaiRn188HLZA0czFZdNh2YJLtB3Mz7xRiQRf4RSqOnKxERgCtLWsz+zrCTFKzscTM0Eoalr8BXxhQcZreJ3sH4yRiknW9PkhFV9anUDFoydg900C5c2eyBscthnMWF59p8/rn5Xj15QXS8QBZMvCMNgqqfabV9zEiTPOYyvPiQY6E3+ILcQsbUUXn3h0oTzA4sIlgojX7YzlYVIF0yy238L73vY8VK1bMev+WLVv43Oc+x0te8hI+8IEP4DgO/f39VKtVLrzwQgBe+tKXcscddyxmmBrNScm2/ZMAnH1qFys6U4zm7ZYPI7UjJ51dh3PAlIPdfCV2XdF8pFrv0PFSqfqkExZXXrIOKRUl22uqvA7CEjtoFDfHStFuzBpBuOA/NFJk45r2oz43GTfrj19K9g8VOXVlG0IIVnSllj2D9J/ffpSbv7tlWWOoidt4zGBsked1aU5e9kTnyWRxFodQUyzIilkYAlCogh01vS+jKLHM0LWt5cNIF45IWMhSNepzmf/xwzmT1d0+pgG9N/2aS++6CxAzjRqOKZYY2O6cmazaNjafWaUzG36Op4uDCKWoXn4KpKwFCSQ/gFt+3Ub/2Nz9vAvBHCuz4Y7vsGr0/1ryekCYmfSadGuMsA92cri6lrFtksTe5XNvPV4WVSB98IMfZPPmzbPeVy6XOeecc3j729/Od7/7XQqFAjfffDMjIyP09fXVH9fX18fw8PBihqnRnJRsOzDJur4s7ek4fV0pbCeg1AIRMJ1aidyuw3mUUnUHuzU9RxdIbZlQlBRaJpA80kmLFV1pLnpS+PnQdAYpZUWvcfwZpFIl3L+mIdgblWgdGinhB4rTVh9dIMWiJuqlFEiFsstk0eHUVW1AmNlbzh6k/tESW/dNsLs/33IxvxD2DRaJWwbnnNKlM0iaOdnTH2bOJ4szRbRIxhDZ+Ut8G56TSiBHC8c0nNUTitF4a0qWhZg2x2m5iZmosoPy5i+x83yYKJis6AwwHJvsxCE2HHoUmMXJ7hgQlomScs4Su8mSQSouScanPrtiB3P4RoKu2A5ek/nugkrsChWDwYkYh0Zjxx07QPrxg7gPJsl4gy3r/RExC+X6zVvBK0V8zwS7ezZipKt073+0JXEsB62RrcdAJpPhc5/7XP33v/qrv+Jd73oXz372s2c89lg8+vv62o4rPs3vByfreeJ4Abv787zoGRvp62vjzFPDYaQeomXvSUpF1Q3oakswWXTwDYOJkktvZ4pT1nUd9bmZtnDhIEVr4nF9RU9nkr6+Nt740ifziwcOcdG5q49a0lZjbWTQYCasY4pl+nNE1EN03mk97Bso0Nub5d4dowBs3rSGvmgG1Gx0RwNs2ztS9HTM/bhWcmh8BIALzlpJX18bG9d2cv+2YTq70sQWYD3bKr4TOSKWbI9YMk5X+8IWmK3i8FiZM9Z3snFdJ9sO7qe3N3vcs2BO1s8SzdwcGg0vCOVKLr29WWJmlmQyRiZzbL0h2Y40Qb6CEAKRTSKO4gR6JF9cNc62TJX371tFRh7/327gB8QsAy8dx1zA+xHKpy//aybaLsE3W3POB9FFI3Mewdk/ZqAQrF8pWB3fT/apBZx7LbKqQMlJksm0IBMW7Yst+0xWdUt6O6aERqESo6dDNRz/YNMmJtOr6PnJHZyuBvmfjRbpdKIp/TtSCAVh1bcaXvOYzi+lWP3Y3SilCG5VdF87idO1euGvM+NlFco0MJqMKXV4D9nJIYbXnslKay/p/mEy6Xj9gkDMB8tTJ8Xn5bIJpIGBAe6++27+9E//FAgPgmVZrFy5krGxsfrjRkdH5yzROxqjo8WWxap5YtLX13bSnieP75/A8yUbV2YYHS0SF+GH+M5943SnW3M1ynZCQ4LzNnRz12OD3PvIAHsP51jVnZp3vymliFkGgyOlluzjfMlhZVe43Rjwgs3rGB9vbk6EVw2zWANDBUaj4bZKKR7cMcqFZ/ZiHcUe98hzZDAyqzjnlE4e3T3G1l0jPLpzhI5sHOV5jI7OfYXXieIYHC4gW2ReMR+P7gyz7+0Jg9HRItmEgVSwbfcoq+fJArYaxwv4xf2H6GlPMl6o8uiOYc7d0L2kMUA4dHj34RzPuWgtmbiJ6wXs3j9OZ/bYG6JP5s8SzezUzpNEzMTxAvYdnAC/RLXqURYLH8qdySQol52w4b1cDQVSk3PRKqZkS6KC6YFb8kAd/+eHrHoYwwVkxcVYQK9Lz76HGMjvpHd9hf6eK487DgBpu6AUxjwXbQ4Mhn+j7ckqVnEfqisAZbFJ7Gd44izK5dYNS//hb7s4c63LVReX67eNFVJsXOlNbUcpBAHqtB7au1Ok901iO4LRCZdMcv4MzuhkaGiRK6r6a9bOk4WSHdmHGgmobFpHesthrC3bmHhKiz5fhYAmY+qQe0g/e4Td42vo9ldxzuEBgqHDVNvDdbwbOLi+d0J8XhqGoKcnO/f9SxhLA8lkkv/4j//g0KFDKKX4xje+wZVXXsnatWtJJBI8+OCDANx2221cdtllyxWmRnNCsv3gJIYQ9T6cvs4wI9FKJ7ta/9Fpa9rJJC12HsoxOFGZt7wOwqxvezpGodKiEjvHr5stLJRMKhSM00vs9g4WuPm2Lfzv7+Zwp5qDou1iGqK+sN87UGDvQIHTVrfPm4GIR1/+nrd0JXb7h4qs6EyRjvqwVkZZrFbOqGqW+7YNYzs+r7jiDAD6R8vzPGNxGBgrhxcXVrfX/250mZ3mSA6NlPB8yZNP7wHm6EM6BkQy3lQ52XTu77IBxZu3txNXrekXEpaBOoaFuLN3gH++ZBO/WN06hzURM5sanjuaN0nFJW3JgPh/DfDNVWfzq2f1cGpshMkWmSNA2A4VSMFIbuo1HVdgOwZdbVOiNl6e5OxffJbOscfx+jqwKgFtsti0q17JNhr+Px46Ht+Bawm++JebObw+TWr/wHG/5rHQZhyiev4qHj0PvvfstShTkR5Z2PfsicKSC6RrrrmGxx57jO7ubj7wgQ/wpje9iRe84AUopfjLv/xLAG644QY+9KEP8cIXvhDbtvnzP//zpQ5Tozmh2X4wx4bVbaQSoWiIx0w6s/GWLvRsN/wiSCctzlzXyYM7R/B8Oa/Fd422dLwpgaSU4uO3PMItRwxfrSGlwnZ80scokFIJCwENttyThXBh8KuHBxbUC1OqeGTTMdb2ZkjETB7bO87wpM1p8xg0AFiRDa+7hD1IB4eLnLJqqpSh5i7YyhlVzfKrhwdY3ZNm81l9ZJJWvZ9tqan1jm1c005fZ1jSowWS5khqJiybzw6vfLdMIAmB2dvWdElngOLebpuzHyux4eP/x90dJcpmCz5DYmY482chKEXfYznWDlW5J9fCDHQihtFE5cNIzqKvMyA9MUhlUnDbpev5+t+eQuqsCpMls2Ujd1w/PDYTRZNasn+yHH5+d2Wn9ln7/t34v7HI20k+c+UaHj2ng/XeAONN9iEVI2FUbIFASpeHuO3lG3hwrUD2baAy2Df/k1pMvJzD/F2O32Q2sv9p49z/9AR7rkuRXLX82aJjYUlK7O688876z9P7jq666iquuuqqGY8/++yzufXWW5ciNI3mpMNxA/YNFHj+U9c33L6ixVbf1SiDlIxbnLmug4d3h6Wv8znY1WjPxMmX5hdIv9s1xmN7x5ksVnnFc86YcX8liqOWBVkohhCkk1bDsNiau17/WJk9/QXOaNLwoWR7tKViGIZgw6o27t8W9vjMZ9AAELdqJg2t8KOdH88PGMtV+YNNU3Xo2VSMTNJqmf16sxwcLrJ3oMCrn3cmQgjW9mXpH2uuRLLV7BsokE3F6OtI4gcSAYxqJzvNEewZyNOZjXN6dPFjsuTAwqv9j5uyJVnhWLzwW/tx0uP8tGuMmFjJJbnj62MUpokKnAWZRYzZRbq8VTxlR4LvXJ5kyLVZxfH3UwohYJ7Brn4A4wWTp5xRpW3PHtLVgL/c18YXL4xz9ykZ/C2Com3Qnj5+8eh5tX0iGM1brO3x6xmq6QIptW+AB8/vRKxbx95Vw5QvX8+Gn9hNO9nVMkeub+B6ED/G6viEP8nh5wb84IINbComMNacgti6AyNnIzuXpt8VoH3XdvofzfLl13aT6U/gpQK+c8qZ/P3Ayfn5umwldhqN5tjYPZAnkIqzT2k0Sujrau2wWDu6dJZKmA2W2s32rrQ3kUEKpOTbv9oDhMNXAznzy60mkI61xC58bqwhg5QvOxhCkIyb/O+0IZCP7R3nc9/fOuesopLtkY1K9k5b004gFQLY0JRAWlqb75FJGwWs6G78glzRlVryDNI9W4ewTINnbFoFwNreDANj5WVxsts3WGDD6vAKfswy6WxL6AySZgZ7+wuctqaD9kwcIaayzktNu2/yhkcNnrwrx8b+HKuHC2ztaFEsCxBHAYr/Xj3J517Vzbkda7B8xaPG0lk4jxdNpBKs6PTZV00z2beKtfFVrOy32OdPopRkstSaJW0tgwQwMhl+bk+WTIRQdGSmPr9Hyzaf/vMz+OUah0tL3Wx/+noev2j9rCV2v9mS4qHdjSKwZBuIaJhWqXrssZdI8h/nXE42aONFQ1nueWqGT76th4x76Jhf81iI75okKQzW2t2c8YuVPOmnq3jK7WdSub2tZa56S4kWSBrNScaOqP/ojLWNWY++zhS5kou70LKJOagNiU3FLU5d1YZlGnS1JZoudWvLxCiU3aMugu/eMsTgeIULz+jFD9SsmY1KJGzSiWMXSOmk1TAoNldyac/EePp5q7h/+wjlqsfQRIVP3baFe7YOz7lgLtke2XTYWHvamnD/r+7N1Esdj0ZsiUvshqI+o1XdjUN9V3all7wH6eBwifUrsvWZVGv7MthO0LKypWZx3ID+sXJDxq+vM6UFkqaBYsVlJGdz+pp2LNOgPRMPM0hLzEjcJxcLyCaH6H7dYWJP8XhqfpI9Gbc1ZXZCNC2SHuqqUrRyPG/LMLGNnVyydZCt7TmChUzLPQ5Gc+FnbHuXy2efleSzf3E2wjB55m6fiXYXs2usZX1I0wXScLTdXCnMTtU8fcxKka9ftppYLMZzRzJcVEiTSiQZuKQwq0DaPRBnx+FGgVS0DXrag/rPx8qdw3uYyCn+ZKCbhDQQbWn2nyfZs3rwmF9zoSjPxz6coHLGxTx3ZzeJUoz0RAJKIA5PIieXp6T6eNACSaM5AXlg+8icQ1aP7D+qsaLFDec1k4ZUwiJmGZy3oavp2UMQZpCCqH+ohlKKYiUUTZ4fcPtd+9iwqo2X/MEGAAbGZmY2asLmWHuQIDRqmJ5BKpRdOjIJLr9wDZ4v+eVD/dz0ncfwg3DRcXhk9g/zYqUxgwSwcXVzdqXxWE0gLU2JXS1LVDNmqLGiK8VEobqk85j6R0us7ZvKPNb62Ja6D2n/UAGlGjN+fZ1JLZA0DdT6j2p/491tCSaKVR5OjDPYghKuZlAobl9T5AsbcrQ5ewjaUpSfczrPDg4Aisfbj1+wGdkkRhOznBxD8su+EudY45x7aQI/neUlD43wj9/cg7lEQ2ZHciZxS/LI2hFKKwyeVQo/Qy6uuLz7c49x6eDBlsxCgimBlEpIRiKBNFkyG8rr7kkW2XFqFy8YzJAJDOJK8JJtW1Ede5nIeBxZDFF1BZPFqT4p1wtL61Z3h99vx2rUYJZLPOW3h7lqe8CGSnjx7vxCkhVVkx93WQRyab5v/k8N8f+9tpv8+StxvGkZuN44H3lzlt/F9ixJHK1ECySN5gTD9QI+ddsW7nzw8Iz7av1HZ53SOeO+2gyeVvVTVJ2pEjuAv3vp+VzzknObfn57lGkpVKaEyQ/uOcBb/vMu3vzxX/Oez9/LRMHhTy8/ndU94SJ+YHzmgtmuHl8PEoTleeVpQ3TzJZeObJxTVraxcXU73/n1XgbGy7zpjzchCBf0RyKVolydEkhdbQn+5LLTeN7F62c8djaWelDs0ESFjkx8hpBe2ZVGsXTGBIWyS6HisW5a71qtj22pnex2R4M/T59mqrGixZlXzcnPnoEChhBsWBWeJ53ZBPmiy1c6dvFoz9KcJzuzLgfTHs8+ZJC69TCFyfWUYus4ZV+OVXmX8fjSna+/7KtQMSr82f59lFKnArBifYoz0xNLFsNI3iK+scK9Kwq8wNnNmmiOjr9yDU/aX+Y0d4DycZSpTceLrumt6/WYLBk4niBXnhJIg0mPH51nsbFrHWcnN9Sf98w7K7z4tgHiFYPqNJEgZSiGvEBMOddFsa7qOnaB5AtF585tPOPRgzxv2ns3EFx1j8dgLs4+ufhZpN912Px67QSnjE8g1nZRdcNYYpZizFhJX67KI51LM9qilWiBpNGcYFTdsGhhLD9zATtX/xFMZZBa1YdUc7FLRsMMLdPAXIA1bVsmFBKFaZmwQ8NF2jNxnnX+alZ2p3nuxes4d0M3ybhFT3uSwVkyCrXMz/H3IE0rsSs7dGRCAfeci9YC8NLLTuOiM/vo60xxeBaBVKmGc6HaUlNC7SXP2MCpq5rLIMViS9yDNFGpu9ZNp9aTtFRGDbUs0dq+qXkTbek4HZn4khs17OkvsKo7TVsk3mHKIn8sf3I2Emtaz+7DOdb1ZUjEw7/Z7rYkk0WHviBJLr74JWUKxc9XlOlyTZ7zm32oA4pi8hRKag3lWzt5x9dHeMHw3PNbWh3LUNLn2fcMsP7bHqXYOgDszaeQv8jlO2vGKViLK9YCCSNFg93PHKV3ssDLDk7gmaF49dPtyHaD3z4dHt/QGre0WgZpXa8PCPYOxvADQVc2/OzuLU3ytPE8fzzWjpj2nRjraONld/SzvjCO7UwJpOliaaLU6FzXkZGkEnLBPUhlU/Kfp0/wmJpEpQXF9ac13L8hvoaEK+kPFrdP7FDK4/Y1Bc4Xo7xmhYcwzfr77coGlF2Lc8ZshtJGa8pClxAtkDSaY+Tbv9rDgztGWv66TnQle7YF21z9RxA6lCXj5oKc7GolZbNhOz6JmIlhHFsJRS2DVJxm1DBeqLJ+RZbXXPkk/vEVF/JnVz6pft+aqHH/SCotKbGzKFc9pFJIqSiWPTqyYXx/cP4q3vcXl/Cip4dXRtf2ZTg8S2ajFGWgssc4iLfmYucu0RykoUmblV0zHYw6o4noxRbNqJqPWjZueokdhMd7KTNISil29+dn7d0DbfV9InFwuMjfffxXDE0svR19oeKy81Ce86P5RwCdbXEqjk+nmyCfWHyB9Fi7w1DS57mjGTq3H0J0Qn7NmbjpbvKnnI11cOmyRwLB6/e387qv7sJTbUgj/PyoWCuwXYNHMwUOpr15XuX4mCiauJZkpVvhLz6+C3/Lqob71ZkZBk6zGOprzUWOKYEUvq8dh8Pviq5sgEJxxi2/5q0fvZPsERe7nL5enISBWj/A6LTerKo7TSBF/Um1jFFbStKWlAvOIN2+pkjB8jnl0TG80zvBaCwv9Nu7ecWP+7loT+s+Yx1j5nfX//aVafOq/MP2bZQyoQut4woMoehIB9iOwZmOj7AU+9NL853TKrRA0miOASkVd9x7kN8+Ptzy13bcuQXSXP1HEFqlruhs3sluolDl2o//mq37Zi+TsB2/Xl53LLRHGZrpGaSxfJXejtlr3tf0phmcqCBl4wKk4vgYQpCIHXssmWQMpaDqBJTsUCh1REJBCMGpq6bmkqzryzI8WZlRclWKSgWzqWMTSLEltPmuVH0KZXeGQQOEYhFoyKgtJv1jZTJJq56xq7G2L8PAeHlOx8BWMzRRoWR7MyzdtUA68Xh8/yS2E8z52bSYPLRzFKkUl5w95end3RZ+ZmXKMQpxFt2YYDwRsKpqccGwgdOfYeS8S1BG+PfjntpFrlrkC+vG2bfIC859aZe8FRAbKGDkE5TO3li/r0IfyS/0YuQlI4nF/UwbzZnEqhbv/+ZWnrw7z8T5Fzbc71yxmlMzOfLtrdkfXiSQOjKSbCrg4Gg0bHxllS+uGsTuL1BZsbouFmvYfSspZi3ue77LzuxUj1it5AymBFKYQVJkUpJsSs5p0hCgZmReClbAtjaHy4cDzjptgvJTNs54nownueixdtYMt2Ye0mQs4F/PHuPu7qmLFr5QFC3Jc36+H/OnFsV4eJGx6gmScUU6oag4gnWbkiS7A/ZnFldItxotkDSaY2AsbxNItSguXLUMUq7oNGR4jtZ/VKOvq3lHrp2Hc7i+nFsguUFT7mxzURMStR4kxw0oVry5BVJPBs+XM0oLy9VwSGyzgxVno+aeVq565CI3qiMX7DXWrciiFAyON169rmeQjlEgmYZAiKVxsasbNMwikBIxE9MQDaYVi0n/aJm1fdkZx29tbwbXk0tW2lbrPzoyg9SWjpGImS21yF8ISikODhcbzEx+3zkwHJZK7YmO2VLywPYRVnalWL9iqoStsy1cCCeKMaRQFGKL+zf8nNEMf7u3i8TeCYRUlM+dWgDHV5fpKxzgkFlkOLl454xCcevaAt9ZWyC5c5RqvIfRTZfU75fxFH7fGnpHPEYSi3vuPph08bptOnaMIjemqXaubLh/NHUhE7nNOPGAwixZjoXi+gI/66FMxcrOAKUEcUuxs89mrDpOXAaMPu1pM5+X6SLrthErCQaSU6KxlkGyTFV32ivZBumEwjQgm5o7g/TzFWU+fNZYgyh/uDP8zHzmeBHzXEX+1LNnPtEwcLNx9mdDJ8T5GIn7RxXc/anw+8I3puKwlODN27L8yX/twUn2oIQVvV+DZFyRSkgcz6AqVvDHh6ucWzj6rKsTDS2QNJpjoFb6sRgCqRoJJEWY5amxN+o/Omv9zP6jGm2pWN0Wez72D4aLkH2DhdnjcPx6/9GxYJkGmaRVn4U0Fr2XnrkEUlSCdaSTXaXqHVf/EUz1L9UyK0C9xO5I1kVxHBpp7I8p2uHz2o5RIAkhiFvmkvQgDU/MLZCEEGRSsbrgW0yUUvSPlWaU18FUT9LAEpXZ7enPk0larOpp3CdCCPo6k4wt8bBYKRUPbB/hX7/6AO//0v3c+r8nn8vTYnFgKPxs2r3EAqlQcdl+IMfms1c0CPruSCCtHmrjrx6P0+4t3tLJFeEC1ETQ4e8jsaaIN80ps3TqOtptj0y+3FKjBnVEVmwo6VOISS7IJcls3Y93ahfqiM8+uTLBuv05RuKtEUgSxe6M2xBLgOKuc3KIsw5RdXvpv+Q5M57nFxNceutO0k6Vg9bxx+L4sO3qfh5rr7IiMhfoyPo8nqlwwYMjxE5rmyHSABCCgb94AUV7LUPTsiU1gbSqy2eiNCWQsinJvrRLIuvjeEbdHGI6h9Mebb5RdwtUKB7qrHJqJUZ2SxuPx/4Cz5y9Hy14tsen/lTw2DTHw7wV8NMVpfp5BuAJxSfPmOCLG3L4Yvbs6GiUJXz6ePj5GaCoGpLk3nGCoJOJTZsa3m8iJklH5ajjj6/kko/BabmTS3KcXNFqNCcIQ1F2IVdyZh1uejy47tSX3vSr67Vm91NXzt2cm0xYdXOF+agJo/1DxRllbRAOij2eEjsIy+yKkSAZj95Lb/vsk73X9NSsnxuFSSXKIB0PmeiLvVT1yJVqAmn2q1krulJYpjHDqOF4e5AgLLNbEoE0aSOYMu44kiNd/RaLyaKD7QQNDnY15jrei8Wuw3lOX9uBMUsmcjlmIX369i3cfNsWyrbPKSuz3L99pOWfJScjtuMzPFGhPR1jLF+tZ3yXgtnK62Aqg+TmoNcxWmZtfWdfmUOpxr/DL26Y5FtrQ2HYfsphkldXwZz6HHaTPVgvNVmTchhrkUD60coiHzprrEGY7MyGn5Nn53x6Tt9F8twwJj+Ah/ckcFxBsjfHxsOjiGp1hsA6Fh7rcPjKqTl+1zn1vbcn5VEWimdsmUSm41SftGbG82Q2zpOGxlk3UqI8zRBBKXj8QLzBdroZSobCS/s4UQYJQJ5aoRLYXPJwgcmLNs35XLPXYnXJYSzt1bM+tRK7NT0+tmNQdQVF26C6vsIXN+TYfk64b2czaqiYirW2RYDCFQqB4LUHO/jDHSYdP9hKbOfknLGsWj/GKkocnnaO/bqvwm96K/xg9ZShxW96w/XMhkpsToE0EvNYvWcMo2hzZ1+Ze3ps/v1J40zk8jipTgqnTWWxHE+QjCnSifDzzHFBFKocFjYTS+i+eLxogXQCo5TiB3fv5+HdY8sdygnF0YwFlopaBkmp0DK6lVS92QXS4HiFdMKq9/bMRioeZijm20eBlBwYLtKejuF4AYOz2Ws7x1diB6FRQ63EbjwqnZsrg5RKWHS1JWZkkMISu2MXJTCVQSrbHvlyVGKXnn0/mobBmt70DKvvUsXDMo+vFyoeM5ZkDtLwRIWejmS97+lIwrlQi1/SVTO7mO5gVyOdDI/3UsxCKtkeg+MVTp/F3ASmBNLRhhq3klzJ4cEdozz34nX82988nZc8YyMl22P7wdySbP9E5tBICQVcdmHoLrmUZXazlddBWJaaSVrkyz4P9wTsmNZf4gvFA532jL6kgaTHPd1zm0x4QvHLvjKf3Ti1wLUNSX/Kp9s1Mcsl0pVBCvENjU8UAvuUtayrTjDWZGnbfOLlnh4b21QcTk293q6sy6qqxVrnELHNHrlzz0Mp+OlDGX71WIZ9wzHsFSv5k58N8t5fTCKaEI0FK6B0FCezohXed1Zx6uLVA3EPwxO85Em/hZenqE9qnY5lssoc4V2f28HakamLQmMFk+/0W/z4wTQL+dPOJQIMAXEpKK4vI4Ri8owSRjxJ73lPJ7/urDmfu3rPXfz53p/hK1Uvgax6AiEUq7p8lFBMFE1KtsHQk0KRMtIbfs8fWWYnUeTsEmvuH+am0yf42crwO6nXtdj04HbS3iBy49xzrPxCnDP7SxxKe/VzoGJKUoHgd51VHuq0mYgF/Lq3zKZCgr/e30VSzv6dUXBybNg6SOzOB/h1b5mfrCzR5htsfOwgcnUCppk5VV0RldiF24yLcZLBIb545gQPdi/9wOVjRQukE5hcyeU7v97Lf976KF/76Q49pwPYdTjHmz/260UpbVsI092VWh2LM0cGaXC8zOqe9FF7cZKJWg3w0c+VwbEKrie57MLwaty+wZn2qLbjkzqOEjuAtky8XtI2lq9imWLO0jaInOyOEGsVxyd9nEKtJrAqVZ982SUZN+sWvrOxri87w8muZIczkI6nFyq2RCV2Q3NYfNfIJmNLkkGqZYfWzJJBAuhpT5Jbgr/lvQPhIvvMOQRSd1sC15dUlqgP6P7tIyhCi3nDEJx/WjeJuMn921rvirkQBsfLs84AW0pq5XWXPXk1lmksWZldoeKy7cDkjPK6Gp1tCXJln/tW+jzSMfW5/GBnldvXFLm7pzED+anTJvnRqhLeHFfka2IAwkUrUHeD21iO033PI9hfTFAUM+eseWNJzngoxwrbbBA/eSvAPqIHJ28F/P/OHWVb29x/Z5eNhZ8VtcyNKxSHUx5PKsbo3LYdN8hiWyv4zZY0u/qjbJovcHu7SDzfhRXzfyYqFF/akON/1s99PAuxgJgUpIOpcrItGZcNIzYrYhO4vd1zv37KIuk52NMc4/aYPtte3M//rS3zu92hkKiYknu7Kvyir8SuzOz7JJ/0MQy4r8vmttPy/NHlOS5Ow6X5LOrs1aijXLCTI4Kn3FHkqu91sroafm8daHPY/aIB7rxgjN3PHWZw0sT1DZ67o5Mn55Pk2jy8pD9DIOViEqOa46zHtnGKHeP+Lptb1uYZSHpkdhzC6qzi9sy9T+QDkg0/y1O0JPmob+6Vhzt4+45eNpRj/HRFmQe7bAwleOFQFk8otmedWU1I/uG3Ff761v2sfjzPUydCEfrU8QRdp+wjfWau4bGOZ5CIT2WQylaCpOdzyqTHgczJ02upBdIJzKGR8Iviyaf38MuH+vmXrz5AfgnLDU5E9g8V8QPJ0CwZj6VkaKLCKdFVxpYLpEgIZ5JWPesCYQZpdc/sC80aNUEzX8N3rbzu6eeuIpUwZ+1Dqro+yeMtsUvH6nbSY/kqPe3JWUucaqzpyTB4hLNZK3uQylUvGhJ79GbRdX1Z8mW34e8tFEhzi7tmiJnGott8K6UYnqywqmtugZRJWkti0tA/WqYzG5/T2KItHaO4BEJtd38eQwg2rm6f9f62uiX90hhX3L9thHV9mbpwjMdMLjqjl4d2ji55mZ1Sit/tHOU//vt3vPtz9/KR//rdrCW3S8WB4SIdmTi9nSk2rGpjT//sPZKt5qGdoyjFjPK6Gl1tCXIlnw5HNJQJjVg+ubLBGfmpz4Z8NBfoOaMZYmr2z7uEFDw5Hy7aa83x+zIepoL1dozUrgHECkElNbOkzB7r4ulfh9dvSzZkbm5dV2BXtrGi4f6u8Dvkvq65S0ivHMny5HySx9vDxXFcCf7fzl6evc3FvH2c4t7VPLQnxe/2JDnv1EhE+QIvlcV8UsAXN1ncO+317+mu8Kvexu/o7W0uY/GAQymvof9lOpMxSadncMfKEj9bUWIiFpBXihc9uIvg/sTMbNp00jEe2ZTmi5tH6gv87W3hvpi8eIKf95sMTpj8NFXlCymbrwuXh9pn/+4upMMM0guH2nAMxaHTyjyjmOIvf/FrTt3z/bljAPxMirQj6Rm268dm30qb8kqH03yL3Kll/i/jEFiSjqTiD8ZTpBDYXe4MJztTwZUPjXPGzgIv/+kjQFiG6LgusUN5/DO66sYIsyFTcc7YUwJCwTu9v+3l/e28YX8nzxvJ8Pd7umn3TXZlXb5xSp59s7jNGavitHe6WJ7Nc4ZSPGc0wx+MuyQurlJ+8ob64wIZnhvJWDjfCaBghJ9zZw5VGUwFuMbyfb4sBC2QTmBqTeJ/85Lz+Ls/OZ/+0TIP7Rxd5qiWl5oYyZeXz0/fdnxyJZdzNnQ1xNQqahmkNb2ZegapUvXIl11W98y96AXqPUPzCqShIqmEyaqeNBtWtc8QSFIpqk5w3Bmk9nScctXHD+RRLb5rrOlN43qSieh9K6WiHqTjK7GLx0zilkHZDjNIcznY1Vi3IvxAPzA0tV+KtkfbcfQfhXEYeItcIlqoeNhOwMru2fuPICyxKy1BiV3NwW4upveoLSa7D+dZvzI7Z9awdlyXYjbURKHK7v48Tz2nscl789krwjK7A7lFj2E6v35kgE9+5zGGJir1GPbOYdyyFBwYKtaHL5+xtoP9Q4Ulybo+tmecvs7kjPK6Gl3ZBPmyT6crmJwmkLYpibsnw/juqc/mRzqruL4gsWV2QQ6QCQz+tL+Nt+3s4bxi+Lm4P+2y3o6RKDgwKqmcsQYlZp6zlewqXLMD4UzFMRkL2J/2qEzLTAUoHugKP0vPLM3+mSdReEKFC+Xd3fX+qnRgsPZ32xFCMnjGudy1NcXpq12uuLACKDxPEBhJ5IDBEAEHpjmg3d9lz1hk52IBSSkIBA09MUc+psszKVmKe7tt2nyTp99yClfefRgvlz2qGOBJSYxuSTEW1F319nRWSU8kOD8FsU6fWx/I8B3hkdjeRtvONrYlvFnLDz2laC9bnGrH2FiO8dOVJWxDEv/ZKMYDR78466fTIGBkRYE7+8pIFIdX2qwcTvLs8TR9k3Hu2zTJoy8/CO0eq6sW797Zy4rx5IwMUodv8so7B1k7UmX9HXt56kSKPsdk0/ZBDOlTPHvDUWPx0mnWDrhcs6ONjeU4Hz5rjN9GZZ/tvkmvayEQdHnhOXZGKU5MCbYdIRwPpDy+u1FRfZ6i7bkjtLslrhjN0D1yEOVA2Vpdf2yt3ysZV8QtMA3FuNmOuTHgjLKHBPrTJ0c1lBZIJzCHRkr0diRJJy3OPrUTYEm+KE5kaq5uhWUUSDUL5dPXdBCzjEXJIMUsgxWdqbpAqllOH+nAdSTNltjtGyxw6so2DCHYsLqNQyOlhnPLccNrcMfdg5SZujI/XqjO2X9Uo3ZFvVZm53qSQKrjNmmAsOelHAnNeQVStKjfP22hWKp4dbOHYyVuGXiLXCpbc7CbbQZSjUzSwnGDRe3nk1IxMF5m7RzldRBmboq2t6gZCz+Q7B0szDpceXocAIXy4meQ7ovK6J56TmOmol5mt731s9WOxiO7x1nRmeLf33Qpf37VWQgBW/aOL2kMNRwvYGC8zKkrQ4F0+tp2/CC0QV9sBsbC7c5VQtvVlqBYCWivCiqmwjEkAYqhtE92NMHdjuKx9tCs4OGOKnJfmm/jcmfP7AvqghUwEQto96eWYU+fSHPpeJrE7jEcq5uhTZcza8ti0iAwfD56fo67esK/932ZyGXTM/h1lL05nPKpmpLXHezgGROzfx6MJAI+cM4og0mfTGCgUHxzXZ7tWQe5R5E/7UncPfEklBI8a1Ml7M2xwiyBEhbjvziDvn2CkcjWumAFjCYC1lUsbl9dZHcU16UTaf5xZw8vHMrS485+oeKN+7p4aX87T51I4RiKh9qrFEcFnXkbb0XbrM+pEZzfweq+EoEUDEexPOX+Xs6+r4frDnTxmg0+kxfmaOvyuCZh0d6fIicUw7PMcFr/YA8v/N+VoBTPisoPv7ZuEqPg4nXPfcEHwM9kEMBkd5Vf95bZm/GwY5JThlIYCJ6xpQvhGaQn46wyw0G8lhJkZxkWW7CC+veFWXS4+lGHv9/TTXbdBKm/tMnNZu89jVzH2VStdWwYF+xoc/AMxVp77u+wuBKcWYzzeJvTIBwPZFzuzirMQTBPC8iqAQCyP9mD/d00jjnlrOtEJY6JmEIISCUk46qTxB+6nJaNSkmzWiBpjpNDI6X6Qs2KGhP9ZSx9OBE4ETJIQ9PESldbgolia+2Bq15AImbS05Gsz0KqCaQ1LSix83zJ4ZFSvdzotNXtBFI12FrXnn+8Lna1hed4oUqh7NLTMXdWA6iXENaMGmplYK0QSDVjgnzJOWofFIQzkrKpGAem9WaVbO+YLb5rxCxz0ecg1QTSiqMJpFRtLtTiZZFGczaeL2e1+K7Rlg4H+JYWsdxvZNLG9SQbVs29wKpnkOzF/1y5f/swp65qY8URJZAxy+SiM3t5cMfokhnRSKnYcSjH2ad2YRoG2VSM09a089jepR/QCnB4pIRS1DNINVONxe5D8nzJaK561BLmrmycFz/4K1b+LoxlMiYJBJyzo52u/RkeWVvie30lPAGnjaZIP9BFpctja2r2c+ruHpube/pRY0W+sT7Hg502F+aTnFtMkNw1RNCeZI/q4Kbvd3Hb3Vn2D8fqRgMJK0eXfQgpbUajbMn+tEc6EEzGJT9bUeZAyuNUO8bbdvZyZiled0E7knwswCjarP7Nbg4nPf7trDG2tjtUfBdrwqZ4+ka27E9z6gqXjkx4XsYshRsNU3UzHawchbG4T4Bid839rpRgd9bljlUlhhI+CkVKGjxjIk2HP/v3SmKkxBkfuYON/Q4xKfj2ihIiM44r2iivPuWox3Aw/XTu3P0K8ARDkTmCOZZgVSmGQNDe7eFdPsbTsdgUN+gaTOH6sDcz8/h4vuAFt/yQtju2c0Y5zpUjGV71mI9QCq9n7gstANVsLznVR/pAAl/AL/vK4AtOmQgvDq43DM7/zjrO+PlKsqnweIzGfR58cT8Hj8jcfGttgY+/+lQ4PVz/dezejUBQNTsZ73kyvnV00aiiz7URUeW7a4q0ewbr7KN/l55XSFCyZL0fDkIR3TnmIe5MIQsxso/tAamwBor4a7Mw7aJCNbLAT8bD95ZOKApOglziSRiik7/Z3cYzh4+vVH2p0ALpBMX1AoYmKvV0f6wmkH7vM0gngECaqCCAlV0putsSLc8guW4okHo7UvVZSIMTZSxT0Nt59AxMvcTObVz4/uetj/LNX+xCqVAIBVLVBVLt/+lldjWr8OPPIIUf0PsGwteer8Qum4rRkY3X++8q0QI+c5wldrXXmChUqbrBvBkkIQTr+jIciPaJlIpy1TvmIbE1WmnzPVGosv3ATIvXockKpiHobZ97X9cH5y5i/0/N5GLd0UrslqD3p/ZZ0dU2d9/ZUvUgjeRs9g0WZ2SPalxy9grKVX/W47oYHBopYTs+Z08bPn3+xh72Dxbq88uWkv2RQUNNzHZmE/R2JBddII1MVpBKHbWEuastyaZgG5c8cpD3butjlWMRV4IN2zrpHE3St7OdoWjB3f3bHrr3ZUlPxBmIB8hZyriKhk/v7glWf+ZuxhIBP1hdYiyaJ9R58T7anznItkNJ4haM5i1uv6eNW+9qQ6kwSwGwMufVrb73ZVw2lOM8dSJFJjC4c0V4wSsbGDiG4l/PGePe7pl9SIWYJDk4xpm/uI9UVVI1w1ifvG2chD9BfzxBqWpw/sap77m4peoze6x4hfUDEwQCJuMBezIumcBgrW3x/OEMwwmfm06f4LfRtsum5LH26gwjgMlYwJ3xvZQSo3Tct5OrhjO4nqBvzMaLd5Ff+6SjHsP4Yzmu/smvaBs3GEr6/F9PhQOdDpmUrL/PdXaMq4azGAJWm4LkWIKy1fh57KB45Pn97Dg3Qfp3hxEILhvLsP5Q6CZc7e05ahxeewd3vf5lHJZnIyUEQrHisU6y0Wq7u02SKMVoM0XdkK/DM6l2uvT3NV5sHU8EdG1sZ+LlT4UuSO8ZILZ/AvHdEoPB048aB4C5wiX9gklG+8J9f2olNq/b4JNKcUxFPfMHMJrw6c0nKWQ2UN7VR/yOUWKDBSpyFWOnXdzw/NrMp2RkCpFKSCqOSeG2XvipzeqqhTlHX96JhhZIJyj9Y2WUoi6QDEMgBPi/x3MypFL1mRjLLZBCC2WTrkUQSFUvIBk362JiLF9lcKzCyq40pnH0P9naYNeq05jC3nFokp/ef4hfPHi4LoQ2RMMHu9oStGfiDQKpGmWQjmdQLEwtgGuvPZ9AAjhjTUd9QVRzFTteFzsIy8oG///s/Xe8bOld3ol+3xUrh53D2SeHzlktqSUUkIQQEoiMBcYGY2xGnmsPHntmrj33omsbe8YzNg7DeAZjzxgweAiykMEWAiEJodjqljp3n5x3DhVXXu/9Y4Wq2qlqn13nnG60H3306e5zVq16a8X3eZ/n9/xidaWc79/R+9BEgUvzdSzHp+34SLm/HkgQW+yGRJA+9bWr/JP/55tbGr4urllMVLMoys4voXy2E1rRD7/52fP8n598ac/ju77cRMCuk85Sotzcxvs5bQy8CynWNYWsqd72eqinX4nsczsFAdx/NEqkurRw+y1lAK/EROzM4Y5F5sETo0jg5Ut3XkW6stigkNV7yOzJ2TIXbtRuawR7otDvqiCVMhTyTYq1BkY8wVs0fdZkyGgx4EzTwKlp/Pu5Gi9eNyjnA3JrBjZs2/ulqfqM12oYYYMHaia+kPza4RqK9CiWF2idmObSgs7JGZe/9P4NHjtpcXNVp2kpeKUi2Z+yGCuqrJpRcp0eCo63dAwpeNtKlot5j394ZhmJJBMqlDxl29qfDT1AqSgUWoLp8w3MUKBKGJ9qUf6RRZ53KhSyAccmO5/tVpDy2iKnrt7kSFvHExJVCu6tmwgED9RNZi0NVUbKBER1Vr95qM7NbO8i3qLp87knCzRyKrR83rye4/2fnGPKthFTOYJdQmcAVMNiRF/l6Kshs5bGH020uDluU8hEz9tJR+OvXqoy4UTPvpFiwH2fmOV9S70LOMtqQHPaxrhvlaxcgvh5LdY9fCWHNTa16zgQgoncItNOA81TmGzrzDw9mioqI7G9rJjtvAcMKThUM1matlJLpa2ENLQQQ5xiNfsQ9vEJwoag8PJlzKurhDu0qehBXqU0N8/DbZcn17N818LOipNwfUTbJRMq/NcXRvj25ehekEiWzYCpFR+Z0Wgfm0HxfYpffg0pVNqHD/XsJ6lBMhMFyZC0HYEIJcpdTh/eKw4I0usUid1prqspqK4q+P63rsWu3nIJYovhsHsP7QULa+20FqhazLDecHpS1/YLxwsw9E0Eqes7d8N2ClIYSiwnqmv6jc+c4/PfvEExpzMaKwxCCI5PlzYpSMMhJsUtBGl3ix3AqUNlljds1hvOcC12GT0NwKj0sdgBPHnvJK4X8LVXFjtNYoegIA2rD1LL8glCyddf60RDh1JyZaGxa/0RdCtI/S12L19e4+y1jT2P79J8nanR3K4kO639uY1qRUKQdusfBlDMGrc9Ue+586scmy7ueB8YehQ/fyci2AFeu7rOZDXbQ0iOTBUpZHVeuAt1SFfjgIbuOqATs2U2mu7AC1H1ltvTKmEQJH3gdrtvqkUTx9BQLZ/Pjrd4pmLx27N1nn5slVwm5N5Zl8zlPOtthZtjNk+escitmgQBqeWrGw3TZ3TCQpEej52PlIMZS6Py3AuEl+Bs8wSur3ByxkVV4PhUdE2sNVR8LYvIwrTj0Iojwv/6hVGeXI+uqzfH9Ub3NMxUMThk6T39cNLjpYWUcwFCKBhX1vib50b522fHyPuLuGWD55ZneOCIQ/fanNFFkMKcwZHLTf7y5SrTjs733yzx4floIi4Q/LnrZf7ilQolX+XFyyb22WjifTnXe89vGAGeJ8loDvUX1wkDydqKzv1PvsbU97/c02dnO+hGm4q6ziNftzgck7XchRz5zPbv5tFSQMvScDzRc0yW1BCVgMPaGrrbwrgZKUe1J+7n+k99CDe3c6x2grc8/3G+a+2zTNQMkksxGxOGSiFAICnEBEkJHZCSk3UDu+xxJX4/rBgBBCEnPnEW48IK1z7w3Vz/6PdSefUVSlPXYYB+fIE0Ca4o5JfqfPd8kUKw85R/9N98iclf+AxAGt7gCUlbleR9wfGbNyiIG6wef4hm5hDZV29iGA2CTa6WVEFKLXYhlqNQVs5T3Xil75hfTzggSK9TXFtqYhoq45XOi1RVb38C1usZyQuynDeot+7OSoSUksU1K32RVosmQSiHas1x3EhBqpZMFCFYXGuzvG71TbCDqKGhIGrymiAhOx986xFmx/JcX25xbLrUMwk5Ol1kYbWd1h4ln99vzHfWVNFUhcV1C1XZvQdSglNzFSCqO0gsdsOpQerso99kGeDETImj0yU+982bNOPzu98aJGPAPkh+EPLf/asv8dWXdy7Yt+Pz+rWubV69ss5q3d5RoUjQqUHa/bqVUrK0blFvuXtawZdScnm+vmOsdoJi/vZb2+ptF0WIvgEbxZx+W8NfXC/g0nyde7rUmu1QyGh3hCCFoeTs9aj+qBuKEDxwbIQXL60NdeGnH9YbDjdWWltqxSaq0Ttwtd5rP/q9L13mf/mNb2zZzz/8tWf47c9f2NN3z6+1GS1ldu2Nls9oeIaOYvm8XHT4ZtlmMeNjLmTIZ0JOH3I5+pVRSn80wexyhnsOuZQaGoX17Z81TcVnRHcxgiYnX7zEj18t8903CxQ/dx7vJYNnFo5haCFz49G1UC1Gz+TVhoJEw/2Gwcnn1nhiPUvcNiglQ4YU/J1Xx/jwzc6xnLM0GlpIfZOl7J6GwXe+vISesaiuvEIuUMi7YH76OlcvTqIIeOBo7/s2sthF3+U/XsL4QPQs2q5/TsVTOdY2kBK+/EqWc2fzjLkql7ek3IUYdZfqhZAJ7xqf/ZLKWl3lUG4JW+1PSrx8HiEgY7d5seQQhFBYyJHPbPO8lZKxnIcUkl88vM5nxzt9DVfUgIzvMPafY6XnypXoIxkV71Cl7zgA5GWdiYUaD14pMLkRLT5kjGgcmgpn5lyOTblkrtzkzG/9G8ZXvsZ9LQMBfCkXjWXFDFB8jzPfeJ5S/TzoKvrCOlqthXVmcqev7oEvDJz/ZGK+utJnwJLy4lmK7rVUMXuxZPNPTq8SCMl/e26Mdz67iGo4+Jki9qFxdKVJ9tvrsMnVYrvRf5t6dC1kTUkQCgJTRVhvjHCGBAcE6XWKKKAh39MzRlcFwbcwQUoS7I5OFW978tVOWG84OF6QEqSReOV1fYhBDU5cg6QqCtWiycuX12N//O4BDRCpQRlTSy1y0CnEHylm+Os/+BDVoskDx3pfOMenS0g6NQBpSMM+LXZCiLQOqV8PpARzEwUMXeHctY2h1iB1R4VX+vRBgmjs73/LEa4sNHjxUrSavl+Lna4rA4U0rNRsVmo2l7tixjcjSSp87epGunjw+W/eJJ/RePzM+K77LyR9ofpMxBttD9sNCEK5p0CHtbpDve31JUiFrIbg9sZr11ouxbze99or5ozbStQu3qwThDJdANgJ+ay+xTZ5O3B1qYHlBJzpqj9K8ODxURpt746kxwE8f2GVn/u3X0NVBY+d7r12q4XkGds7ST93vcYrV9Zpd5H8WtNhad3i5sre+uTNr7T7LkAJIXDHcwQVyUg8wQ8BfT5DPiPJmZLjpZDJlyrcN+eiKFAy4G1/NMMD9d5VdonkI083efyXGhjvcTEfanO6aVJYaqNtNLBOTnBuPsuxKQ8t5mw5U5I1QtYbKghB7fwch7+u8eH5Iv/uyMaWvkPZUEkjuwEOtaNn17Vc77V1fyPDe35xAWUuoPC+6DlnLG2gPG9z+fo4x6a8LSpMt8UuGC+gT9n8p6k6H7tvmf9waPt6sfWmQttRsBzB0ZbB1ZzXU5u1oQeMLjkICdpP2Cw3bEzXYeK31nEu9X/3+fkCINGVNs+UbIJAoIQitdh1I/e1Kzzxb/8zputhOUoaLAGwoofk7ICCFaC/zUN7IDpeJz7z6xw5u3sPpAQyp5FxXUaXs5ycj66rRFEBeP/jLe4/4lI4dxn/ZY3Scxc4pCjMfKNKdSm6Vg5ZGh9+zWd8zSXMRvfA8Y//JgD1M2cGGkeg5cCQKO3dF5SFFyCM6Hxq69E9P21pWErI52LyqHxAQ35ntFihzEp0v4V9ZKvd0PEEhhamgl/SLNYzDYR9QJAOsE8khfRzm2ItNe1bW0Fai1+QR6dLSHlnepZsxsKmCOVKQpDqw1O0HC9IVzLHyhmuxJOUQRQkiFSb7phvKyUZGmPlLP/LR5/ivU/0dmdPat2uL0fWTntIKXbQsVH1i/hOoKkKJ2bKnLteSxWOYYwjIQWKEANb5d71+ByGpvCZZ65H+9ivxU6NapC61ZhL8/UtE9Gl9aiodjcrqeX4TFSjII+vvbJIve3y7Nll3vrAFLq2+/HKmBpC0LcXUjIO2FvdX2Kp7EeQVEUhn9WpdxET2/X5G//iC1t6voWh5Nz1jYHHkKDecikP4NePmtbevmfK2esbCCIL6W7IZ/TbmuqXIOm3dGZuq6J1f7yA8sKF22+z+8QXLvLPfus5KgWDn/uJN225ZpJn7MYmgpQQpstd9VrJs3JtFzveK5fX+P/+m6+miy+hlMyvtQZagFp/9DDzbyqmfWOCEPLLmVSlePCog6ZKHjgSfX8xG9KwlC22NoHg8Uttjt1oI6c1in70fDHPLWNro7wy/SZsN7LXdWOkGLDaiG3UxUkCN8OaHrCQ8THC3RcApm2N9y7lmbI7i14SyYrh0xIlvEIJI2igB3Wy1+YJhcJL5gnGy1ufEd0KUtBUCV4VCC9W2f3tp5U3VnS0wMdrhxxt69iKZKkrYttRJOX1ADujM1IO+I5T5zkTXkO1JE52d9UVwMvmUR7zoaDwtmsFvu/ZMYBtFaSxzzzNSHCFKX+Vys0s17IeG3o0Fs1VmLvmIUQUaZ1XFhGWi/hTm+DGgOECeR3D87Bcge31Ws66kb0a2aOtK2XK+ZCjL1TRL0bX4Zir8e5zbbRQEmQjYiLfbqK/3aNRPjLYOIRCkMuAs/tUXxoa6x95FJGXmK2oLnHU03hiPcvTVYt/fXQdLeshY1t+5sEm2Z+ycTNbn2W2K3p+a9aM/r09WUA77cEbKIn5gCC9DrFat7Ecf0vDOk1R8IM3zsU1bKzXHTRVSfuq3I2ghs0EKVGQdnsh7xVRzHd0a3aHGvSrK0mQNbSeGqT2pjqe7VbSS3Gs9Y2YICUpdvsNaYBOUMMgAQ0JTs6WubrUYK3hkDHUvuEUgyCxWBXz+q4BBt0oZHXedO9Eqp7slyAZ8XntjnH+9T86y69++rWe7ZY3ImKShJJsB8sNODpV5Mhkka++vMiXXlggCCXvfHim7zgUIchn9B6LXWIB68bSRsd6Ut9lLJtxaaGOqogdm252o5jTe8IRFtcsGm1vC0H64gvz/KNfezaNMd8ObdvH21TjVWu5lAawdpbyBs22d9vCAM5d22B2PN9XDS1k9YFqw/aL166uMzmS2zbdr5Q3ODJZ5OXLw0vT++SfXuKTX7zU82dt2+eTX7zM42fG+R//whPbkpR8RkNTFdY3XX/JvdF9zSZkab1u73geL87Xub7cSmus1usOrhcOtAB1Tv9+/t31v0A17uMTBALD0sjHq+QnZjx+5oPraRx2IRtycbLNPzqzQkvp3PNNNeTlcpGN7Dgb2mmUT9cwry1gnl/Fmp7ia83TaKrkyEQvUR4pBqw1VKQEYQbo7Tq/cCr6Hcdau1/jKoJ3ruQZczvP9LYq+ecnVvnjJ2ZYLT2I8ymD6me/iZwPWSme5oXw3rRWphvdNUiN9RlWP3+cXCO673bqs3N9RePHv/D7fOgrn+PEhsHfPDfKpNNZyPmLVyt86NcMvuk8iv1qgUe/+iI/MHcBAbSn+wQjEKkl2pt9/FHBI1dK5Fei9812BCnzWPSem6VO9eUSAtKUvSculfiuT1hIVJpiBuNPl8leXEDIEG+00ncc0ZcaGK6P7YrUcpbRN12Pfog63yJQDNx2ESFgvOxzpSX5zHiTswWHZhA5U/xcdG1efPBHuPjuH9m9Ye4mbJTvoe3t7igw15bwpspkf9JGne6M891xUMONrAdP2wTXo9+yUn0UL1tkLXPvln3ZXi9BShSk2twImXfZCPHGWeQ/IEivQ6QBDZsJkqbcsf4Yr0esNWxGimZqj7orBGm1jamr6aSimDdQFTHUJDvXCzD16AGYqC4jJXNgspIx1R6LXTtVg3b+fBJrfSOOZrYcH9NQByYSuyGx2O2FIJ2aKyNl1LAyP4T6I+gQxMoACXbdeOcjs0CkbJkDFMbuhkTZ6bbZtW2fmyvtngldQpB2u8Zt1ydjaLz5vkkuLzT4g69d5eRsmdldYrW7kd9U6/KF5+f5B7/y9Z5reRAFSUrJxZv1nvFfnm9waKKArvV/xZRyRo8anFhpNwdDJIlrSfPk7fCPf+NZfutzvfUnAytIWZ0glOn9MkwEYcj5m/W+9jq4Mxa7tP5oG3tdgumx3Ja6n/3gG+dWttTUrdSi6+vN905i7HBvCSGoFg02utRUzw/SY3S5q1fZlZgguX64oyU0+fNvno/qMpKAhkEI0pHVBX7g85+mvBTt480XIrWrexKeRDfjBYyGLfyGSluVLBidc3qh4PJ/PKWzNFJhY/QM/qsq5RdfI7c+T3Asy4V5gyMTHvqmR99IMcDxFNqOoKxcoVC/mv5dN9nYDG2hDkGIpYScLThprVBdDyAMqW74OLkqoaORPbeAcaNGbaIKQulJW0uga3FdSQh+rogUOu8+r/CBhQIP1rY+X6WEhSWBFgZcHp8mtDSqnrolclq1fAJTx/ZH0M434GpAuzSBVZze8belEApfEz/N1xeewHIFLVtBEFkfN0N9KMRT8lRCn/aSyX11k2eqFq6IiN9Kc5wN/Qg3S+9i/ZtHKDxzEQBnrH8tFECtfJwFfxqnLdPQgsqVBfSu+H59oY4lJqjNnIrS3YKQiUrAdT/gs+NtfvVwjT85o6GMh/jZiKj4Sg5bGxtoDAnCrI7S9TzRgzqzL/0hmVeiZq9IydQvf4aZ3/s0rlpE0FlgKgQKP3m5wl+9WMX7ioF/Izq3jlbllZG/hKtWtnyf7So9ZDAhSPP+LMvmI4jwjWOzOyBIr0NcjwnS5g70miq+pfsgrTecKJI6Xg2+G0l282ttJkeyacCBIgSVwvCivqWU2G6AaSQKUiStTw+oHkGk+lhdFrtBgw5mxwtcX2kRSonl+GR3KVjeCzoKUv8EuwQnZsoIARtNt6d2aD9IVu4HCYroHUuJQ+N5ijm9J9jiVmDEhMH1Ovex7QZYjt9DQAax2NlOQNZUefLeCQQRgXnnI/3VowRJ49wEC2ttpITLXSvyS+tWSlB3IkhXF5v8g1/5Ol98YQGILEuXF/oHNCQo5o0ei91KPClfqdkpWZJS8urVaHKx2722Vne4tthpeCylpNF2BwrlGGYvpPnVFr/1ufMEcVuGq4tNHDfg9ABF3oWsRsv2bmtAwm71RwlKQ67JajseKzW753etxmS3n/22uukZux7fF6oiuNRVp3dlsUEmfm6t7kCkE0X9+QurPU24B7HYzWRucIbzHL5g8fdfnuDMxegaz22TlFb5xAu87ROfIbtq4Adw0+wcy4YWogQe1bZNuzhN/chJ5A0Y/cgl2vf6tOyt9jqICBJESXZB1kA4If/VxSp/8Uplx/42wvYY+zdfIvfVK1wouPzq4RrzcapeXQtRAp9Dq1cpcpX20RnkiqBUv4hSjWqJirntFSSIGqoqGR8jqFGsbfDUWq6n7inBRkuhvLTCifxlctN1LFewZPj8+7kNalrAuh7w63M1wunrHC5dYeXko7S1KbSLTVrTc4TKYM/sQ//5Bd758rNYjkLLFuQycnOGAJnFRbSNFvZ3zyLPlGjZCm+Zz/MdCwUaWsCvvmmR5x8t0XjrMZyxUcJ8BuPKOgiwRnYPv0l/79se5j984IdoBxq2K1AVydh/fI6Rf//1yJcJCMsjqGTRT9mU3MuotTYTZZ/MYpbZtYiIlEbGaP7EPXj5wZ6l2yH3lnUK7+io8ROf/yK537xE8Q9fgyBEW26itS2suSmuPf8O5B/2Pl+Ptw1mGoK2NslG6VTf73M8kQZSQMdiV7tawv/fXPRre6sPvJs4IEivE/z6H57l//1/fpl/8/sv8+y5FSYq2S0r/pqq4L+B/JvDxlrdYaRkpqvBtTucZCel5Opig8ObasOqJXNoIQ1+ECIlqVKRqC6DvLwTZA01DVmAzoppztydaMyO53HcgNWajeUG+24Sm2CvNUgQqV2JgjqMHkjQsdgNMlnuhhCCn/jAvfzoe3dvVDgIEkWl2waWpNHNdxWWJwpS2/Fxva0rbmEocbyAjKExUspweq5C1tR4ok96XTfyGb1HQUomlN01HYvrFocni2iqsiNBSqxPf/j1a3HKYxvLCTi2KY1sJxRzeo+C1D2xTVSkpQ0rVRB2sx3abtCjMLUdHz+QgxGkWOkcRpLdM68t81++cpXPfSNapT0X/47TAyhIhYyOlPSowMPGhRsRqdiNsJXyBo4X7DkyeydE9sewh/Qn56qfulwpmj01SMm/33ukylrdodZyqbdd1uoODx6PGnmu7fBMTp6HluNz9toG86st8hmN4gABLKWqIKe2Cddb8b7iXkDb2LjyU4tMiYuU6iGGo3KzS0GqawE53Wby/qsgFJonj2EurIADF/2oAH+isvX8dxMk/+0jZP+KzYytc3IXe52mtSnKK5TXL3AkDmp4rRgdvw09BFUw9ZYm3pEKi2eewlUKZN9VY/l0pJZsF3KgxwTJjQlSxl8j09w5Ke3Gis69zQtkNJf3r36eYLmNLgWvFl2eqdqsGD6vFB3a7/NpfptJa+YwgZlFlRbB6cEUcYBiZpWjylXaTqQgbXdeSl85i/27JhOHnuOh6WcBMJYyvGkjS10PqZsB05M3mXziHAiBPtlCC9s4lSquWRloHHrY4r7Cq3iej+UqZLX4HpKSzKuRipqfW6bw5zcIp7MIPcRo1tJzfu8rZfRQMOlOcqPwLkJx64uE+qhDrtrpaaZesZBCoDR8zLPLZC/eQJE+7WOHUJoOxjbx/iJ+FskBXCy2K9IEO4gUVVMPaWAgpESx3ji9kA4I0usAYSj54osL+EHIc+dXubLQ4PjM1hUDTVW+ZRWkpElstRhFsWYMlXrrzvQKSbDecGi0PY5smviNDLFZbBKukBCkyZEcQmy1W+6GjKn1hDS0HT+KP+0TdHAotmbdWG5hO/5Q6o8g6uVlGurAIRMJTsWTt2FEfEMnpGGQHkibcXym1DcZbhAkBCmx2CWKIcDNeCVbSsnyRke52W7CnpCqROX7yQ/ey9/6c4/syQKYj5WKBIndqZsgLa23mRzJUc4bO6pZyYr8taUmZ69tdAIatnmGbYdSzqBl+6l9eLVuM1nNkjXVlCC9djX6p2BnguQHIX4Qstaw030N2gMJoj5IMBwFKbF/feILF2laHq9d22CsnNm23mczEiLfL0BjEIRS8vE/ubBFTbm50iJraruOJyEMg/SoWtmw+Nn/7U9Tu9p240isiwn5h4ggmbrat7avUjBZbzqpjTN53j4aJ95dmq9zNb5uHz0dWZDWdgjOads+hycj++c3z60wv9pmejQ/kDqcG4/2Hdaje7XlKGSMsGOr6x6zeRZFSEbcdco1o1dB0kMqeoDyePS7w8MmWW8V90smN1tjgKS0jXKTz0gMLYwUJD2LioeQuxPY0NZQyhJjdY2ir3KiZfBc2UEiqesBqpBUJx3auTzeTBlVdQlvqFyzD5E1wi02PwAjPl2uL/Ay0eKd2u5cY0rDxuzqz3Z9ReNU6xqKAO2Ggrm0TNVTOdk0eKZisRYrDuN2i0DNgKqgTPkUSjcp3NPZTz9kzBqTcgXLVWjZCjPuKnN/+EmMjQ55C24qrBx/HLtRZfRGpKysNlR8IfnPU01CCaebNyha0eKGOdVClS43f/Q7B679ya9e5kPPfZKJtWs4nqAkbEQuoOBdI9NaAikpOZfJeYtYR2fI/rSNMg3VYoiuSsS1HP+fV8c48XtnqfzO1ij7vSBYV+ElJ1Wu1A0LcVpFK7QpPn2W/KVriHJIY/Qo+cI8xfXLKSFKoLUbFNzr5NSFXb9Lyq01SBCpSIa6Qcm9TKFxc1+/507igCC9DnB9uYnl+Hz/O0/wz/762/mHf+Ut/Pj7t8Y46qr4lq1BSprEjpRi6Tlv3HEFKUlIOjK5SUGKCdIwirudWC1IUuyqRZOP/eSTPPVg/yLVBFlD61GQLNsnZ2p9Y44TS+f15SaW65MbQnIcwP1HR/jF/+YdqZI0KJK0r2FEfEOkSn33U0d58t7BekjcDhhxDVLSC8n1IsUQOrUQtZaL64ecnI1+/8a2BCnpUxW9sCcq2YEtbQkiBSleGZQyrTe5shDVEzUtj5btM1HJUi4YO06UkxV5U1f59NPXuDTfwNRVZgZUPUvxRDwhFas1m/FKlpOzFc5ej2w+r11dp5TTmR7L99SidCO5d6TsTKATglQeyGIXjaNfOmYQhvzjX3+Wb2wKkehGy/IwdZW24/O7X7jEues1zgygHkFXj6oh1CGt1mx+70tX+OIL8z1/fmOlxezY7qSgtIcmvhdu1qk13R5y3Q3bCdLrvJcgWYyVM33JSbVo4vlhSrKS8/vwiVGEiGyhyfP5weOjqIrYWUGyPKoFk/uOVPnGuRXmV1sDL97oI3GaWrzv9g4qhX5tDe/LOkLApLvCzPUc97cyaZpdXQupNBx8O3qfhVNZtAd83MdHqbVUCtmQ7YIohYCRYkyQVgTOH+vo69vHagMgJdV/+wz+qonYiO6Ph2om60bAtazPvQ2T7z/rUntJ59NPl0ERFCrzyLbgWmty24AG6LXYBXoO84ds5MMdFbD0n1+h8tvfQFtqImWkIOXPtDHeGl3TmdVIpXhiPUNdD3l6xEIJJNOfsTAXo+8szV1HGZHYymB1PwBh1sDwfCxH0LQVDjUWyfzpArP//L+gLdRRmg7aehvnyBjeK1kyf1BHU0LW6ipCRg19ZSh49HMLeJ+Knq3tw1MomoveHjzyPgxN1EsqpdoGlivIlkImf+w18h9tUr7nJtpyC/3/XKC1MIarlhAC9KCJImCyGrJUi+qzRm6+yNjS/giSvAr+ZyTC8iAIEXWPoGpSuu8m+cvXMc+tIGYVbHUUUQYttNHWen+rbrVRpAfG7vep54OUYksgRd4MWZTR+0lrD6+u8XbjgCDdYazVbb78Ui8Lfy1eJT0zV0ERgqmR3Lb2JlX91k2xS16IyYpn1Cz2ztYgXVloINiq5lSLmV2LgvcCZ5v0uLmJwp5S3JKY78Tr33a8gexyWVNjtJSJCXuQTr6HgVsJexi2giSE4PvecTxVyu4GdD2x2EWTALsrbTCphUjqj07GBLG2jWJiDRC80Q/5jEbb8QnjYALLCRivZKi3PdYbTjqRnaxm+yhI0Vi+/bFZvnluhefOr3BksjDwOU+Ic3I/r9ZtRssZTs+VubnSot52ee3aBqcPV6kWjB0VpG4r2MqmkIu91SDt/lw5d63Gq1c3eOny2o7bNC2PyZEs73pkls88e52m5Q0U0ACRxS7Zx36RnJsrXTHyUkpurrSYGdudFCTHbJDn7OJ6dO1ujuJOx+F0fks3QVqt2QNZb6tpv7nYGtZ0MLSoT9zMWJ5L8w0uLzSYqGTJZ/Ro0WoHBall++QyOo+eHme1blNvewNbmGV+hPBIgG0k+1LIbxMCkLm0hLeRxVGrYGnMXCjyHeultE7oQwsFfuiXrhH8cbS9Y4ww/93v4crxD1JrK5S3UY8SJEl2bX+SxrkZqHWeIdV//3XKH38+/W913SJTW4aMRNmIVIT76iaaFJwtOByydN751TXEH+psrOp4gcD7gTGC95eoWfq2AQ3QbbEDKTTElIqW6ZzjvLhJyb1C7umL1NoKTVsw/tgK9lumQYdMLSJ19zRM8r7CoulTsSXGBYFmxQ1oHx3BfL+Lo/eP+E4Q5Ay0MMBuhliOQsENcNUimmJT+NoFzCvL5LwFtCkHr5pHCTxmjBarDRUVwY9cL3H8QpGc4xPGjcVbh46Q/WmbY8X/MvA4vEIhcm04Fm1HYdSMfq+nFSk55yl/+QVEy8camcZTi7h/qpP90jUAJkdCljc0pATF9pH7fP/5uUzUW8q2UGsWivRwR0ZoPnwMo9Cg8aZTLLz17SCUNITCXOm12ckZg+xPW3i71CwC2F7cJNbovW5KuZClVgkMeUCQDrAz/uS5m/zr//RyTyO7s1cj+8VIafcXha5+66bYJcXaI8XoGJXzxh1Psbu62GRqNLel2/rIppf3fmAnCpJ+67dmQq6SCWM0IRjsIZsk2UUhDcMjSLeCatHk+99xnLfcf/cUn2EjDWmIa5CSMA1dU7gZK0jJBDIhiNtd550Y9ltX+RKlou34rGxE99fjZ6IapkvzjXTSO1HNUsob1HdQbFu2R8ZQee8TcyiKYKVmc3QPalZHufFwvYBG20vrqgC+/OICa3WHM3MVKgVzR4LUbStNalv2QpB0TSFrqn0tds+ei5Sj3e73pu1RyOp877cdS2voBqk/gsj6CMNRkBL7YzdBqrc9mpbHzNjuCwWlPYRWJKR+cxR3ZxydSXx3jdhKzR4o3TJJLt3oIkiVookQgmNTJS4v1Lmy0EjtzyOlTPrO2DIWxyOf1SL1Kf6zQRUkqeVZfmeJa+ORta9lC0aDJtVfeRqli/ip11vUZk6z9p7HaU6O0rAUPCGZj0nEtK1z/FKDMNu5LjcyZwiUHLWWSim/83t+tBjQdhTqxgi+kkfYMUGTktylG2RWO8pm5vICWX8V8zEL/biDcHwyocJ/fb7Ke5bzXMl6rKoZNoIqa1RYa6hcHPsBzo3/KI329gl20KsgAXiXM6ivdZSswvs2UO/xKT1/nvnrkon2Gm2OsZp7mLAA2Vp0PaoI3rESHfvZjZB2kMXOROfwauG9LOTeTFsb3D3hHyshn3JYa0TjGrVWcasltHs9ii9coPDyRTS1jZzU8SolhJQcFaus1qPn6AP1DPc9V8XwfcJMdG7axjRCgdXsA4OPI1NAKJKC36LeUjhz9RzO7xvczL2d4DmFyjdeBaA5OkcodJqrU4TXojFPjYR4gWCjqSCsDlG7Vbj5Mr6SQWnbCCegPnOCten7Wa0+TPbPW4h3GdQO3weANTaBMhmii16rrIKHMCEwdr9Xk8S+zQpSKR+wamVQHwmQh4bjTLkTOCBIdxiJpeUrL0cqkpSS165tDGS/UFVx1xrFvnx5bYvydSeR9BmqlhIFybzjKXZXFhtb6o+ge3VzsJWRr72yyM//ytcJtwnccDfVIN0KkqaqicrQdvyBbWqz4wUW1trRpHdIFrv94ENPHeXo1K0n+LzekIY0eL0K0pHJIrWmS9v2WVq3EAKOThXTJL/NSBv57oPEJkpFy/JSe90jJ8dQhODKYj2d9I5XIgWp0fbSVLZutG2ffCaqZ0nqtPZi90vIS6PtpuMYK2U4OlVC1xQ+9dUoyvjM4QqVYnTfb5fw5nSFWSzHk/B6y91TY+BirtdKGIayZ1FKSsk3zkb1DDvVuAA0LZ9CVqeYM/ix953m4ROjTFYHS3FMa5CGQZDi62St7qS/6+by9impm1HaQ2hFqiD1URlVRXQCSGyPtuMPlG65WUFabzhUY9J0bLpIox0l5HUIkrltb7ogDLGcgHxGp1ww01rf6T7HIoVi8Hv2j/G11YeQEtqOwuHleYzrG5gxcSYIMW5s4M1VyDzWYuLwKk1b4RNjG/zboxvYSsg3yhbXClOs5Y7R/Ur3g0iVKud2risaKUV/t+4raGEbvRXV/Im2R9ZbZPTYK+m2+UtXEXnJl46/k0sffg8ynmyPetE//6+j63z2eJ4Vb4y6UmKtoYIQOL7A9RUKOyhZRldIA8DSuQdoPTea/n1DP4z+sI9KjVe/7vHUxZfh0wXq5gnWSxUc2bkfn1rL8fdfnuCHns1y3TnEauZYdCzUAov5t4AYfJrqT5Xw71XTGPPp9iWK2Zs4j49jeHWMXBPze11a5iyN8SPY2ggTskXbUdLJvetB6Gj4uWgBIRQ6z499lMXsk4OPQ81CBvK+RSgFY+srhMsKTWOO9gOHUKRHOGpi6dGCVG38FEEzeg5Oj0Tnd3FDQ9gB4T4t5o3SMdr6NNgK/nSJpb/y7bQPH6atTSEEHGp+FiGj+9M1R8j8kIN6ovf5alxdx/2SRuDt/r7ZqSlupIgqBE9oKCf29XPuKA4I0h1G8sL6ykuLSCmZX23TtLyBVhd1VSG4SwTptz93gX/3qVe3TdS6E0iaxBaTJLKCQdvZ2hTydqHWcllvOFvqj6Dz8h60WeyXXlzgws16WhTfDXtTDdKtILFdJSpDUoM0CA6N5wlCieuFQ0uPO0AHm/sg2U50jhJCMb/WYrlmMVLMYOhqVGu3zap8pwZpPwpSdH6btpeu6k+P5pgZy3N5vsHyukW1aGLoKuW8gWR7NaEdW5YAPvTWo5yYKXHvkcFtManFrt0haqPlDLqmcGKmRK3lUsjqzIzlqRRMglDS3GYc3QrSanxv1VsuxZzet/6uMxa95zf+H7/7Iv/kP3wzrS+8ttRktW6TNbUda1wgIp0J0XnrA1P8jR96eOCI+CScYxiW3e59XI1VpBuxe2GmDynQNZWsqQ5EkBIyvZO6l7z3ZsfyKUEaNMEOOsEqyf6Tlg9Aj1qZEqRihvWGs2URanPLg7c/NM1kNctYH/dGN97ylWd479NfpNZSCEJBnuj4WEm/tOUmxdYVymOXGF9/mkf9b9K0FO5pZ7AVyXNlh4/P1Lk4XeRTFw/zzLnOd9fb0ZSsvIuCNFKIrvOmH5DzFsk1o1Q0bb2B4wme23iA/OcvQCjJXFkmmIJfe/Epvjj/AHTt9hMzDQIBIxsOvgIIwWojep40reif/Sx2iYLk5/Mo8eKvsD3a/ynPl1feybPvniCYMnhUuZnas37j4b/E//PQD27Zp9+MfpeSv/X3zor6AH84/5OEcU+ojGUTlE1WZx5FHFPJvLiIO1klVEza1RlctUzFT6y90Wek5bPkz7Be6TRBlUKPCsAGhBQaS9XTXHXmAChaLShBIDIsjD3F0k+8g0t/8YeRIvrOsJRBq7UhCBktS1RFsryhoE4FhBODt8fYDmH8fBW2j+mvMmK/FNUTCcHl0gdp61MQa6m+yNIw5vDFpu+86WF/s4Sv7H6fODHJNI3NClJ0HZ31nqTuDd6K4m7jgCDdYSSr+is1mws36mlK0+k+3k6IGsV6d6EGqW17XFls4HohL13a2Xd/O5E0iU0mGeXUH39nkuyu7hDQAFFfHSHY0fPeDT8I05qzpClrN9KQhn0oSInFzu5SkLIDW+w6tpthpdgdoAND21yDFBOkmei6ml9ps7xuMRGrDTtZSa0hKEj5VEHyWe1KEzs6XeTyQoPFdYuJSjSOUtxcdzvVtmV76aT+0ESBv/sXnthTlHouo6EqIlKQkr448YQ1sRkm9ZnJRHk7e1tiKTUNtUdBGiSgIUEx2+n9I6XklSvrvHZtg6dfjZK0nj27jBDw1ANTNNretgs0YShpWV6q0O0VqqKQNbWh1iBBZBGGKMEuZ2oDpTluVtR2+o7kmO1Ug5SkJR6ZKrLRdHG9YOAeSBCRtUJWZ73pIqVko+lSiQnS3EQBTY3eC8nzeaQUEenN905yPJJz885HZvlHf/Wte6qRPGqe517lLPNrsRpjr6JlLcbc51E2LHSriTri4s6O4H41w+wfLdGyBSeaJqqEr1ctCEKqtSZS8bi+0rlOaq3ouV/O77zwV8yFaKpkwSohshIljH6jsbpOGMLSao7CF85jXFjBeLvL0olRJIInf/P3qf7BN9P9LJnRd4zU5zlWOg/AWkwSGlb0nOpnsUsUpIy2RrYR3SPqhoXz0jp//Oopvqr8MD94Yo2qe43qWPQdWSPEcrYe74w9z+HyFUq5+pa/GxRq3eHNn/oCs2sRadR/IiB4d5WacYLL7/swxnsd2mZs2dMUGn/+NMabI4KdkEMnVHn54ftxDw++yLMdLn3kPXz21JsBCJoGrdFDIAS2Nk7t2D2EXcppxTxLwb2G0nRQFRgrByzVdNZ/+DE2nhjc2rcdtJxF5QevYxxtMfr7X2fi459Pkw9r5knOVX4kJWoIwcJLj6L9myhpL4EblGmZ0/jm7s6ApAYpo/deN4ki2v5DE/M/bI0Rf73igCDdYbTtKCZa1xS+/PICZ69tUC4Y6URkN2jK3VGQXru2kd4rz+6S3HQ7sdZw0gQ76Nhy7lQdUkKQDk9u9e2rSqRs9SvuhqjrezKRu76yDUEapsUutm+196AgTY3mUOPJQvZ1YLH7swZjUx+kxGI3Nx5N8uZXWyxtWIxXokljpbC9ldQaioIUEyTb60kTOzZVpGl5XF6od4haYef7rVtBuhUkFrjEYqcIQaUYfV+ycJT8M5kUb6dU2F50LA+N5dPJd33AJrEJSvnOfbxas2nZPooQ/NZnL+D5Ad84t8Kp2XI6Ed9ONW47PhIGtvVth8KmCPZbRRLxP1rKcGWhoyDNjA8Wa13K928W212rthETmM2wYmKSKDwrNXtPChJE98JGw6FpefhBmFrsNFVhbqLAaCmTHvOkVnWzytfapCDdCsycQ8FvpQRponmNQuYmY7/zFcZ+4yvo022yH3Fojh3GL+cwXBfd9/FaKkfbBgsZHyFCZk5fJztTY2lDTd+vtVZ/BSlKsgtYbOTI/pQDb47uUTsb4N4f4J1xyGtXKTxzgezxGi9lI0/TdOYC+ZVr6X4+sFBAk4KTEwFrT0X3SEISEoK0U4qdqoAiZIcg6esY9gYEIebaKiPyGuOjy3zgTS1mfu0LUZ+dI9MAPOI8w998/l9gXOudS1hHMng/3EKM3rpiohoOVWWRWTmPIkLyooGbKYMQyCkD98QYDfNwuv2J3O9zJPsCuiZTcqgoNo+/6fNkR/Y3kZ9SLnEqdxYlDMEy2Bi/Z8dtvdESStVHtSN1daLss7ShspR9jIZxdF/jkKpOplpH0x20+QahqxHspgRpKuqGjei674XtIzP9VbS0BmmTgpTPRKpYW6gHIQ0H2Bltx2ekaPLIyTGefmWJV6+uc2auMtDLStPuTg3Sq1c20DWFJ++d4JvnV+5KUMR63enp2VFOCdKdifq+Eick7TQRLOYN6gMUM798ZQ1BNHm6EdcCdMOJa1P2U3yfTRWkAD8Icbxg4AmBpipMjURFs8NqFHuADjb3QUoUpFxGZ7Ka49J8nUbbY7zSUZA2trnGE3VwXyENmU4YQHea2JG45ssPZI+SBdvXo7Rsb99Jg8WcQb0VjaNaNNPUxnsPV/nIe07x9gejyVUyKd6OICWLC7PjBTYaDp4fUm/tjSAVcwZNyyOUMo2s/r53HGO1bvMbnznPtaUmj54eTxdrtlONE+VnfwRJH5KC5JEzNY5OF7my2EgT7PrVHyUo5fqnhSb2utNzFfxg+zTPlu0jIG2yvbxhDdwDKUHSTmFzoinAD7/7ZE9rjJ3OT0I699M6QBY0dDdgfjW699THBdrjIcqJkOzyIoWzl5BCwdIm8Mt5VBFQsFvU24LTjdjupEjKh23W8lUcT0mJUa2loquSrLG7U2SkGLBa1wkUA1VGv7FZULEegeedBwlO+hTOXePlpe/jUzeeAqHQyGZQ46RMgMOWzs+9Mk5V92iNZChkA+ptBc+HZltBILdtEgvRPFnXJF5ccxLkTAQBStvFWF9Hw8MuZNGkRfWdV1Dv82lVImKiZQW5FRdjsZcgydjqJvS996lLkVHIiiajco1Tzg38zwhcK3qGBUqOC5UfpGaeTn+Es1TAeGYpOp4xOcy6DcZbSyj+/iyuh5/7Mj/w8h9i+B7BVIZgfGfi5xyZIPujDkpcxjVRCSitrzPyC5/BuLS/RWlfyeC/omKcX0Ndtwkruy9IFPPXKHpX0NY685Ny4wIlLvb9LtsVaKrcElEvRJRkN2Wepdi6Dm+QsLEDgnSH0XaiRLG33D9J0/LYaLoD98eIGsXeeYvdK1fWOTlb5sl7J2nZfmoRu1MIw06T2ATlO6wgXVlscHibgIYEpQGsKACvXF5nbrLAiZlST5JhAidWFIz9WOy6QhoS7/9eJgSz49Hk6YAgDR9bapC60uimR3Oci/v+TFQjklouGDRa3pZaCtsNMHRlT/Hvm5HrqnVJorUB5ibyqYo4GY+jtMuCRBLSsB8kys1q3WG0SylWFMH73jSXXovJOLYLA+gQpDySKC68tleClNUJQknb9rmy2EBVBN/xpjkeOjHK575xA4BHT42liaPb1SElxCa/D4IU9agajoKUy2gcmSyytG7FASx+3/qjBKWc3ve5lihIp2M75Hbkte34ZE0tJdwRQRqsB1KCShzxnuy/0kWQzhyu8tCJTkhAen7qmxWk5Nzc+vUa5nQ0EdBci+7h3HEb+/QEzftPoIcNMv/xBu0ro0ih4ZVLKEIy7q1RbwseqmU4ZOlk3QB1AVw3ujYXN6Lx1NoK5XzQt9xlrBTQtBWspzNon4ts75cWjvG/vvbfUtPmODd7CD2oo/2XS1hBljOHXDayRcSGu2VyqrzWhgWVmREfEKw1VRqWQj4bstvjxdA6CpJ37wjZv2hDTsFYryF1ScMcIVCyyPuymN/uYalRk12rPAYCxPJGz/7yLyyT+bKKug+C5GtZhCnJexYTrSb1czM0jCM7bu9dzaB8rslY3ksJ0vTSAurHDeQu7aUGgWzpFOddfENw9Hu/Tuno9R23ddVobmGEkb2wWgiYYpnqxgXy4Y39jQMN7xs6+tfXEK5HUN49sdEfySFkSGal01xXcW2E0Z/UtG2FnLn9dqV8QF3JImSY1qu93nFAkO4wLMcnZ+o8eHw0nVQMGv+qqQqhlNumn90uNNou15eb3Hukyv3HRjB0hWdfu7M2u9qmJrHQ1aNjiEl2KxsWv/rp13r6qUD0Ul3esDmyjb0uQTGn0+hD1hwv4MLNGvcdGWF2vMD8anuLGud4IZoq0LZrzT4gukMaEmvLXgIXZuM6pLsd8/1nEZoadUJJapCSWiLTUJkejQIygNRyW86bhFLS2DRZttz9x7AntS4rGxYt20+tTrqmpgpDMqE1dZWMoW5ZkPD8ANcP993MN6l16dcXR1MVSjl9B4tddN8mdXTXlpr4gUzjqgcaR1ei3pWFBjNjeXRN5YfffRJFCA6N55mo5jrBLLdRQWptmkQk18xekNgfE2vbl1+KajMGVpDyBs12L0E/f6PWYydeXIvCPJJrZVuCFKuMxZyOqassb9gD90BKUC2a1FudOrVETdwO+YyGoStbLJCdkIZbPzfeZBZ5jwdIsriY1+t4fp7l/KNoZ6JzvzZ2PwDrE/dTN46gtqHRFhQChT9/tczf+NQa4cdNFAdURbK4Hk3O6y1lV3tdgvFy9DuuL53CulYB4OTvfY13nH+OM4c8Ptt8M8Z3tZHvWkZVJA8es1nLVCD0UNfbPftSv2SRvSCZGU0SDyOCtFP9UYJuguTncigFiYqNqrkEEyE20TX3WvVHea36Y500umyZMC/RVnubkZqLLZRFFdO49XdfKAxEFnK+TcWz8YwiTml8x+29SgFF+syIJpaj0LQEOb+NEBI/P1j0+04I8iaa8BmXq6gKeMrOC6yeUsT5Lwb5z10CQFUlRb8FEoLs/saBEMiMhrJgoUgfd2TncQDY1TFQJMZKp95cfE8W5Yf63zMtZ/vGyRAl2W3IHIIQzbozzp/94oAg3UGEocRyIruTpio89cA0oyVz4IjRpBD1TlrcXru6AcA9R6qYusqDx0d59tzytjG7twuJFS2xfkE0USpk9T0pSI22u+sk4/mLq3z22Rv83pcv9/x5Uty8XcR3gkhB6p3EhlLy7Nnl9DvPX6/hB5J7j1aZHYsmw4vrvUl2jhvsq/4IOrYr2+0oSIOGNEBkazI0ZU+TlwMMBiEEuq501SAFZAwVRQimuxp3dmqQYuVm06TTcvx92esS5DMaV+Lre7QryevodDEeR8cWsl1z5sROtV8FqZjT06TIftddUouyGY4boGtKGqd94UYtHfdexgFRWt/lrr46M2N5fuqD9/Ln3nMKiAhjPqNtW4PUSgnS/gI0ui1256/X+Gu/8HleubK+p/0k9YeH45qpr8StGgYlSMVcnF4Yj8UPQv6X3/gGv/XZC+k2SxttJqvZTn1YY6c6NQ0hBOOVTGqx28szplI0kcDluGF3eZeQCSEEI8WtvZCSc7Of67V+eJzrbzpEYCgcdlYJfifAW8xg6ZM43zFJ+4eOsnbkYQD8Yp7Ghx5geXycRpxQlw8UDi+2kYCfyzNeDliMG4PW2iqlXSK+E4yV4yhoOYF0VAhCxlvXOTQ1z9FJj7OtU7SmTF4JjzA94jNeDrhRnEDe76Goveen6VS47B9msuqjCMlqYzCCpGudFLvA1vCe1jAW11HfprDxrgyqFh3jQMlia2Pp5zTTxM1raOu9FnO7nWFNVND38ygRAu0dgvWTGSa9JZTi7kqFVy0iZMhUGJGBhXWNgm9Fi1iZ/TUUD7MmihLy1IXncH/bxN2VIOVpujMES9GPVxXI+/E1sl+CBNiFKqGvs3rvwyzPPL7rtq5eRXsgQB3pHDtVukh95wWJBG1HkNumcTJEFrvFXAX1LS7sQKJeb7jtBKnZbPKhD32I69e3yot/9Ed/xIc//GG+53u+h49+9KPU4u7Kn/jEJ3j729/Ohz/8YT784Q/zC7/wC7d7mHcESdF8spr/Q+8+wd/7qTcPHEGbqAr+HUyye+XqOqahcjSeKDx+epxa0+XizVtPmtkrzt+oIcTW3iqlbSZsO0FKyf/v/36a3/vS5R23Sfb1B1+7yuJaZ5UtKW4+vE2CXYJi3sBy/B4Cdu7aBv/bx1/gl3/vZUIpefnKGqoiOHWonNrYNtch2Z6/r4hviJQBQ1ewnaCzYroHBenkoTL/6r99Z4/H/wDDg6GpXRa7DtGZGY2uiXxGS1e4y0l63Kbr3HYDMkOwQOazOvNxg9rufjTvfWKOP/eeUz02y3Le2BIY0RrCijxECwyuFxJK2UPUtkOlaG7fG8qLFhcqBRNVEVycj55RpQHS2rrHAdE937S89LkHUVz3fUdH0v8eKWVY36YZ6TAUpHxWo+34qXJzcb6OH0j+r//8Sqo6DoLEYlfOG1QKBis1m3xGG9h2mPaoiq+/lZqN54d849xy2hNrcc1iopqjktoft7fYJc+g8UqWq0uNuAfSHhSkWDG6NF+nmDf6quzb9UJq2T6GruxLoV/Rj/El7wcIAo2RoEVLn2JjPKp/ujTy/Szc966urSXVU5c5MnOTervznrf9EebdWbxsmcmKz/KGRssW+IEYSEHKmVF9kCdtjPYGas0mK5qURpuMlwMypuAXrv5Nfu/GtzM37qGpcLHwIP/PyR/Dr5S7hiexnTzXwjlyhqRaDFirqzQtZceAhgTdClJDHGb1G6cIlzRsdYSz1hlMfft5SjYjuVyapVnsfZ9vtEc5G9yzlzTtbeGfrFA8pXMsuEY5c3nXbetjp2jrE4z40X28sK4hHYFrZAm0/cVr+/kcCnC4tgg2uOouCXBCoTFyjDBucKspknwQzUH83IA9unZBrXIGqzzB+o88iTs+tuu2npJHf6dEO9M5/+JzLfyz/U9M21bI7aQg5QPWchV4OEDdob/W6w23lSA999xzfOQjH+Hy5ctb/q7ZbPKxj32MX/qlX+KTn/wkZ86c4V/+y38JwAsvvMD/8D/8D/zu7/4uv/u7v8vP/uzP3s5h3jEkk9Vk0qGpyp7qPDoE6c5dXK9eWef0oUr63Q+dGENVxB212V24WWd2rLDlWO0UgbwdGpbHWt1J/fLbbtP2MHUVTVX49T86F/epavGZZ64zXsnsatUppSvPnfEkL+enX13iN//4PK9cXuf4TImMoTE9mkMIttQhOV64bwUJInuc5fpdRcl7m0wPWhdwgL1D15SuRrFBGqc+NZJD0LG1QWeVfPOk03Z8skNQkAoZLbX1dU9WD40X+I43zfVsWyqY28Qm739FHuiZsA+iIK3vENKQMVQURfSktpX3YrGLt33hUpRgtV2sf4KR4vbNSJuWhyLEvmr4uhMGIarz0VTBas3mtz53YbeP9qA7gj35LbNjgyXYQee5VoufawtxkX/L9jl7dYO27dG0PCZHshixqra9xa7TrHq8kk2tiYM0iU1QiQnSjZXWrva6BNspSN3juFVodYfv+K3f5+TCVaqeRaBksaqT0V9uPq5CoXrzeR5uv0SjiyDhCNZEmWxOY7Lq4wWCS4vRtTcIQYLIZlfUb5J1l5E3NlDx8UZKCAFHJj2ur0T7OzwRXUOZQpazyzOIZhfB9kPUwAE9xDQkI8WAm2saQSgGUJAkcXAkYc4EIVCXm4S/6vDiy4+kUeCbkTVC/u3oR/jTt31376FyPMIh2LovhR9iLHOGvOYQVDO7Jq9Z1Uk8rUDetjG0kIU1jY3WKEuZ44TKPsIigI2R01wo3kvOdhAl8JTdFSlZVtA36iAlqgJ+UcDxkEDfH1EDCDM6eqvBZPPLKGEfe5sQLGcfpu2PpfVq3ssm9nJl148FIViuQn6nGqRcyE1rihfW305gvTEScm8rQfrN3/xNfu7nfo6JiYktf+d5Hh/72MeYnIweLGfOnGF+fh6ICNInPvEJvud7voe/9bf+VqosvdGxuUndXpEkYN0pgrTRdJhfbfc0fcxlNI7PlLhw886ck1BKLt6sc3J26+pLRJAG87ImitBuilO97TJSMvnw24/xwsVVPvGFS/zDX30Gzw/4mQ/v3osgIU/dkbjJROHtD07z6aevcXmhkR5LXVOZrOa29EIahsUOIGNqPSEN+13hP8DwoGsK7iaLHUTBHDPj+bQGDHZOj7PcYCghGslE3NCU1F62E7ZbkBiWglTsUlv6KkgFg0bL3fIctN0gVV9Hy5lUzd1LSEOi+rx2dQNFCOYmdp7UjJS2TsAhaRKr7WuRoZASpOj4Lq1bEWl9co7PfeMGL11eY3nD4jPPXOcLz9/ccT9Rk+hoX912wUGxWUFaiJ+jmip45uxyahGeqEQ2oEphe3Wvuxdbt21zTwpSrGhLyUDq9kgpisjvvk66CeOtwtBbTCpXOKpcYdJbRs3aiB3IAID7jRxHvzbPelNJ47zN5gqG0aaQDZmoROf47PWEIA3W/Hy8HLCq5FHKAVyLCH04WgHg2GTcG0kLmahE+xsrBXzf059k5ONfTPehWC5j4jrHypcwNMloMcDxdu+BlB6HLgVJUQMyrJK/fh1tpYUbiB0JkqFFdVe2K3t67cwWLnB86uxAv303ZL9xncpvfRPtz4UE7+7Ty0hIrL98FP9tVUaKIYsbGq/OHGX5bWd2/9wAcCfHsP+bb8OYKFEfO9GpwdoBFeM8eWcB0XBQVcnXqw/xwru/jUDsj6gBlB6+Salwjepvf3Og7VcX7sH832+gLzQgCHFkhXr55K6fSXpb5TLbn/dyPqTulin8+w0yL905B9J+cFursH/+539+x7+rVqu8973vBcC2bX7pl36JH//xHwdgfHycv/JX/goPPfQQ//Sf/lP+3t/7e/yTf/JPbudQ7wjSyeotTmySZKnbSZBeubzGL//+KxSzOmqsGt1zpNKzTTFn7KrEDBPzKy0sx+fEbHnL35XiCZuUsu9kJHmx7xbF3Wi5lHIG73n8EH/y3E3+05cuMzWS42d/+OGel/p2SIq7uxOfak0XQ1f4iQ/cg+X6PPPaMg8c6yQtzY7lt/RCcrzhEKSsoWLfYkjDAW4vDE3pahTbW0v0t/7co2mvJIhIU9bUtkw6h1eDFE2eRwdIEyulNtIgTeMbloJU7CIxIwNY7CQRaeze1nF9MvG9M17J8MqVaPF4L1Y3XYtUfcvxOTSe3zVNslo0adl+2tw5QdPy9mWvg86YE7ve4lqbE7Nlvu/bjvPc+VX++W89l1qtFSF40z0TWxo7e36I64cpMUkUpL0QpERRS56bC2ttClmdM3MVnj27zMn4uTw5Ej0fk6S5zWjFcePQqa+DwZrEJijkdFRFEISyJ8FuJ4yUMkii5rVj8fO7tc+eXQCBoaNpPkW/xXSwSjFzg/ndti9lyToWjiVp2YJCVqLdW6NorlHMhlSLIbomubGiAbIvMUkwXvG5NjWJ8s5naa5q2G8KUMYjQnB43EcIydy4T9IDd7QYMDN+DXOxc+xEVuJ/n8vSxgjTcX+lBIU+Nii9iyBJoWDqNZgH3WswXj1OqG9PToSAp4yn+fAnP8uqeB/t+44C0H6vpBEU2D1CoD/y6k2y1gKG26BdmOmzteAYf8CK+xCjpcMsrGs8cvLrnDyxyArf3eezu0MNLY57L6I5HvXxe/tu74+XyB5eAD9AVRQW3SnO+UUeFUMINMgoSBcwVUKl/73jj+YRMkBfrOGP5ECC7KPutZy4xm4HBcnUJUZGIkWA3tqa4Pt6xF2fNTUaDT760Y9yzz338H3f930A/OIv/mL693/5L//llEjtBePj+73Nho/zC1G9yex0+ZbGN1qNWHexlB3K7/vqi/M8ds9EOtkB+K0/uUjb8TlxqMLKhsUDJ0Z57P6ZlJwBjJSzXF1s3JFj/OyFqHjyiQemt3zf7GQR1wsplHbuT5SgYUcP/qbl9eyn+99bTsDRmRLTU2X+ux9/E5/+6hV+/LvuTScJu8FPVodUJd2n5YWMlrNMTpb4u3/pzVy8UePMkU4Nw6kjI3zj3DKlSi4lRYGUVIuZfR/bUsGMiLSqoCqC2ZnygW3uFjHs6zyX1RFKdJ34oWSk3Lmfx7cJXBotZ7C9sGccjhdSLe//OTAe1z1NjxX67utQ3B9JMw3G48AUoS0BMDdboTyA7WknJPdPuWBwaKay67ZHZqO/F7rWM+ZAQjFvMj5e5PBMGZ6bp1wwmZzcvfv7ZlSKJpbjc/rIyK7HJBlH0vQj2dYNJJV93sOH4gQ71dCoVPOs1W3e8+RhZmcq/Pd/8U385h+d5b5joxi6wr/6nedZt3wemu2dkK7HEeST8bl9WyHDV15d4t1PHknPez+MSYmqCHwZ/b7VhsPcZJF3PTHHM7++zLPnI+Xi3pPjZAyNybECz59f6fntnh/ieiETo3nGx4ucjudPpqFy/PDInp5Lo+VMpKZNFvse32OHouMRqmrn3PghU6O5Wz43ulpAzRXQ8pJpo0XhHSZ6qJMr7HI8x4oYSoOcY9FwskyOBSiTCjUrx1hFpVgwmR4JubqkUsqFlEuD3UeHpwTXXsnghwpeHlZPFKhMjYFhks/Dh9/mMF4Oycd1jHNTglq2SOVmk7yugaGi+TZhBXw3Rz5vcmiycy4mR7VdFz7yWQXPF+RyJkKYiKyCZrkIJGtGmdmcmn73Zrj5EqIJpXoNkWwjHKRm7viZQZEtehiyRfCbAuXHS333571YJHtjmen7BC9dgZn6EgXLwtrnODTfZvRfPYtDGftIAfrsT5yZJj/xEmpZUpIGP/Dcp5lZFuQffmpf4wDQFg1oKKBnBjq+BXGNknIVVsZRlGnK/mVMw2Q1f2rHz4QbsXpf0cjnt1fLxksuE7OX8AvidTlH34y7SpCWlpb4qZ/6Kd7ylrfwd/7O3wEiwvQ7v/M7/MRP/AQQFddr2t6Hubzc6L/RHcbCUjQmp+3c0vja7WglYWm5SVbd32R3ca3NP/i/vsZH3nuK9z3RqTV44Vy0KvjRD9+f/tnaam+QgEIUO3wnjvFzry1Gka3ILd+nxPL8patrad+YnXDp+gYQqUQLizXUeILavc+Nho2pllleblDOqPzQO49jtxzsAWx8XqwO3lhopPtcXG1RzGjpf4/k9J7vq+Z1QgkvvLqY2l9abY/RornvY6sKWGu6LK+1yWU0Vla2NqU9QH9svkaGAgnNtsvycoNGy2Wymt31OwoZjaW1Vs82luNBuPWe2CtEXGhfymp996XE2168toYIogWHpVgBtVo2rnXrkfvJ/VMt9L/2lVhBv3RtnWpXUlyz7ZI1VJaXG+S0xCak7/kY5eI+YlOVzK6f1YmePxeurHFoonOdrNVsxsq7f7YfPDs6ljcX6mQUCCUUzei3lU2Vn/5gtCKd1Ch9/cV5pjepMUn4Ruj56Vj+q++5H8JwT2Mr5nQWVposLze4vtjgweOjHIt7ZX39lUWqRZNGzaIBZHWF9brN4lI9DR9K7KEyiL5XDaNrZ7SU2fNzqZjTWVq30JX+73hVxtfr1TUmip00yENj+Vs+N416k7YNMgNH8k2M6RAnzNPa5R1h5XPkkVScOteXykxXHPIXGviNDJri0GoFjJUUri5lKWaDXffVDV2A5gjcT+jYhYBPV3+SH3rEAy/6/JG4Fj9ZrNcFrGYrHAnXcW6s408UyS2vwPMKalXQajkYCigiixAgfYddF/qlIJQG9YaDpoLy/Qr659sEVwXrYZXZ0Nvxt1h6hdCUyIVVWi0HYXlMfspj9QGf1n37U0yKuoEuoV6fYUU/jtvneNorGcRX61RPbQCTzH15g6Ct0zq2v3EoocKkLTGPr2GOnGe9tbXUpBuqm2EsCNFXllnPaZxSL1LCYbG1e+rcIMhf9TEl+KEy0PXlBUUqowHKtUXcjTpSD3HU3T+7uhE3QZYOrdb2KpJh5mm/K4SZ/u+bOwFFEYyO7myjvmsx30EQ8DM/8zN84AMf4O/+3b+briLlcjl++Zd/meeeew6AX/u1X+N973vf3RrmUHErkcvdSGO+w/1b7BIr2EuXOln3bdvjxnKLU4e22tm6kTM1HDdIU4xuJy7crHNidnv1I7GhbO4Rsx0WYkugBJrb2OySDvB76ZnSjYyhomtKj8Vuo+nsagVJona7gxocL9hXk9jOeLQo5rvL2nKA1wcii12nBqlfP6NywexJj/P8ED+QZM3hWuz6IQmM6O491rI9Moa6r4a1EN0/mjpYtHxlp+CKrsCLxFK1l/qjBMkzYLdYfyDty7a5F1LL3r/FLg1psLy0zmdym0WgfEZndizP+RtbPf3D6PkD0TFstFwsx6fWcpkciRT7pJ5ysitUpFIwCULZ84zt1EFG50bXVKpFc0/1RwmScIZBa5CAniCNVtyPaV8QAvGAijIn0F6u41q7q3HLE4/TNI8wJh1WanG94afb5M+GqZ1uMq4TGjSgIR4GLXOGG5ePMPr8Ek/ceK3v9u3KCMgQYzmKizfmN1Cf1tBjq5yqRE1Ki9mwb5pcUmOU2OzCbAalGiCOBmz4lR1T7AB8rUhQAT1OmlTbFuoSKN7+n2lBNroeQ6HhFvrUIAHesTJC+swsLYKU6J6P3Of9G32/jjBB2gJX6a9iu2qR4LJC7l98DfNmDcPz8PbRNLdn32dGUE8GyLcNFhnuKmXEuEBbaiBHNHI/beOd2v1YtmOL3U6NYiHqhdT0cqjyjdEH6Y7PnH76p3+av/7X/zoLCwu8/PLLBEHAH/zBHwDwwAMP8PM///P8s3/2z/jYxz6GbdscPXqUf/yP//GdHuZtQeLXv9UGj2mK3S00DNyMpPj31avreH6IrilcuFlHAqe2qffpRkLwLCegkL19HLtte9xcafHme7dfeSnEReXbEZ5uhFKyuBZ1bV+p2dRa7hY7UBKuULyFCRVEqW+lTc1ia003jWneDhPVLKoiuN61iuq4QVpHsR9kTTUNadj3hOAAQ0UU0tCdYrf7+S7nDTZaTlprl7QL2FxzcivIxwrMQARpm8jxKBVs/+MQQvDW+ye553D/CU0xZ6AIsYUgOV7nWCaT71tZ8CjmdISAwxO7E6S0WWyjN6hhGDVIWVNDCGjaPiRBCNXt6yBPzJb5+qtLhFL2tIzYTExuFaW4iW9Sxzk1EhGCx86M8+KlXvW+m7wm5HS7VgM//v4zt3RukgWnygB2zowRNaZNxu0HkdUvP4TJb/OJk3jzJsa/X8T/wQzsUuoSVHKsf+Qx/BvjLNe0KJjADnF0g6wRN4auRsdo0ICGBLnRHE0vw6SxgDYhgeO7bm+Nj+E8GqCMR9/juyZL7gR1o+PtfeCogxf0d6gkBMnzBZgS97JOxobgHTr+V3UMbWuASQLTVGlUTcYutRGOj2x51PwSzcwoIzt+ajC4EyVQJUaugZABUuz+fHUmxsmVLjFy5Tr5zBlUQrjFhdIeCEG4HM2P+iXYAdjqKPOnvw3zT9fIfv0auudjGftPsANwcmO0vvckS9knBvuAEPhnSmhjMko5hL5hEW1HwdRDtF0Odykf8jtnv5d3H24xO+jg7yLuyMzpj//4j9N//9f/+l8D8OCDD/Lqq69uu/0TTzzBf/yP//FODO2Oou34ZM0ohvZWkBKkcOeVmYHHEpM11wu5cKPGPUeqnLseJTcdn+mvICX72O9EYDckvZa2C2iATgFxow9BWqvb+EHIqUMVVmoL226fxHOX+iR57YZiV7NYy4mKtyvFnR8qmqowPdpJspNSRiENQyi+z5oathukjSIP8PqBoauxChT9vx9BqhRMXC+M1CZTw3YSgrT/62RuvMBEJcuJPvc8dJqobiZIw0pI/Mnv6l/IDJEtolwwWN8Use10pdiV8waFrL4jqdgN73xklkPjhb73oa6pFHN6j4LkeAGeH6bE81ahCEE+o9OyvDTgYKdn7cnZMn/y3E3mV1o9CYi30gNtOxRzBvOr7S6CFB3TR0+N8xt/dI7Dk53vTIjLRtNJ+8Z1gjw643/k5O69WHbCZDWHpkZNYAfB3ESBa0vRAtSwmhoD3DC/jdzyVRR9nfWJh3fdVhEeU6NPc498hBefvxe/HbDozXJW3sPD8VSgkg95/+PNNJJ7UIxXXUpqjaLawBstY/XZ3inN8Y8y/y8+UvLIAaGvU/PKuPkyEN3Xj5wY0OK3SUFarj1G5aUXWHxzxBZ3SrEDyJohXy88xLc9vIHwArw21N1J1nNH9k2QvFwJUZbkKqvIAUxS65kzBPcFaM/VmX2gRTvIYRb2O4oIyqGA8Lq6ew+kBEKwWn6E0ccukP3iRUQY4ujDadZuaRNcK+7NieXMTVCevIB5bRXnKwbhd6uwy7pE2965SWyCci7kknWc++yFPY3lbuFg5nQHYTn7m6zeDgUJ4KXLa9xzpMr56zUOT/afGCQrku09NCy8FezUIDZBcVPS005YXIteG6fnynz5pYVto74Ta9wggQw7odQVg5ysblf6FETOjhc4H9dH+YEkCOVwYr4NlSCU1JouIzN7K1I/wO2FrkYpdrYbreL2U4KSqO9ay02JLzCUmO+xSpb/6WfeOtC2mqpQyOo9BGkYscm3gs1x0mEocf0wVV+FEHzsJ990S2rBsenSjs+czRgpZnqIWmsITWIT5LM6LdujZXlMVLM7hhkklujzN2qbCNJwEgbL+VhBWm3Hfbpy6Z//T3/1rZTynd/aIUhdJHqf1vJuvOPhGe49Uh1YFTs8UeSPnrkeWajjczMMRT3/lcsUvnARKXSc6uiu20qhUbp4njNWHriPjeUQ4Ru42V6F8p65vdfwjZcCJowoKCUc63/NVkoqgaVjv7hE7okqWruJpjgYtzAPN/RegiQcH08UWHr1aM/fb4esEfIH4j3MvG+DUi7Eb24AoOb2/+5r6zO4fgm97OzaAymBr+Rpnj5O8cprHAvWWfEnKfaJtB4UjR+5l7H2c7jq4IEE+gMO+p/UCEVAcyTPcCjS3rFm3kO7MYr6ShPrUgVX2/03tByF/A5NYhOUYoW0Yb0xqMddq0H6VkTb9smat/7iTGuQhhDznawunpgp8dKlNfwgjPoN9ak/gm4FqT9Bqrdc/o/ffTF9We8FOzWITRDVLYie5qzbIVn5PHWoEo1pm+0brWh85Vu02EG0wp6MJakZSSwnO+HwZIHVukOj7aZxwUOJ+Y6P2XrDuSsT2APsDF1XcL0A2x1MCUpqf2ox6baSCecQFKS9opw30nHAcBWkvWBznHR673Qdk5FSZij30m4YKZk9FrvmEAlSIavRjGuQJkd2rh2YqGYp5nTO3+jtTTcsi10xr+P5IVcWG4yWM2k/Pohsht31Z2lj4566n+G1GtA1ZU8x5XOTBfwgZGGtnb6v9tsoFqAqzlFyLmEENRR19/egFCrOixlGvjIPUtJctSkoG5RL+486rpY7BECZqPTdfrQU8N6NL3D6E59BWB7Z5g0OF6+SNfZm7YOonxHEFjsgay+Q8+bx/eTvdyZIidIQtJsYa2tk5BLH585RLazt+Jm9QPt28N80OClR53wyP+Zw8l0ZlJ98EG8ARX0QrOQf5kr1A0gx+DVXKMyTnVrjqnmIF6qPDWUct4KWcQj5Xxz0FzewtTGc7O4LAW1b2bX+CJLeWpJG+40xJzkgSHcQkYJ06y/sVEEK9m+xS4qrHzwxypWFBi9fXsf1w5RE7IZkQjQIQXr5yhpfe2WJCzf31hhstwaxCYQQFLJ635CGxbU2pqEyPRrZM26bgpQzqLc8pJTp5K1f9PHxeKX60nwdx906ybtVJHVuoZQHFrvXGZI+SKmC1Of8lDetylsDfu52YLySTUMDYEhF77eAStHsmYTbQ7x39oKRYqbHYjdMgpTP6NSaLqt1uycIYTOEEJycLW8JamjbPrqm9LRxuBUktULnrteYGt29yFtTo4bDGz0kejhK1q3gcNzo99piM038GwZBCmOlI6OsIuj/Pg6PZtEaDrOtVTYkZN+3QOHwzjU6O8EVEtn1faoCzg+7WO/2EdVK38/nTEllYo2MrKMtNnDeXKDxXQGavvep4GaLnfakxDzZJH8k6gq1q4JkhujC5YnP/Dsmf+mPsWayWN/pIUuDhQjsBiED8oeWKRk3Bv6MHrYYs55nWrzMwzO/Td4YjgXMVavUzNN7+sx6/hHMd9q8/M7jLAdTQxnHLWNMoIQOUleii20XtB1lS5NYGfQSb02FUq7TjPj1jjfGKP+MYL+rrZqWEKThKEj5jMb9x0aQwCe/eAkgbfy3G1IFaQCL3fJG9BLYrnngbljZsLAcn6N9rC6FrNE3pGFhvc1UNYcQIq4T2p4gaarYVzJYMWfgB9HEdyNVkHYnSEemiggR1VsNU0HKdP2Og5CG1xd0LapBsp3YKtdnUj9WyiAgbc48zBqkveLwZIH51VZK5ocV0rBXVApRk9YkDTC5d4YRcLIXVEtRz6SEBCQEaRhBAIWszs3VFlLuHNCQ4ORsmcW1ds+zrTWk+sMkbMFyfKb6tFOArfbHtu2jqaJHebpTmBrNoakKV5caXQRp/8ckSUoznvIIxACNN++poGoej61eYLEl8KclojS4EgYQIlkzfOpa7/u/MBKSPRngqv3f3ULA+ugUigwwF1YJhY+dNcncwrpgmmIXv37Vgo/5HR6Wkun5++2QNSWeNGiNFdEcCzWOfFb1/d83Uqi09GmuFr9j4M80jTn86xrFf/oC8usB4QAhFZsRthykv3clbjNsYxp/rMi7p/4QLdw7iR4mxgsvUPBuUm6fR5E7z7M8PyLK3U1ipQwJV5tbSNIHnlznoeN7WzC/WzggSHcQUUjDrT+cdXW4BCmX0Tk2VSJnaly8WWesnBkoPjWtQRpAQVrZiFabu2OKN2Nxvc1avfdBcHMlmgzO9rFTFHM6jU39V77y8kJK+CBSkJJO76V8pPJsRqPlUcwZ+2qmmnjx622XjaaDoSl9CVfG0JgZy3NpvrGtTehW0Z2UeKAgvb5gaEoUNx9PpvvVIJmGyng1y/W42HyYNUh7xZGpIlLCteVm1ADUD++axQ46qtow1de9YCR+XibPueScFoekIMWt3raN+O5GEmRzoctmN6wEy+60uX4KEkQEab1bQXKid83daFStKgqHxvNcXWx2rH5DOCZ+Pj4OOXWgOpdG4SjiPoNTS1cpLK6hXRUY+t7G0dBCxl0NV+0lHmplhuzoJL7aPykNwCpNEpiS7MIi+vM1xEWNzC5qz3YIkKBH85DEYlc3jgAw7x1CEXJXwSFnRJ9dGp1GlQ4Tv3eZ7Gc0NHM4sdbnKz/Memaw0BeIIrnbE5OooYv3ZZ1A3ELlj+cj3SHUZQtBzTiBEDCpXtv//vYBd6oS/UsoCHeJLEgjvrtrkBwPUcxE7KkLI0WffGb/RPJO4IAg3UFEpOTWH85qWoM0HItdPqOhKIL7jkbRuv36HyUwDTXqqTCQgtSfIP3SJ1/i332qt4fDzbjJ4XSfju/FnL5FQfrT5+f5xBcucXmhjh+ErNTsdIJR2kVButUeSJ2xxKl6LY9ay6VSMAeaFBybLnFpvt6xCQ2xBgn23wflAMNFspKeXIeDKEFz4wWux2mHScz3rbYL2A+OxMlkVxYad9U6Ve1KSwM69Vx3WEEaKUUTqZVatMAzXAWpc1x3q0ECODZdRFVETx1Se0j2x2JXsme/ccDW+rC7naR5eDJKsmsPkSB55RL62zzC0cGutzXzPhbe9QOoGZ17L1wm+wUNY4/3r6tITrYM9FBEBCXGleL7uVT60MD7CTMj+BXQ5tfRX2yhX1Uwjb3NKVbNACsXJ+HGBKlmnuaF0Z9h2Z3A0OSuvFHXQFUk1805lGyAYbURLYG+x/vXF5IFw+2xHd4qmtVORHqg7y39UvoBayWBI4cz8Z/Pv40/bnyQi/bewyLaeKwE/fIMB4MzFcW/a28Nd10IaNlJD6TOefC9gMVRLVX534g4IEh3CKGUWO5wFCRvCCl23Xa/+49FkZaD1B9BFEGbMzWsQRSkeOKwsUsH5vWGw6X5OlJ2bq75lRaVgtH3ZVbMGltiu5NV5Y//yUWWNyykhKn4xV7K69vXILVcivn9TWoSglVvu2w0nLRguR+Oz5RoWh7XlyOFYBjWqQOL3esXRkyQGnsgSLPjeRbX2zhegOUECAHGLdQN7BfVokkxp3NlsTHUFfm9IumHkyTIddTXOzuWREFaiBd0mpaXNr3dLxKSlTO1viRU11SOThU5f72bIPnk9hEKlKC72e70QATJpN5y00biwyJqt4q5iSJNy+PGcpOsuf+mxgBOfhT9UR9nfMC4ciEIZivc/KtvIawACpgDRpUDtNSQEU+l5KvM2BoNvTMH8NUCgTL4hD5XyLD2YIb6e6rU7HFedU/v2tR1MywlpOArFEIFVZE9PZNCxcT1xa71RxDNtbNmyFVrDmU6RCKYZypdBB4U66pHcaFNQ9v/nKhuHMV4j4t2v0+g7E1BagYuGd2kru9/HBDZBM+5D+KFe5sLBEianoPuBNjK/sdi5Scwv8dBv2f3Eom2E523xGInkaxmQuYyZTaM4RyTu4EDgnSH4LgBUu7P7pS8dJMXz37QXVz9+JkJ3nr/JI+dHu/zqQ5yGY22s3vtjx+ErMbWuZ0UJCklTcunaXk9xc43V1sDpRUVcjptx++xHW40HLKmyosX1/jC81HBaLLyWcoZNNpuDxmDaLK6fwWpy2IXK0iDIAlqePVK3N18GArSgcXudYukaD6xeg4StjA3UUBKuLnSwnZ8MoZ2VyxLQgiOTBa5utAYairYXrE5TvpuhTSMljOMlTN8+YXoOdMaQpPYBMl+Jkd2jvjuxvGZMlcWGh1iMiSLnaYq5EwNQ1NSYrobKkUTKTvX991uVp30aXr16sZQCCOAo1V5fuyvcbn4wYE/owZt3iV+GcP1OGefRM8MTmraWsjRdvR+mnA0fHHrikm1GPK/1v8Gz2S/Hdc2mJdTZPYwiW3qISdbOnOWjqbLVEFK4Hpi1/qjBLOjPs/enObGm9/MWjDGRXliELdiCksJybYCTrs5nHD/1jZHrXLtzR+g9YGTu9rJNiNE0hY+D2mjZAKBu49z0w1VkQR7rIVaNwJO1lTOWBlq7D05eDNsbRT1cIjoMxXbbLFbx2VGZrlPHyUbCCzljakiHRCkO4RhyPvJ6sqwFKRkVbKQ1fnp776/Z6WwH3Km3rcGaa3hICXbdr1P4HphSm6uLEaFmlJKbq60meljr0vGDp0oWccLaDs+73l8jnLe4A++dhWgpwbJD2QalZx8X73tDdFiF9UgDaogzYzlMTSF165uAMOxCWUPFKTXLRLlZy8K0qE4jev6UjNuGHvnAxoSHJkqcmOlRS1Whe8GQcpnNDRV6bLY3Z2QBiEEb71/iufPLbPecGha/lDsddA5rv3qjxIcnS7i+iHzcf3mfi3d3SjlDSZHcigDzGDHy9Hq+43lToPWu7lIcyjuDdW0vH038O2GFBqhMtgiGECg5mhrE5yev4YmQQzYMN5RQnK+oBonfxV9BT0Ut0ySyvkQLQzIPHOdrFMnY1oMetu01ZCypzDakIytB+iaxPU2EaQBFCSAN5228HzBHwRvo5ErwB6faQ094MyayoiWJeeEOPtVTISgbp6Iwh32wNTWjYBjdZ1KocSJhkZNGw4ZUBXYy1SvoQWULMnhIMd4uUqxHWLt85jY6gjr5hnm87v3ymvZCgJJ1pS01RDD8rk3M4auapz2CjSGQNbuBg4I0h1C2pNiHy8KRQhURey7BmkYxdW5jEarTw1SUn90eLJArbVVtQHSZCGAqzFBWqs7OF4wkIKUqDad/kPRhGmymuVDTx1FymibZLLRscF1vtd2Azw/3LfFTtcUsqbG0oaF4wZpnUQ/aKrC4alieo0MYxVcUxXU+AV8UIP0+kJilY2SE5WB7FjjlSyGrnB9uRVZde9C/VGCw5NFglBy9lpk57obNUhCiJ5al7sV0gDw1ANThDIKh2neBgWpX4JdgmNdLQOklEOt/XnrA1O8/aHpgbY9c7hC1lT52qtRA9NoMe7uPYOyppYew7s5DoDV3MNk3mIx8dTqwJ9paCHH2gaC6HmuIJixdZq3aCvTVDhVvc6bv/oHjCrzHKteHpgPtLSAky0TWh6mFZJRJfYmPuD6gylIo6WQU7MuF654nMi/yENj3xj4N9S1gHFHZ8RVUcZKHFlXtqT73QnYSojuSo6GWYSpM6Hm0b1wXwpfAk2VBOFgJ8YXEleR3LMA2mQVrVzg+IbSY8W8FUihcbX0nSzlntx1u7YjyJoSX5FYasiDawZmMZq/jecKVJvQVN94VrsDgnSHkBQ073dFT1OVfafYDaO4epAapCTZ6eShMp4f9qg2CZpdPYyuLEQEKQloGIggxZOIJKghqUmoFE3e+cgMY+VMTxJeopJ11yEl5Gq/ClK0D51rcdrYoAoSdGx2MJyQBiFEWu+2n95bBxg+9FhBqre8gevNFCGYHStwfbkZWezupoIUW5ZeuRI1dbxbCmV3LyQ7ifm+CwRpciTHmcNVvvziwlAtdqPlDIaupAl1/TBRzZI1VS4vRImYoZRDIwTf/dRR3vfE3EDb6prKIyfHefa1ZTw/HKqSdatI+iHtdxxCgtyHs7VuHKf8No8j7xqsR48rJGYomHCicScx0uOuuq9JeLEg0MYswomQ5VMjA32moQWMOhpVTwUBCElBATu4NYsdwJNnbKrqEu1HAvSH2gN9JiAiAyfXBCKfQSlkGXNUVElPeMXtRoikrofcswx6JQqv0XMZjtYENX3/KpKqwCBTPRnHv9/XMMl7AqWcQ+QMxhyVkqfsW0UaBEmT2A0j4ME1nYLUIZ5PqcU8pzZU2neBwO4XBwTpNuIrLy2kE3HLGU40r6aKfROkYRRXZzNa3xS75Q0bVREcm4om/xvb1CElBGmkZKYWu5srSYJdf2tJYmtL9tPdf0hTFf77H32Mv/yh+7q2j+uEughSoibtp0lsuv+8kY5/0Bok6Kz+qopA22Oh6k7IGOpQGkUeYLgw4vPRaLt7mtDPTeS5ttTEcoO+0eC3E+OVLFlTS1P17hpB6uq347hBfO/cnVfau5+Y4/pyi+WaRWFIpKSQ1fmXf+MdPHh89w72CZS4PuzSfH2oiW23gjffN0Hb8Xn27PLroln1XEyQ9qt2GlJhP3NwKVQulr934NS5DSPgVNNAjdWjcLWJbDmpze6WCUG2ileWsCEItf7vqQCJrUhOtUyk4yHyGUTOJC8kvtc7jkEtdgBjpYBsdYxgQpItDUaQ1oyAEy2DXCtAGckjMjp6CHOWMbSQhEHHcbSlM9pWUCrRXEUUTCYbkda3X7I2aA3SihFwpG0w2VQQmYiYCF1DyWc5vq7QugPEpOUItFzAvXWD0bpEGS+kdZMiq1P0FIq+MrT6rDuFA4J0myCl5P/+1Kt86qtRDUwSaLBvBUlT9m2xG0Zxdc7U+tYgrdQsRkud3kq1beqQEmJz39ERNpoutZbLzZUWxZw+EGEpbLLYJZabaqzejJYzaRQvQDnfSZpL0IjJUnkPNVg7oZQz0vNT3gtBmokIkqGrQyu+z5raXZ+YHGAr9DTFztsT0Tk0XqBpeSyutfs2l72diIIaoglnxhhOKtitoFoweyx2d0M9SvBtj8yiKgIpGWqdy16bqx6bLnFtqUktfqbdrfv/vqMj5DMan/9mpJTcbQVpLo6n36+ipqMgYF+x0g3jCHXzRN/tkrS4cTdWj1wfkTeRroeCoOKp2OqtjaNYUPAUldAW5Nb6BxxsGAHH2waFQEFaLspYEVHOkxUheEoPMRnUYpfg4dOCr2y8mc85P9B325YaUvQV5iwdghBRzoGugqoyZSkEd2gC3lKjc3O8bQASkY3mDiJjYASCcUfDusVzkyBSkHafC9S0gKqncKJlINsOYqKczh+UkTyFZpBaM28nGo7ChCY45BjgBSgjxc5fmjqogjFLwXqD2ewOCNJtghCCwxNFzt3YALpCGvarICn7t9i1hmD3y2U0HC/YdSzLGxbjlUxqNdvYJl67lRKkqBfT1cVGlGA3QEADdHz6jVRBShq0bv/bCjkdwWYFKfr37n4ft4pS1z6qe7DYjZczFLL6UCd5WUO96xOTA2xFEvMdSrknq1yyCt6y/YGS724nDqcTzrs3jkrRwHYDLMfH9vy7Un+UoJQ3eOhEpPQMy2J3Kzg6XSIIJeeubQB3j5hoqsJjp8d59Woyjrtb+5P07yrs8xkvEOR88O5AgGSSFqfEE1zZdlBGChD/d8lX8JRbm4SPFENW5oogwcvvXuPmKCF6KDhsdY6dUs6ilLJkCCMFKSYmYQh+sDeCNFYOUI+9lbHDs7tuFyJpaSH3NU0UCQiByEW9BpVihpwVoiIIb7PNzhcSWw25v5FB8UOEaSDidEQRL3hVXQVnn2RAVeWuFjtfSEIB9zcykcIYhKjVzrxJlHKYPhgheEMijhK55fj6UmLbCjMKyFCCAJHvLA5H5ydHpSXx9kka7zQOCNJtxMlDUeyq5wepHW3fFjttGDVIw1GQgG3rihIsb9iMVbKp1Wy7qO9UQToS+aCvLDSYX2kPVH8E0Ys4a2ppL6SN5u4NWlVFIZ/Ve0Iahmqxi/eh70LStoMQghMzpaFOOOcmiunE4ACvH3SrAnshxLNxGhfcnSax3TgyFV1Xd3PiW+lqFuu4wVBq9/aDpx6YAobzHLlVHI3Py0uXo5YBd3OB5Mn7JtN/v9sLNdWiyV/7vgd424ODBU3shrwvbpmYDIokLW7M7TpuoUSdLIOmIoOQXKDcch1StRjwrP4waz8KC6XTu25b00PuaRpoUiCDEBQFciYio5NRJE6XDSyJ/B7UYpfgzCGX0dLu85rEWlf0VbA9lEoOkVhqi1lwA0qegnObz82GHnC6GatptofoTpmMn8uFYP/PokRBkjIiQ5tVy4YWctjSyYRKVJuma5DrIiY5AwRUHQV7SMrNhh6yYvbWV60gCUNBxQAsJ1IXN9n6RTlHvhUi9lPAdxdwsLx8G3FqtsynvnqVS/NRzxBT338DQV3tn2JnOT4La23yGY2JbSJih6UgQZTOt92EwHKi3kbjlSwZQ8XQlW2jvptWdFxKeYOJSpbnL67SdvyBCRJEQQ1pDVLDodJHuSnljdRWB5HFLmtqe7az7LRviLrJ79Uq9+PvP9O3rmsv+LHv2P3Fd4C7g+6asL0QnUJWp1o0WW84d9VOBp0V+buqIHX1QrK9u2uxA3j01Dh/4TvP8PDJwWqGbgfGYiX6tWsJQbp7BPaewxWKOZ1G23tdWH0fPzMxlP3kPcGaIuE2tnZpqyEP1TOpPUr6QaRS5EyUah5Za5Ex9Vs2T2UNyTfab+FLG0/x5BkLsLbdzlJCqm4XUbNclJGovkRmdDIaOD5pXVZKkPagIA2CqJUsqYolbQ9lppr+vZIzCYOQsqdzI+ORHQIfkEg8AUbXpD4hKenxcH2UamfhSqgKwtTJOPv//WpM9IIQVrI+ZqBEARkxAiE74R2WizJe7plzCE1FFLOMtG0Ws4ONp64FFH1lR1teICRFX6GhBRR9FYmkGTeJLRkS6QaoY53AKUIfFA2RNzEDSSYQ+LeZwA4TBwrSbcSJQ1H60PkbNSzHH0rvEnWXFLuz1zb42//7F/lrv/An/P1/93X+51//xrbR2sOw+yUN95J9haHk7/7rr/Anz90EYKUWNYgdK2eiSN68uS1Batkehdizf7irE/zMAAENCYo5nWZXDVK/ZoalnE6t3WuxKw3BXpeMBfZWf5RgpJRJe3Yc4M8ukj5IsPfUteT62K8SvV9MjeQwdOUuK0ixdfd1oiApiuBdj8ze1QANIQRHp4q4XvSOuJvERFUUnohJyd1WkIaJvC/uSK1Lwe88J6L6klJkV6oWkG6AEYp9mcmqxTgaP64f2s6a1tZCpm2tQ9RcH2U0WhwRikImqyIR6G5UgJ/0RNoPQXKF3FLMb6mSMUdD6yIrSqFjDRSmDiLqETUsdc9SJUsZrydswVIlI54aqTaujzB1RCkah/BqEHqIvInhhhgD9qqKAjC2zumS9dogJArkEB17mx3XpxWCeCM/QKluXVRWRgrkG1uZfF0LaG1SlVpqiKdAaxcbnACOtQ0sNVK02qok04jnPHoY2esKcc23DFDsa9ExyRogBWOuRvsNZLM7IEi3EaVc1Fzv/PVa3E18/5MJfReC9Lt/egk/kPzAO4/zrkdnWW84KVHpRsuO/Pr7UbO6FSSIJinzq21+70uXCUOZ9kAar0QPj3LB2NFilzRWTAq/Aab3oCAVstEqpZQytdjthi0KUtujOISABuhEhe8lwe4A31oweix2e5s4HhqP7ou7GfMNERn4/m87PnBvnNuBzRa7u0lMXk84Ot2x1d5t5eY733yY9z85x3h5sF5ObwQYA/amGQSekKwY/pY/M0NBNux6P/sSpRLd+yIfBQOYoSBqz3mLNrtC0lw5+vy1rLdloi6Bsh+rFFJGdT9d77ZsIXp3m7aKp8hbtth1o64HW2Ky22rIpBM986QXRLU+3c4VUwMpyQWDz2k8sbWeZvPfj7haTy+hthoyY8fHo2WjHBpBxCE1ImhH/8+bSM+PQjS6yJpEsrFN/Pea6W/br0iNiYQtIRMIDtlaGobR1MIoqIKk7kf01P0kEDmTbHxOkutEInHVqI4qqU0KkbS1kGNtva8db8xRmbM0anpIWw1TglSSvfY6EbQJ9QoitKPzpUS1WXeifm9YOCBItxmnZsucv1EbWtM+TRX427RXXlpv88qVdb79sVk++NajvOuRGQAu3Kxt2bZte/u2xqQ1SLGClBCxlZrNcxdW0h5IHYJk7hjSUEgJUjHd914S5Qo5nYblYTkBjhf0J0g5oyfFLlKQhkOQEqJVGRLhOsCfPXQvTOxZQYqDGu52DRLAdzx5mEdOjt2178+aGqahstGILHZ3M6Th9YSkrULWVFGUuzsbGa9k+ZFvP3XXxzFMGMHWpG9LCXG2UQFWdX9XFcFRJJ6Qm1SKkHGnc3/LIARNSSfAImOApoEfkgvEwBPOzURqpBCNN2NEakA+UHqaz/pCooeCfFJj5PqIQgahd8aWiQmSYau43QRpFwVpu+PUDQGoUqSTd4lECKj4MUFq2ijT1a12sqyJ6YRbzGEBWxUpiWTVDKjtEgvuK5IpR03rfyRRAEHFU9NarERNI/QI1SxID5EzIZBbghraqiSEHpJkKyE5XyETiC1BCslrwpZQ8FUOtw2C+FoRwGhit7NdlEq+U/cjQwjs+LgoqAhKXWStHatx99dN1g0fiaSmBxxu6xyy9B1TGj0RWeRUBEfisWRCgdeOBlqSPkqPvc5G6qMQRnMtoWvknejov1FwQJBuM04eKtO0PC4vNIZiM9BUBW+bGqQ/eW4eIeDtD0XEaHY8j6mrXLhR37Jty/ZTi9ytYrOCtBoTJENX+Mwz11nesMmaakrEKnljx5jvJCwiScaaGcvvqX6nmDNoWh7rzaRJ7O7kpJg3sJwAN24u2WgNz2JXzhsI6IkWP8ABuiGESOvd9qoEnZotkzW1gXqEfSsgifp+PVjsXi84GvdUu9vq0Z9VGCFbJuEtLdzSg8cXEl+NVIed4CuSsq/2EBNXiWxcCdJY7a44fWWkALZH0VNwN1nKtiMg63rAitmrVI2Wk7CmEE+AGSogOpPjSLXpste1XZSJUs8+svF7U3GjiO1ugmQp4ZZeQJYSsmwGu5JGCRyyNBoxkbAVScVVMUMlLhmQcZofsY0ripIXhQyaE2whGxtGwIYR9KhFdS1k1FH7WiUrnsakrdHQwpRYmKGCrFsosyMdtSS0QI0SBoW5fVBDW41SCYGUsNX1kFMtg2lb39KvKKlBspGUfIVsqHDI0lnI+ozH4wCQjo8Y66jGwq8h/FqyE5Aw5nYi4S0tZNbWmHR15iydZTNAQXC0baBLwegONjhXkRRikpoNo2jxYy2DFUshp0nyuuzY6wAkSHMSkjIPXSPrC/L+G4d2vHFG+gbFqbgOyXKGpSApBJssdn4Q8qcvzPPwibG055CqKBybLnLxNilISQ1EUoO0Uo8I0ne86TAvX17nxctrjJWzKdEpF6JIXsftlZibXQpSKW8wM5bn+EzvQ7gfilkdzw9ZWosazVX7KEiJOrXRdAhDScPyhpY8Vcjq/OwPP8w7Hp4Zyv4O8GcTic1ur7awsUqWX/zZd6SLCd/qqBQMNprO6yKk4fWCSsGgnDfuerT2n1VoUqBt06TVCHsn5o14Er5bTUwgIjLkbpqQdtcf4XXqfhIo1TzS86Pmm137t2MCslkx8RWJsilB7PC4zw+/o8ZEJSAQ0SR83NHSGhRXkYy53feURCn3Wt+zuejvQyeiUWkNki6p6yEbxqb3vRYy7qi79sMRwKytE1EhmdZBRT/QQynnooaoRDYuKRQIfUQxg/R8Sr7ac0wkMGtprMdjSSxmp1pG355WRig4Yuu4isRSQ6ZsNbK0SYk63q2WuITmRPRt8TM922X3k0gUYNLRubdhUDOiGqBqnFQ46qpbSKMaH3ovhHy8rzlLJ+crzNrd97ZEKXZZWGWAFAZIP5WhSr5KGKtPShipYAAnWyYVT+F000jDKKZsdVtS7yqSitf5TUcsg1lHZ8lSGDeC3vS60EWqOUJ9JN1eGCoEIWPOG4d2vHFG+gbF1EguJQDDKKzWVIG3iSA9d36VesvlHY/0TsqPz5S5uthMlZIEUT3U/saSMVSE6DTAXa3ZFHM673viEJqqsLjWTu110FUv0OqoSGEoadt+WoME8D/+hcf5wXf1b6LXjaS3xbXlZs937YQkSKHWdDh7bQMpSXs1DQMPHB/9M1WUfIDhI1WQDib1+0IlTvVz73Kj2NcThBA8ee8kp+cqd3sof2ZRCDphAAGRFe1wW6ehdd61gZBMOxq7JRtLYMRVMYKIcG2uP0rrfjbVl4icCUTbhV0Ta0uVzFga9S4bV0sNGXO0LcqKEDA9EiAEeIrEDASzloathpGtjWhiDSAdD1HIpsQkHhxjpejvNzaiP0oUJKFHaWeaFClZc2NL1pyl7xjF7QuJEQpyocJErNyEojOhl5aLmKx0PhA4SK0M0o2shzKqc0lqqVwR1SWdaploocBRQhpayJSlUfbVLXVCm2GEgqKvUvVUpICqp0X9qCbLae+j+GAgYzIgdA1UBT2QaVCDpUqqnoohBROuzrSlUdMDTjVNBIKir6DI3qCMREEKQ4VMXPeWDRUeq2VSoiJdP+oFlYxFBiBUpDGGCKwokh3IBVGgR0sLmeoKu9Ck4LGNLFNO57dU/Ghut5k4BkKSC7dShmVLMG702utE0CY0p0AxkGoWQi+KIQ8lI57GGyWn4YAg3WYIITg5G6lIQ7HYbdMH6U+eu0m1aPLg8ZGePz8xEzUNvLrY7Pnzlu3vu6O4EIKcqaUK0mrdZqycoZgzePN9UXLRWLkjt27XC6nt+Eh6GytmDG3P4RHFuIv1taXod/YjO0kU99deWuRf/M7zTI3keNM9w4mAPcABBoERr7S9HmqJ3sioFExW6zYSDmqQuvCR957ix953EPN/u5DvSkuzVUnFU5lwNJJyHUcJyQcKo67Kbi4uAZihYMbWaejhlvqjSDHJb+0rk9ERhobpyh67XyAkhy0dPewQk7Ya9csZ8dQdC/B9AflAUPFUNCloqZKyp6LL7e11wltHeCuMlxQMFeYbUR2NFbv43EzAlK1xqhmpJRCFLxxvGSnp2g6e6AQtHLJ12lpI3lfIhQoyDEFVUMpd9mIBUqsgQiclCblQTT2QLS1kytbQpeDepkFND3FUyVErmgNM2iptbesxCZCoUqS//3jL4FBbj1QWL+iJ9o4UGw2pFpBKRAZEzgQvSAlYd7gDwKmWyYN1k3J8LFQEo56G1cUc0hS7QGI0vKjuiYi0Kt22x/Fy53AELQJjitCYgNCJ+kQpAjMQ6KHA0kKm7d65n7rJMGqGCiOu2jOW+FCTafqEjU4kfChhxRaMm2EviZc+0ojmo6FeRYQ2GCoyDCn4gtxtjMgfJg4I0h3AydhmNyyLXXcfpNWazYsXV/m2h6ZRld7TeXy2EzPejba9fwUJIsKX1CCt1GxG47qb9z4+B9DTy6jcFcmboBX3Lkpivm8ViYJ0falJ1lT72paSQIb/8IevUczp/O2PPHpXmzse4FsPBwrScFApmKnFPXNQg3SAO4R8VziCo4SMutEkftRTaakhTS3kcFvHDJVt7XgJJFGE83hssdpSf2S7PfUlPcgamG5vSlqi+pxsGdT0IFVtKl7UQ2dzvVKCQJGYYVTQP2vprJg+U3bX/SQ32evCABAoQjBbFtywVAq+iu0LDE0SKpFiMulo5H2FlhqiSsG4q5GLC/23Oya+ItMalbKvUPLUTmpcM1Zu0jACHyn0yNomg5RRZIJO/HliYYSod9GEozFlaWk8dmmHhq5e1zggUlXuaXURgO45RmBFYQRCILViFNRgRmpJd1BDpeu8GlJwyO6dc0xush4mChKhgt7ykO2tNdzReemy14Uu0pxE6kWSMAShaxCEjLoqGV+hNEAN0LStbWuzM6wAusok1mxBIAXj/LN35wAAg4ZJREFUOTrhHfEDWaoxodZHIrJmaBBEBPhk441h/z0gSHcAiYKUHVJIQ7eC9OrVdSRsq4CU8wZj5UxPHZIfhDheMJQGjzlTp237SClZq9uMxorRkakiH/vJN/HW+6fSbbdTkJopQdrfzZJY5pbWrYHitUtxkMJ4Ncvf/sijad3WAQ5wp3CrIQ0H6EV3U+gDBekAdwqZLmubFJ2C/DlLTxWJZGJe8TsF8pshAF1GFis9FIRC9tYfSVCKXYXvoZdOQIWuovuR0hEgcRRJyVPQpWDC1TCkYM30OdLWURDkfXVHu58iO/HlU45GyVM78d6Oh8hnOvY6GYJQQKggQw5VBDdsjYqnYAega1GSXCFQUBCcbhqsGwFH2jq6FAgEY872x8SLlazo2AgeaJhMJYpaEGyycVlIYyxSbaRM623MIFJFfCFRY/tasr/7Gianu4hO3o/GuJmseYqkEOxwsCCa7Cf/HjpIYzw6NGoREbqga8ggpBCoqcJobmNP60bZ631+JTVIhqtEv83vlV1kEEYb5eLfkxATrQRKrlOHpKkQSsY8lTlLT9Wn3ZBaGuPjklgftTA6zjKMrvFlK9rX5HjXHC60IruhEl8/ag4QCE1Lx5jd5di+nnBAkO4ATs6W+f53HOfRU+P73pemih4FyYoVnJ36+JyYLXPhZifJLm0SO4QC3kRBqrc9PD9MFSSIEun0rn4v+YyGpoqeGqSEIO3X7leMCZZksP5Dpq7yX33vA/zPf+3bGPsz1J/jAG8c3GpIwwF60X2/m/rBsTzAnYEZinSaKUWnIL/qRha1UVcjE0+IK+7WpDlIFB+BJqN+RjN2VICf1h95ASJrRLU1MRR3CRHElnldQ4YRofKUqM5lzI3uAU0Kjjd19FBhIv6zXCAQcvtQAhl/BiJic0/TSImKbLsoUx0bF4FFaIxGCkFoMzuiUPcVQlvF9QS6HqlHyf5GPJV76wbTXdbBKFVtq0IRCtlDJIp+d3qdiBqOphs7hPoYKJmoTksIhK4iQih5Cut6wLit9hACXYo0jABAQTC6DVnzxKagjOQ4hTJmtb1kRmqFzj+lH6slIdlAwQgFs3b/Z1MmVMgHCo6IjkuiIBmeQqIGSdkZp2w7KBPFTuJv0EbqY6DokZpljCICKw1HmHA0jlqDzbUyocKEE9WAQRTQEFkjRUSU47nbUkKQJrqa9gZtQmOyM041F5Fq9Y1BirpxQJDuABRF8KGnju6pt89O2Kwg2bHcmd1h9fT4TIn1hsNanDLXshNSMgwFScOy/TTie7S8c7S1EIJy3rgtClLW1FDjPhuDNmh94p4JxqsH5OgAdwd6/II9sNjtD93q78GxPMCdghFGNi5PSLJ+Z9KtIjja0jncNRHNB8q2cdK+iOxgCaYcjWPtzhxBWg6iJynNIVQLEMY9bgwNwpBCnGQXCtlj45pydR6umSnhUDb1w+mGoLcB7rSjI7qIRXfdjwgtpDFJaIwhQodDI9F3rtU0PF+g6pKJLnueQHDcMlPCCFFfn+3UrKQmawsSsthTnywjK5mipbU/xHayshdFp0+6/ec5E+7WVL2ox88202M/QOQyHVKS2sli+6FigBQRKQnDKJTB0XrOy26YsjVaakKQoj/TXRERwFIO3K6odr+3FkqEFoHZadwd6uMQOmk4goj/NyiOtQ0cJWqmm6iTAKKURbrR3G3ZVlCFZHS0a24rJaFe6fy3okckSbxBCo+6MBBBajajFYtvfvObfOITn8DzvNs6qAPsDE1V8P0wXUmw3QBVETsGGyT2vouxijRMBSkbK0irMfnqp8aUC2ZPL6SkBim/T4IkhEhJVr8eSAc4wOsBunpQgzQMHFjsDnDHEdvRBAJLDXtqhgCOWgbVrj/rjnvuhi8k2S4yUAgUZrrSxPDDXmLit5BGx0ofKQNRPHeiUOW7vkuTUeF/N0bdrWpJGCtZ+jaMRbr+FhULJKFejuptwpC5seg7VhoKnqeg6zK15+2EXCBQpehJbYv2HNVkbYHnI3qirP3IQqZEx0fq5ajOxYzsZEVfoRjXMPVDcZttFCKilljJOuMIEN0L3aGN1CqR3RCQSgaEjP1x0e94sG5uT7a2wbirpY1p1fg8CU8gdA1ltIC0ogXmSMnamm4ou4hJomol4Qh7RSFQOGRr1PWQQMj02lJK2fS3LbVhzAhRkhru0ItS69TeOPhQH0URbzze0Pes/fN//s/5uZ/7OW7evMlHP/pRPv7xj/Oxj33sDgztANtBV6OVqzAlSH4cub39ysDcRAFNVbgQ1yG17KQ53HAUpHa3gtSnOWo5b7DR6lKQbB8hhpPulwQ1DKogHeAAdxOGHhk/Dpqb7g+61mlGfRDScIDbDqVTz5INBG0t7KsOZMLIQrfZ2uYrEtORhBvtLZ+RYQiKEsd5J38YEGZmO7Ul8VjMUMFRJMW4/mg3lH2VYJOClChZ4VINubnOxfEQI93hDF6k1qi5aCIsQsoFlbwacrOpEnhRSEO+T42JgmBkG7ImAG29TVjvPSbSDRBdtVgisAiN8SirnKjuRoQOaJGClAsUpm2tx063E7KhwIzjuNPvA3QrIFzY6B2HF/SQEhFahMZY1w+L4tdRRJqktxfVJh8oHHIM6lrYCWnwAU3p7XVkuSgjXX2HAhupFkHtmoOpeaRQEbqAYKtqOAiOtA0CIZGCNGpc5EzQVKQfsNwWjOdJ558iaBCas+l5SaFXQPi80dCXIH3+85/nH/yDf8CnP/1pPvjBD/Irv/IrvPrqq3dibAfYBolS5PtxV2Qn2LWOQVMVjk4VefXqBhA1iYXhkJJcRsPxApbW22RNre8+KwWzx2LXsjzyGR1lB3K3FyR1SP2axB7gAK8H6JpCxtx5YeMAg6MS2+wOFKQD3HZ0xW3nfSWOx959GqUgKHhia/NWAVlHgu321JYAYHkoo4WOpSz0kYqB1EqExnjU4yYJJYgnruMD2MlygWBzCZKvdNQB7E2r/F6IUuxSsYIWoRnXlyhZpNBQVMFs1udGU+B7gqIyGCkYdZQea1uARAsFaijA36R4CHpVrNBOgxEApFqIflcSJR0o3NMcbC4g4vqvpN4mqQ0zvBARhy10vkhuGkeQxllHOxNINY9Qb91OdsQxcFWJ0kWQhKFB1gAlUrWk66N0pRuKoEWYme7dkRBIYxwhOsEee0U2VDjaNpBAJrlGFAVlpIC0PJZshYlKd9phiDRGt+xHqrk/uzVI2WyWL33pS7zlLW8BwHXdPp84wO1CQpCSZrG26/dNwnrzfZNcWWhw7vpGl4I0hJCGOLb82lKzr3oEUdR304oCHSCqQdqvvS5BIZZ4DxSkA7wRcGauyiMn9x/acoDOPX9AkA5w26Gq6VwzHxfg72Sh60bF31r7EwpJ1iOa+G4iJtL1UUa7J8DNaAIsRBQpHToIrUOQCr4yUJ1LJozS8rpT23who1QxXUNuaiqPoDcYQfrR90OkEmgVCG0O5UNutCKLXXXAeXAUsd3Z2FPiHkgi2ncPaZRE0dldSC1kgFQja1sSJQ0MlNaWYMrWIqUEiSeilDURsvXciK4466CN1KtRalwXQq0Y1dvsgZN0/9ZiEPXUapjRPCn0gf9/e/cdZ0V5NXD898zMLdsbu0uToiiIqCAgigUbQVHEGoktNmxRo1FeUVARLNGgxhINEpXYYqzYja9vNImiUexKUWMUqbuwC2y9ZeZ5/5i5d/ey7S57t7Hn+/n4+XDvnfLM3QHn7DnPeXwWygtMqAm7gVpm4jOXtnIbHtfXC0XypW063DDL07/GnVMXz06aCiMvg8pamxrboCjP+z4ct+26thq2pddmRrfseNDikPPy8pgzZw5fffUV48ePZ/78+RQVyaKancXy/lG04wGS3eJikwfu2YfMNB9v/HtVyjNIAKtLqxIWhW1K7EGm3JuHVFkTafMaSDFZ8RI7mYMkur4D9+rD9CnDO3sYO4TY33kpsRPtTZkGSrkPtO7Cqka8W1tzsqMmEbVNVkSDGdWojAB628wNJD4AO9G6VtKxNW68X5ZaWrnrDSURqAHegrH1AyQIRmhQFhVvIx0LTOq3kY4Ny5ePckL0y4RaW1EbVeQayY0jPWpgauLBWmyxWjcTZMUbEmhHu9mH2HOOE3IzRma9BWMN97tSlrld2ZJ0x6C41u3aFlsDSTsOKuhPDBocHf8+VLQKO33nhgezslBG8uVkuqoWvaki4b3B1T6iPjdYjTrEM5dGXhZORS0qJ72u1bi2QRlNBCZBd98kYkWtNU7J1gZBkl8rhtbPxnmln6VeV8LiAvfZqy6Ib+Tnb1hudz1z+8v9OkOLd/Jtt91GUVERCxYsIC0tDaUUt912W0eMTTTC8rq1ReoFSC1N9A74TQ7bpx+ffruR/6zdSsBnNtnUoTXSvZWrQxG72Q52MTv3cf9hXfZDGVBXYpcK+VkBLNMgRzJIQvQofQoyyAhaCcsKCNFuvLbJ6bZB7yTaN4Nb2qa3fUpVCl+0kUxAKILKDNZ7AHa8B2Cv1XZsjZt6AdfQqkCL849iCrZpse0oTSDqZmiU36qbhxSKYOSk1ZUBOzVulsKo+3+2uzCqQ796XcDTmljzaVsmip1qfFT43LHUX5zVyE2vCxojUXcdptg4opU4aQMTD6ZMtJEORvLNCLTjJGRudqr1ETI1EcNt8oCjUfWeJ7TjgGW6QZgTRptpaF9ew+OaGe7CUtCwdLKxcYSjYCQ+w2VFTfqF3e85bLtrXgGojADKMrYpr6vG8Rc1HpgoC5VsaVso6t6L22YRY+PUbotzZRqooI9Sxx1fUZ53PzjRhCYiDRg+lN+A7WgY0Vla/D9Kr169OOGEEygrK8O2bU499VR69erV0m6indRlkBKbNLTksNH98VsGX/xnU0qyR5CYhUqmxK5fYQaFuUE+/WYjAJW1kTa3+I45bJ/+zD5ztDwkCdHDTByzE3PPHSfzuUSHUD63U1p21GSn2uQqFoKx0rF6tDfnxshKA7OuY5quDjecXxIojHdKi69xQ4jtkR012bZRnN8GfCYqPyMemOhQFJVbv4teNU6wb+I1mOmApl9u3f93W1MUUhyyiHjBRP3W2kZuRl3GKhyta9CgNQqN42s4z8Xx5brzbZLkbKqEeusyZkcNsiMGVZZDumOA1u7PRik3i1WvQYOKbsVJG9xEtsSPUkb8PklKI23gh1X5sQztrg8bC5CCPozC7ITuhjghN0BqhFamm7VJYhi6NozKDDZo1FF3Hl23ei2w0XCbRhRlG24WyzAblBsmMPwon5H8d9IFtPg0+c477zBt2jRuvPFGNm3axOTJk3nrrbc6YmyiEb4Gc5Cab9IQk53u58C93El8qehgB3VzkICkSuyUUozatZDlP5ZRE4p6JXapCZDSAhYDihummIUQOzafZSSshyREe1LeWjut4dNu17tIvQdhd+0hwIzNLfEe7rXGyK73AGyHcAKJE/Adnzf5XiWXpagvwzbIiRjU1Mu2+KJueZqRm+mmLMCd95NR///rGmfbjIkRRCuTjHTI80rCgi1kkOrPc8qwDfLCJtWmU28NJO2eN3aYqI2R4XVws6vcxVDNRp43rBxUkp3StNYoy0gIBhSKQdU+0BCwFaDAMjFy0iAUcQOkdL8bDKBwAk0EJUYQ0PE1mZodh+2Aablz27bJrAQdA5+CqKauWx1g7ta3Qdv1JgMTZSXfHMHx1rtqKoBxtNta3rNRB8hJUwR8CmVXYft71wXxjTH84FOJTS+6uBYDpPvuu4+nn36a7OxsioqKePLJJ7nnnns6YmyiEaZ3s0frN2lIcnLyz/Yd4LXVTk1QkpBBSiJAAhi1ay+ituazbzcSjjgpa9IghBBCtLvtLBMqDvuo9krbHDQGChPlBkh5Wehw1H1g91mQXu8BWDV8AI41KNieYA3cifdVXtc2Bfii2i0fS/e759PabXoQe1ZwQu4568/7AXfeki8PZWn6pXkBktV0gKSjbutsXe8hfKcai2rLqbcGkoKAhUoPePNhFMp71lB2LXbaTo0f22pFp7RwFPw+2OarKwhbFIesukVzTQOVm4EORbwW30FUtAI7bYD7wN8Yw++21/YnkS2pjWDkpbuNMLbt3AdYBkS0qls1FhIz5fH5WE08fynT23ebBiFllTgVNfHX7rpKJGQMG3CchAxSSRUU5cS6LEbQse6GTe2uAm7L8R0pg+Q4TkJTht13311KGTpRLIMUtd1/xGrDNsFAchmhotw0ph44mHG7p6bJRlqgdSV2AEP655CZ5uNfX6wFSFkGSQghhGh3Pgud5ERzHY7GMzyF0bpysqjXKQ1AGUa8dEvXhDEKs+vN+wmhzWxvfZ16vDVusJJ74NS2kzD5Pj/iTty3Y4vE2rgBUsCHCvihOozKSItnLlS0EifYv9FjO758DCNCv6B7/LTmfl8birjXWi9zUxC2sLyAxGd7gZpSqILMunlIAZ/XjMBstFsbeJmbRoKBRretjXjlc4nvmyj23Bp0S+wAZSh3Xo53SBXweZ38Gs49SjxQBvhICF611jjlVYnjCEdRuRlugNTI3B+foYk4CuVUumtfbUPZVTj+Pg3er9vARCmzYYbKUInnC0UwctPrAuLGOBplhFGRzQCUbLEpyo79sHVCV8FGGX6UpXasOUhpaWmsXbs2/hd26dKlBAJSztBZzPg6SA7hiIPWkNaK9rbHHjCYQ/dp/B+61nIXqAW/ZcS7yLXENAz2HlIQX5dJAiQhhBDdhfKbST/kOZsq4m2is6MmhnazR7bSbntwjZulCPrcNtahKEZe3cKsKlqJE+jdyCAUmNkoSycXIFXUoitq468DjkGvkMVWn0Oa7c6xibUNV/mZOFuqUbn1FibFwfHl0xhtpKENRf809wE+09dMBilsuwuN1ns4jzVr8GmFFa1rSGBkpbnzoPwWyjLdzE2gj9sRrTHK5z74oxqUHTYoQ9Qao6DxB/qExWVNw2tz7u7vNs5QDQPWba/TCIJFYlASsSFqo2sSl8kx0gOooA9tNwyQLMMrsdMhVLSy4YkcB+1vPljTscCkflCv3S6JsbHo2ggqP9PNSNabD5d4Lu1253MihKOa8irtZpCcqHu9LXwnGLEM0g4UIF155ZWcc845rFq1ilNOOYVf/epXXHXVVUkdvLKykmOOOYbVq1c3+Gz58uWceOKJTJo0iVmzZhGNun+51q5dy2mnncaRRx7JRRddRFVVVYN9e7J4BslxqPV+I5RsiV2qKaVID1gU5ARblVXcZ9e69V8yUzQfSgghhGhvybaS1lEbFfDF51xYKAoiFjVep7SAXbeuDIDKzwJDxbNJ3lGazFZow+dmkJIpsXMcL3io07fWotJyu/HheHNmcDvIKUXdArFO2O0QZ2Zse1SXMlGGYmx+iEv2DNE3o/nvRmU1bARQHLIoDFnuOGOBWpofpep1+dNR9LaLoSYc2HIzPts0R3AqatBl2zxHalDZbgDY7Bwu03CDs4w0d2w+E9DoFgOkAIbfSAxKojYqK60uKHG0+zNJ87lBWCNZSZ8BUa3A52uYQYp3N2xh7rXhB39dYBJrm24O6FUvWNMY3ve8bQAbP53W7v2mTDZujaJxGzQop6bJ4DnxO/GD0arloTpdiwHSPvvsw9NPP82dd97JhRdeyOuvv86+++7b4oE///xzfvGLX/DDDz80+vmMGTO47rrr+Nvf/obWmqeffhqAG2+8kVNPPZU33niDESNGcP/997fuinZwluXNQYpqarzJlMk0aWgv6UEr6fK6mOGD8/F7/wjKHCQhhBDdhmmQ1MIytQ3LyYpDJtWWg12vxC42v8TIy8AozqmbkB8vKWv8AVgbAZTfaPy3/fW30zoeHNUPBvIiJum22zwCXS+DlB6AnIz4ArHKrsQJ9G2wTlKcslCmgaVgn0I7vpmuqk0IhGLrKhm5mQ2CugzbYPfKgJulsLz5Rn4LlZmGyqrLZGmzmTIupdCqkaAx6gZdseYQOhxFpftRPqvJuT9xZiyrloEK+lGmARigWuheaAS9fgV137eOOqiCTFSat7ZSKIKRnY4yjHhwui3L8IZnul316gfmDbobNkX5vNI2b9+ojQoGUNlpblv3cNTtxhf7eWc0HiDFAkRtprG+zM1GFuWYYIcgiQAJr6Ned5qg02KA9PXXX/PTTz/Rq1cvioqKWLduHV9//XWLB3766ae54YYbGl1Uds2aNdTW1jJy5EgATjjhBN544w0ikQgfffQRkyZNSnhf1LGM2BykehmkQOctkHj8wTtz1H4DW96wnoDPZI/B7l8oKbETQgjRbSS5hqDbnjot4Vfm2RETpWNrDyk3Y+T9P11lp2EOqntecte36dV4K2lwS5YamYOkty2588ah0hODAUsr+tRapEe9xgixcfgtrIGF9RaIddCBppd2cedCNUwN6NpIQlkftRGM/PS64zbG0fGW1oA7Hysz6DYBMNKaLq+LUb6GzREUGPmZ6Kra+LhUvtfkIs2fEMDGx+41JIhVxhhZaW7GSYfd1uYtVcwYfnctpPrfie1gpAcwdipAV4bc9a7y0r1hN56V9Bnaa9Jgon054NRr7e407G7YGMcIJAaNUbcbnzIMjH75OJsq3Kxh7Oef3kSrb0ejLDdgX1PmZp765blz2bTVRHaxPmWiTLPl764LaTH1cOmll8b/HIlEKC0tZcSIETz77LPN7nfzzTc3+VlJSQmFhXVlVoWFhWzYsIHy8nIyMzOxvN8gxN4XdWLrIEVth9pQ52eQ9hveSH10Eg7dpx8V1RGyM5JbR0IIIYTobCrpRdYVRnYazvot8XfSHIMM26DcZ+OztTvnI7a1Uold2JwQjq+ZzmDKj7JImNPhdonbgtE3N/7Aq2simANy3IxORU1CADK42u/9Rj+SUIIXn5/jRNHKhzabKeNqqpV07PyORhkKHY5g5PZyg4EmHpK147hr5XjMfl5mIlqJ9uU2PYb4OQPgU1BT7wHfAaN3Ls6mCjfwsZ26NuppPvTW6oZZDTuxpbXKCmIGfG7TjCTGoQ1f4wu0WiZGRgDbUhC2UZledqyJ78RSmqgGTB9OoDdm1bfoeh3rml13KMabg+Q4bit1HbUxvGyRUZDlNuaoP+8t6Gu8Dk5rlGGgfXmsKd9AfoZymy1GlLs4bkti90k3qrFr8cn673//e8Lrzz77rMXgqCWN1Xwq1XBiXez97VFYuGOuiaO9Notp6X4C3k3epzir213voYVZHLrvoM4eRrf73kTHk3tEJEPukx4gotGhNKoza7HqlX7ZW9w5LmaO+6CobQfH0QR3KqBm3eb4ttlZaexqGnyeXkN+MECm3yAtS0NjHcBqq6CoH1hpDT8DqMnD3ppGbSbx4zs1YXS/PNBgeu9FI1GCO+XjbK4mErHj7wPEHq+jIU0wM4yZW5CYsYpUgH8Q5DXzIO4E0XZGwneiozbaUBj5mdilWzGz0rCjNsG++ag0H9WZAczMhnOXbdvBl6vwZWrw1ftOQrWQ2ReyWvg7ZuYRLi8jGg3Fr9OO2KT1zSMSsYmu34zOCJDeNw/lt4iEI0S2VCd8JwBOKAKmJi1YAWn1fgkcKoPM3i2PIxTGqcmgNsuu93OwSSvKxkgPENm9P+EfSknvkxsvqazOScfw1p3K9vYJ+jQVjiIvLxdy+8PGnyCYAdEaUH2gsOnMXlwwn8jmdCIVCjMrjWgkSqB3LpYXFEVGDcLMy4wHTY7foiYzmHB/x8YfzEvHLO7L+q3fMqjYT16O5Y6jV27L44ia6HAG1VmVGEGDtG7w72WrUw8jR47kxhtvbNNJi4uL2bhxY/x1aWkpRUVF5OfnU1lZiW3bmKYZf397lJZWtGmMXdWWSjfFWra5hupqN81ZUxXaYa+3PRUWZsn3Jpol94hIhtwnPYRdjVVZS7gyhFEv++NsqXEn/ivl/rK3JoxKD1BbFSJSWYPhM8nOSmNrRQ3+GhtTR6nZUguGQ7gkjJM2IPE8TggcRdQXBRq/r1S4BqMqTKSqFsPLCjmVtRiZQZzySgzD/aWzrgoRCkXREZvolmoMo+EvnZ3KWiJbbLS2EoI1FS7HzuyLE23m3tYa39ZaQrUR1JYqN8sQioDPwkrzEymvQmmNrg5RG4qgwlEiUQc2VyUsgArgbK3BV2ljlCm0v26cKlRF1AFd2/zfMaMyCjUholtqMJTbjU3XRAhV1KKDPiJllaj0AOGqEFSFcGoiRLf5WYLbbl0FNeHyCE5NZjy7o8IVSY1DRWowq0KEK2oxrLqfTagqhApF0QEfdn4m4XoliJGIDeWV5BRksTW2RpHtIxRVlG+JEAV8W2rR1RWoSDl2xjCcJP7NMUIRVHVN/D50KkPUVocwyr1AOC3gdlr0ui3qqB3ftj6nqpZQlUFkYw0/lWmG9omyedMm7OBAHJ3Ev31OGKuqlnB1GBWFyi7w76VhKAqa6GYISQRI9ecbaa356quvqK2tbWaPlvXr149AIMDHH3/M6NGjWbx4MQcffDA+n48xY8bw2muvMWXKlPj7oo5l1p+D5L7XmSV2QgghRI/gNSTAUPHSsfhH2UGoCkFm0F1np2+eu8aR35cwpyMjalAQNvFHNCpTuR3inFBCm2RlV2MHB7UwFtNtrFC/8CZiu+2aI7a7hpDCnX9kmegWnhO0L4hyQmjqPzDqlueXKIVWltvC2dbuzPaI7TYByAi6ndu2VGMU1K3vpNIC6JoQWI3MnzbdTnGJ59AJpWVNMgJu2WGsGilio7wlSFR6AKNXFtRb60f5Gjk/gOOgLAPHzACnFkwvm6JVyw0aAG0klh3GOsfF15XyW1j9EhsbqHS/WwJZj09potpwO8ApE+3LB6cGt+16bovjcIdsemWh9e7VJppCgNel0bLQtpNYTqoBQ1G6JULEhv65EXBw50YlQ1nuz99nAo3MceqCWjUHSSlFfn4+c+bM2a6TTZ8+ncsuu4w999yT+fPnM3v2bKqqqhg+fDhnnnkmADfccAMzZ87kgQceoE+fPtx5553bda4dleX9pYvaDlFv0l1aJzZpEEIIIXoE5XVY83ktqY26//ea/QqILl/tPoZqUF65FEFfQiMAA8WIiiCOrnXXyrEyUXZVYutobaP9LXQG87qCNXg74MPom4e9ci0YBuYA9wHWXcOniQkgWqMNC6WdhPeAJOeX1O8eZ7rzXNLd6zH65mF/tgU1pN5xMvzoikbm/oC7Do+ywImA4asLdoxkAiSvOUJMtN48H8AcVJi4vd9qtDmCtrW70KuZgXKq0LEASbXc4tvdznIbEniBdKxzXKOciBsgp/nR2ywk6/PmIGkjVv5WhFXxBY6V1XTb9QZjMRs2FmliaRgV3oj25WNkBtChaIP9lGGweqObIOmXqwHtNq1IahwGGtOdY9ZYE4guqNVzkFqr/v4LFy6M/3nYsGGNzmXq168fjz32WJvOuSOryyBpolF30l2gqd+CCCGEECI1lAkY7gI1tgOWGV/PRuWmozKCdZmbWNvkoB+9uZFFPmP7W5mo2nqfx9t7Nz8BXyurwdpG4GZFVGYQ2zK9DnZeYOE1Atg28+VywPKD4cTPjxNCWzktt5GGeEc9HfYCLA3K72ZqjNwMnKKceMAE7uKoTlMPyUqhrSwMu8pd60lH3CxbEuPYtjmCjjrxuTXg/iwSTmW5HfgafCeOg7IstJmOsr1SMK1JZpFY78CArgukozYqu/FAQkW3grYxgkGcbRaLtfC62HlZK+3LAR1tvu16A2Zdww5vba7Y6wQ6irJr0GYI0gPoqhCKbboMm4q1m9wsV788A22YyQWuMbG1u6Itb9oVNBkg3XTTTc3uOHv27JQPRrTMNNw+8tGoQ23YJuA3t7uRhRBCCCGSpw0/yqfQNfXaJgd9KKUw+ucT/XIVRq+seHmSSvfjbGxkrR1HY/gMt2wqtMF9AFfKLa/z9266vXeMshpvOe5zS6qMvnk4qzbWBWpK1bW1rldup7UG5aCsgFvGFq0CKwPl1GIHk1vCQxt+8HnBV2x4XpZCmQbWsL6JZV0+i6bWklKmwvEXQdUK97UTwvYVJDWOeCvpGEe7Xdka2zRagTaCbmZnm+8EjRvw+XIhvN57z2s1nszz1jaBtI7aGE2Mw93eaPQ7sZR2O7N7GSRtZuD4e6H9SX4feOV+hndRUQfVxNIqyq7B8eWgdMRbLLbhwrTa9LFmYxW9coIE0oNui/fWPH8afpRldJtGdk0GSLm5uR04DJEspRSmaRC1HWrCUYJNpEqFEEIIkWKG333wrXQntWM77uKauNkSle7HyK3XNjngS2jFncA00EYAbeW6c0vMdLBD6MwkmlMpLzMQK+MCN5PlBSJmr2zvQb9eu+qMIHpLdWIw4M2PQflw/EWY4WVoMsCxk55fog2/u/5Q/QVa67cw32bOi2ruucU0ErNnThisJOe50Fg5WROPudEqlGmj0nzu3J9ttzMMtJnuBkVOxF2LqYlFexuTEEjbGpXWROZJO25g3EglkKU0EUe5mTQAZWBnDk+uvXect04VXgYpt4nSPDsE/l4Q2YQKpNMwgNVg+Vm7sYq+vTJwAr0a2aYFhh/lV90/QLrkkkua3Km6urpdBiOS47MUUVtTG7ZJa27RNSGEEEKkjvfgG19XJmK7v3HHzZaYOxcnlJO5k9KbeJA0DVAGTqAYs2ql+zBOkuvbKAON4c7pcBw3W1LvIVwFfVg7JWYaVHoAZ1NF4mgcjTLdh/CEAEC1Yn6JEcCwFLaj65ZraaL0X0XKvcCricdk0y2x08pyy/3QdXOAWpCQLYmdr7FGENp2AxgdRaX5ccorE78ThfezMXF8BZiRjaBtnObWg9qW4Xfn+lS6JZeNfh9O2Jvj5YDZyEKxsQxSvfLCpNaDSrgWyw2klYJI1F0w2MtWJtI4/gLM8KYGAaxbRgo2PtZtqmbPnQtwgv1aNw7AUd46Vd1Ei0/Xb731Fvfccw/V1dVorXEch82bN/Ppp592xPhEIywvg1QrGSQhhBCiwzgqiPLhdmwDsBPLp8xeicFNk53SlHIXU1VWXcDg1LjNGYwkF1A3/G52INYIIKv5QEKl+RtmsxzHDZCUH21mAoabLVG+5OeXKH/dA77toNL8jZf+OyFUtAIVzG68UxqOmy1RJtpXgPLaiycbIKEs9/uov65mY89ItteZzq52g0q7YXCivADJLYFcA9ptqJG0eoG0Oyer4TiUXYMd6I0RrQRCoBLXCXV/tApbGyS7PHEjF+JlqCycmrA7Bymyybu2PHcbbYNhea91w2ya46BM2LDVwHY0fXsl2SBiW4Yfw1I43SRGavE7v/3227nwwgvp06cPN9xwAwcddBDTpk3riLGJJtQFSLa0+BZCCCE6iuHfpl+ASignS2BXe53mGsmWaC9zo8x4YKKiVe4E/KTH4vPaa7vzXFRaE4GVE4ZopfeQvs3TqaNRlnIn0CsD7c/3sjx5Sc8v0YYPHQt0InbT837sGrcDmxNxMxn1GjXEygSV5c238fdCOTXueJMO1NxW0spnuePwW402JFBOLdpX4GZSfGaj1WR4PxusjHoNGpIMXHEDaSPW+hwNpoEKlWxzngjaX4BjZmBg180R81jeuKJ2GyIK5ZXoWQrlOHUBu643x8iuxfHlo73vWRkGKs2PjnhjcTRYijWb3XH0L2xFoFifEXAD6caaRHRBLY4yLS2NyZMnM3LkSAKBAHPmzOGDDz7oiLGJJlimcgOkkGSQhBBCiA5jBBJbSdN0lsgIb0SpMJgm2t4mc6PwutCZbpmdv5fboSzZdWXAyyDhdUpzmpznoqIVKLvWa2u9zYfewy/ePBfHV4gR3eoGEMlSdc2idNSG9KYCNdttna29AClSr2ub47jN37xW6trKQsXm/bTUsKLeOMBw5zGFIpDmlZM1aOXtlpOhvMxOY9V+pnKze2aGd1wnuRbfMbH7xNFgmijTBhyI1u9o6JUxWumgI27Hw3rfiU+5Aws7bXzOU14gbah4qZ+2st0AHi9g9BeC4XPLFLWXjQx78+y0G0SvLnNv294FSZZebkMbfpSxAwVIfr+fcDjMgAEDWL58OYZhEA6HO2JsogmWaRDx5iBJgCSEEEJ0DG34GrbXbqySwwmjjXR3nkvQ33DtF028xA5A+4vcrE2y835w53Qon3LX7TFUk+vbAO6TrWWCVa+pA15Jl4m7lhGgfdk4Vk6rGhIQX4yUZgM1lMbxFYATRqUHExbQxdFu84vYOMwMtLJwzNY0JPBafQeU2+I8zYeKbkGFS+tt4GaDtJULGF4Dg4YBlPsQ7wavOtYkolUBklt2qKO2Gww6UbSVg7K9xWC17bVq9xpBaAfSEhcV9nmBeLStNWnKayzis9zFhTGw03dB2bF+Arru521muBm+7DR02MsyORplwZpyh8LctO1fWka5i9A21p6+K2oyQLr44otZsmQJhx9+OOeffz4HHXQQixYt4tJLL5UOd53MMg3sWImdNGkQQgghOkZsEVC8sjDVeCMA5dS6D53afVDX0UY62VlGfAK+48/HzhzWurEYfrc8ztHuPJfGHlzj2RMDBXVtrWMcbz2mWKBmZqL9+cktEBs7hbLcLJR3KuW33PlD9cu4nCjaCHpNBjQqsE02K1ZyGCtjU6Y7H6s1GTWIz8vSIa9dtRN1g1rHy4Y4IffnYnjrHBlOfD4UeD9T0/AaG8R+Nr3cTE+ymSxi2RKvrC3oR+kIjr/QPY4TcudBxcoYDR+g3EC6XqbR8jJIbSqx88aCpdzAVUfc7ny+fG9B3jCg4j9vx8pyM3xBd0zumw6YBmvKIts//wjc79Og8fb0XVCToxwzZgzz5s3jxRdfZOzYsWRmZnL//fczZswY7rnnno4co9iGm0GSJg1CCCFEh1L1Wkk3O+8nFG++oNL8CZkB7Thu1saw6ub5GIG6SfPJ8hoBxIOgxuZCOTVoK9d9MNdhtyV5/TVuHO226I5NrFIG0ayR7tiSFVuTybsU5TPBrkFFttZt4tTg+Hp583i8eUL1n/ttx117yKibv2QHB7Wu5BC8bIk790f5fe4cHH+huyBrfByFAF6wss18KK/Uz20W4ZUN+rJbtfaQeyLvPjFNN1DTUTAzcdJ3dksendq6cRhuKaBK88eze9rRxOLuSAoCJMOn6jJZprvwrpM2GCNc4jaiiP38zSw3w1dvHpm2NVFDsWFzhH6FbQuQlGliZCQ/l6szNRkgnXPOObz++uvMnTuX//73v0ycOJGnn36a8ePHU1DQyhtFpJRlKmrDNlFbS5MGIYQQooNoZdU1XvA6tjUuVsblLtCaMAfJ0W6pk2rjg6Lhd4MM280CKcNB1f6UMOdG2TU4gUK3A5sTQWX40ZF6Y9G4GbH62ZHWBEdQNwfJ9II1v+Udz64bixPyshZ+96QBy818xcTmQqm6MjYd6OWWfLWCYwTcYMAyvPlFjtuSWmu3jE078fWdtJmJ0hGMnHR0bd26VlhmvNQPQFt52OlDWv2dYLolfCrgZmO04cfxFwKGW2IX64qn3J+jygxipAXc0jbHwed1aYhsO3+ttQy3FFOlB1A6gvbalTuBYrQy3flvsWs107xspOVmFm23hXxp2MJ2oM92zj8C7++Oz8Dsn9+26+kgLea5xo4dy/z583n99dcZPHgwV199NWeeeWZHjE00wTINKqvdv8ySQRJCCCE6iLJQpnIbL4SjkB5wJ7vH5paAt/in6WU/tBu8bJMtcTNIjXd7S1Y8WIvPc4mAkY6y6zUC0KCtHLQZK53yN2xaUK+cbLsoyys1dDNJytRuMBDog7Ir6obiy6zLIJlGQlMC7Wg389PG7yTeZdBnehk1hTazsIP9vCySrgtMzHS3IUFuRl2r71hXv/rBq2r9uOI/G7/Pmxum3Ws3fNhpg7xxeeMwfLglkBprQAG6KgT1MkjRRtqQt4ryo3ICGMU5bibL8oIcMw0nbefEtZUMP3ilfUZ2GoSjoB1qtTuY9CY6FCY3Dosm17/qgpIuBPT7/aSnp5ORkUF5eXl7jkm0wGcZVNa4AVKaZJCEEEKIjqEsb10bC8JRjKAPZVcnBiVOLdrKi7enVj4zMSZxtNtcoRVtoxsfixGfD6XSvXkuVo47vwW8BUG1O6/IynCDgaCv4TOqgdvServHobzsgDfPxYmCkYYT3Mmdb6Nt9/iGO4/HbUoQReWlQyg2N8ipazfeFrFW0gG3tbU2TLc7W1p/lF3rtrL2mi3Evn+V7veaVzjufBsfCaV+28VboFWl++Jzw2Lnc4J9cdIGJGTqtBEEHcUqyHKzglEbv3d7RNuYQdKGD6W8tZ1IvO/szGEJCxPrei3VVXYaOhQFFBHthgt+qw3zh5RJEsuvdhktjvTjjz/m2Wef5e9//zvjx4/n0ksvZd999+2IsYkmmIaiqlYySEIIIUSH8hbedMuPtJeliLgPnXYNmGnuAqDBnbxgwA/WNhGJ47gBkmpFV7RGx+LN/TEMryFBBJ1WjHZCXmCi3Ydfw/IyIsotfzPchVTji7mailb8vryJsXjzoUwfSkewrRw3c2VkoKJb3O51sfNZ6WBXY2RnEF2/xZ2KpEFZBk5bAjXwsjS45WS4gRq4ba0df35iVzzDLfdThoGRn4XeUoV2NIbPaF1L78YoC7TG7JvvfufRelkpM61hQw7vO1E+E6N3LvYPpVhpbilcm0vsVL31r7T2yhybYPjcYFY73twpr9V4PEBqSyBd1wykO2hypA8++CDPP/88NTU1nHzyybzyyisUFhZ25NhEE3yWEf9tVDAgAZIQQgjRIbyFN5VfodBedkDjBAdhVq305nDUa5tspAFRUMSDklintNSU2AF+021IgDsB30kfjFm5DJSJHRzkbmsEiAUDKj3glk4F3POrtpbYQbx7nFvCF3EXWFUKJ30w1ub30elD45s6ZhZmZDMqPT0xm2WYbR6HVhaG30LlxVpr1wVEdsZQ6neGqB8EGQVZREu2gqEalthtDy+QNnLSQbsd/JpbeNcxMzAjWwAwC3NwftiIz+/NQWqsA2KrxxL7My23Kzcz3XWZAnX3Z9hrNe73tTGQbmtmrgM1GSC9++67XHHFFRxxxBGYpjyEdyVWvRaJ0qRBCCGE6ECxTmmW4c510eAE+2DUfO+Wl0F8foljZmA6mzAygrC12g1KbO0t3NnWLIUJpgl+n9uQAAXKh+PPxkS5GSV/rrutEcCL0lDZaTgbt9Y9ABuq7YGJ4UcFDK+VdK1bRgc4/kIcf3HiukqmW+5H0BcvbVNK1S2c2xbKRAV8WFn5qMhmnNg8H0icawNeIwbD/U4y3QDSbVpBCsofYx357LqAsTlGRrwtusoIoAqz8Hm/CY+2MUDSsbk/2kFjthikuAFsKTqQ6f5MbIeIFyD52lJiB24gHWu53sU1eaWPPvookyZNkuCoC7LMut9CSImdEEII0YGMgNuFzjLdxUCNABh+r23yRreNcuwh1HQffK2+eejqsPueTtF8G2W5c0vSfF6pX91Y7EBfwKlrBKCUN/cngpEVdDNI4JZQmW3PIGkjgFmU6c4rQnnla7hNCbL33maeizf3RymM7HQIReML1rZpLhRA/RKu+g0JGt1WeXN/IiifVTfnxlBtn4MEbiCtbZSO4rTQjU+bXoDmMQcWEsh0x9DWOUjxn62OgJnW8vZWptvqWylUZhCiNmHtZZDaUmIHdfdFN9A9VmsSCepnkKRJgxBCCNFxnFjb5LQASkfd5gOAE+iNVuAE6qYjaDMNHBsrPxPQ3jo3bkvsNs/HUCZgYA3o5TaNgPgDqE7rj+PvnfBAqq0st9V3sG6NH5SDttqYyQI3aDTcEj43UNvmvGqb0jYvO6LyMuIttlUqAjXldYxzj4hWzQc6bvMKN1g0CrNRtu21G0/Bs5URcDNlXnfBZql6C7MCRmYQf5Y79rbPQfKuxYnWdfBrhjbTiH2HKjsNlIqX2PnaWGLntLV0sQNJgNQNJZTYyRwkIYQQouMYfjcYyAwkZgfMIHbazmhfvbUivQVHld/CKMpBV4e8bY3EtYe2kzZ8qHTLffg1gvFjaisbO3vvxG2tbJQOu2V+WrtZG0ClMFuS8LopRl22RGUE673f9lK/xMBGt9hsQZuZKK/ky8hKg4xgw3WhtpNjBNyW72i0GWx2W+01jKgvdW2+vU6HOoI2klhXKlaOCW5pqM+Ml9gF2pxBSkEw3kEkQOqGEucgSYAkhBBCdBgjgEo3MHple/NL6rIDTsZuaH9dgKRV3bpDRnFuXWmbYdDm+TbgZh60DTrccFHVbR7ydWzdH8t0mymEo+6aTikIkLTh8xZjtd3MWHOLzRo+tGG5pYZBH25goNu+HhM0zPy0VNJlpsczSKT5UTlpble/FGWQlLaJzQ1rftuG4/SZqWrSYLiZNSfsZsxaoOsHsEEfKmASctzvo60ZJCmxE+0qNgfJZxmYhvwIhRBCiA5j+FF+0+tQ5sQbEgANO5UZ/njllMoIoNL8ELFRhnKDhLZSfjfQ0FEcs4UyLsMP3lwSlRVEhyKpWZwV6lpJ62jDQK0xZoY798cyURlp7vO42fYudijDbUSgbdx+3y2U2BmBeOJGKYW1S29UwGr7XCjwggGbbUsOGx+36W7jNfmA+hmkNgZI4GX0dHI/a8Mfb/VNwIfKTSdiG1imwmimE19SJEAS7SmWQUqT7JEQQgjRoRLnDqnmH/rqd0pTCqNvnpuhMFPQsQ3Qpr9unovZ/PwStwSv3tyS2giY4LSU3UhGrIzLCbfYkADAMTNRjtu0QuWluz2VzRQ9PBt+cEItttaOb1tvk/hcrhRkkHS8xI7kAgNvAd0Yn5GaLnbusX0oJ5r8+k5mNjghlGlgDcwnbCt8bS2vw/u7003WQpIAqRuKBUjS4lsIIYToYPUX3mwpO1CvUxqAkZ+Jyk73yslS8xCuSG6eS/whXWtU0I+2HQyr5SxLUuNQlht8tSqD5DVHyErDCKbwwdnwo5xQkuVkDef+AG3PZMWOoW33HEkczzEzElpgGwaYhmp7kwZws0LxBYNb5vhyUY43X07bhG2j7WsggbdYbPcIPbrHKEWCWB96mX8khBBCdLDYujLgzrtp6aHTSo+XTimfhbVbH7dNeEoewmPNEVrIZIFbfmaku6VtQZ/bjMAiJQFSXac0253r1ILYfChwSw/JS0/NOPDWZLJr61qcN0f5ia0P5e6scUvzUhMgKaeuy2GL6gWN7ljcKRWpKLFzVMCdD5dkOaW2suvGoh1CUYW/rWsggbdobfd4dpUAqRsyvTlIEiAJIYQQHSteYqdttzlBC3OJts0MKL/hZVzaOJ8DvHlFXgYpieyAtjLdsfgtCFhuqV+q5iBp3GtKcp5LfD6Uz8Lqm9P2xVk9WgXAqXUbMLQkvj5ULDCxU7MGEnhBo5OwWG1z3Jbw9QIkpbBMo+1NGsD9vpPIqMWZQWJZUoVDxFZtXwOJ2N+d7lH9JAFSN+SLldgFusdNJoQQQuww4gFSNLmHcC9rE6edpEudWuI+zHvZjyQCDG1moXSkbhHQVCxYC+53oiCZ1trgzc9RdaVtSttJBXhJ8dZZSna+jbYywIkt4munLpOlvGYPzS1WW397M4O6zKTbDdBnGalp0mD4k8rsxcdipNXLqjneHKRUZJB8qbnfOoAESN2QZJCEEEKIThIvJ4skWU4WrHvYdHdM4UOi4WWy0pJau8cNBryFWXPSUZaRmo5tylv4NpmSQ/DWwzHqmhhoO3XfieGVkiWZkdL+IpRd471IXfDqBo2+xC6HzbEywZ8PdrU3Dp+XQWrjOki4Aak2s5LfwfC5960TdecgRcHvS0VnPx925rC2H6cDSIDUDfmkSYMQQgjRObxgQDmh5Bbe3DYjkcpgQFluN7hkswP1FpM1i3IwcjNI2aOg8idVcuhua6CtHIg1AsBJWQtobfjj/yXD8eXUZbO043YGTAVloc1A637WGYNR0ar4PZKqDJL2FeAE+7ZuHyvb+/lowlGdmjlIkJJFeDtC9xilSFDXxU4ySEIIIUSHU35U0gtvJj5wK23jqCTbLbd0bC/7k0xrbfDmucQWAfVbKJ+Vuknzhj/5QA1w/L1QTr3MTarWyFGm1+I7yeMZ6W6Wx4mgsNEpKrFz52Olt25uVaAAbfhQOow2/FhmqkrsrFZ/v9qXi9JuABuO6tSU2HUjPetqdxASIAkhhBCdyAgASWaCtn0w1XYKgwHLbd+cZIBELLMSb0qgUxYgacOfdEMCAO3Lriuxg9SU+oEbIFmZyTfBUAon0BtlV3mBWgvt0lvBCfZt3fEMEyc4CBUpR6tA6po0bAdtZoKjAUUkqlNTYteNSIDUDVneHKQ0adIghBBCdDhteo0AkslSKNOdj+K1tU5lOZl7bH/LayDVZ2XXNSVApyww0YY/+UCNWFOC2AtFqh5JtRFAW7mt28df4AaNKWzSAOAE+7U6AHWCxe53afhT16RhO2jTW1hYQ9hOYYldN9GzrnYHYck6SEIIIUSn0fH5NkkGOsFeKLva21mnOIMUaNXxHCuvbhFQSF2JnZnWqk5pGAG3FC7W2jqF43AyhrRqF21m466H5KSuzff2MtNx/H3cAMlM0UKx28NIAxQoTTjipKTNd3ciAVI3ZBnSpEEIIYToNEbAneOSbLYhfQDYtd6L1GVtUArM9Fa1yHbXQrJjQwFSMxYn0B/t79W6fXz57jwklbpSv+1iWOj4WDo/ELAzdsXx57tzkFLQxW67KMPN8jlhwlEHn69nhQw962p3EP0KMzhy3wHsMTi/s4cihBBC9Dyx7Eey81z8eW52xQnh/lY+dQ/hdvou3pyo5GgjSHy9HUUKmzRYre9Q5ssH281mxRfg7SROoDep/tlsNysTzAwsy+i8DBLg+PJwUESlxE50B5Zp8PPDhpCZ1j0W2xJCCCF2JNqw3DbIyVIKJ20QKlrhvZG6h3Dty00+UAMw09zttYPGbN2+KaatDG+BWTo9MHF8OW6Tia4QIHl8lkG0k5o0AGDlELHdwFWaNAghhBBCiCZpI6315WSBIuLzXDrzIVyZaCMdnNoULli7fdxGDYpUdtPbbkY62pfX6Zms+iyzczNI2kwjpN3spLT5FkIIIYQQTbMycYJ9WreP4ccO9AWible7TuT4clF2TaePw23Jne12sevsAEkp7Kw93AxbF+FL1TpI20mbaYQd9/uQEjshhBBCCJFyOtjPXV+ms4MBXx7KqU1pS+vt5fh6dX7nuJhUdRdMkZQtFLu9jAC1/sEA0sVOCCGEEEKknraycdIGd3rmRptpoO0uEZhoXw60pj14D2JZqtMWio0JaXeNLSmxE0IIIYQQqacUTtpOndoYAbw5VIavVe3B220sViaOv7Czh9EluSV2Gq07qdU3EPYCtJ7WpKFdf4Xx8ssv88ADDxCJRDjrrLM47bTT4p8tX76cmTNnxl+XlZWRk5PDK6+8wuLFi5k/fz4FBQUAHHLIIVxxxRXtOVQhhBBCiJ7BCKBVsNObNMTG4qQP7uxRdEmm6eYxHK0xOymojkTcNbN62hykdguQNmzYwF133cXzzz+P3+9n2rRpjBs3jiFD3NWNd999d1588UUAampqOPnkk5kzZw4AX375JTNnzuSYY45pr+EJIYQQQvRMSoGV3TUCJNEky3SDoqitMTspPollkGSh2BRZsmQJ++23H7m5uaSnpzNp0iTeeOONRrddsGABY8eOZcyYMYAbIC1evJhjjz2Wq666ii1btrTXMIUQQgghehzHl9slmjSIppmG+5hud2KjhtgcqJ7WpKHdMkglJSUUFtbVlBYVFfHFF1802G7r1q08/fTTvPzyy/H3CgsLOf/889lrr7248847mTt3LnfccUerzl9YmLX9gxc9htwnoiVyj4hkyH0iWtLl7pG83QADrK7T1lok3ie5Oe7PJic3g9ysQKeMJ/DjZgB6F2dR2CuzU8bQGdotQGpsQplqpH7y5Zdf5ogjjojPNwL4wx/+EP/zeeedxxFHHNHq85eWVrS8kejRCguz5D4RzZJ7RCRD7hPRkq57jzhAVxxXz7TtfVJbEwagpLSCSG24U8a0qawKgMqttZR2YrOIVDMMRUFB0wFfu5XYFRcXs3HjxvjrkpISioqKGmz31ltvMXny5PjriooKFi1aFH+ttcayus6qxkIIIYQQQrQ304jNQeq8Erv4HKQe1qSh3a52/PjxvP/++5SVlVFTU8Obb77JwQcfnLCN1pqvv/6aUaNGxd9LT0/nT3/6E59//jkAjz/+OBMnTmyvYQohhBBCCNHlmGbnB0iRqHSxS6ni4mKuuOIKzjzzTCKRCCeddBJ77bUX06dP57LLLmPPPfekrKwMn89HIFBXV2maJr///e+ZM2cOtbW1DBo0iNtvv729himEEEIIIUSXY8WaNDiduA5SpGdmkNq1dm3KlClMmTIl4b2FCxfG/1xQUMB7773XYL8xY8bwwgsvtOfQhBBCCCGE6LJiGSTb7syFYm38ltFoH4EdWc8KB4UQQgghhOgGLG/xo86eg9TTskcgAZIQQgghhBBdjuU1aejMErtIxMHv61lrIIEESEIIIYQQQnQ5ZpfIINk9rkEDSIAkhBBCCCFEl1PXxa5zmzT4LMkgCSGEEEIIITpZvItdJ7f59vt6XrjQ865YCCGEEEKILs4yO38OUjjqSImdEEIIIYQQovN1jTlI0qRBCCGEEEII0QXEuth17hwku0e2+W7XhWKFEEIIIYQQrRfLINlO+2WQIlGbRa+vIGJrLj5uRCOf98wSOwmQhBBCCCGE6GLau4tdTSjKfc9/yfIfy1EKasNRgv7E0MBdKFZK7IQQQgghhBCdrD272G2pCjP/qU9ZuWozB+zZG63hx/UVDbbrqV3sJIMkhBBCCCFEF9MeXeyitsPfP1nDi+/+l0jU4ZIT9mTnftm89+V6vl+7laED8hK2D0cc/D0wgyQBkhBCCCGEEF1MXYldajJI5RUh5j/1Kes2VbPH4HxOPWJX+hRkAFCYG+T7tVsTtrcdB9vRMgdJCCGEEEII0fkMpVCkbg7S0hUlrNtUzcXHjWD00EKUUvHPdu6bwzc/bU7YPhxxAzNfDyyx63lXLIQQQgghRBenlMI0DaIp6mK3aWstPstoEBwB7Nwnm/KKEOUVofh7kah73p5YYicBkhBCCCGEEF2QZSrsFGWQyipC5GcHGwRHAIP7ZgMklNmFIzZAjyyx63lXLIQQQgghRDdgGikMkLbWkp8VaPSzgcWZmIbiv+vqBUhRKbETQgghhBBCdCFWCkvsyrbWUpAdbPQzn2WyU1Em36/dEn9PSuyEEEIIIYQQXUqqSuyitsOWyjD52Y1nkAB27pvNf9dX4HhtxcNRKbETQgghhBBCdCGmkZoM0uaKEBrIbyKDBDC4TzahsM26TVVAXRc7v08ySEIIIYQQQoguwDRVStp8l3nd6VrKIEFdo4ZYBsnXAzNIPWYdJNuOUl5eSjQa7uyhiC6ipMTASVFdb3syDJO0tEwyM3Ma7TwjhBBCiB2TZRrYKVgodtPWWoAm5yABFOenkx6w+H7dVg7au2+9OUgSIO2wystLCQbTycjoLQ+ZAgDLMohGu3aApLXGtqNUVGymvLyU/Pyizh6SEEIIITqIaShsJwUZJC9Ays9qOkAylGJw32z+s8Zt1FC3UKyU2O2wotEwGRnZEhyJbkUphWX5yM0tIByu7ezhCCGEEKIDWaZBNAUZpLKtITKCFgF/88HOrv1zWFNaRVVtJF5iF+iBGaQedcUSHInuSikDSM06CEIIIYToHqxUzUHaWttsg4aYoTvlooFvV2+pyyBJm28hhBBCCCFEV+CW2KViDlKo2flHMYP7ZGMaim9/2kwk1uZbFooVXc277/6Tp556fLv2/eSTpVxyyfkpHpEQQgghhOgIpmmkJINUXlFLXjMd7GL8PpPBfbP55qfNhKMOSrlBWk8jAVIXt3Llcqqqqjp7GEIIIYQQooOlootdbThKVW00qQwSwG79c/lhfQWVNRH8PrNHTlHpMV3s6nvvy3W8+8W6djn2gXv14YA9+zS7TTQa5Y47fsv33/+HsrIyBgwYyC233M7ixc+xePFzmKbJ+PEHcdRRx/Dii88D0Lt3H9avd8d87rkXAHDSSVO4994FZGdnc+ut8ygtLWHjxlJGjhzF7NlzE8751FOP8/rrr2IYit1334P/+Z9Z7XD1QgghhBAiVSyz7V3syrZ6ayBltZxBAthtp1xe++BHVqza3CNbfINkkDrFV199gWX5WLDgEf761xcIhWp55pmneOGFZ1m48FEWLfoLK1euIBQKMXXqCUydegJHH31sk8dbsuRddt11NxYseISnnnqBr776kpUrV8Q/j0ajPP74Ih566DEeeuhxDMOgtLSkIy5VCCGEEEJsJ9NQbe5iF2/xnWQGaUi/HBSwoay6xwZIPTKDdMCeLWd52tPIkfuQnZ3Dc889zapVP7B69U+Ew2EOOOAgMjMzAbj77vsBeO+9f7Z4vIkTj2TZsq94+ukn+eGH/7JlyxZqaqrjn1uWxYgRe3HeeWdy0EETOOGEkykslPV0hBBCCCG6slTMQSqr8DJIScxBAkgPWuxUnMmqDZU9soMdSAapU7z77j+YO/c6gsEgkycfy957jyIzMythm40bS6moqEh4b9sa0Gg0CsCzzz7F/fffQ25uHieddAqDBw9G68S/TLfeegdXXTUTrTVXXnkZn376cTtcmRBCCCGESJVUzEHatKUWpSA3M7kACdx5SNAzO9iBBEidYunSDznssCM4+uhjKSgo4PPPP8W2bT74YAnV1dVEo1HmzJnFihXLME0T23bbLObk5PLf/34PwLJlX7Fp00YAPvro3xx77An87GdHAYpvv/0Gp15LyPLyck477SR23nkI5513IWPHjuM///m2w69bCCGEEEIkz23z3dYMUi25mQEsM/nH/t12ygXA30MzSD2yxK6zTZlyPDfeOIu3334Ln8/PHnuMoKJiKyec8HMuvPBsHEczYcKhjB07Dp/Px803zyE/P5+JE4/kH//4O6effjJDhw5j112HAvDzn5/K/Pm38tRTj5GensGIEXuxbt1a+vXrD0BeXh5Tp57A9OlnEggEKS7uzeTJUzrzKxBCCCGEEC1IxUKxZVtDSZfXxezqBUg+mYMkOsouuwzh0Uf/2uhnJ57484TXI0fuwzPPvBR/fc89f2ywT58+ffnLX55v9Hj77DMGgFNOOY1TTjlte4cshBBCCCE6mGUaKWnSMKA4q+UN68nJ8NOvMIOsdF+bzt1dSYAkhBBCCCFEFxQrsdNab9d6RFpryipCjNq1sNX7XnHy3q0qy9uRSIAkhBBCCCFEF2R6AYrtaCyz9QFSRU2ESNQhr5UldpB8W/AdUc8MC4UQQgghhOjiYkGRvZ3zkNaUVgHQqwcHO9ujXQOkl19+mcmTJzNx4kSeeOKJBp/fd999HHrooUydOpWpU6fGt1m+fDknnngikyZNYtasWfF21kIIIYQQQvQUphHLIG3fPKR/fr6WtIDF7oPyUjmsHV67ldht2LCBu+66i+effx6/38+0adMYN24cQ4YMiW/z1VdfceeddzJq1KiEfWfMmMFNN93EyJEjufbaa3n66ac59dRT22uoQgghhBBCdDmxDNL2dLLbXBli6YoSDtunP0G/zKppjXbLIC1ZsoT99tuP3Nxc0tPTmTRpEm+88UbCNl999RULFy5kypQpzJ07l1AoxJo1a6itrWXkyJEAnHDCCQ32E0IIIYQQYkcXa5KwPZ3s/vnZWmxHc9jofqke1g6v3cLJkpISCgvrOmYUFRXxxRdfxF9XVVWx++67c/XVV9OvXz9mzpzJ/fffzyGHHJKwX2FhIRs2bGj1+QsLE9sZlpQYWDt4L/e1a9dy8cXTWbz41aT3WbjwAcaOHcfIkfu048i6ru50TxiG0eC+Fu1PvnORDLlPREvkHhHJ2PY+yctNAyAnN53CgoykjxO1Hf75xVpGDytixG7FKR1jT9BuAZLWDVOB9dsTZmRksHDhwvjrc845h2uvvZYJEyY0u1+ySksrEl47jkM02rY+8l2d7f12oTXX+fHHH7P33qN3+O+mMZZldKvrdhynwX0t2ldhYZZ856JFcp+Ilsg9IpLR2H1SVRUCoKS0ArMV85A+XL6Bsq0hzpzUW+69RhiGoqAgs8nP2y1AKi4uZunSpfHXJSUlFBUVxV+vXbuWJUuWcNJJJwFuQGVZFsXFxWzcuDG+XWlpacJ+O4pPPlnKww8/iGlalJSsZ/jwPfjlL89l5swrycnJxe8PcNdd93HPPXewdOlHKAWTJk3m9NPPanTfq6++DoBQKMQNN1zD99//h6ysbG69dT45Obl88MESHnroj0SjUfr06cfVV89iyZJ3WblyObfddhO33DKfXXYZ0sKohRBCCCFER7FiTRpaOQfp7x+vpjA3yIidC9pjWDu8dguQxo8fz7333ktZWRlpaWm8+eabzJs3L/55MBjkd7/7HePGjaN///488cQTTJw4kX79+hEIBPj4448ZPXo0ixcv5uCDD075+DK+ndPgvUju/oQLJ4ETIuM/tzb4PJx/CJGCQ1DRraT/986Gn/f6GZG88UmPYdmyr1m06Al22mkg1103kyVL3mXVqh955pl76dOnL88//wwbNmzgz3/+C5FIhEsvPZ+ddx5CMBhssO/zzz/NhAmHsXlzOaecchrDh49g9uz/4a233uSwwybyxz/exz33/JHs7GwWL36OBx64l5kzr+PVV1/inHPOl+BICCGEEKKLic9BakX2aENZNd+s3sLPDx2CsR1VWKKdM0hXXHEFZ555JpFIhJNOOom99tqL6dOnc9lll7Hnnnsyd+5cLrroIiKRCPvssw9nn302APPnz2f27NlUVVUxfPhwzjzzzPYaZqcaOXIUAwYMAuDIIyfz0ksvkJeXT58+fQH45JOPmDz5GEzTxDRNJk48io8//pADDji40X0nTDiMXr0KGT58BACDB+/Cli2bWbbsKzZsWM9ll10IgOPYZGfndPj1CiGEEEKI5JnbsQ7S5//ZBMDooYUtbCma0q49/6ZMmcKUKVMS3qs/72jSpElMmjSpwX7Dhg3j2Wefbc+hUbXrnKY/NALNfq6t7Ob3T5JpmvE/O47GNE0CgUDCe9ucGdu2m9x32/fBLV10HJu99tqb2267C3DL8Kqrq9s8fiGEEEII0X4sI9bmO/kM0pffb6JPQTqFXoMH0Xrdp4XXDuiLLz6jtLQEx3F4441XGTcusTxv9OgxvP76q9i2TW1tLW+++QajRo1Jat/6hg8fwddff8mqVT8CsGjRn7j//rsBME0rHnQJIYQQQoiuw4yX2CWXQQpFbFau2syeMveoTSRA6kS9ehVy0003cPrpJ1NYWMjYseMSPp869USKioo466xfcPbZp3LggQczYcKhje47ZcpxTZ6noKAXM2dez/XXX8OZZ57CN9+s5JJLLgdg3Lj9mT//Vr788vP2ukwhhBBCCLEdWltit+LHcqK2IwFSG8myup0oLy+fu+9+IOG9Z599Of5ny7K4/PIZSe/bp0/fhP3PPfeC+J8PPPBgDjywYbOLU089g1NPPWO7xi+EEEIIIdpPXRe75Ersvvh+E36fwW475bbjqHZ8kkESQgghhBCiC7K8DFIyJXZaa778zyZ2H5CHz5JH/LaQDFIn2WefMeyzz5gO31cIIYQQQnQP8TbfSWSQ1pdVs3FLLUeOG9Dew9rhSXgphBBCCCFEF2Qayc9B+vL7MgCZf5QCEiAJIYQQQgjRBZmtWChW2nunjgRIQgghhBBCdEFWkl3sorbDylWbGTFYskepIAGSEEIIIYQQXZCZZBe7rVVhorZDn17pHTGsHZ4ESEIIIYQQQnRByXax21IVBiAnw9/uY+oJJEDqJjZuLOWqqy5rdpuHHlrAQw8taPD+2rVruPXWua06X1PH6mpOOmkK69atbfD+zTfP4bXXXm5kDyGEEEKI7iHZLnaxAClbAqSUkACpm+jVq5D58+/Zrn3Xr1/HmjWrUzwiIYQQQgjRngxDoYBoC3OQtsYySOkSIKVCj10HqfbORxq8Z44egW/CWHQ4Qui+xxt8bu0/Cmv/kejKakIP/rXh5wePxRozosVzn3nmKcyd+1sGDRrMjTfOJiMjg6uuuoavvvqSRYsWsvfe+/D22/+LbTuMG7cfF110GevXr+PSSy/g2WdfpqRkA3PnXkdFxVZ23nkIn332CS+88BoAy5d/zYUXnkNpaQmTJ0/h3HMv4O6757N27RruuOM2rrzyah57bFGD4yulePLJR3nppRfIycklKyuL3Xffo9nrWL78a+65505CoVpycnKZMeNa+vbtxyWXnM/w4Xvw+eefsXlzOZdfPoP99z+AN998gyeffBTDMOjbty/XXTePQCDQ6HjWr1/HNddcRd++/fj+++8YOnR3Ro0azeuvv0JFxVZuuWU+gwYNBuDhhx/ku+++we8PMGPGtQwZsmvCOF9//RWeeeYvOI5m6NBh/OY3VxMIBFr8OQkhhBBCdDbTNLBb6GK3VTJIKSUZpE6w//4H8vHHHwLwn/98yxdffAbAv/+9hPHjD2LlyuUsXPgojzzyBKWlpbz55usJ+99993wOO2wif/7zUxxyyOGUlpbEPysrK+Oee/7IQw89zl/+8hjV1VX8+tdXMXTo7lx55dV88MGSRo+/YsUyXn31JR5++Al+//v7E47ZmEgkwm9/exM33HAzDz/8BNOmnc5tt91c7/MoCxY8wqWX/oaFCx8AYOHCB7jrrvt4+OHHGTBgEKtW/dDkeGLfzVlnncuTTz7HihXLWL9+HQsWPMIRR0zipZeej5+rf/+deOSRJznrrHO5+eYbEsb5/ff/4eWXF/PAAw+zaNGT5OXl85e/PNbKn5gQQgghROewTNViF7stVWHSAiZ+n9lBo9qx9dgMUvA3Zzf5mfL7mv88M73Zz1syfvyBPPXUE+yzz1gGD96ZH3/8kfLyMj744D0GD96FZcu+4txzzwAgFKqluLg3e+01Mr7/Rx99yKxZcwCYMOFQMjOz4p/tt994/H4/fr+fnJxctm7dmnDupUs/bPT4mzZtYr/9DiA93e1+cuihR2DbdpPX8NNPP7J27WpmzvxN/L2qqqr4n8eN2x+AnXfehYoKdwwHHHAQF110LgcddAgTJhzGrrsO5W9/+32T15ufX8Buuw0DoLCwiNGjxwLQu3cfPv20bt7RlCnHAW7gOXfu9VRUVMQ/+/TTpaxe/RMXXOD+vKLRSPyYQgghhBBdnWmoFucgba0Kk50h1TGp0mMDpM40YsRefPfdDSxd+iGjRo0mL6+At9/+PyKRKJmZmfz8579g2rTTAaioqMA0TbZs2Rzf3zAMnCa6mZhm3W8OlFJonbid49iNHv/FF59HayfhOM0FSLbt0LdvPxYtetJ7bVNeXhb/3O/3NxjD5ZdfxXffTeX9999l3rzrOOec85scz5Ytm/H5fE1eW3Pv19/Pth0OO+wILr98BgDV1dXNXpcQQgghRFdimQZ2C13stlaFyUn3NbuNSJ6U2HUC0zQZPnwPnn32KUaNGsPo0WN49NGH2X//A9hnn7H87W+vUV1dTTQa5ZprruSdd/4vYf+xY8fxv//7BgDvv/8elZUVjZ2m3vmseFDQ1PHHjBnLkiXvUllZSSgU4p//fLvZYw4cOIitW7fy+eefAvDqqy8xZ86sJrePRqNMm3Y8ubm5nHHG2Rx55NF8883KpK63JW++6X4X//jH2wwcOIhgMBj/bNSo0fzzn+9QXl6G1po77riVp59+slXHF0IIIYToLJbZcgZpS1VY5h+lkGSQOsn++x/IZ599wsCBg8jPL6C8vIzx4w9kzz335rvvvuH888/CcWzGjRvPUUcdw/r16+L7/vrXVzJv3g289NLzDBmyW0KJXWMGDRpEZWUF8+Zdx3XXzWv0+EopTj75F5x33plkZWVRXNyn2WP6/X7mzfstd989n3A4THp6BrNn39jk9pZlce65F3D55RcTCATJzMxi9uw5FBYWtXi9Lfnppx8566xTSU9Pj5cexuy6626cffZ0LrvsQrTW7LrrUE4//aykjy2EEEII0ZlM02hxDtLWqjA5g/I7aEQ7PqW3rcHaQZSWJmZV1q//kd69B3bSaFLrmWeeYsyYfRk8eGdWrlzBbbfdxMMPN+y6J5pnWQbRaPO/kelKdqR7uLsoLMxq8G+JENuS+0S0RO4RkYym7pNZCz+gX2EmFx/XeKfkSNThgvnvcPxBg5lywOD2HuYOwTAUBQWZTX4uGaRuqH//nZgzZxaGofD7A1x99ex2O9ell16Q0PQg5rjjTuC4405qt/MKIYQQQghvDlIzJXbS4jv1JEDqhvbf/wD23/+ADjnXvfcu6JDzCCGEEEKIhtw5SE0XfG2t9haJlS52KSNNGoQQQgghhOiiTMNotknDFskgpZwESEIIIYQQQnRRlqmabfNdV2Inbb5TRQIkIYQQQgghuiizhTlIsQxSjmSQUkYCJCGEEEIIIboo02hhDlJVmLSAhc8yO3BUOzYJkLqod9/9B3/60x87exhCCCGEEKITWaaB7TSfQZL5R6klXey6qAMPnMCBB07o7GEIIYQQQohO1GIXu6qwlNelmARInSAajXLHHb/l++//Q1lZGQMGDOTSS6/g2muvIicnF78/wKRJR/Hppx8za9YcTjppCocdNpElS97FNE0uuOBXPPXU46xe/RO/+tXlHH74RL7//jvuuut31NTUUF5exrRpp3PyydM6+1KFEEIIIUQbuCV2za+D1L+o6UVPRev12ADppox/NXhvv0g/jgjvTIgov8t4v8HnB4cHcHBkIBUqxN3pHzb4/IjwYPaL9G/x3F999QWW5WPBgkdwHIfLLruQ999/j1WrfuSZZ+6lT5++vPbaywn79OpVyOOPP80tt9zI448v4p57/siXX37OPffcweGHT+Tll1/kl788lzFj9mXNmtWcddapEiAJIYQQQnRzpmk028VuS1WYPdIlg5RKPTZA6kwjR+5DdnYOzz33NKtW/cDq1T9RU1NNXl4+ffr0bXSf/fYbD0BxcW969SrEsix69+5DRUUFAJdccjn//vf7PPbYI3z33bfU1FR32PUIIYQQQoj2YTXTxS4StakJRcnOlAAplXpsgDS76qAmPwtgNft5lg40+3lL3AYMCzj55GlMnnwsmzdvpnfvPgQCTa+A7PPV9bY3zYZdSq6/fiZZWdkccMBBHH74z/i//3tzu8cnhBBCCCG6BquZLnZbqyKAtPhONeli1wmWLv2Qww47gqOPPpaCggI+//xTHMdu0zE/+uhDzjvvQg466BA+++wTAGy7bccUQgghhBCdyzQV0Sa62MXWQMqWEruU6rEZpM40Zcrx3HjjLN5++y18Pj977DGCTz75uE3HPOec6Vx00XlkZWWy004D6dOnL+vWraV//51SNGohhBBCCNHR3BK7pjJI3iKxUmKXUkpr3fSsr26stLQi4fX69T/Su/fAThqN6IosyyAabborTFcj93DHKyzMavBviRDbkvtEtETuEZGMpu6Txf/6npfe+4GHrj4UpVTCZ//8fC2LXl/B7y4aT0FOsKOG2u0ZhqKgoOnOf1JiJ4QQQgghRBdlmu7jemOd7LZUhgDIzvA1+ExsPwmQhBBCCCGE6KIs080aNVZmt7UqQnrAwmc1bOAltp8ESEIIIYQQQnRRluE+rjfWqGFLdZhs6WCXchIgCSGEEEII0UWZXgapsVbfW6vC0uK7HbRrgPTyyy8zefJkJk6cyBNPPNHg87feeoupU6dy7LHHcvHFF7NlyxYAFi9ezIEHHsjUqVOZOnUqd911V3sOUwghhBBCiC7Jis1BamSx2C2VIckgtYN2a/O9YcMG7rrrLp5//nn8fj/Tpk1j3LhxDBkyBIDKykrmzJnDc889R3FxMXfffTf33nsvs2fP5ssvv2TmzJkcc8wx7TU8IYQQQgghujzT8DJI2zRpiNoOG7fUMmZYUWcMa4fWbhmkJUuWsN9++5Gbm0t6ejqTJk3ijTfeiH8eiUSYM2cOxcXFAAwdOpR169YB8OWXX7J48WKOPfZYrrrqqnhmSQghhBBCiJ7EjDdpSMwglW6uwXY0fQrSO2NYO7R2yyCVlJRQWFgYf11UVMQXX3wRf52Xl8cRRxwBQG1tLQ8++CBnnHEGAIWFhZx//vnstdde3HnnncydO5c77rijVecvLMzaZjwGllUXDxrlH2JEUx94OVYOTt6+KT9uMtauXcvFF09n8eJXk95n4cIHGDt2HCNH7pPw/qpVq7j11rls3bqVnJxcZs6cxYABA4lGI/zsZ4fRr1+/+LaLFj3B6tU/MXv2TBzH4eqrZ7HXXnvjOA5XXXU5t976OwKBQKPnf++9f7Fo0cPU1FTjOA4TJhzK9OkXYhgGCxf+EYDp0y/cjm8jOfXvia7OMIwG97Vof/Kdi2TIfSJaIveISEZj90l+nrs2UlZ2WsLn362vBGD3XQrl/kqxdguQGlt/dtvFrQAqKiq4+OKLGTZsGMcffzwAf/jDH+Kfn3feefFAqjW2XWjLcZyERUF9teVEA71afdyWqNqNnbb4aOw3C605/8cff8zee49usM+8eTcwZcpxTJ48ha+++pJrr72aRYueZMWKbxgxYk/uvPO++LZaw3PPPcPpp59N3759eeyxRdxyy+945ZUXOfTQIzBNX6Nj+uCDJdxxx23ccce9DBgwkFColuuvv4YFCx5g+vSLcLxUcnt9n91toVjHcWShwQ4mizuKZMh9Iloi94hIRlP3SbW31tHGTZVk+up+sbvyvxsBCBoNn3tF81paKLbdAqTi4mKWLl0af11SUkJRUWKNZElJCeeeey777bcf1157LeAGTM899xxnnXUW4AZaltVuw+wUn3yylIcffhDTtCgpWc/w4Xtw9dXXsWnTRq688lJycnLx+wPcddd93HPPHSxd+hFKwaRJkzn99LOa3B8gFApxww3X8P33/yErK5tbb51PTk4uH3ywhIce+iPRaJQ+ffpx9dWzWLLkXVauXM5tt93ELbfMZ5ddhsTH+O23Kzn0UDcwHTFiTzZuLGXNmtWsWPE1mzeXc/75ZwFw0UWXMmrUaCzLRzgcora2Fp/PIhSq5Z13/o/bb/99k9/Do48+zNlnT2fAgIEABAJBrrxyJj/++EO7fO9CCCGEEN2N1UQXu3WbqsnLCpAW2LGek7uCdqsvGj9+PO+//z5lZWXU1NTw5ptvcvDBB8c/t22bCy+8kKOOOopZs2bFs0vp6en86U9/4vPPPwfg8ccfZ+LEie01zE6zbNnXXHnl//Dkk88RCoV5/vmnAVi16keuv34ed999P4sXP8eGDRv485//wsKFj/KPf/ydJUvebXb/zZvLOeWU03jssafJz8/nrbfepLy8nD/+8T7uuOM+HnnkSfbddz8eeOBejjrqGIYO3Z2rr56dEBwB7LbbMN56628ALF36IVu3bqGsbBOgOOigQ1iw4BGuumomN9xwLZs3b+aEE37Oq6++xIMP/oFf/vJc/vrXJznxxFMwjKZvsW+/Xcnw4SMS3isqKmbs2HGp+pqFEEIIIbq1WJOGbecgrdtUTe98mX/UHto1g3TFFVdw5plnEolEOOmkk9hrr72YPn06l112GevXr2fZsmXYts3f/uY+iI8YMYKbb76Z3//+98yZM4fa2loGDRrE7bff3l7D7DQjR45iwIBBABx55GReeukFJkw4jLy8fPr06QvAJ598xOTJx2CaJqZpMnHiUXz88YcccMDBTe7fq1dhPOgYPHgXtmzZzLJlX7Fhw3ouu8ydy+M4NtnZOc2Ob9asOdx11+08++xf2W+/8QwZsis+n4/jjjsxvs1uuw1j+PA9+PLLzzjooEO4774HAdi8eTPLly/jpJOmMW/edVRWVnLGGecwYsSeCedQymi0FFMIIYQQQrhMM7ZQbN0zk9aadZuqOGBEn84a1g6tXXNyU6ZMYcqUKQnvLVy4EIA999yTFStWNLrfmDFjeOGFF9pzaJ3ONM34nx1Hx1/Xb2bgONsGDxrbtpvdv/774P4Fchybvfbam9tuc9eTCoVCVFdXNzs+245y66134PP5cByHl156gT59+vLGG6+y5557069f//jxty2B/POfH+KXvzyHN998jYEDB3P00ccya9b/8Mc/Ppyw3bBhu7NixTIGD945/t6qVT/y5z8/xHXXzW12fEIIIYQQPUFj6yBtrgxTG7bpLR3s2kX3aeG1g/nii88oLS3BcRzeeONVxo0b32Cb0aPH8Prrr2LbNrW1tbz55huMGjUm6f1jhg8fwddff8mqVT8CsGjRn7j//rsBME0rHnTVt2DBH/jXv/4BwMsvL2bYsN3Jycnlu+++5S9/eRyAVat+4Ntvv2HvvUfF91uzZjVbt25h2LDhRCJRLMvCMAzC4VCDc5x66pk88shCfvppFQDV1dXcd99dFBf3Tuo7FEIIIYTY0cXXQao3B2n9pioA+kqA1C567Kwu7ctBhTa2y3GT0atXITfddAOlpSWMHTuOKVOOo6RkQ8I2U6eeyE8/reKss35BNBpl0qTJTJhwKJ98sjSp/WMKCnoxc+b1XH/9NTiOTWFhMddf72Zoxo3bn/nzb2X27BvZc8+94/tcdNFl3HTTDTz88IMUFhYya9YcAM4++zxuvXUuZ5zxc5RSzJ59I+npGfH9HnpoAeeeewEAhx8+kZkzr+S1117h/PMvbjCu/fYbz/nnX8wNN1yDbTvYdpRDDz2Cs8+entR3KIQQQgixo6tr0lCXQVq7ya0E6l2Q0eg+om2U3kEngWzb7nD9+h/p3XtgJ40mUawLXWzOTkfvL1zdrc13V7qHewppzSuSIfeJaIncIyIZTd0nG8qquebBD5g+ZTj77+FW2Tzx5je899U6/nDFwY0uoyOa11KbbymxE0IIIYQQoouqK7Gr+6XuurIq+hRkSHDUTnpsiV1n2mefMeyzz5hO218IIYQQQnQPZrxJQ13R17pN1ew+MK+zhrTDkwySEEIIIYQQXVRsDpLtdTeuCUUprwjRRxo0tBsJkIQQQgghhOiiYm2+YyV268vcBg19pEFDu5EASQghhBBCiC5q2zlI67wW35JBaj8SIAkhhBBCCNFFxReK9Urs1m2qxjQUhblpnTmsHVqPbdIQ/Xw5emtVyo+rsjOw9t495ccF2LixlN/+dh7z59/T5DYPPbQAIL4WUczatWv4858f4pprrk/6fE0dq6s56aQp3HvvAvr06Zvw/s03z2HUqNFMnjwlqeO8//57/PGP9wKw885DmDHjWtLT0/nss0+49toZFBUVA7DbbkO59tobePvtt/jTn/5IdnYOt956B7m5uaxfv56FC+/nuuvmNnoOrTV//esTvPHGa4DbZvLUU8/kiCMmAXDJJedzzjnnSxMOIYQQQgDus4JSdQvFrttUTVFeWjxwEqnXYwMkvbUKIz+5RV1bwynbkvJjxvTqVdhscNSc9evXsWbN6hSPaMdRUVHBzTfP4d57FzB48M488cSfefDBP3D55TNYvnwZv/jF6ZxxxtkJ+zz66MPcd9+DvP76K/zv/77BySdPY9Gihc0udPvgg/fzzTcrue++B8nMzKSkZAOXXHI+OTm5jB07rr0vUwghhBDdkGkY2PVK7HrnS3lde+qxAVJnOvPMU5g797cMGjSYG2+cTUZGBldddQ1fffUlixYtZP78e3jssUW8/fb/YtsO48btx0UXXcb69eu49NILePbZlykp2cDcuddRUbGVnXcewmeffcILL7hZieXLv+bCC8+htLSEyZOncO65F3D33fNZu3YNd9xxG1deeXWjx1dK8eSTj/LSSy+Qk5NLVlYWu+++R7PXsnz519xzz52EQrXk5OQyY8a19O3bj0suOZ/hw/fg888/Y/Pmci6/fAb7738Ab775Bk8++SiGYdC3b1+uu24egUCgyeu95pqr6Nu3H99//x1Dh+7OqFGjef31V6io2Mott8xn0KDBADz88IN89903+P0BZsy4liFDdk0Y5+uvv8Izz/wFx9EMHTqM3/zmaiyrLjW9evUqevfuw+DBOwMwfvxBXHnlpVx++QxWrPia8vJy/v73/6WoqJjf/OZqiot7Y1k+QqEwtbW1pKen8+23KwkGg/Tvv1Oj31V1dTVPP/0kjz/+DJmZ7uJkRUXF3HjjLQQCwe27mYQQQgixw7NMRdTWRKIOG8pqGD20sLOHtEOT3Fwn2H//A/n44w8B+M9/vuWLLz4D4N//XsL48QfxwQdLWLlyOQsXPsojjzxBaWkpb775esIx7r57PocdNpE///kpDjnkcEpLS+KflZWVcc89f+Shhx7nL395jOrqKn7966sYOnR3rrzy6iaPv2LFMl599SUefvgJfv/7+xOO2ZhIJMJvf3sTN9xwMw8//ATTpp3ObbfdXO/zKAsWPMKll/6GhQsfAGDhwge46677ePjhxxkwYBCrVv3Q7PX+5z/fctZZ5/Lkk8+xYsUy1q9fx4IFj3DEEZN46aXn4+fq338nHnnkSc4661xuvvmGhHF+//1/ePnlxTzwwMMsWvQkeXn5/OUvjyVs07//AEpKNvDtt98A8Pe//y9lZZsAyMzM4uSTp/HII0+y//4HMGfOtQCcf/7FXHvtVXzzzQp+9rPJLFr0J375y3Ob/L5WrfqB9PSMBqWAu+++BzvvvEuz37UQQgghei7LNLAdhw1l1Tha07eXdLBrT5JB6gTjxx/IU089wT77jGXw4J358ccfKS8v44MP3mPevNt59tmnWLbsK8499wwAQqFaiot7s9deI+PH+OijD5k1aw4AEyYcSmZmVvyz/fYbj9/vx+/3k5OTy9atWxPOv3Tph40ef9OmTey33wGkp7tp20MPPQLbtpu8jp9++pG1a1czc+Zv4u9VVdXN6xo3bn8Adt55Fyoq3DEccMBBXHTRuRx00CFMmHAYu+46lL/97fdNXm9+fgG77TYMgMLCIkaPHgtA7959+PTTtfFzTZlyHOAGn3PnXk9FRUX8s08/Xcrq1T9xwQVuiVw0GokfMyYrK4vZs2/k9ttvRmvNlCnH4fP5AJgx49r4dscddxJ//ON9VFZWMnbsuHhZ3IcffsCQIbuxZcsWbr11HmlpQX7966vIzy+I76uUgdYaIYQQQojWMA03g7Rmo/uc1a9XZiePaMcmAVInGDFiL7777gaWLv2QUaNGk5dXwNtv/x+RSJTevXvjODY///kvmDbtdMCdH2OaJlu2bI4fwzAMHKfxh23TNON/Vko1eChv6vgvvvg8WjsJx2kuQLJth759+7Fo0ZPea5vy8rL4536/v8EYLr/8Kr77birvv/8u8+ZdxznnnN/s9caClMaurbn36+9n2w6HHXYEl18+A3BL3ba9Ltu2KSwsYuHCPwOwcuUK+vbtj+M4PPbYI5x++lkJ57Csur86juPw178+yU033cZvfzuXM844iw0b1vPMM09xwQW/im83aNAgQqFa1q9fT+/evePvv/XW3ygrK+PnP/9Fo9cmhBBCiJ7NMhW27bBmYxWGUjIHqZ1JiV0nME2T4cP34Nlnn2LUqDGMHj2GRx99mP33PwCAffYZy9/+9hrV1dVEo1GuueZK3nnn/xKOMXbsOP73f98A3O5rlZUVDc6TeE4rHhQ0dfwxY8ayZMm7VFZWEgqF+Oc/3272mAMHDmLr1q18/vmnALz66kvMmTOrye2j0SjTph1Pbm4uZ5xxNkceeTTffLMyqettyZtvut/FP/7xNgMHDiIYrJvTM2rUaP75z3coLy9Da80dd9zK008/mbC/Uorf/OYSSktL0Frz1FOPc/jhEzEMg3/+8x3eeefvgDuXafjwEQnH/9vfXuOggw4mLS2NSCSKZVkoZRAOhxLOEQgEOeGEn3PHHbdSVVUJwLp1a1mw4P74XCohhBBCiG2ZpoHtaNZurKIoLw2fJY/w7UkySJ1k//0P5LPPPmHgwEHk5xdQXl7G+PEHAnDggQfz3XffcP75Z+E4NuPGjeeoo45h/fp18f1//esrmTfvBl566XmGDNktocSuMYMGDaKysoJ5867juuvmNXp8pRQnn/wLzjvvTLKysigu7tPsMf1+P/Pm/Za7755POBwmPT2D2bNvbHJ7y7I499wLuPzyiwkEgmRmZjF79hwKC4tavN6W/PTTj5x11qmkp6fHSw9jdt11N84+ezqXXXYhWmt23XUop59+VsI2hmEwY8a1XHnlpYTDEcaM2ZdTTz0TgFmz5nD77TfzyCMLycvLS7jGUCjEm2++zu9+dzcAJ588jZtvvpFAIMCcOTezrfPPv5hHHlnIBRecjWlamKbBhRdewr777pf0tQohhBCiZ3FL7NwMUn+Zf9TulN5BJ0WUliZmVNav/5HevQfGX3fHdZDqe+aZpxgzZl8GD96ZlStXcNttN/Hww4+3+3l3JJZlEI06LW/YRWx7D4v2V1iY1eDfEiG2JfeJaIncIyIZzd0nNzz8ITkZfr7+oYxj9h/E8Qfv3MGj27EYhqKgoOl5XD02g9QRQUx76t9/J+bMmYVhKPz+AFdfPbvdznXppRckND2IOe64EzjuuJPa7bxCCCGEEMKdg7S6tBKtoV+hZJDaW48NkLq7/fc/ID5nqb3de++CDjmPEEIIIYRoyDQNNleGAehbIAFSe5MZXkIIIYQQQnRhlqEAMJSiWDrYtTsJkIQQQgghhOjCTNN9ZC/Olw52HUG+YSGEEEIIIbqwWAapr3Sw6xASIAkhhBBCCNGFxTJI/SRA6hASIAkhhBBCCNGFWaZkkDpSj+1it9Ray1YVSvlxs3WAMdG+KTnWu+/+gxUrlnPeeRem5HgANTU1zJ9/CytXrsDvD3DOOedz4IEHA3DZZRdSVlaGZbm3xYwZ1zJkyK5cffUVbNy4keOPP4kTT/w5AHfddTvHHnsCu+wypNHzrFr1A3/4w92sW7cWgJ13HsLll88gNzeXTz5ZysMPP8h99z2YsusSQgghhNhRmYZkkDpSjw2QtqoQBTr1XUA2qeqUHevAAydw4IETUnY8gMceewTTtHj00b9SUbGVCy44h6FDh9GrVyE//vgDzz33SjxAAvjXv96hf/8BzJ9/D7/4xYmceOLPWbXqR8LhSJPB0caNpVx66YXMmHEtBx54MFprHnvsEa699iruv/9PKb0eIYQQQogdnWkqTEM62HWUHhsgdaZoNModd/yW77//D2VlZQwYMJBbbrmdsrIyrrzyUnJycvH7A0yadBSffvoxs2bN4aSTpnDYYRNZsuRdTNPkggt+xVNPPc7q1T/xq19dzuGHT+T777/jrrt+R01NDeXlZUybdjonnzwt4dzffruS448/GcMwyMnJZdddd+Pf/36fPffcG6UUV111GeXl5Rx77HGceOIpWJaPcDhEJBKJ178+8shCLrzwkiav74UXnmXfffeLZ6aUUpx22i/p06cv0Wi0/b5YIYQQQogd0L7DiuiVE8QyZXZMR5BvuRN89dUXWJaPBQse4a9/fYFQqJb3338PgFWrfuT66+dx9933N9ivV69CHn/8aYYOHcbjjy/izjvv47rr5vL4448A8PLLL/LLX57Ln/70KPfc80cefLDhMXbbbRhvv/0W0WiU0tISvvzyc8rKNlFRsZXRo8dy6613cPfdD7B48XN89NEHjB07jnA4zMUXn8v06Rfz5ZefU1RUTHFx7yav79tvVzJ8+IiE90zTZOLEIxOyU0IIIYQQomUjdi7g2AMGd/Ywegx5Wu0EI0fuQ3Z2Ds899zSrVv3A6tU/UVNTA0BeXj59+jQ+h2m//cYDUFzcm169CrEsi969+1BRUQHAJZdczr///T6PPfYI3333LTU1Dcv9zjjjbO655w7OOec0BgwYxL777odl+RgxYi9GjNgLgLS0NI45Zirvv/8eY8fux5w5N8f3/5//uYLrrpvLwoUP8O23KznooEOYMuW4hHMopdBat/l7EkIIIYQQoqNJBqkTvPvuP5g79zqCwSCTJx/L3nuPigcUgUCgyf18Pl/8z6ZpNvj8+utn8s9/vs2gQYO54IJfNXqMyspKLrjgVzz66F+56abb2LJlM/369efzzz9j6dIP49tprRtke/7xj78zatRoyso2sWzZV9x22108++xT8eAuZtiw4axYsSzhPcdxuPbaGZSVbWry+oQQQgghhOhsEiB1gqVLP+Sww47g6KOPpaCggM8//xTHsdt83I8++pDzzruQgw46hM8++wQA20487jvvvMWf/rQAgO+++5aVK1cwduy+VFZWcP/9dxMKhaiuruL111/l4IMPje8XjUZZvPg5Tjzx50QiESzLQimFbTsNznHsscfz/vvv8f777wJusLVo0Z8oLy8jP7+gzdcphBBCCCFEe+mxJXbZOpDSjnP1j9uSKVOO58YbZ/H222/h8/nZY48RrF27ltGj23buc86ZzkUXnUdWViY77TSQPn36sm7dWvr33ynh3PPmXccZZ/wcy7K48cZbSE/P4IADDmLZsq8455zTsG2HE044OV5yB/DSSy8wadJk/H4/u+wyhLS0dE4//eccdNAEMjMzE8ZRUNCL+fPv4f777+aBB+7FcRx2220Yt956R9suUAghhBBCiHam9A46WaS0tCLh9fr1P9K798BOGo3oiizLIBp1OnsYSZN7uOMVFmY1+LdEiG3JfSJaIveISIbcJx3HMBQFBZlNf96BYxFCCCGEEEKILk0CJCGEEEIIIYTwSIAkhBBCCCGEEJ4eFSDtoNOtRA+gtQOozh6GEEIIIcQOr10DpJdffpnJkyczceJEnnjiiQafL1++nBNPPJFJkyYxa9YsotEoAGvXruW0007jyCOP5KKLLqKqqqrNY7EsP1VVWyVIEt2K1ppoNMLmzRvx+4OdPRwhhBBCiB1eu3Wx27BhA7/4xS94/vnn8fv9TJs2jTvvvJMhQ4bEtznmmGO46aabGDlyJNdeey0jRozg1FNP5YILLuDYY4/l6KOP5g9/+APV1dXMmDGjVefftguIbUcpLy8lGg2n5PpE92cYBo7T9bvYGYZJWlommZk5KCVZpI4kHYVEMuQ+ES2Re0QkQ+6TjtNSF7t2WwdpyZIl7LfffuTm5gIwadIk3njjDS655BIA1qxZQ21tLSNHjgTghBNO4J577uHkk0/mo48+4g9/+EP8/dNPP73VAdK2TNOiV68+bTqG2LHIP0RCCCGEEGJb7VZiV1JSQmFhYfx1UVERGzZsaPLzwsJCNmzYQHl5OZmZmViWlfC+EEIIIYQQQrS3dssgNVa5V788qKnPW9ovWYWFWa3eR/Q8cp+Ilsg9IpIh94loidwjIhlyn3QN7RYgFRcXs3Tp0vjrkpISioqKEj7fuHFj/HVpaSlFRUXk5+dTWVmJbduYphl/v7U2baps2wWIHV5BQabcJ6JZco+IZMh9Iloi94hIhtwnHccwFHl5GU1+3m4B0vjx47n33nspKysjLS2NN998k3nz5sU/79evH4FAgI8//pjRo0ezePFiDj74YHw+H2PGjOG1115jypQp8fdbq7mJV0LEyH0iWiL3iEiG3CeiJXKPiGTIfdI1tFsXO3DbfC9YsIBIJMJJJ53E9OnTmT59Opdddhl77rknK1asYPbs2VRVVTF8+HBuvfVW/H4/a9asYebMmWzatIk+ffpw5513kpOT017DFEIIIYQQQgignQMkIYQQQgghhOhO2nWhWCGEEEIIIYToTiRAEkIIIYQQQgiPBEhCCCGEEEII4ZEASQghhBBCCCE8EiAJIYQQQgghhEcCJCGEEEIIIYTwSIAkhBBCCCGEEJ5uEyDdd999HH300Rx99NHcfvvtACxZsoQpU6bws5/9jLvuuiu+7fLlyznxxBOZNGkSs2bNIhqNArB27VpOO+00jjzySC666CKqqqo65VpE+0nFfRKzbNkyRowY0aHjF+0vFffI6tWrOe2005g6dSpnnHEGa9as6ZRrEe2nNfdJzNVXX83zzz8ff/3xxx9z4oknMnXqVH75y1/KfbKDScU9UlJSwvnnn89xxx3HtGnTWL16dYeNX3SM1twnb731FlOnTuXYY4/l4osvZsuWLYA8v3YK3Q289957+pRTTtGhUEiHw2F95pln6pdffllPmDBBr1q1SkciEX3OOefod955R2ut9dFHH60//fRTrbXW11xzjX7iiSe01lqff/75+pVXXtFaa33ffffp22+/vVOuR7SPVN0nWmtdXV2tTznlFL3bbrt1xqWIdpKqe+Sqq66K//nRRx/VV155Zadcj2gfrb1P1q9fry+44AK911576eeeey5+nEMPPVQvX75ca631M888oy+88MJOuR6Reqm6R375y1/qJ598Umut9ZNPPql//etfd8bliHbSmvukoqJCH3DAAXr9+vVaa61///vf63nz5mmt5fm1M3SLDFJhYSEzZ87E7/fj8/nYZZdd+OGHHxg4cCA77bQTlmUxZcoU3njjDdasWUNtbS0jR44E4IQTTuCNN94gEonw0UcfMWnSpIT3xY4jFfdJzG9/+1vOOuuszrkQ0W5SdY84jkNlZSUANTU1BIPBzrok0Q5ac58AvPzyyxx++OEcddRR8WOEw2F+/etfM2zYMACGDh3KunXrOuV6ROql4h4pKytjxYoVTJs2DYATTzyRyy+/vDMuR7ST1twnkUiEOXPmUFxcDNT9myHPr52jWwRIu+66a/wh5YcffuC1115DKUVhYWF8m6KiIjZs2EBJSUnC+4WFhWzYsIHy8nIyMzOxLCvhfbHjSMV9AvB///d/1NbWcuSRR3bo+EX7S9U98utf/5pFixZx0EEH8fDDDzN9+vQOvQ7RvlpznwCcd955nHzyyQnH8Pv9TJ06FXAD6vvuu48jjjiiYy5AtLtU3CM//fQTffv25ZZbbuHYY4/lsssuw+fzddg1iPbXmvskLy8v/m9EbW0tDz74IEcccYQ8v3aSbhEgxXz77becc845XH311QwYMKDB50optNatel/seNpyn5SWlvLAAw9w3XXXdcRQRSdpyz0C7jyCuXPn8q9//Ysbb7yRSy65pNHtRfeWzH3SknA4zFVXXUU0GuWCCy5oj2GKTtSWeyQajbJs2TLGjx/PSy+9xOGHH87MmTPbc7iik7TmPqmoqGD69OkMGzaM448/Xp5fO0m3CZA+/vhjzjrrLK688kqOP/54iouL2bhxY/zzkpISioqKGrxfWlpKUVER+fn5VFZWYtt2wvtix9LW++Sdd95h8+bN8Qn4AFOnTo2XU4nur633SFlZGd9//338N32TJk2itLSU8vLyDr8W0X6SvU+aU1VVxXnnnUc0GuWBBx6Q7MAOpq33SGFhIRkZGRx66KEAHHPMMXzxxRftPm7RsVpzn5SUlHDqqacybNgwbr75ZgB5fu0k3SJAWrduHb/61a+YP38+Rx99NAB77703//3vf/nxxx+xbZtXXnmFgw8+mH79+hEIBPj4448BWLx4MQcffDA+n48xY8bw2muvJbwvdhypuE9OPvlk3nrrLV588UVefPFFAF588UUyMzM77bpE6qTiHsnLyyMQCLB06VLA/Z9fRkYG+fn5nXZdIrVac580Z8aMGQwcOJC7774bv9/fEUMXHSQV98iAAQMoLi7mH//4BwBvv/02e+yxR4eMX3SM1twntm1z4YUXctRRRzFr1qx4lkieXzuH0t2gLuSmm27iueeeS0hLTps2jUGDBnHrrbcSCoWYMGEC11xzDUopVqxYwezZs6mqqmL48OHceuut+P1+1qxZw8yZM9m0aRN9+vThzjvvJCcnpxOvTKRSqu6T+oYOHcrKlSs7+lJEO0nVPfLFF18wb948amtrycjI4Prrr2f48OGdeGUilVp7n8TMnDmTfffdlxNOOIFly5Zx/PHHM2TIkPjcgaKiIhYuXNjh1yNSLxX3CMD333/PDTfcEJ9n8tvf/pZBgwZ19OWIdtKa++Stt97i0ksvZejQofFtR4wYwc033yzPr52gWwRIQgghhBBCCNERukWJnRBCCCGEEEJ0BAmQhBBCCCGEEMIjAZIQQgghhBBCeCRAEkIIIYQQQgiPBEhCCCGEEEII4bE6ewBCCCFEa61evZqJEyey2267AeA4Dj6fjzPPPJPjjjuu2X3vu+8+hg0bFl/sVwghhKhPAiQhhBDdUjAYjC/oDLBmzRrOOuss0tLSmDRpUpP7/fvf/2bIkCEdMUQhhBDdkARIQgghdgj9+vXjsssu46GHHmK33XZj7ty5VFdXU1JSwrBhw/j973/Ps88+y1dffcXtt9+OaZpMmDCB+fPn89FHH2HbNsOHD2f27NlkZmZ29uUIIYToJDIHSQghxA5j2LBhfPPNNzz99NMcd9xx/PWvf+XNN99k9erVvPPOO5x22mmMGDGC//mf/2HixIk8+OCDmKbJ888/z0svvURRURHz58/v7MsQQgjRiSSDJIQQYoehlCIYDDJjxgzee+89Fi5cyA8//EBJSQnV1dUNtn/nnXeoqKhgyZIlAEQiEQoKCjp62EIIIboQCZCEEELsML788kt22203fvOb32DbNkcddRSHHHII69atQ2vdYHvHcbj22muZMGECAFVVVYRCoY4ethBCiC5ESuyEEELsEP773/9y//33c8455/Duu+/yq1/9ismTJ6OU4vPPP8e2bQBM0yQajQJw4IEH8sQTTxAOh3Ech+uuu44777yzMy9DCCFEJ5MMkhBCiG6ptraWqVOnAmAYBoFAgN/85jcccsghXHHFFfzqV78iJyeHtLQ0xo4dy6pVqwA49NBDue2224hEIlx88cXcdtttHH/88di2ze67787MmTM787KEEEJ0MqUbqzkQQgghhBBCiB5ISuyEEEIIIYQQwiMBkhBCCCGEEEJ4JEASQgghhBBCCI8ESEIIIYQQQgjhkQBJCCGEEEIIITwSIAkhhBBCCCGERwIkIYQQQgghhPBIgCSEEEIIIYQQnv8HB1VD6FW7rTEAAAAASUVORK5CYII=\n",
          "text/plain": "<Figure size 1008x504 with 1 Axes>"
         },
         "metadata": {},
         "output_type": "display_data"
        }
       ]
      }
     },
     "5511aaadf4af4be692bca61f3d8fbbf1": {
      "model_module": "@jupyter-widgets/controls",
      "model_module_version": "1.5.0",
      "model_name": "DescriptionStyleModel",
      "state": {
       "description_width": ""
      }
     },
     "59fe838c47374318886c7b9a29f7543e": {
      "model_module": "@jupyter-widgets/controls",
      "model_module_version": "1.5.0",
      "model_name": "DescriptionStyleModel",
      "state": {
       "description_width": ""
      }
     },
     "5d1a52e7945a4cd49a831edcdbf1f2cb": {
      "model_module": "@jupyter-widgets/base",
      "model_module_version": "1.2.0",
      "model_name": "LayoutModel",
      "state": {}
     },
     "6bb34691d9e5451e8a9bf06e095e81f9": {
      "model_module": "@jupyter-widgets/base",
      "model_module_version": "1.2.0",
      "model_name": "LayoutModel",
      "state": {}
     },
     "70bb642461074e879e5cd4fa98309e21": {
      "model_module": "@jupyter-widgets/controls",
      "model_module_version": "1.5.0",
      "model_name": "DescriptionStyleModel",
      "state": {
       "description_width": ""
      }
     },
     "7407cc58e8d74964b8f64cf48bca7844": {
      "model_module": "@jupyter-widgets/controls",
      "model_module_version": "1.5.0",
      "model_name": "DropdownModel",
      "state": {
       "_options_labels": [
        "InSampleMAE",
        "InSampleMAPE",
        "InSampleR2",
        "InSampleRMSE",
        "LevelTestSetMAE",
        "LevelTestSetMAPE",
        "LevelTestSetR2",
        "LevelTestSetRMSE",
        "TestSetMAE",
        "TestSetMAPE",
        "TestSetR2",
        "TestSetRMSE",
        "ValidationMetricValue"
       ],
       "description": "Order By",
       "index": 9,
       "layout": "IPY_MODEL_7c7c74d968c84ff5880106a344745b88",
       "style": "IPY_MODEL_70bb642461074e879e5cd4fa98309e21"
      }
     },
     "7525227202ba47ea9f4e98aceac4b7d8": {
      "model_module": "@jupyter-widgets/controls",
      "model_module_version": "1.5.0",
      "model_name": "ButtonModel",
      "state": {
       "description": "Select Time Series",
       "layout": "IPY_MODEL_79b5c9cd5b9544cb91b12f63f50dc7ac",
       "style": "IPY_MODEL_05ae7923149f4356b0f10e8e177d35d4"
      }
     },
     "79b5c9cd5b9544cb91b12f63f50dc7ac": {
      "model_module": "@jupyter-widgets/base",
      "model_module_version": "1.2.0",
      "model_name": "LayoutModel",
      "state": {}
     },
     "7c7c74d968c84ff5880106a344745b88": {
      "model_module": "@jupyter-widgets/base",
      "model_module_version": "1.2.0",
      "model_name": "LayoutModel",
      "state": {}
     },
     "7c85f6ab65d34e0ba68a5a53a236e05b": {
      "model_module": "@jupyter-widgets/base",
      "model_module_version": "1.2.0",
      "model_name": "LayoutModel",
      "state": {}
     },
     "7edb17097dce45ac8c88cd55af4a3494": {
      "model_module": "@jupyter-widgets/controls",
      "model_module_version": "1.5.0",
      "model_name": "DescriptionStyleModel",
      "state": {
       "description_width": ""
      }
     },
     "813eb380f0884f818e1f56a9966f74ae": {
      "model_module": "@jupyter-widgets/base",
      "model_module_version": "1.2.0",
      "model_name": "LayoutModel",
      "state": {}
     },
     "858e8e8fdc6b4ed085637589e48ef4ba": {
      "model_module": "@jupyter-widgets/controls",
      "model_module_version": "1.5.0",
      "model_name": "DropdownModel",
      "state": {
       "_options_labels": [
        "InSampleMAE",
        "InSampleMAPE",
        "InSampleR2",
        "InSampleRMSE",
        "LevelTestSetMAE",
        "LevelTestSetMAPE",
        "LevelTestSetR2",
        "LevelTestSetRMSE",
        "TestSetMAE",
        "TestSetMAPE",
        "TestSetR2",
        "TestSetRMSE",
        "ValidationMetricValue"
       ],
       "description": "Order By",
       "index": 0,
       "layout": "IPY_MODEL_e13c243d85924d5d82aa92142eb6d3e2",
       "style": "IPY_MODEL_e2e8779864b04dd388f53b3deb830997"
      }
     },
     "8893d6f1dbc941dd9c0818265105cc93": {
      "model_module": "@jupyter-widgets/base",
      "model_module_version": "1.2.0",
      "model_name": "LayoutModel",
      "state": {}
     },
     "8bcbbbbd692d4b8b86ed5bb9acc8ed24": {
      "model_module": "@jupyter-widgets/controls",
      "model_module_version": "1.5.0",
      "model_name": "ProgressStyleModel",
      "state": {
       "description_width": ""
      }
     },
     "8e67d745eec34a5ca3edf0ed85561ae5": {
      "model_module": "@jupyter-widgets/controls",
      "model_module_version": "1.5.0",
      "model_name": "FloatProgressModel",
      "state": {
       "bar_style": "success",
       "layout": "IPY_MODEL_baa094646226471bb4e2affcf5cac44e",
       "max": 4,
       "style": "IPY_MODEL_8bcbbbbd692d4b8b86ed5bb9acc8ed24",
       "value": 4
      }
     },
     "92a9d0be1e344b2597398d4d07b835fe": {
      "model_module": "@jupyter-widgets/controls",
      "model_module_version": "1.5.0",
      "model_name": "DropdownModel",
      "state": {
       "_options_labels": [
        "True",
        "False"
       ],
       "description": "View Confidence Intervals",
       "index": 0,
       "layout": "IPY_MODEL_4847b9e77c394cee8dd9266ef07057af",
       "style": "IPY_MODEL_5511aaadf4af4be692bca61f3d8fbbf1"
      }
     },
     "97d7aad41b5549fd9a9bfda713e53531": {
      "model_module": "@jupyter-widgets/controls",
      "model_module_version": "1.5.0",
      "model_name": "ButtonStyleModel",
      "state": {}
     },
     "9e22279f121a46df8282547e24e442a2": {
      "model_module": "@jupyter-widgets/controls",
      "model_module_version": "1.5.0",
      "model_name": "DescriptionStyleModel",
      "state": {
       "description_width": ""
      }
     },
     "9f158b4d8717478b9ed04dfe24923dd1": {
      "model_module": "@jupyter-widgets/controls",
      "model_module_version": "1.5.0",
      "model_name": "DropdownModel",
      "state": {
       "_options_labels": [
        "True",
        "False"
       ],
       "description": "View Level",
       "index": 0,
       "layout": "IPY_MODEL_c5daed480b234b99b4fd0f8026f2c4e5",
       "style": "IPY_MODEL_9e22279f121a46df8282547e24e442a2"
      }
     },
     "a4aa82381c7d45789253d1b8ea898afa": {
      "model_module": "@jupyter-widgets/controls",
      "model_module_version": "1.5.0",
      "model_name": "DropdownModel",
      "state": {
       "_options_labels": [
        "True",
        "False"
       ],
       "description": "View Confidence Intervals",
       "index": 0,
       "layout": "IPY_MODEL_5d1a52e7945a4cd49a831edcdbf1f2cb",
       "style": "IPY_MODEL_7edb17097dce45ac8c88cd55af4a3494"
      }
     },
     "aad79522e7c443498eda7cae2df2a9ca": {
      "model_module": "@jupyter-widgets/controls",
      "model_module_version": "1.5.0",
      "model_name": "DescriptionStyleModel",
      "state": {
       "description_width": ""
      }
     },
     "b2b85b7df1e746f19085d769430cd4fa": {
      "model_module": "@jupyter-widgets/controls",
      "model_module_version": "1.5.0",
      "model_name": "DropdownModel",
      "state": {
       "_options_labels": [
        "1",
        "2",
        "3"
       ],
       "description": "No. Models",
       "index": 2,
       "layout": "IPY_MODEL_813eb380f0884f818e1f56a9966f74ae",
       "style": "IPY_MODEL_cdbaa7a791a04ff09aad9075475959de"
      }
     },
     "baa094646226471bb4e2affcf5cac44e": {
      "model_module": "@jupyter-widgets/base",
      "model_module_version": "1.2.0",
      "model_name": "LayoutModel",
      "state": {}
     },
     "bf37ed0aafba49b392de1a108ce1a800": {
      "model_module": "@jupyter-widgets/controls",
      "model_module_version": "1.5.0",
      "model_name": "HTMLModel",
      "state": {
       "layout": "IPY_MODEL_152fd3aefb5b433a9ce08a156d72ef7e",
       "style": "IPY_MODEL_59fe838c47374318886c7b9a29f7543e",
       "value": "100%"
      }
     },
     "c5daed480b234b99b4fd0f8026f2c4e5": {
      "model_module": "@jupyter-widgets/base",
      "model_module_version": "1.2.0",
      "model_name": "LayoutModel",
      "state": {}
     },
     "cdbaa7a791a04ff09aad9075475959de": {
      "model_module": "@jupyter-widgets/controls",
      "model_module_version": "1.5.0",
      "model_name": "DescriptionStyleModel",
      "state": {
       "description_width": ""
      }
     },
     "cdc6d56dd1ff4d2ab95c0ece2b661ca6": {
      "model_module": "@jupyter-widgets/controls",
      "model_module_version": "1.5.0",
      "model_name": "DescriptionStyleModel",
      "state": {
       "description_width": ""
      }
     },
     "d226bfba2ba04415b0037f314d82e9dc": {
      "model_module": "@jupyter-widgets/controls",
      "model_module_version": "1.5.0",
      "model_name": "DescriptionStyleModel",
      "state": {
       "description_width": ""
      }
     },
     "d7db8db0da6540b5ad523f2ef7b2a939": {
      "model_module": "@jupyter-widgets/controls",
      "model_module_version": "1.5.0",
      "model_name": "ButtonModel",
      "state": {
       "description": "Select Time Series",
       "layout": "IPY_MODEL_e3effbb41cb748159f8adfad3cba9850",
       "style": "IPY_MODEL_97d7aad41b5549fd9a9bfda713e53531"
      }
     },
     "dad8128795a346a881976855249a6b8c": {
      "model_module": "@jupyter-widgets/base",
      "model_module_version": "1.2.0",
      "model_name": "LayoutModel",
      "state": {}
     },
     "e13c243d85924d5d82aa92142eb6d3e2": {
      "model_module": "@jupyter-widgets/base",
      "model_module_version": "1.2.0",
      "model_name": "LayoutModel",
      "state": {}
     },
     "e2e8779864b04dd388f53b3deb830997": {
      "model_module": "@jupyter-widgets/controls",
      "model_module_version": "1.5.0",
      "model_name": "DescriptionStyleModel",
      "state": {
       "description_width": ""
      }
     },
     "e3effbb41cb748159f8adfad3cba9850": {
      "model_module": "@jupyter-widgets/base",
      "model_module_version": "1.2.0",
      "model_name": "LayoutModel",
      "state": {}
     },
     "ee0c2920c7664017b564a0f0a73c6983": {
      "model_module": "@jupyter-widgets/base",
      "model_module_version": "1.2.0",
      "model_name": "LayoutModel",
      "state": {}
     },
     "f02276e21ae0405798f09a51bb03e50f": {
      "model_module": "@jupyter-widgets/controls",
      "model_module_version": "1.5.0",
      "model_name": "DescriptionStyleModel",
      "state": {
       "description_width": ""
      }
     }
    },
    "version_major": 2,
    "version_minor": 0
   }
  }
 },
 "nbformat": 4,
 "nbformat_minor": 5
}
