{
 "cells": [
  {
   "cell_type": "markdown",
   "id": "684ffc0e-760c-43f0-a195-452eff41c0b8",
   "metadata": {},
   "source": [
    "# Forecasts on data before COVID periods only\n",
    "\n",
    "The purpose of this notebook is to compare the approach offered in the previous notebooks to an approach that keeps the data un-adjusted, but that adds detected outliers and level shifts in each period to the models before forecasting. We use the X13 process maintained by the US Census Bureau. It detects two types of outliers: additvite outliers which are added as a matrix of 0s with a single 1 during the identified outlier period, and level shifts, which are a matrix of 0s before the shift and 1s after. Scalecast does not offer a way to add such outlier consideration to the neural network models, but does allow such consideration with the Prophet and ARIMA models. We expect similar test-set performance to the forecasts that did not address outliers, due to the COVID periods all occuring during the test-set periods, but forecasts into the future may be fairer. Indeed, one of our insights is that even with a test-set heavily influenced by COVID, taking actions to perform better on the test-set translates to better forecasts generally.\n",
    "\n",
    "Comparing test-set errors when adding outliers, it was found that the error rate increased from the unadjusted approach when adding level shifts, but decreased slightly when adding only additive outliers. For this reason, level shifts were ignored. But all of these decisions, including the sensitivity to apply when detecting outliers, are configurable in the functions designed in this notebook.\n",
    "\n",
    "See outlier_detector_x13.py to see how R and Python were integrated together to identify outliers in the data."
   ]
  },
  {
   "cell_type": "code",
   "execution_count": 1,
   "id": "310c5e87-1cdc-40ae-ba88-7d134d08ede0",
   "metadata": {},
   "outputs": [],
   "source": [
    "import pandas as pd\n",
    "import numpy as np\n",
    "from scalecast.Forecaster import Forecaster\n",
    "from scalecast.notebook import results_vis\n",
    "import seaborn as sns\n",
    "import matplotlib.pyplot as plt\n",
    "import pickle\n",
    "import os\n",
    "from tqdm.notebook import tqdm as log_progress\n",
    "from config import train_prop, metric\n",
    "from outlier_detector_x13 import runr\n",
    "from IPython.display import display, HTML\n",
    "\n",
    "sns.set(rc={'figure.figsize':(14,7)})\n",
    "series_map = pickle.load(open('pickled/series_map.pckl','rb'))\n",
    "test_prop = 1 - train_prop\n",
    "f_dict = {} # this is where the forecasts will be loaded"
   ]
  },
  {
   "cell_type": "markdown",
   "id": "9e1a7680-f69f-43e5-8c1b-c54a90198584",
   "metadata": {},
   "source": [
    "Create outlier helper function and forecast function."
   ]
  },
  {
   "cell_type": "code",
   "execution_count": 2,
   "id": "ef978068-66a1-4b8e-bd31-1e3d8a043346",
   "metadata": {},
   "outputs": [],
   "source": [
    "def add_outliers_to_scalecast(outliers_df,f,add_ao=True,add_ls=True):\n",
    "    \"\"\" adds all level shifts and additive outliers discovered from the X13 code to a Forecaster object\n",
    "    \n",
    "    Args:\n",
    "        outliers_df (DataFrame): the dataframe produced from running X13.runr\n",
    "        f (Forecaster): the Forecaster object to add the outliers to as regressors\n",
    "        add_ao (bool): default True. whether to add additive outliers detected from X13\n",
    "        add_ls (bool): default True. whether to add level shifts detected from X13\n",
    "        \n",
    "    Returns:\n",
    "        None\n",
    "    \"\"\"\n",
    "    for i, v in outliers_df.iterrows():\n",
    "        if v['term'].startswith('AO') and add_ao:\n",
    "            f.add_other_regressor(called=v['term'].replace('.',''),\n",
    "                                  start=pd.Timestamp(v['term'][2:].replace('.','-')),\n",
    "                                  end=pd.Timestamp(v['term'][2:].replace('.','-')))\n",
    "        elif v['term'].startswith('LS') and add_ls:\n",
    "            f.add_other_regressor(called=v['term'].replace('.',''),\n",
    "                                  start=pd.Timestamp(v['term'][2:].replace('.','-')),\n",
    "                                  end='2999-12-31')\n",
    "\n",
    "def forecast(series,orders):\n",
    "    #print(f'now forecasting {series}')\n",
    "    df = pd.read_csv(os.path.join('data',series+'.csv'),parse_dates=['Date'])\n",
    "    outliers = runr(csv_name = series,order = orders['order'],seasonal_order = orders['seasonal_order'])\n",
    "    print(f'{series} identified outliers:')\n",
    "    display(HTML(outliers.to_html()))\n",
    "    f = Forecaster(df['PASSENGERS'],current_dates=df['Date'])\n",
    "    f.set_test_length(test_prop)\n",
    "    f.generate_future_dates(38)\n",
    "    add_outliers_to_scalecast(outliers,f,add_ls=False)\n",
    "    f.set_estimator('arima')\n",
    "    f.manual_forecast(order=orders['order'],seasonal_order=orders['seasonal_order'],trend=orders['trend'],Xvars='all')\n",
    "    f.save_summary_stats()\n",
    "    f.set_estimator('prophet')\n",
    "    f.manual_forecast(Xvars='all')\n",
    "    f.set_estimator('combo')\n",
    "    f.manual_forecast(how='weighted',determine_best_by='TestSet'+metric,call_me='weighted_ensemble')\n",
    "    results = f.export(determine_best_by='TestSet'+metric,to_excel=True,out_path='fcst_results',excel_name=f'with_outlier_detection_series_{series}_results.xlsx')\n",
    "    f.all_feature_info_to_excel(out_path='fcst_results',excel_name=f'arima_with_outliers_summary_stats_{series}.xlsx')\n",
    "    results['model_summaries'][['ModelNickname','TestSet'+metric,'InSample'+metric]].set_index('ModelNickname').plot.bar()\n",
    "    plt.xticks(rotation = 0) # Rotates X-Axis Ticks by 45-degrees\n",
    "    plt.title(f'{series} all models train and test {metric}s',size=16)\n",
    "    plt.show()\n",
    "    print('='*120)\n",
    "    return f"
   ]
  },
  {
   "cell_type": "code",
   "execution_count": 3,
   "id": "bbe0180e-2fcd-4923-8b7e-31fbbc7cc235",
   "metadata": {},
   "outputs": [
    {
     "data": {
      "application/vnd.jupyter.widget-view+json": {
       "model_id": "96da513e9a554155a66a5cff07b1cbf7",
       "version_major": 2,
       "version_minor": 0
      },
      "text/plain": [
       "  0%|          | 0/4 [00:00<?, ?it/s]"
      ]
     },
     "metadata": {},
     "output_type": "display_data"
    },
    {
     "name": "stdout",
     "output_type": "stream",
     "text": [
      "IAH-Dom identified outliers:\n"
     ]
    },
    {
     "data": {
      "text/html": [
       "<table border=\"1\" class=\"dataframe\">\n",
       "  <thead>\n",
       "    <tr style=\"text-align: right;\">\n",
       "      <th></th>\n",
       "      <th>term</th>\n",
       "      <th>estimate</th>\n",
       "      <th>std.error</th>\n",
       "      <th>statistic</th>\n",
       "      <th>p.value</th>\n",
       "    </tr>\n",
       "  </thead>\n",
       "  <tbody>\n",
       "    <tr>\n",
       "      <th>1</th>\n",
       "      <td>AO2001.Sep</td>\n",
       "      <td>-1.773632e+05</td>\n",
       "      <td>38525.854340</td>\n",
       "      <td>-4.603745</td>\n",
       "      <td>4.149613e-06</td>\n",
       "    </tr>\n",
       "    <tr>\n",
       "      <th>2</th>\n",
       "      <td>LS2001.Sep</td>\n",
       "      <td>-2.111562e+05</td>\n",
       "      <td>50851.277124</td>\n",
       "      <td>-4.152427</td>\n",
       "      <td>3.289684e-05</td>\n",
       "    </tr>\n",
       "    <tr>\n",
       "      <th>3</th>\n",
       "      <td>AO2008.Sep</td>\n",
       "      <td>-1.844069e+05</td>\n",
       "      <td>25908.694101</td>\n",
       "      <td>-7.117566</td>\n",
       "      <td>1.098493e-12</td>\n",
       "    </tr>\n",
       "    <tr>\n",
       "      <th>4</th>\n",
       "      <td>LS2017.Aug</td>\n",
       "      <td>-2.019666e+05</td>\n",
       "      <td>34540.194299</td>\n",
       "      <td>-5.847292</td>\n",
       "      <td>4.996400e-09</td>\n",
       "    </tr>\n",
       "    <tr>\n",
       "      <th>5</th>\n",
       "      <td>LS2017.Oct</td>\n",
       "      <td>1.555987e+05</td>\n",
       "      <td>34454.718118</td>\n",
       "      <td>4.516035</td>\n",
       "      <td>6.300838e-06</td>\n",
       "    </tr>\n",
       "    <tr>\n",
       "      <th>6</th>\n",
       "      <td>AO2020.Mar</td>\n",
       "      <td>6.905476e+05</td>\n",
       "      <td>35202.124048</td>\n",
       "      <td>19.616646</td>\n",
       "      <td>1.114684e-85</td>\n",
       "    </tr>\n",
       "    <tr>\n",
       "      <th>7</th>\n",
       "      <td>LS2020.Mar</td>\n",
       "      <td>-1.393906e+06</td>\n",
       "      <td>48884.268126</td>\n",
       "      <td>-28.514414</td>\n",
       "      <td>7.763231e-179</td>\n",
       "    </tr>\n",
       "    <tr>\n",
       "      <th>8</th>\n",
       "      <td>LS2020.Aug</td>\n",
       "      <td>2.011510e+05</td>\n",
       "      <td>35893.976511</td>\n",
       "      <td>5.604032</td>\n",
       "      <td>2.094225e-08</td>\n",
       "    </tr>\n",
       "    <tr>\n",
       "      <th>9</th>\n",
       "      <td>LS2021.Mar</td>\n",
       "      <td>2.097053e+05</td>\n",
       "      <td>42049.151322</td>\n",
       "      <td>4.987147</td>\n",
       "      <td>6.127746e-07</td>\n",
       "    </tr>\n",
       "    <tr>\n",
       "      <th>10</th>\n",
       "      <td>AO2021.Jul</td>\n",
       "      <td>1.553088e+05</td>\n",
       "      <td>30692.570145</td>\n",
       "      <td>5.060142</td>\n",
       "      <td>4.189449e-07</td>\n",
       "    </tr>\n",
       "    <tr>\n",
       "      <th>11</th>\n",
       "      <td>AR-Nonseasonal-01</td>\n",
       "      <td>-1.848164e+00</td>\n",
       "      <td>0.034005</td>\n",
       "      <td>-54.349401</td>\n",
       "      <td>0.000000e+00</td>\n",
       "    </tr>\n",
       "    <tr>\n",
       "      <th>12</th>\n",
       "      <td>AR-Nonseasonal-02</td>\n",
       "      <td>-9.446294e-01</td>\n",
       "      <td>0.033233</td>\n",
       "      <td>-28.424690</td>\n",
       "      <td>1.001787e-177</td>\n",
       "    </tr>\n",
       "    <tr>\n",
       "      <th>13</th>\n",
       "      <td>AR-Seasonal-12</td>\n",
       "      <td>9.962155e-01</td>\n",
       "      <td>0.002623</td>\n",
       "      <td>379.754898</td>\n",
       "      <td>0.000000e+00</td>\n",
       "    </tr>\n",
       "    <tr>\n",
       "      <th>14</th>\n",
       "      <td>MA-Nonseasonal-01</td>\n",
       "      <td>-1.664358e+00</td>\n",
       "      <td>0.063893</td>\n",
       "      <td>-26.048958</td>\n",
       "      <td>1.382415e-149</td>\n",
       "    </tr>\n",
       "    <tr>\n",
       "      <th>15</th>\n",
       "      <td>MA-Nonseasonal-02</td>\n",
       "      <td>-7.416220e-01</td>\n",
       "      <td>0.063031</td>\n",
       "      <td>-11.765976</td>\n",
       "      <td>5.844640e-32</td>\n",
       "    </tr>\n",
       "    <tr>\n",
       "      <th>16</th>\n",
       "      <td>MA-Seasonal-12</td>\n",
       "      <td>5.234411e-01</td>\n",
       "      <td>0.063682</td>\n",
       "      <td>8.219623</td>\n",
       "      <td>2.041440e-16</td>\n",
       "    </tr>\n",
       "    <tr>\n",
       "      <th>17</th>\n",
       "      <td>MA-Seasonal-24</td>\n",
       "      <td>2.395042e-01</td>\n",
       "      <td>0.065214</td>\n",
       "      <td>3.672616</td>\n",
       "      <td>2.400801e-04</td>\n",
       "    </tr>\n",
       "  </tbody>\n",
       "</table>"
      ],
      "text/plain": [
       "<IPython.core.display.HTML object>"
      ]
     },
     "metadata": {},
     "output_type": "display_data"
    },
    {
     "data": {
      "image/png": "[encoded data removed]",
      "text/plain": [
       "<Figure size 1008x504 with 1 Axes>"
      ]
     },
     "metadata": {},
     "output_type": "display_data"
    },
    {
     "name": "stdout",
     "output_type": "stream",
     "text": [
      "========================================================================================================================\n",
      "IAH-Int identified outliers:\n"
     ]
    },
    {
     "data": {
      "text/html": [
       "<table border=\"1\" class=\"dataframe\">\n",
       "  <thead>\n",
       "    <tr style=\"text-align: right;\">\n",
       "      <th></th>\n",
       "      <th>term</th>\n",
       "      <th>coef</th>\n",
       "    </tr>\n",
       "  </thead>\n",
       "  <tbody>\n",
       "    <tr>\n",
       "      <th>0</th>\n",
       "      <td>LS2001.Sep</td>\n",
       "      <td>-46902.640919</td>\n",
       "    </tr>\n",
       "    <tr>\n",
       "      <th>1</th>\n",
       "      <td>AO2008.Sep</td>\n",
       "      <td>-48241.274173</td>\n",
       "    </tr>\n",
       "    <tr>\n",
       "      <th>2</th>\n",
       "      <td>AO2009.May</td>\n",
       "      <td>-48303.822068</td>\n",
       "    </tr>\n",
       "    <tr>\n",
       "      <th>3</th>\n",
       "      <td>AO2017.Aug</td>\n",
       "      <td>-68160.707247</td>\n",
       "    </tr>\n",
       "    <tr>\n",
       "      <th>4</th>\n",
       "      <td>LS2020.Mar</td>\n",
       "      <td>-271379.392903</td>\n",
       "    </tr>\n",
       "    <tr>\n",
       "      <th>5</th>\n",
       "      <td>AO2020.Apr</td>\n",
       "      <td>103012.699114</td>\n",
       "    </tr>\n",
       "    <tr>\n",
       "      <th>6</th>\n",
       "      <td>LS2020.Apr</td>\n",
       "      <td>-264364.518996</td>\n",
       "    </tr>\n",
       "    <tr>\n",
       "      <th>7</th>\n",
       "      <td>AO2020.May</td>\n",
       "      <td>46103.922187</td>\n",
       "    </tr>\n",
       "    <tr>\n",
       "      <th>8</th>\n",
       "      <td>AO2020.Aug</td>\n",
       "      <td>-88321.494924</td>\n",
       "    </tr>\n",
       "    <tr>\n",
       "      <th>9</th>\n",
       "      <td>LS2020.Aug</td>\n",
       "      <td>191603.716110</td>\n",
       "    </tr>\n",
       "    <tr>\n",
       "      <th>10</th>\n",
       "      <td>LS2021.Apr</td>\n",
       "      <td>101417.052359</td>\n",
       "    </tr>\n",
       "    <tr>\n",
       "      <th>11</th>\n",
       "      <td>AR-Nonseasonal-01</td>\n",
       "      <td>1.606716</td>\n",
       "    </tr>\n",
       "    <tr>\n",
       "      <th>12</th>\n",
       "      <td>AR-Nonseasonal-02</td>\n",
       "      <td>-1.262076</td>\n",
       "    </tr>\n",
       "    <tr>\n",
       "      <th>13</th>\n",
       "      <td>AR-Nonseasonal-03</td>\n",
       "      <td>0.332940</td>\n",
       "    </tr>\n",
       "    <tr>\n",
       "      <th>14</th>\n",
       "      <td>AR-Nonseasonal-04</td>\n",
       "      <td>0.298284</td>\n",
       "    </tr>\n",
       "    <tr>\n",
       "      <th>15</th>\n",
       "      <td>MA-Nonseasonal-01</td>\n",
       "      <td>0.946225</td>\n",
       "    </tr>\n",
       "    <tr>\n",
       "      <th>16</th>\n",
       "      <td>MA-Nonseasonal-02</td>\n",
       "      <td>-0.883874</td>\n",
       "    </tr>\n",
       "    <tr>\n",
       "      <th>17</th>\n",
       "      <td>MA-Seasonal-12</td>\n",
       "      <td>0.542769</td>\n",
       "    </tr>\n",
       "    <tr>\n",
       "      <th>18</th>\n",
       "      <td>MA-Seasonal-24</td>\n",
       "      <td>0.024688</td>\n",
       "    </tr>\n",
       "  </tbody>\n",
       "</table>"
      ],
      "text/plain": [
       "<IPython.core.display.HTML object>"
      ]
     },
     "metadata": {},
     "output_type": "display_data"
    },
    {
     "data": {
      "image/png": "[encoded data removed]",
      "text/plain": [
       "<Figure size 1008x504 with 1 Axes>"
      ]
     },
     "metadata": {},
     "output_type": "display_data"
    },
    {
     "name": "stdout",
     "output_type": "stream",
     "text": [
      "========================================================================================================================\n",
      "HOU-Dom identified outliers:\n"
     ]
    },
    {
     "data": {
      "text/html": [
       "<table border=\"1\" class=\"dataframe\">\n",
       "  <thead>\n",
       "    <tr style=\"text-align: right;\">\n",
       "      <th></th>\n",
       "      <th>term</th>\n",
       "      <th>estimate</th>\n",
       "      <th>std.error</th>\n",
       "      <th>statistic</th>\n",
       "      <th>p.value</th>\n",
       "    </tr>\n",
       "  </thead>\n",
       "  <tbody>\n",
       "    <tr>\n",
       "      <th>1</th>\n",
       "      <td>LS2001.Sep</td>\n",
       "      <td>-85632.602251</td>\n",
       "      <td>12495.925484</td>\n",
       "      <td>-6.852842</td>\n",
       "      <td>7.239707e-12</td>\n",
       "    </tr>\n",
       "    <tr>\n",
       "      <th>2</th>\n",
       "      <td>AO2008.Sep</td>\n",
       "      <td>-88744.787527</td>\n",
       "      <td>12464.479412</td>\n",
       "      <td>-7.119815</td>\n",
       "      <td>1.080720e-12</td>\n",
       "    </tr>\n",
       "    <tr>\n",
       "      <th>3</th>\n",
       "      <td>LS2017.Aug</td>\n",
       "      <td>-90553.817152</td>\n",
       "      <td>12640.223191</td>\n",
       "      <td>-7.163941</td>\n",
       "      <td>7.838997e-13</td>\n",
       "    </tr>\n",
       "    <tr>\n",
       "      <th>4</th>\n",
       "      <td>LS2017.Oct</td>\n",
       "      <td>105731.426410</td>\n",
       "      <td>12643.174897</td>\n",
       "      <td>8.362728</td>\n",
       "      <td>6.128465e-17</td>\n",
       "    </tr>\n",
       "    <tr>\n",
       "      <th>5</th>\n",
       "      <td>AO2020.Mar</td>\n",
       "      <td>236306.038298</td>\n",
       "      <td>15201.748061</td>\n",
       "      <td>15.544662</td>\n",
       "      <td>1.729321e-54</td>\n",
       "    </tr>\n",
       "    <tr>\n",
       "      <th>6</th>\n",
       "      <td>LS2020.Mar</td>\n",
       "      <td>-526348.953668</td>\n",
       "      <td>14836.264180</td>\n",
       "      <td>-35.477189</td>\n",
       "      <td>1.105109e-275</td>\n",
       "    </tr>\n",
       "    <tr>\n",
       "      <th>7</th>\n",
       "      <td>LS2020.Jun</td>\n",
       "      <td>95512.900371</td>\n",
       "      <td>13654.959261</td>\n",
       "      <td>6.994741</td>\n",
       "      <td>2.657498e-12</td>\n",
       "    </tr>\n",
       "    <tr>\n",
       "      <th>8</th>\n",
       "      <td>LS2020.Aug</td>\n",
       "      <td>100406.534071</td>\n",
       "      <td>13257.143650</td>\n",
       "      <td>7.573768</td>\n",
       "      <td>3.625509e-14</td>\n",
       "    </tr>\n",
       "    <tr>\n",
       "      <th>9</th>\n",
       "      <td>LS2020.Dec</td>\n",
       "      <td>58262.435001</td>\n",
       "      <td>13138.234676</td>\n",
       "      <td>4.434571</td>\n",
       "      <td>9.225580e-06</td>\n",
       "    </tr>\n",
       "    <tr>\n",
       "      <th>10</th>\n",
       "      <td>LS2021.Mar</td>\n",
       "      <td>127349.967351</td>\n",
       "      <td>13257.697291</td>\n",
       "      <td>9.605738</td>\n",
       "      <td>7.561425e-22</td>\n",
       "    </tr>\n",
       "    <tr>\n",
       "      <th>11</th>\n",
       "      <td>AR-Nonseasonal-01</td>\n",
       "      <td>0.928489</td>\n",
       "      <td>0.036229</td>\n",
       "      <td>25.628421</td>\n",
       "      <td>7.358402e-145</td>\n",
       "    </tr>\n",
       "    <tr>\n",
       "      <th>12</th>\n",
       "      <td>AR-Seasonal-12</td>\n",
       "      <td>0.993793</td>\n",
       "      <td>0.004480</td>\n",
       "      <td>221.815101</td>\n",
       "      <td>0.000000e+00</td>\n",
       "    </tr>\n",
       "    <tr>\n",
       "      <th>13</th>\n",
       "      <td>MA-Nonseasonal-01</td>\n",
       "      <td>1.460525</td>\n",
       "      <td>0.069873</td>\n",
       "      <td>20.902718</td>\n",
       "      <td>5.058164e-97</td>\n",
       "    </tr>\n",
       "    <tr>\n",
       "      <th>14</th>\n",
       "      <td>MA-Nonseasonal-02</td>\n",
       "      <td>-0.468047</td>\n",
       "      <td>0.067217</td>\n",
       "      <td>-6.963267</td>\n",
       "      <td>3.324719e-12</td>\n",
       "    </tr>\n",
       "    <tr>\n",
       "      <th>15</th>\n",
       "      <td>MA-Seasonal-12</td>\n",
       "      <td>0.712880</td>\n",
       "      <td>0.049198</td>\n",
       "      <td>14.489957</td>\n",
       "      <td>1.402312e-47</td>\n",
       "    </tr>\n",
       "  </tbody>\n",
       "</table>"
      ],
      "text/plain": [
       "<IPython.core.display.HTML object>"
      ]
     },
     "metadata": {},
     "output_type": "display_data"
    },
    {
     "data": {
      "image/png": "[encoded data removed]",
      "text/plain": [
       "<Figure size 1008x504 with 1 Axes>"
      ]
     },
     "metadata": {},
     "output_type": "display_data"
    },
    {
     "name": "stdout",
     "output_type": "stream",
     "text": [
      "========================================================================================================================\n",
      "HOU-Int identified outliers:\n"
     ]
    },
    {
     "data": {
      "text/html": [
       "<table border=\"1\" class=\"dataframe\">\n",
       "  <thead>\n",
       "    <tr style=\"text-align: right;\">\n",
       "      <th></th>\n",
       "      <th>term</th>\n",
       "      <th>estimate</th>\n",
       "      <th>std.error</th>\n",
       "      <th>statistic</th>\n",
       "      <th>p.value</th>\n",
       "    </tr>\n",
       "  </thead>\n",
       "  <tbody>\n",
       "    <tr>\n",
       "      <th>1</th>\n",
       "      <td>AO2020.Mar</td>\n",
       "      <td>17024.000969</td>\n",
       "      <td>3545.330962</td>\n",
       "      <td>4.801809</td>\n",
       "      <td>1.572389e-06</td>\n",
       "    </tr>\n",
       "    <tr>\n",
       "      <th>2</th>\n",
       "      <td>LS2020.Mar</td>\n",
       "      <td>-37452.804786</td>\n",
       "      <td>5013.855130</td>\n",
       "      <td>-7.469862</td>\n",
       "      <td>8.027910e-14</td>\n",
       "    </tr>\n",
       "    <tr>\n",
       "      <th>3</th>\n",
       "      <td>MA-Seasonal-12</td>\n",
       "      <td>0.999268</td>\n",
       "      <td>0.135137</td>\n",
       "      <td>7.394503</td>\n",
       "      <td>1.419376e-13</td>\n",
       "    </tr>\n",
       "  </tbody>\n",
       "</table>"
      ],
      "text/plain": [
       "<IPython.core.display.HTML object>"
      ]
     },
     "metadata": {},
     "output_type": "display_data"
    },
    {
     "data": {
      "image/png": "[encoded data removed]",
      "text/plain": [
       "<Figure size 1008x504 with 1 Axes>"
      ]
     },
     "metadata": {},
     "output_type": "display_data"
    },
    {
     "name": "stdout",
     "output_type": "stream",
     "text": [
      "========================================================================================================================\n"
     ]
    }
   ],
   "source": [
    "for series, orders in log_progress(series_map.items()):\n",
    "    f_dict[series] = forecast(series,orders)"
   ]
  },
  {
   "cell_type": "markdown",
   "id": "32fbf701-33a0-49dd-ad9e-358e853a612b",
   "metadata": {},
   "source": [
    "Visualize results on test set."
   ]
  },
  {
   "cell_type": "code",
   "execution_count": 4,
   "id": "ec30b458-0d8d-492e-bbe0-d111c9aaf5ee",
   "metadata": {},
   "outputs": [
    {
     "data": {
      "application/vnd.jupyter.widget-view+json": {
       "model_id": "3c27817e75ab44bca26ea5cccaf70374",
       "version_major": 2,
       "version_minor": 0
      },
      "text/plain": [
       "Dropdown(description='Time Series:', options=('IAH-Dom', 'IAH-Int', 'HOU-Dom', 'HOU-Int'), value='IAH-Dom')"
      ]
     },
     "metadata": {},
     "output_type": "display_data"
    },
    {
     "data": {
      "application/vnd.jupyter.widget-view+json": {
       "model_id": "0e4fe74f1033472e97a186282d148d53",
       "version_major": 2,
       "version_minor": 0
      },
      "text/plain": [
       "Dropdown(description='No. Models', options=(1, 2, 3), value=1)"
      ]
     },
     "metadata": {},
     "output_type": "display_data"
    },
    {
     "data": {
      "application/vnd.jupyter.widget-view+json": {
       "model_id": "1a31b8c72e624282bb382c9eacf63fef",
       "version_major": 2,
       "version_minor": 0
      },
      "text/plain": [
       "Dropdown(description='View Level', options=(True, False), value=True)"
      ]
     },
     "metadata": {},
     "output_type": "display_data"
    },
    {
     "data": {
      "application/vnd.jupyter.widget-view+json": {
       "model_id": "7c2d879da9ac4a91bfe3b75cff8c10b1",
       "version_major": 2,
       "version_minor": 0
      },
      "text/plain": [
       "Dropdown(description='View Confidence Intervals', options=(True, False), value=True)"
      ]
     },
     "metadata": {},
     "output_type": "display_data"
    },
    {
     "data": {
      "application/vnd.jupyter.widget-view+json": {
       "model_id": "70d0e620c9f4444b9ee6c1cbccd62eb2",
       "version_major": 2,
       "version_minor": 0
      },
      "text/plain": [
       "Dropdown(description='Order By', options=('InSampleMAE', 'InSampleMAPE', 'InSampleR2', 'InSampleRMSE', 'LevelT…"
      ]
     },
     "metadata": {},
     "output_type": "display_data"
    },
    {
     "data": {
      "application/vnd.jupyter.widget-view+json": {
       "model_id": "649bbb2aff844b95b2e76f771c9fe8e0",
       "version_major": 2,
       "version_minor": 0
      },
      "text/plain": [
       "Button(description='Select Time Series', style=ButtonStyle())"
      ]
     },
     "metadata": {},
     "output_type": "display_data"
    },
    {
     "data": {
      "application/vnd.jupyter.widget-view+json": {
       "model_id": "1094ecd9145a4c7ca0954ca335a100ac",
       "version_major": 2,
       "version_minor": 0
      },
      "text/plain": [
       "Output()"
      ]
     },
     "metadata": {},
     "output_type": "display_data"
    }
   ],
   "source": [
    "results_vis(f_dict,'test')"
   ]
  },
  {
   "cell_type": "markdown",
   "id": "56f1a328-0b13-4ab2-a1c1-7e474729e328",
   "metadata": {},
   "source": [
    "Visualize proposed forecasts to future."
   ]
  },
  {
   "cell_type": "code",
   "execution_count": 5,
   "id": "0cd52ad6-6dec-424d-b314-5118d7870590",
   "metadata": {},
   "outputs": [
    {
     "data": {
      "application/vnd.jupyter.widget-view+json": {
       "model_id": "23a65761696749b2b7ab0aef578dfb49",
       "version_major": 2,
       "version_minor": 0
      },
      "text/plain": [
       "Dropdown(description='Time Series:', options=('IAH-Dom', 'IAH-Int', 'HOU-Dom', 'HOU-Int'), value='IAH-Dom')"
      ]
     },
     "metadata": {},
     "output_type": "display_data"
    },
    {
     "data": {
      "application/vnd.jupyter.widget-view+json": {
       "model_id": "dbcc17440036492d8a468d474d1e19f9",
       "version_major": 2,
       "version_minor": 0
      },
      "text/plain": [
       "Dropdown(description='No. Models', options=(1, 2, 3), value=1)"
      ]
     },
     "metadata": {},
     "output_type": "display_data"
    },
    {
     "data": {
      "application/vnd.jupyter.widget-view+json": {
       "model_id": "c5ef55f5f68e43ef8fce820d2f34e6f2",
       "version_major": 2,
       "version_minor": 0
      },
      "text/plain": [
       "Dropdown(description='View Level', options=(True, False), value=True)"
      ]
     },
     "metadata": {},
     "output_type": "display_data"
    },
    {
     "data": {
      "application/vnd.jupyter.widget-view+json": {
       "model_id": "9e7b417917434366aebca87ad98cb214",
       "version_major": 2,
       "version_minor": 0
      },
      "text/plain": [
       "Dropdown(description='View Confidence Intervals', options=(True, False), value=True)"
      ]
     },
     "metadata": {},
     "output_type": "display_data"
    },
    {
     "data": {
      "application/vnd.jupyter.widget-view+json": {
       "model_id": "674ca80cdf9c4cf6b372b10fb2a21149",
       "version_major": 2,
       "version_minor": 0
      },
      "text/plain": [
       "Dropdown(description='Order By', options=('InSampleMAE', 'InSampleMAPE', 'InSampleR2', 'InSampleRMSE', 'LevelT…"
      ]
     },
     "metadata": {},
     "output_type": "display_data"
    },
    {
     "data": {
      "application/vnd.jupyter.widget-view+json": {
       "model_id": "d1773d9c15024952a9025787c50b90bc",
       "version_major": 2,
       "version_minor": 0
      },
      "text/plain": [
       "Button(description='Select Time Series', style=ButtonStyle())"
      ]
     },
     "metadata": {},
     "output_type": "display_data"
    },
    {
     "data": {
      "application/vnd.jupyter.widget-view+json": {
       "model_id": "2f970c4c0cc3455587327bb9f5e94fa4",
       "version_major": 2,
       "version_minor": 0
      },
      "text/plain": [
       "Output()"
      ]
     },
     "metadata": {},
     "output_type": "display_data"
    }
   ],
   "source": [
    "results_vis(f_dict,'forecast',print_attr=['TestSet'+metric,'InSample'+metric])"
   ]
  },
  {
   "cell_type": "code",
   "execution_count": null,
   "id": "815159f7-7451-452d-b985-1e4efcd5d7d8",
   "metadata": {},
   "outputs": [],
   "source": []
  }
 ],
 "metadata": {
  "kernelspec": {
   "display_name": "Python 3",
   "language": "python",
   "name": "python3"
  },
  "language_info": {
   "codemirror_mode": {
    "name": "ipython",
    "version": 3
   },
   "file_extension": ".py",
   "mimetype": "text/x-python",
   "name": "python",
   "nbconvert_exporter": "python",
   "pygments_lexer": "ipython3",
   "version": "3.8.8"
  },
  "widgets": {
   "application/vnd.jupyter.widget-state+json": {
    "state": {},
    "version_major": 2,
    "version_minor": 0
   }
  }
 },
 "nbformat": 4,
 "nbformat_minor": 5
}
